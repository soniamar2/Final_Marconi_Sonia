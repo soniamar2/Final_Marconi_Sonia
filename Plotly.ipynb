{
  "cells": [
    {
      "cell_type": "markdown",
      "metadata": {},
      "source": [
        "# Plotly\n",
        "Plotly is also a multi-platform data visualization library like pygwalker. Plotly’s company also build Dash, which can turn your plotly charts code into a web app like a dashboard.\n",
        "Pros: Delivers interactive, web-ready visualizations; can be published as data apps with dash.\n",
        "Cons: Online mode requires an internet connection; the free version has limitations on the number of plots and public visibility.\n",
        "\n",
        "Code was taken from: https://www.kaggle.com/code/robikscube/all-python-data-visualization-libraries-in-2022"
      ]
    },
    {
      "cell_type": "code",
      "execution_count": 1,
      "metadata": {
        "colab": {
          "base_uri": "https://localhost:8080/",
          "height": 206
        },
        "id": "6q1gQjEKSQPu",
        "outputId": "9bada25b-f90a-477a-9a80-f9e61749c68c"
      },
      "outputs": [],
      "source": [
        "import plotly.express as px"
      ]
    },
    {
      "cell_type": "code",
      "execution_count": 2,
      "metadata": {},
      "outputs": [
        {
          "data": {
            "application/vnd.plotly.v1+json": {
              "config": {
                "plotlyServerURL": "https://plot.ly"
              },
              "data": [
                {
                  "customdata": [
                    [
                      0.2
                    ],
                    [
                      0.2
                    ],
                    [
                      0.2
                    ],
                    [
                      0.2
                    ],
                    [
                      0.2
                    ],
                    [
                      0.4
                    ],
                    [
                      0.3
                    ],
                    [
                      0.2
                    ],
                    [
                      0.2
                    ],
                    [
                      0.1
                    ],
                    [
                      0.2
                    ],
                    [
                      0.2
                    ],
                    [
                      0.1
                    ],
                    [
                      0.1
                    ],
                    [
                      0.2
                    ],
                    [
                      0.4
                    ],
                    [
                      0.4
                    ],
                    [
                      0.3
                    ],
                    [
                      0.3
                    ],
                    [
                      0.3
                    ],
                    [
                      0.2
                    ],
                    [
                      0.4
                    ],
                    [
                      0.2
                    ],
                    [
                      0.5
                    ],
                    [
                      0.2
                    ],
                    [
                      0.2
                    ],
                    [
                      0.4
                    ],
                    [
                      0.2
                    ],
                    [
                      0.2
                    ],
                    [
                      0.2
                    ],
                    [
                      0.2
                    ],
                    [
                      0.4
                    ],
                    [
                      0.1
                    ],
                    [
                      0.2
                    ],
                    [
                      0.1
                    ],
                    [
                      0.2
                    ],
                    [
                      0.2
                    ],
                    [
                      0.1
                    ],
                    [
                      0.2
                    ],
                    [
                      0.2
                    ],
                    [
                      0.3
                    ],
                    [
                      0.3
                    ],
                    [
                      0.2
                    ],
                    [
                      0.6
                    ],
                    [
                      0.4
                    ],
                    [
                      0.3
                    ],
                    [
                      0.2
                    ],
                    [
                      0.2
                    ],
                    [
                      0.2
                    ],
                    [
                      0.2
                    ]
                  ],
                  "hovertemplate": "species=setosa<br>sepal_width=%{x}<br>sepal_length=%{y}<br>petal_length=%{marker.size}<br>petal_width=%{customdata[0]}<extra></extra>",
                  "legendgroup": "setosa",
                  "marker": {
                    "color": "#636efa",
                    "size": [
                      1.4,
                      1.4,
                      1.3,
                      1.5,
                      1.4,
                      1.7,
                      1.4,
                      1.5,
                      1.4,
                      1.5,
                      1.5,
                      1.6,
                      1.4,
                      1.1,
                      1.2,
                      1.5,
                      1.3,
                      1.4,
                      1.7,
                      1.5,
                      1.7,
                      1.5,
                      1,
                      1.7,
                      1.9,
                      1.6,
                      1.6,
                      1.5,
                      1.4,
                      1.6,
                      1.6,
                      1.5,
                      1.5,
                      1.4,
                      1.5,
                      1.2,
                      1.3,
                      1.5,
                      1.3,
                      1.5,
                      1.3,
                      1.3,
                      1.3,
                      1.6,
                      1.9,
                      1.4,
                      1.6,
                      1.4,
                      1.5,
                      1.4
                    ],
                    "sizemode": "area",
                    "sizeref": 0.01725,
                    "symbol": "circle"
                  },
                  "mode": "markers",
                  "name": "setosa",
                  "orientation": "v",
                  "showlegend": true,
                  "type": "scatter",
                  "x": [
                    3.5,
                    3,
                    3.2,
                    3.1,
                    3.6,
                    3.9,
                    3.4,
                    3.4,
                    2.9,
                    3.1,
                    3.7,
                    3.4,
                    3,
                    3,
                    4,
                    4.4,
                    3.9,
                    3.5,
                    3.8,
                    3.8,
                    3.4,
                    3.7,
                    3.6,
                    3.3,
                    3.4,
                    3,
                    3.4,
                    3.5,
                    3.4,
                    3.2,
                    3.1,
                    3.4,
                    4.1,
                    4.2,
                    3.1,
                    3.2,
                    3.5,
                    3.1,
                    3,
                    3.4,
                    3.5,
                    2.3,
                    3.2,
                    3.5,
                    3.8,
                    3,
                    3.8,
                    3.2,
                    3.7,
                    3.3
                  ],
                  "xaxis": "x",
                  "y": [
                    5.1,
                    4.9,
                    4.7,
                    4.6,
                    5,
                    5.4,
                    4.6,
                    5,
                    4.4,
                    4.9,
                    5.4,
                    4.8,
                    4.8,
                    4.3,
                    5.8,
                    5.7,
                    5.4,
                    5.1,
                    5.7,
                    5.1,
                    5.4,
                    5.1,
                    4.6,
                    5.1,
                    4.8,
                    5,
                    5,
                    5.2,
                    5.2,
                    4.7,
                    4.8,
                    5.4,
                    5.2,
                    5.5,
                    4.9,
                    5,
                    5.5,
                    4.9,
                    4.4,
                    5.1,
                    5,
                    4.5,
                    4.4,
                    5,
                    5.1,
                    4.8,
                    5.1,
                    4.6,
                    5.3,
                    5
                  ],
                  "yaxis": "y"
                },
                {
                  "customdata": [
                    [
                      1.4
                    ],
                    [
                      1.5
                    ],
                    [
                      1.5
                    ],
                    [
                      1.3
                    ],
                    [
                      1.5
                    ],
                    [
                      1.3
                    ],
                    [
                      1.6
                    ],
                    [
                      1
                    ],
                    [
                      1.3
                    ],
                    [
                      1.4
                    ],
                    [
                      1
                    ],
                    [
                      1.5
                    ],
                    [
                      1
                    ],
                    [
                      1.4
                    ],
                    [
                      1.3
                    ],
                    [
                      1.4
                    ],
                    [
                      1.5
                    ],
                    [
                      1
                    ],
                    [
                      1.5
                    ],
                    [
                      1.1
                    ],
                    [
                      1.8
                    ],
                    [
                      1.3
                    ],
                    [
                      1.5
                    ],
                    [
                      1.2
                    ],
                    [
                      1.3
                    ],
                    [
                      1.4
                    ],
                    [
                      1.4
                    ],
                    [
                      1.7
                    ],
                    [
                      1.5
                    ],
                    [
                      1
                    ],
                    [
                      1.1
                    ],
                    [
                      1
                    ],
                    [
                      1.2
                    ],
                    [
                      1.6
                    ],
                    [
                      1.5
                    ],
                    [
                      1.6
                    ],
                    [
                      1.5
                    ],
                    [
                      1.3
                    ],
                    [
                      1.3
                    ],
                    [
                      1.3
                    ],
                    [
                      1.2
                    ],
                    [
                      1.4
                    ],
                    [
                      1.2
                    ],
                    [
                      1
                    ],
                    [
                      1.3
                    ],
                    [
                      1.2
                    ],
                    [
                      1.3
                    ],
                    [
                      1.3
                    ],
                    [
                      1.1
                    ],
                    [
                      1.3
                    ]
                  ],
                  "hovertemplate": "species=versicolor<br>sepal_width=%{x}<br>sepal_length=%{y}<br>petal_length=%{marker.size}<br>petal_width=%{customdata[0]}<extra></extra>",
                  "legendgroup": "versicolor",
                  "marker": {
                    "color": "#EF553B",
                    "size": [
                      4.7,
                      4.5,
                      4.9,
                      4,
                      4.6,
                      4.5,
                      4.7,
                      3.3,
                      4.6,
                      3.9,
                      3.5,
                      4.2,
                      4,
                      4.7,
                      3.6,
                      4.4,
                      4.5,
                      4.1,
                      4.5,
                      3.9,
                      4.8,
                      4,
                      4.9,
                      4.7,
                      4.3,
                      4.4,
                      4.8,
                      5,
                      4.5,
                      3.5,
                      3.8,
                      3.7,
                      3.9,
                      5.1,
                      4.5,
                      4.5,
                      4.7,
                      4.4,
                      4.1,
                      4,
                      4.4,
                      4.6,
                      4,
                      3.3,
                      4.2,
                      4.2,
                      4.2,
                      4.3,
                      3,
                      4.1
                    ],
                    "sizemode": "area",
                    "sizeref": 0.01725,
                    "symbol": "circle"
                  },
                  "mode": "markers",
                  "name": "versicolor",
                  "orientation": "v",
                  "showlegend": true,
                  "type": "scatter",
                  "x": [
                    3.2,
                    3.2,
                    3.1,
                    2.3,
                    2.8,
                    2.8,
                    3.3,
                    2.4,
                    2.9,
                    2.7,
                    2,
                    3,
                    2.2,
                    2.9,
                    2.9,
                    3.1,
                    3,
                    2.7,
                    2.2,
                    2.5,
                    3.2,
                    2.8,
                    2.5,
                    2.8,
                    2.9,
                    3,
                    2.8,
                    3,
                    2.9,
                    2.6,
                    2.4,
                    2.4,
                    2.7,
                    2.7,
                    3,
                    3.4,
                    3.1,
                    2.3,
                    3,
                    2.5,
                    2.6,
                    3,
                    2.6,
                    2.3,
                    2.7,
                    3,
                    2.9,
                    2.9,
                    2.5,
                    2.8
                  ],
                  "xaxis": "x",
                  "y": [
                    7,
                    6.4,
                    6.9,
                    5.5,
                    6.5,
                    5.7,
                    6.3,
                    4.9,
                    6.6,
                    5.2,
                    5,
                    5.9,
                    6,
                    6.1,
                    5.6,
                    6.7,
                    5.6,
                    5.8,
                    6.2,
                    5.6,
                    5.9,
                    6.1,
                    6.3,
                    6.1,
                    6.4,
                    6.6,
                    6.8,
                    6.7,
                    6,
                    5.7,
                    5.5,
                    5.5,
                    5.8,
                    6,
                    5.4,
                    6,
                    6.7,
                    6.3,
                    5.6,
                    5.5,
                    5.5,
                    6.1,
                    5.8,
                    5,
                    5.6,
                    5.7,
                    5.7,
                    6.2,
                    5.1,
                    5.7
                  ],
                  "yaxis": "y"
                },
                {
                  "customdata": [
                    [
                      2.5
                    ],
                    [
                      1.9
                    ],
                    [
                      2.1
                    ],
                    [
                      1.8
                    ],
                    [
                      2.2
                    ],
                    [
                      2.1
                    ],
                    [
                      1.7
                    ],
                    [
                      1.8
                    ],
                    [
                      1.8
                    ],
                    [
                      2.5
                    ],
                    [
                      2
                    ],
                    [
                      1.9
                    ],
                    [
                      2.1
                    ],
                    [
                      2
                    ],
                    [
                      2.4
                    ],
                    [
                      2.3
                    ],
                    [
                      1.8
                    ],
                    [
                      2.2
                    ],
                    [
                      2.3
                    ],
                    [
                      1.5
                    ],
                    [
                      2.3
                    ],
                    [
                      2
                    ],
                    [
                      2
                    ],
                    [
                      1.8
                    ],
                    [
                      2.1
                    ],
                    [
                      1.8
                    ],
                    [
                      1.8
                    ],
                    [
                      1.8
                    ],
                    [
                      2.1
                    ],
                    [
                      1.6
                    ],
                    [
                      1.9
                    ],
                    [
                      2
                    ],
                    [
                      2.2
                    ],
                    [
                      1.5
                    ],
                    [
                      1.4
                    ],
                    [
                      2.3
                    ],
                    [
                      2.4
                    ],
                    [
                      1.8
                    ],
                    [
                      1.8
                    ],
                    [
                      2.1
                    ],
                    [
                      2.4
                    ],
                    [
                      2.3
                    ],
                    [
                      1.9
                    ],
                    [
                      2.3
                    ],
                    [
                      2.5
                    ],
                    [
                      2.3
                    ],
                    [
                      1.9
                    ],
                    [
                      2
                    ],
                    [
                      2.3
                    ],
                    [
                      1.8
                    ]
                  ],
                  "hovertemplate": "species=virginica<br>sepal_width=%{x}<br>sepal_length=%{y}<br>petal_length=%{marker.size}<br>petal_width=%{customdata[0]}<extra></extra>",
                  "legendgroup": "virginica",
                  "marker": {
                    "color": "#00cc96",
                    "size": [
                      6,
                      5.1,
                      5.9,
                      5.6,
                      5.8,
                      6.6,
                      4.5,
                      6.3,
                      5.8,
                      6.1,
                      5.1,
                      5.3,
                      5.5,
                      5,
                      5.1,
                      5.3,
                      5.5,
                      6.7,
                      6.9,
                      5,
                      5.7,
                      4.9,
                      6.7,
                      4.9,
                      5.7,
                      6,
                      4.8,
                      4.9,
                      5.6,
                      5.8,
                      6.1,
                      6.4,
                      5.6,
                      5.1,
                      5.6,
                      6.1,
                      5.6,
                      5.5,
                      4.8,
                      5.4,
                      5.6,
                      5.1,
                      5.1,
                      5.9,
                      5.7,
                      5.2,
                      5,
                      5.2,
                      5.4,
                      5.1
                    ],
                    "sizemode": "area",
                    "sizeref": 0.01725,
                    "symbol": "circle"
                  },
                  "mode": "markers",
                  "name": "virginica",
                  "orientation": "v",
                  "showlegend": true,
                  "type": "scatter",
                  "x": [
                    3.3,
                    2.7,
                    3,
                    2.9,
                    3,
                    3,
                    2.5,
                    2.9,
                    2.5,
                    3.6,
                    3.2,
                    2.7,
                    3,
                    2.5,
                    2.8,
                    3.2,
                    3,
                    3.8,
                    2.6,
                    2.2,
                    3.2,
                    2.8,
                    2.8,
                    2.7,
                    3.3,
                    3.2,
                    2.8,
                    3,
                    2.8,
                    3,
                    2.8,
                    3.8,
                    2.8,
                    2.8,
                    2.6,
                    3,
                    3.4,
                    3.1,
                    3,
                    3.1,
                    3.1,
                    3.1,
                    2.7,
                    3.2,
                    3.3,
                    3,
                    2.5,
                    3,
                    3.4,
                    3
                  ],
                  "xaxis": "x",
                  "y": [
                    6.3,
                    5.8,
                    7.1,
                    6.3,
                    6.5,
                    7.6,
                    4.9,
                    7.3,
                    6.7,
                    7.2,
                    6.5,
                    6.4,
                    6.8,
                    5.7,
                    5.8,
                    6.4,
                    6.5,
                    7.7,
                    7.7,
                    6,
                    6.9,
                    5.6,
                    7.7,
                    6.3,
                    6.7,
                    7.2,
                    6.2,
                    6.1,
                    6.4,
                    7.2,
                    7.4,
                    7.9,
                    6.4,
                    6.3,
                    6.1,
                    7.7,
                    6.3,
                    6.4,
                    6,
                    6.9,
                    6.7,
                    6.9,
                    5.8,
                    6.8,
                    6.7,
                    6.7,
                    6.3,
                    6.5,
                    6.2,
                    5.9
                  ],
                  "yaxis": "y"
                }
              ],
              "layout": {
                "legend": {
                  "itemsizing": "constant",
                  "title": {
                    "text": "species"
                  },
                  "tracegroupgap": 0
                },
                "margin": {
                  "t": 60
                },
                "template": {
                  "data": {
                    "bar": [
                      {
                        "error_x": {
                          "color": "#2a3f5f"
                        },
                        "error_y": {
                          "color": "#2a3f5f"
                        },
                        "marker": {
                          "line": {
                            "color": "#E5ECF6",
                            "width": 0.5
                          },
                          "pattern": {
                            "fillmode": "overlay",
                            "size": 10,
                            "solidity": 0.2
                          }
                        },
                        "type": "bar"
                      }
                    ],
                    "barpolar": [
                      {
                        "marker": {
                          "line": {
                            "color": "#E5ECF6",
                            "width": 0.5
                          },
                          "pattern": {
                            "fillmode": "overlay",
                            "size": 10,
                            "solidity": 0.2
                          }
                        },
                        "type": "barpolar"
                      }
                    ],
                    "carpet": [
                      {
                        "aaxis": {
                          "endlinecolor": "#2a3f5f",
                          "gridcolor": "white",
                          "linecolor": "white",
                          "minorgridcolor": "white",
                          "startlinecolor": "#2a3f5f"
                        },
                        "baxis": {
                          "endlinecolor": "#2a3f5f",
                          "gridcolor": "white",
                          "linecolor": "white",
                          "minorgridcolor": "white",
                          "startlinecolor": "#2a3f5f"
                        },
                        "type": "carpet"
                      }
                    ],
                    "choropleth": [
                      {
                        "colorbar": {
                          "outlinewidth": 0,
                          "ticks": ""
                        },
                        "type": "choropleth"
                      }
                    ],
                    "contour": [
                      {
                        "colorbar": {
                          "outlinewidth": 0,
                          "ticks": ""
                        },
                        "colorscale": [
                          [
                            0,
                            "#0d0887"
                          ],
                          [
                            0.1111111111111111,
                            "#46039f"
                          ],
                          [
                            0.2222222222222222,
                            "#7201a8"
                          ],
                          [
                            0.3333333333333333,
                            "#9c179e"
                          ],
                          [
                            0.4444444444444444,
                            "#bd3786"
                          ],
                          [
                            0.5555555555555556,
                            "#d8576b"
                          ],
                          [
                            0.6666666666666666,
                            "#ed7953"
                          ],
                          [
                            0.7777777777777778,
                            "#fb9f3a"
                          ],
                          [
                            0.8888888888888888,
                            "#fdca26"
                          ],
                          [
                            1,
                            "#f0f921"
                          ]
                        ],
                        "type": "contour"
                      }
                    ],
                    "contourcarpet": [
                      {
                        "colorbar": {
                          "outlinewidth": 0,
                          "ticks": ""
                        },
                        "type": "contourcarpet"
                      }
                    ],
                    "heatmap": [
                      {
                        "colorbar": {
                          "outlinewidth": 0,
                          "ticks": ""
                        },
                        "colorscale": [
                          [
                            0,
                            "#0d0887"
                          ],
                          [
                            0.1111111111111111,
                            "#46039f"
                          ],
                          [
                            0.2222222222222222,
                            "#7201a8"
                          ],
                          [
                            0.3333333333333333,
                            "#9c179e"
                          ],
                          [
                            0.4444444444444444,
                            "#bd3786"
                          ],
                          [
                            0.5555555555555556,
                            "#d8576b"
                          ],
                          [
                            0.6666666666666666,
                            "#ed7953"
                          ],
                          [
                            0.7777777777777778,
                            "#fb9f3a"
                          ],
                          [
                            0.8888888888888888,
                            "#fdca26"
                          ],
                          [
                            1,
                            "#f0f921"
                          ]
                        ],
                        "type": "heatmap"
                      }
                    ],
                    "heatmapgl": [
                      {
                        "colorbar": {
                          "outlinewidth": 0,
                          "ticks": ""
                        },
                        "colorscale": [
                          [
                            0,
                            "#0d0887"
                          ],
                          [
                            0.1111111111111111,
                            "#46039f"
                          ],
                          [
                            0.2222222222222222,
                            "#7201a8"
                          ],
                          [
                            0.3333333333333333,
                            "#9c179e"
                          ],
                          [
                            0.4444444444444444,
                            "#bd3786"
                          ],
                          [
                            0.5555555555555556,
                            "#d8576b"
                          ],
                          [
                            0.6666666666666666,
                            "#ed7953"
                          ],
                          [
                            0.7777777777777778,
                            "#fb9f3a"
                          ],
                          [
                            0.8888888888888888,
                            "#fdca26"
                          ],
                          [
                            1,
                            "#f0f921"
                          ]
                        ],
                        "type": "heatmapgl"
                      }
                    ],
                    "histogram": [
                      {
                        "marker": {
                          "pattern": {
                            "fillmode": "overlay",
                            "size": 10,
                            "solidity": 0.2
                          }
                        },
                        "type": "histogram"
                      }
                    ],
                    "histogram2d": [
                      {
                        "colorbar": {
                          "outlinewidth": 0,
                          "ticks": ""
                        },
                        "colorscale": [
                          [
                            0,
                            "#0d0887"
                          ],
                          [
                            0.1111111111111111,
                            "#46039f"
                          ],
                          [
                            0.2222222222222222,
                            "#7201a8"
                          ],
                          [
                            0.3333333333333333,
                            "#9c179e"
                          ],
                          [
                            0.4444444444444444,
                            "#bd3786"
                          ],
                          [
                            0.5555555555555556,
                            "#d8576b"
                          ],
                          [
                            0.6666666666666666,
                            "#ed7953"
                          ],
                          [
                            0.7777777777777778,
                            "#fb9f3a"
                          ],
                          [
                            0.8888888888888888,
                            "#fdca26"
                          ],
                          [
                            1,
                            "#f0f921"
                          ]
                        ],
                        "type": "histogram2d"
                      }
                    ],
                    "histogram2dcontour": [
                      {
                        "colorbar": {
                          "outlinewidth": 0,
                          "ticks": ""
                        },
                        "colorscale": [
                          [
                            0,
                            "#0d0887"
                          ],
                          [
                            0.1111111111111111,
                            "#46039f"
                          ],
                          [
                            0.2222222222222222,
                            "#7201a8"
                          ],
                          [
                            0.3333333333333333,
                            "#9c179e"
                          ],
                          [
                            0.4444444444444444,
                            "#bd3786"
                          ],
                          [
                            0.5555555555555556,
                            "#d8576b"
                          ],
                          [
                            0.6666666666666666,
                            "#ed7953"
                          ],
                          [
                            0.7777777777777778,
                            "#fb9f3a"
                          ],
                          [
                            0.8888888888888888,
                            "#fdca26"
                          ],
                          [
                            1,
                            "#f0f921"
                          ]
                        ],
                        "type": "histogram2dcontour"
                      }
                    ],
                    "mesh3d": [
                      {
                        "colorbar": {
                          "outlinewidth": 0,
                          "ticks": ""
                        },
                        "type": "mesh3d"
                      }
                    ],
                    "parcoords": [
                      {
                        "line": {
                          "colorbar": {
                            "outlinewidth": 0,
                            "ticks": ""
                          }
                        },
                        "type": "parcoords"
                      }
                    ],
                    "pie": [
                      {
                        "automargin": true,
                        "type": "pie"
                      }
                    ],
                    "scatter": [
                      {
                        "fillpattern": {
                          "fillmode": "overlay",
                          "size": 10,
                          "solidity": 0.2
                        },
                        "type": "scatter"
                      }
                    ],
                    "scatter3d": [
                      {
                        "line": {
                          "colorbar": {
                            "outlinewidth": 0,
                            "ticks": ""
                          }
                        },
                        "marker": {
                          "colorbar": {
                            "outlinewidth": 0,
                            "ticks": ""
                          }
                        },
                        "type": "scatter3d"
                      }
                    ],
                    "scattercarpet": [
                      {
                        "marker": {
                          "colorbar": {
                            "outlinewidth": 0,
                            "ticks": ""
                          }
                        },
                        "type": "scattercarpet"
                      }
                    ],
                    "scattergeo": [
                      {
                        "marker": {
                          "colorbar": {
                            "outlinewidth": 0,
                            "ticks": ""
                          }
                        },
                        "type": "scattergeo"
                      }
                    ],
                    "scattergl": [
                      {
                        "marker": {
                          "colorbar": {
                            "outlinewidth": 0,
                            "ticks": ""
                          }
                        },
                        "type": "scattergl"
                      }
                    ],
                    "scattermapbox": [
                      {
                        "marker": {
                          "colorbar": {
                            "outlinewidth": 0,
                            "ticks": ""
                          }
                        },
                        "type": "scattermapbox"
                      }
                    ],
                    "scatterpolar": [
                      {
                        "marker": {
                          "colorbar": {
                            "outlinewidth": 0,
                            "ticks": ""
                          }
                        },
                        "type": "scatterpolar"
                      }
                    ],
                    "scatterpolargl": [
                      {
                        "marker": {
                          "colorbar": {
                            "outlinewidth": 0,
                            "ticks": ""
                          }
                        },
                        "type": "scatterpolargl"
                      }
                    ],
                    "scatterternary": [
                      {
                        "marker": {
                          "colorbar": {
                            "outlinewidth": 0,
                            "ticks": ""
                          }
                        },
                        "type": "scatterternary"
                      }
                    ],
                    "surface": [
                      {
                        "colorbar": {
                          "outlinewidth": 0,
                          "ticks": ""
                        },
                        "colorscale": [
                          [
                            0,
                            "#0d0887"
                          ],
                          [
                            0.1111111111111111,
                            "#46039f"
                          ],
                          [
                            0.2222222222222222,
                            "#7201a8"
                          ],
                          [
                            0.3333333333333333,
                            "#9c179e"
                          ],
                          [
                            0.4444444444444444,
                            "#bd3786"
                          ],
                          [
                            0.5555555555555556,
                            "#d8576b"
                          ],
                          [
                            0.6666666666666666,
                            "#ed7953"
                          ],
                          [
                            0.7777777777777778,
                            "#fb9f3a"
                          ],
                          [
                            0.8888888888888888,
                            "#fdca26"
                          ],
                          [
                            1,
                            "#f0f921"
                          ]
                        ],
                        "type": "surface"
                      }
                    ],
                    "table": [
                      {
                        "cells": {
                          "fill": {
                            "color": "#EBF0F8"
                          },
                          "line": {
                            "color": "white"
                          }
                        },
                        "header": {
                          "fill": {
                            "color": "#C8D4E3"
                          },
                          "line": {
                            "color": "white"
                          }
                        },
                        "type": "table"
                      }
                    ]
                  },
                  "layout": {
                    "annotationdefaults": {
                      "arrowcolor": "#2a3f5f",
                      "arrowhead": 0,
                      "arrowwidth": 1
                    },
                    "autotypenumbers": "strict",
                    "coloraxis": {
                      "colorbar": {
                        "outlinewidth": 0,
                        "ticks": ""
                      }
                    },
                    "colorscale": {
                      "diverging": [
                        [
                          0,
                          "#8e0152"
                        ],
                        [
                          0.1,
                          "#c51b7d"
                        ],
                        [
                          0.2,
                          "#de77ae"
                        ],
                        [
                          0.3,
                          "#f1b6da"
                        ],
                        [
                          0.4,
                          "#fde0ef"
                        ],
                        [
                          0.5,
                          "#f7f7f7"
                        ],
                        [
                          0.6,
                          "#e6f5d0"
                        ],
                        [
                          0.7,
                          "#b8e186"
                        ],
                        [
                          0.8,
                          "#7fbc41"
                        ],
                        [
                          0.9,
                          "#4d9221"
                        ],
                        [
                          1,
                          "#276419"
                        ]
                      ],
                      "sequential": [
                        [
                          0,
                          "#0d0887"
                        ],
                        [
                          0.1111111111111111,
                          "#46039f"
                        ],
                        [
                          0.2222222222222222,
                          "#7201a8"
                        ],
                        [
                          0.3333333333333333,
                          "#9c179e"
                        ],
                        [
                          0.4444444444444444,
                          "#bd3786"
                        ],
                        [
                          0.5555555555555556,
                          "#d8576b"
                        ],
                        [
                          0.6666666666666666,
                          "#ed7953"
                        ],
                        [
                          0.7777777777777778,
                          "#fb9f3a"
                        ],
                        [
                          0.8888888888888888,
                          "#fdca26"
                        ],
                        [
                          1,
                          "#f0f921"
                        ]
                      ],
                      "sequentialminus": [
                        [
                          0,
                          "#0d0887"
                        ],
                        [
                          0.1111111111111111,
                          "#46039f"
                        ],
                        [
                          0.2222222222222222,
                          "#7201a8"
                        ],
                        [
                          0.3333333333333333,
                          "#9c179e"
                        ],
                        [
                          0.4444444444444444,
                          "#bd3786"
                        ],
                        [
                          0.5555555555555556,
                          "#d8576b"
                        ],
                        [
                          0.6666666666666666,
                          "#ed7953"
                        ],
                        [
                          0.7777777777777778,
                          "#fb9f3a"
                        ],
                        [
                          0.8888888888888888,
                          "#fdca26"
                        ],
                        [
                          1,
                          "#f0f921"
                        ]
                      ]
                    },
                    "colorway": [
                      "#636efa",
                      "#EF553B",
                      "#00cc96",
                      "#ab63fa",
                      "#FFA15A",
                      "#19d3f3",
                      "#FF6692",
                      "#B6E880",
                      "#FF97FF",
                      "#FECB52"
                    ],
                    "font": {
                      "color": "#2a3f5f"
                    },
                    "geo": {
                      "bgcolor": "white",
                      "lakecolor": "white",
                      "landcolor": "#E5ECF6",
                      "showlakes": true,
                      "showland": true,
                      "subunitcolor": "white"
                    },
                    "hoverlabel": {
                      "align": "left"
                    },
                    "hovermode": "closest",
                    "mapbox": {
                      "style": "light"
                    },
                    "paper_bgcolor": "white",
                    "plot_bgcolor": "#E5ECF6",
                    "polar": {
                      "angularaxis": {
                        "gridcolor": "white",
                        "linecolor": "white",
                        "ticks": ""
                      },
                      "bgcolor": "#E5ECF6",
                      "radialaxis": {
                        "gridcolor": "white",
                        "linecolor": "white",
                        "ticks": ""
                      }
                    },
                    "scene": {
                      "xaxis": {
                        "backgroundcolor": "#E5ECF6",
                        "gridcolor": "white",
                        "gridwidth": 2,
                        "linecolor": "white",
                        "showbackground": true,
                        "ticks": "",
                        "zerolinecolor": "white"
                      },
                      "yaxis": {
                        "backgroundcolor": "#E5ECF6",
                        "gridcolor": "white",
                        "gridwidth": 2,
                        "linecolor": "white",
                        "showbackground": true,
                        "ticks": "",
                        "zerolinecolor": "white"
                      },
                      "zaxis": {
                        "backgroundcolor": "#E5ECF6",
                        "gridcolor": "white",
                        "gridwidth": 2,
                        "linecolor": "white",
                        "showbackground": true,
                        "ticks": "",
                        "zerolinecolor": "white"
                      }
                    },
                    "shapedefaults": {
                      "line": {
                        "color": "#2a3f5f"
                      }
                    },
                    "ternary": {
                      "aaxis": {
                        "gridcolor": "white",
                        "linecolor": "white",
                        "ticks": ""
                      },
                      "baxis": {
                        "gridcolor": "white",
                        "linecolor": "white",
                        "ticks": ""
                      },
                      "bgcolor": "#E5ECF6",
                      "caxis": {
                        "gridcolor": "white",
                        "linecolor": "white",
                        "ticks": ""
                      }
                    },
                    "title": {
                      "x": 0.05
                    },
                    "xaxis": {
                      "automargin": true,
                      "gridcolor": "white",
                      "linecolor": "white",
                      "ticks": "",
                      "title": {
                        "standoff": 15
                      },
                      "zerolinecolor": "white",
                      "zerolinewidth": 2
                    },
                    "yaxis": {
                      "automargin": true,
                      "gridcolor": "white",
                      "linecolor": "white",
                      "ticks": "",
                      "title": {
                        "standoff": 15
                      },
                      "zerolinecolor": "white",
                      "zerolinewidth": 2
                    }
                  }
                },
                "xaxis": {
                  "anchor": "y",
                  "domain": [
                    0,
                    1
                  ],
                  "title": {
                    "text": "sepal_width"
                  }
                },
                "yaxis": {
                  "anchor": "x",
                  "domain": [
                    0,
                    1
                  ],
                  "title": {
                    "text": "sepal_length"
                  }
                }
              }
            }
          },
          "metadata": {},
          "output_type": "display_data"
        }
      ],
      "source": [
        "df = px.data.iris()\n",
        "fig = px.scatter(\n",
        "    df,\n",
        "    x=\"sepal_width\",\n",
        "    y=\"sepal_length\",\n",
        "    color=\"species\",\n",
        "    size=\"petal_length\",\n",
        "    hover_data=[\"petal_width\"],\n",
        ")\n",
        "fig.show()"
      ]
    },
    {
      "cell_type": "code",
      "execution_count": 3,
      "metadata": {},
      "outputs": [
        {
          "data": {
            "application/vnd.plotly.v1+json": {
              "config": {
                "plotlyServerURL": "https://plot.ly"
              },
              "data": [
                {
                  "hovertemplate": "smoker=No<br>time=Dinner<br>sex=Female<br>total_bill=%{x}<br>tip=%{y}<extra></extra>",
                  "legendgroup": "No",
                  "marker": {
                    "color": "#636efa",
                    "symbol": "circle"
                  },
                  "mode": "markers",
                  "name": "No",
                  "orientation": "v",
                  "showlegend": true,
                  "type": "scatter",
                  "x": [
                    16.99,
                    24.59,
                    35.26,
                    14.83,
                    10.33,
                    16.97,
                    20.29,
                    15.77,
                    19.65,
                    15.06,
                    20.69,
                    16.93,
                    10.29,
                    34.81,
                    26.41,
                    16.45,
                    17.07,
                    14.73,
                    22.75,
                    20.92,
                    7.25,
                    25.71,
                    17.31,
                    29.85,
                    25,
                    13.39,
                    16.21,
                    35.83,
                    18.78
                  ],
                  "xaxis": "x3",
                  "y": [
                    1.01,
                    3.61,
                    5,
                    3.02,
                    1.67,
                    3.5,
                    2.75,
                    2.23,
                    3,
                    3,
                    2.45,
                    3.07,
                    2.6,
                    5.2,
                    1.5,
                    2.47,
                    3,
                    2.2,
                    3.25,
                    4.08,
                    1,
                    4,
                    3.5,
                    5.14,
                    3.75,
                    2.61,
                    2,
                    4.67,
                    3
                  ],
                  "yaxis": "y3"
                },
                {
                  "hovertemplate": "smoker=No<br>time=Dinner<br>sex=Male<br>total_bill=%{x}<br>tip=%{y}<extra></extra>",
                  "legendgroup": "No",
                  "marker": {
                    "color": "#636efa",
                    "symbol": "circle"
                  },
                  "mode": "markers",
                  "name": "No",
                  "orientation": "v",
                  "showlegend": false,
                  "type": "scatter",
                  "x": [
                    10.34,
                    21.01,
                    23.68,
                    25.29,
                    8.77,
                    26.88,
                    15.04,
                    14.78,
                    10.27,
                    15.42,
                    18.43,
                    21.58,
                    16.29,
                    20.65,
                    17.92,
                    39.42,
                    19.82,
                    17.81,
                    13.37,
                    12.69,
                    21.7,
                    9.55,
                    18.35,
                    17.78,
                    24.06,
                    16.31,
                    18.69,
                    31.27,
                    16.04,
                    17.46,
                    13.94,
                    9.68,
                    30.4,
                    18.29,
                    22.23,
                    32.4,
                    28.55,
                    18.04,
                    12.54,
                    9.94,
                    25.56,
                    19.49,
                    48.27,
                    17.59,
                    20.08,
                    20.23,
                    12.02,
                    10.51,
                    22.49,
                    12.46,
                    18.24,
                    14,
                    38.07,
                    23.95,
                    29.93,
                    14.07,
                    13.13,
                    17.26,
                    24.55,
                    19.77,
                    48.17,
                    16.49,
                    21.5,
                    12.66,
                    13.81,
                    24.52,
                    20.76,
                    31.71,
                    20.69,
                    48.33,
                    20.45,
                    13.28,
                    11.61,
                    10.77,
                    10.07,
                    29.03,
                    17.82
                  ],
                  "xaxis": "x4",
                  "y": [
                    1.66,
                    3.5,
                    3.31,
                    4.71,
                    2,
                    3.12,
                    1.96,
                    3.23,
                    1.71,
                    1.57,
                    3,
                    3.92,
                    3.71,
                    3.35,
                    4.08,
                    7.58,
                    3.18,
                    2.34,
                    2,
                    2,
                    4.3,
                    1.45,
                    2.5,
                    3.27,
                    3.6,
                    2,
                    2.31,
                    5,
                    2.24,
                    2.54,
                    3.06,
                    1.32,
                    5.6,
                    3,
                    5,
                    6,
                    2.05,
                    3,
                    2.5,
                    1.56,
                    4.34,
                    3.51,
                    6.73,
                    2.64,
                    3.15,
                    2.01,
                    1.97,
                    1.25,
                    3.5,
                    1.5,
                    3.76,
                    3,
                    4,
                    2.55,
                    5.07,
                    2.5,
                    2,
                    2.74,
                    2,
                    2,
                    5,
                    2,
                    3.5,
                    2.5,
                    2,
                    3.48,
                    2.24,
                    4.5,
                    5,
                    9,
                    3,
                    2.72,
                    3.39,
                    1.47,
                    1.25,
                    5.92,
                    1.75
                  ],
                  "yaxis": "y4"
                },
                {
                  "hovertemplate": "smoker=No<br>time=Lunch<br>sex=Female<br>total_bill=%{x}<br>tip=%{y}<extra></extra>",
                  "legendgroup": "No",
                  "marker": {
                    "color": "#636efa",
                    "symbol": "circle"
                  },
                  "mode": "markers",
                  "name": "No",
                  "orientation": "v",
                  "showlegend": false,
                  "type": "scatter",
                  "x": [
                    10.07,
                    34.83,
                    10.65,
                    12.43,
                    24.08,
                    13.42,
                    12.48,
                    29.8,
                    14.52,
                    11.38,
                    20.27,
                    11.17,
                    12.26,
                    18.26,
                    8.51,
                    10.33,
                    14.15,
                    13.16,
                    17.47,
                    27.05,
                    16.43,
                    8.35,
                    18.64,
                    11.87,
                    15.98
                  ],
                  "xaxis": "x",
                  "y": [
                    1.83,
                    5.17,
                    1.5,
                    1.8,
                    2.92,
                    1.68,
                    2.52,
                    4.2,
                    2,
                    2,
                    2.83,
                    1.5,
                    2,
                    3.25,
                    1.25,
                    2,
                    2,
                    2.75,
                    3.5,
                    5,
                    2.3,
                    1.5,
                    1.36,
                    1.63,
                    3
                  ],
                  "yaxis": "y"
                },
                {
                  "hovertemplate": "smoker=No<br>time=Lunch<br>sex=Male<br>total_bill=%{x}<br>tip=%{y}<extra></extra>",
                  "legendgroup": "No",
                  "marker": {
                    "color": "#636efa",
                    "symbol": "circle"
                  },
                  "mode": "markers",
                  "name": "No",
                  "orientation": "v",
                  "showlegend": false,
                  "type": "scatter",
                  "x": [
                    27.2,
                    22.76,
                    17.29,
                    16.66,
                    15.98,
                    13.03,
                    18.28,
                    24.71,
                    21.16,
                    11.69,
                    14.26,
                    15.95,
                    8.52,
                    22.82,
                    19.08,
                    34.3,
                    41.19,
                    9.78,
                    7.51,
                    7.56
                  ],
                  "xaxis": "x2",
                  "y": [
                    4,
                    3,
                    2.71,
                    3.4,
                    2.03,
                    2,
                    4,
                    5.85,
                    3,
                    2.31,
                    2.5,
                    2,
                    1.48,
                    2.18,
                    1.5,
                    6.7,
                    5,
                    1.73,
                    2,
                    1.44
                  ],
                  "yaxis": "y2"
                },
                {
                  "hovertemplate": "smoker=Yes<br>time=Dinner<br>sex=Female<br>total_bill=%{x}<br>tip=%{y}<extra></extra>",
                  "legendgroup": "Yes",
                  "marker": {
                    "color": "#EF553B",
                    "symbol": "circle"
                  },
                  "mode": "markers",
                  "name": "Yes",
                  "orientation": "v",
                  "showlegend": true,
                  "type": "scatter",
                  "x": [
                    3.07,
                    26.86,
                    25.28,
                    5.75,
                    16.32,
                    11.35,
                    15.38,
                    44.3,
                    22.42,
                    14.31,
                    17.51,
                    10.59,
                    10.63,
                    9.6,
                    20.9,
                    18.15,
                    12.76,
                    13.27,
                    28.17,
                    12.9,
                    30.14,
                    22.12,
                    27.18
                  ],
                  "xaxis": "x3",
                  "y": [
                    1,
                    3.14,
                    5,
                    1,
                    4.3,
                    2.5,
                    3,
                    2.5,
                    3.48,
                    4,
                    3,
                    1.61,
                    2,
                    4,
                    3.5,
                    3.5,
                    2.23,
                    2.5,
                    6.5,
                    1.1,
                    3.09,
                    2.88,
                    2
                  ],
                  "yaxis": "y3"
                },
                {
                  "hovertemplate": "smoker=Yes<br>time=Dinner<br>sex=Male<br>total_bill=%{x}<br>tip=%{y}<extra></extra>",
                  "legendgroup": "Yes",
                  "marker": {
                    "color": "#EF553B",
                    "symbol": "circle"
                  },
                  "mode": "markers",
                  "name": "Yes",
                  "orientation": "v",
                  "showlegend": false,
                  "type": "scatter",
                  "x": [
                    38.01,
                    11.24,
                    20.29,
                    13.81,
                    11.02,
                    18.29,
                    15.01,
                    17.92,
                    28.97,
                    40.17,
                    27.28,
                    12.03,
                    21.01,
                    15.36,
                    20.49,
                    25.21,
                    50.81,
                    15.81,
                    7.25,
                    31.85,
                    16.82,
                    32.9,
                    17.89,
                    14.48,
                    34.63,
                    34.65,
                    23.33,
                    45.35,
                    23.17,
                    40.55,
                    30.46,
                    23.1,
                    15.69,
                    26.59,
                    38.73,
                    24.27,
                    30.06,
                    25.89,
                    28.15,
                    11.59,
                    7.74,
                    24.01,
                    15.69,
                    15.53,
                    12.6,
                    32.83,
                    22.67
                  ],
                  "xaxis": "x4",
                  "y": [
                    3,
                    1.76,
                    3.21,
                    2,
                    1.98,
                    3.76,
                    2.09,
                    3.08,
                    3,
                    4.73,
                    4,
                    1.5,
                    3,
                    1.64,
                    4.06,
                    4.29,
                    10,
                    3.16,
                    5.15,
                    3.18,
                    4,
                    3.11,
                    2,
                    2,
                    3.55,
                    3.68,
                    5.65,
                    3.5,
                    6.5,
                    3,
                    2,
                    4,
                    1.5,
                    3.41,
                    3,
                    2.03,
                    2,
                    5.16,
                    3,
                    1.5,
                    1.44,
                    2,
                    3,
                    3,
                    1,
                    1.17,
                    2
                  ],
                  "yaxis": "y4"
                },
                {
                  "hovertemplate": "smoker=Yes<br>time=Lunch<br>sex=Female<br>total_bill=%{x}<br>tip=%{y}<extra></extra>",
                  "legendgroup": "Yes",
                  "marker": {
                    "color": "#EF553B",
                    "symbol": "circle"
                  },
                  "mode": "markers",
                  "name": "Yes",
                  "orientation": "v",
                  "showlegend": false,
                  "type": "scatter",
                  "x": [
                    19.81,
                    43.11,
                    13,
                    12.74,
                    13,
                    16.4,
                    16.47,
                    13.42,
                    16.27,
                    10.09
                  ],
                  "xaxis": "x",
                  "y": [
                    4.19,
                    5,
                    2,
                    2.01,
                    2,
                    2.5,
                    3.23,
                    3.48,
                    2.5,
                    2
                  ],
                  "yaxis": "y"
                },
                {
                  "hovertemplate": "smoker=Yes<br>time=Lunch<br>sex=Male<br>total_bill=%{x}<br>tip=%{y}<extra></extra>",
                  "legendgroup": "Yes",
                  "marker": {
                    "color": "#EF553B",
                    "symbol": "circle"
                  },
                  "mode": "markers",
                  "name": "Yes",
                  "orientation": "v",
                  "showlegend": false,
                  "type": "scatter",
                  "x": [
                    19.44,
                    32.68,
                    16,
                    28.44,
                    15.48,
                    16.58,
                    10.34,
                    13.51,
                    18.71,
                    20.53,
                    12.16,
                    8.58,
                    13.42
                  ],
                  "xaxis": "x2",
                  "y": [
                    3,
                    5,
                    2,
                    2.56,
                    2.02,
                    4,
                    2,
                    2,
                    4,
                    4,
                    2.2,
                    1.92,
                    1.58
                  ],
                  "yaxis": "y2"
                }
              ],
              "layout": {
                "annotations": [
                  {
                    "font": {},
                    "showarrow": false,
                    "text": "sex=Female",
                    "x": 0.24,
                    "xanchor": "center",
                    "xref": "paper",
                    "y": 1,
                    "yanchor": "bottom",
                    "yref": "paper"
                  },
                  {
                    "font": {},
                    "showarrow": false,
                    "text": "sex=Male",
                    "x": 0.74,
                    "xanchor": "center",
                    "xref": "paper",
                    "y": 1,
                    "yanchor": "bottom",
                    "yref": "paper"
                  },
                  {
                    "font": {},
                    "showarrow": false,
                    "text": "time=Lunch",
                    "textangle": 90,
                    "x": 0.98,
                    "xanchor": "left",
                    "xref": "paper",
                    "y": 0.2425,
                    "yanchor": "middle",
                    "yref": "paper"
                  },
                  {
                    "font": {},
                    "showarrow": false,
                    "text": "time=Dinner",
                    "textangle": 90,
                    "x": 0.98,
                    "xanchor": "left",
                    "xref": "paper",
                    "y": 0.7575000000000001,
                    "yanchor": "middle",
                    "yref": "paper"
                  }
                ],
                "legend": {
                  "title": {
                    "text": "smoker"
                  },
                  "tracegroupgap": 0
                },
                "margin": {
                  "t": 60
                },
                "template": {
                  "data": {
                    "bar": [
                      {
                        "error_x": {
                          "color": "#2a3f5f"
                        },
                        "error_y": {
                          "color": "#2a3f5f"
                        },
                        "marker": {
                          "line": {
                            "color": "#E5ECF6",
                            "width": 0.5
                          },
                          "pattern": {
                            "fillmode": "overlay",
                            "size": 10,
                            "solidity": 0.2
                          }
                        },
                        "type": "bar"
                      }
                    ],
                    "barpolar": [
                      {
                        "marker": {
                          "line": {
                            "color": "#E5ECF6",
                            "width": 0.5
                          },
                          "pattern": {
                            "fillmode": "overlay",
                            "size": 10,
                            "solidity": 0.2
                          }
                        },
                        "type": "barpolar"
                      }
                    ],
                    "carpet": [
                      {
                        "aaxis": {
                          "endlinecolor": "#2a3f5f",
                          "gridcolor": "white",
                          "linecolor": "white",
                          "minorgridcolor": "white",
                          "startlinecolor": "#2a3f5f"
                        },
                        "baxis": {
                          "endlinecolor": "#2a3f5f",
                          "gridcolor": "white",
                          "linecolor": "white",
                          "minorgridcolor": "white",
                          "startlinecolor": "#2a3f5f"
                        },
                        "type": "carpet"
                      }
                    ],
                    "choropleth": [
                      {
                        "colorbar": {
                          "outlinewidth": 0,
                          "ticks": ""
                        },
                        "type": "choropleth"
                      }
                    ],
                    "contour": [
                      {
                        "colorbar": {
                          "outlinewidth": 0,
                          "ticks": ""
                        },
                        "colorscale": [
                          [
                            0,
                            "#0d0887"
                          ],
                          [
                            0.1111111111111111,
                            "#46039f"
                          ],
                          [
                            0.2222222222222222,
                            "#7201a8"
                          ],
                          [
                            0.3333333333333333,
                            "#9c179e"
                          ],
                          [
                            0.4444444444444444,
                            "#bd3786"
                          ],
                          [
                            0.5555555555555556,
                            "#d8576b"
                          ],
                          [
                            0.6666666666666666,
                            "#ed7953"
                          ],
                          [
                            0.7777777777777778,
                            "#fb9f3a"
                          ],
                          [
                            0.8888888888888888,
                            "#fdca26"
                          ],
                          [
                            1,
                            "#f0f921"
                          ]
                        ],
                        "type": "contour"
                      }
                    ],
                    "contourcarpet": [
                      {
                        "colorbar": {
                          "outlinewidth": 0,
                          "ticks": ""
                        },
                        "type": "contourcarpet"
                      }
                    ],
                    "heatmap": [
                      {
                        "colorbar": {
                          "outlinewidth": 0,
                          "ticks": ""
                        },
                        "colorscale": [
                          [
                            0,
                            "#0d0887"
                          ],
                          [
                            0.1111111111111111,
                            "#46039f"
                          ],
                          [
                            0.2222222222222222,
                            "#7201a8"
                          ],
                          [
                            0.3333333333333333,
                            "#9c179e"
                          ],
                          [
                            0.4444444444444444,
                            "#bd3786"
                          ],
                          [
                            0.5555555555555556,
                            "#d8576b"
                          ],
                          [
                            0.6666666666666666,
                            "#ed7953"
                          ],
                          [
                            0.7777777777777778,
                            "#fb9f3a"
                          ],
                          [
                            0.8888888888888888,
                            "#fdca26"
                          ],
                          [
                            1,
                            "#f0f921"
                          ]
                        ],
                        "type": "heatmap"
                      }
                    ],
                    "heatmapgl": [
                      {
                        "colorbar": {
                          "outlinewidth": 0,
                          "ticks": ""
                        },
                        "colorscale": [
                          [
                            0,
                            "#0d0887"
                          ],
                          [
                            0.1111111111111111,
                            "#46039f"
                          ],
                          [
                            0.2222222222222222,
                            "#7201a8"
                          ],
                          [
                            0.3333333333333333,
                            "#9c179e"
                          ],
                          [
                            0.4444444444444444,
                            "#bd3786"
                          ],
                          [
                            0.5555555555555556,
                            "#d8576b"
                          ],
                          [
                            0.6666666666666666,
                            "#ed7953"
                          ],
                          [
                            0.7777777777777778,
                            "#fb9f3a"
                          ],
                          [
                            0.8888888888888888,
                            "#fdca26"
                          ],
                          [
                            1,
                            "#f0f921"
                          ]
                        ],
                        "type": "heatmapgl"
                      }
                    ],
                    "histogram": [
                      {
                        "marker": {
                          "pattern": {
                            "fillmode": "overlay",
                            "size": 10,
                            "solidity": 0.2
                          }
                        },
                        "type": "histogram"
                      }
                    ],
                    "histogram2d": [
                      {
                        "colorbar": {
                          "outlinewidth": 0,
                          "ticks": ""
                        },
                        "colorscale": [
                          [
                            0,
                            "#0d0887"
                          ],
                          [
                            0.1111111111111111,
                            "#46039f"
                          ],
                          [
                            0.2222222222222222,
                            "#7201a8"
                          ],
                          [
                            0.3333333333333333,
                            "#9c179e"
                          ],
                          [
                            0.4444444444444444,
                            "#bd3786"
                          ],
                          [
                            0.5555555555555556,
                            "#d8576b"
                          ],
                          [
                            0.6666666666666666,
                            "#ed7953"
                          ],
                          [
                            0.7777777777777778,
                            "#fb9f3a"
                          ],
                          [
                            0.8888888888888888,
                            "#fdca26"
                          ],
                          [
                            1,
                            "#f0f921"
                          ]
                        ],
                        "type": "histogram2d"
                      }
                    ],
                    "histogram2dcontour": [
                      {
                        "colorbar": {
                          "outlinewidth": 0,
                          "ticks": ""
                        },
                        "colorscale": [
                          [
                            0,
                            "#0d0887"
                          ],
                          [
                            0.1111111111111111,
                            "#46039f"
                          ],
                          [
                            0.2222222222222222,
                            "#7201a8"
                          ],
                          [
                            0.3333333333333333,
                            "#9c179e"
                          ],
                          [
                            0.4444444444444444,
                            "#bd3786"
                          ],
                          [
                            0.5555555555555556,
                            "#d8576b"
                          ],
                          [
                            0.6666666666666666,
                            "#ed7953"
                          ],
                          [
                            0.7777777777777778,
                            "#fb9f3a"
                          ],
                          [
                            0.8888888888888888,
                            "#fdca26"
                          ],
                          [
                            1,
                            "#f0f921"
                          ]
                        ],
                        "type": "histogram2dcontour"
                      }
                    ],
                    "mesh3d": [
                      {
                        "colorbar": {
                          "outlinewidth": 0,
                          "ticks": ""
                        },
                        "type": "mesh3d"
                      }
                    ],
                    "parcoords": [
                      {
                        "line": {
                          "colorbar": {
                            "outlinewidth": 0,
                            "ticks": ""
                          }
                        },
                        "type": "parcoords"
                      }
                    ],
                    "pie": [
                      {
                        "automargin": true,
                        "type": "pie"
                      }
                    ],
                    "scatter": [
                      {
                        "fillpattern": {
                          "fillmode": "overlay",
                          "size": 10,
                          "solidity": 0.2
                        },
                        "type": "scatter"
                      }
                    ],
                    "scatter3d": [
                      {
                        "line": {
                          "colorbar": {
                            "outlinewidth": 0,
                            "ticks": ""
                          }
                        },
                        "marker": {
                          "colorbar": {
                            "outlinewidth": 0,
                            "ticks": ""
                          }
                        },
                        "type": "scatter3d"
                      }
                    ],
                    "scattercarpet": [
                      {
                        "marker": {
                          "colorbar": {
                            "outlinewidth": 0,
                            "ticks": ""
                          }
                        },
                        "type": "scattercarpet"
                      }
                    ],
                    "scattergeo": [
                      {
                        "marker": {
                          "colorbar": {
                            "outlinewidth": 0,
                            "ticks": ""
                          }
                        },
                        "type": "scattergeo"
                      }
                    ],
                    "scattergl": [
                      {
                        "marker": {
                          "colorbar": {
                            "outlinewidth": 0,
                            "ticks": ""
                          }
                        },
                        "type": "scattergl"
                      }
                    ],
                    "scattermapbox": [
                      {
                        "marker": {
                          "colorbar": {
                            "outlinewidth": 0,
                            "ticks": ""
                          }
                        },
                        "type": "scattermapbox"
                      }
                    ],
                    "scatterpolar": [
                      {
                        "marker": {
                          "colorbar": {
                            "outlinewidth": 0,
                            "ticks": ""
                          }
                        },
                        "type": "scatterpolar"
                      }
                    ],
                    "scatterpolargl": [
                      {
                        "marker": {
                          "colorbar": {
                            "outlinewidth": 0,
                            "ticks": ""
                          }
                        },
                        "type": "scatterpolargl"
                      }
                    ],
                    "scatterternary": [
                      {
                        "marker": {
                          "colorbar": {
                            "outlinewidth": 0,
                            "ticks": ""
                          }
                        },
                        "type": "scatterternary"
                      }
                    ],
                    "surface": [
                      {
                        "colorbar": {
                          "outlinewidth": 0,
                          "ticks": ""
                        },
                        "colorscale": [
                          [
                            0,
                            "#0d0887"
                          ],
                          [
                            0.1111111111111111,
                            "#46039f"
                          ],
                          [
                            0.2222222222222222,
                            "#7201a8"
                          ],
                          [
                            0.3333333333333333,
                            "#9c179e"
                          ],
                          [
                            0.4444444444444444,
                            "#bd3786"
                          ],
                          [
                            0.5555555555555556,
                            "#d8576b"
                          ],
                          [
                            0.6666666666666666,
                            "#ed7953"
                          ],
                          [
                            0.7777777777777778,
                            "#fb9f3a"
                          ],
                          [
                            0.8888888888888888,
                            "#fdca26"
                          ],
                          [
                            1,
                            "#f0f921"
                          ]
                        ],
                        "type": "surface"
                      }
                    ],
                    "table": [
                      {
                        "cells": {
                          "fill": {
                            "color": "#EBF0F8"
                          },
                          "line": {
                            "color": "white"
                          }
                        },
                        "header": {
                          "fill": {
                            "color": "#C8D4E3"
                          },
                          "line": {
                            "color": "white"
                          }
                        },
                        "type": "table"
                      }
                    ]
                  },
                  "layout": {
                    "annotationdefaults": {
                      "arrowcolor": "#2a3f5f",
                      "arrowhead": 0,
                      "arrowwidth": 1
                    },
                    "autotypenumbers": "strict",
                    "coloraxis": {
                      "colorbar": {
                        "outlinewidth": 0,
                        "ticks": ""
                      }
                    },
                    "colorscale": {
                      "diverging": [
                        [
                          0,
                          "#8e0152"
                        ],
                        [
                          0.1,
                          "#c51b7d"
                        ],
                        [
                          0.2,
                          "#de77ae"
                        ],
                        [
                          0.3,
                          "#f1b6da"
                        ],
                        [
                          0.4,
                          "#fde0ef"
                        ],
                        [
                          0.5,
                          "#f7f7f7"
                        ],
                        [
                          0.6,
                          "#e6f5d0"
                        ],
                        [
                          0.7,
                          "#b8e186"
                        ],
                        [
                          0.8,
                          "#7fbc41"
                        ],
                        [
                          0.9,
                          "#4d9221"
                        ],
                        [
                          1,
                          "#276419"
                        ]
                      ],
                      "sequential": [
                        [
                          0,
                          "#0d0887"
                        ],
                        [
                          0.1111111111111111,
                          "#46039f"
                        ],
                        [
                          0.2222222222222222,
                          "#7201a8"
                        ],
                        [
                          0.3333333333333333,
                          "#9c179e"
                        ],
                        [
                          0.4444444444444444,
                          "#bd3786"
                        ],
                        [
                          0.5555555555555556,
                          "#d8576b"
                        ],
                        [
                          0.6666666666666666,
                          "#ed7953"
                        ],
                        [
                          0.7777777777777778,
                          "#fb9f3a"
                        ],
                        [
                          0.8888888888888888,
                          "#fdca26"
                        ],
                        [
                          1,
                          "#f0f921"
                        ]
                      ],
                      "sequentialminus": [
                        [
                          0,
                          "#0d0887"
                        ],
                        [
                          0.1111111111111111,
                          "#46039f"
                        ],
                        [
                          0.2222222222222222,
                          "#7201a8"
                        ],
                        [
                          0.3333333333333333,
                          "#9c179e"
                        ],
                        [
                          0.4444444444444444,
                          "#bd3786"
                        ],
                        [
                          0.5555555555555556,
                          "#d8576b"
                        ],
                        [
                          0.6666666666666666,
                          "#ed7953"
                        ],
                        [
                          0.7777777777777778,
                          "#fb9f3a"
                        ],
                        [
                          0.8888888888888888,
                          "#fdca26"
                        ],
                        [
                          1,
                          "#f0f921"
                        ]
                      ]
                    },
                    "colorway": [
                      "#636efa",
                      "#EF553B",
                      "#00cc96",
                      "#ab63fa",
                      "#FFA15A",
                      "#19d3f3",
                      "#FF6692",
                      "#B6E880",
                      "#FF97FF",
                      "#FECB52"
                    ],
                    "font": {
                      "color": "#2a3f5f"
                    },
                    "geo": {
                      "bgcolor": "white",
                      "lakecolor": "white",
                      "landcolor": "#E5ECF6",
                      "showlakes": true,
                      "showland": true,
                      "subunitcolor": "white"
                    },
                    "hoverlabel": {
                      "align": "left"
                    },
                    "hovermode": "closest",
                    "mapbox": {
                      "style": "light"
                    },
                    "paper_bgcolor": "white",
                    "plot_bgcolor": "#E5ECF6",
                    "polar": {
                      "angularaxis": {
                        "gridcolor": "white",
                        "linecolor": "white",
                        "ticks": ""
                      },
                      "bgcolor": "#E5ECF6",
                      "radialaxis": {
                        "gridcolor": "white",
                        "linecolor": "white",
                        "ticks": ""
                      }
                    },
                    "scene": {
                      "xaxis": {
                        "backgroundcolor": "#E5ECF6",
                        "gridcolor": "white",
                        "gridwidth": 2,
                        "linecolor": "white",
                        "showbackground": true,
                        "ticks": "",
                        "zerolinecolor": "white"
                      },
                      "yaxis": {
                        "backgroundcolor": "#E5ECF6",
                        "gridcolor": "white",
                        "gridwidth": 2,
                        "linecolor": "white",
                        "showbackground": true,
                        "ticks": "",
                        "zerolinecolor": "white"
                      },
                      "zaxis": {
                        "backgroundcolor": "#E5ECF6",
                        "gridcolor": "white",
                        "gridwidth": 2,
                        "linecolor": "white",
                        "showbackground": true,
                        "ticks": "",
                        "zerolinecolor": "white"
                      }
                    },
                    "shapedefaults": {
                      "line": {
                        "color": "#2a3f5f"
                      }
                    },
                    "ternary": {
                      "aaxis": {
                        "gridcolor": "white",
                        "linecolor": "white",
                        "ticks": ""
                      },
                      "baxis": {
                        "gridcolor": "white",
                        "linecolor": "white",
                        "ticks": ""
                      },
                      "bgcolor": "#E5ECF6",
                      "caxis": {
                        "gridcolor": "white",
                        "linecolor": "white",
                        "ticks": ""
                      }
                    },
                    "title": {
                      "x": 0.05
                    },
                    "xaxis": {
                      "automargin": true,
                      "gridcolor": "white",
                      "linecolor": "white",
                      "ticks": "",
                      "title": {
                        "standoff": 15
                      },
                      "zerolinecolor": "white",
                      "zerolinewidth": 2
                    },
                    "yaxis": {
                      "automargin": true,
                      "gridcolor": "white",
                      "linecolor": "white",
                      "ticks": "",
                      "title": {
                        "standoff": 15
                      },
                      "zerolinecolor": "white",
                      "zerolinewidth": 2
                    }
                  }
                },
                "xaxis": {
                  "anchor": "y",
                  "domain": [
                    0,
                    0.48
                  ],
                  "title": {
                    "text": "total_bill"
                  }
                },
                "xaxis2": {
                  "anchor": "y2",
                  "domain": [
                    0.5,
                    0.98
                  ],
                  "matches": "x",
                  "title": {
                    "text": "total_bill"
                  }
                },
                "xaxis3": {
                  "anchor": "y3",
                  "domain": [
                    0,
                    0.48
                  ],
                  "matches": "x",
                  "showticklabels": false
                },
                "xaxis4": {
                  "anchor": "y4",
                  "domain": [
                    0.5,
                    0.98
                  ],
                  "matches": "x",
                  "showticklabels": false
                },
                "yaxis": {
                  "anchor": "x",
                  "domain": [
                    0,
                    0.485
                  ],
                  "title": {
                    "text": "tip"
                  }
                },
                "yaxis2": {
                  "anchor": "x2",
                  "domain": [
                    0,
                    0.485
                  ],
                  "matches": "y",
                  "showticklabels": false
                },
                "yaxis3": {
                  "anchor": "x3",
                  "domain": [
                    0.515,
                    1
                  ],
                  "matches": "y",
                  "title": {
                    "text": "tip"
                  }
                },
                "yaxis4": {
                  "anchor": "x4",
                  "domain": [
                    0.515,
                    1
                  ],
                  "matches": "y",
                  "showticklabels": false
                }
              }
            }
          },
          "metadata": {},
          "output_type": "display_data"
        }
      ],
      "source": [
        "df = px.data.tips()\n",
        "fig = px.scatter(\n",
        "    df, x=\"total_bill\", y=\"tip\", color=\"smoker\", facet_col=\"sex\", facet_row=\"time\"\n",
        ")\n",
        "fig.show()"
      ]
    },
    {
      "cell_type": "code",
      "execution_count": 4,
      "metadata": {},
      "outputs": [
        {
          "data": {
            "application/vnd.plotly.v1+json": {
              "config": {
                "plotlyServerURL": "https://plot.ly"
              },
              "data": [
                {
                  "hovertemplate": "country=Australia<br>year=%{x}<br>lifeExp=%{y}<extra></extra>",
                  "legendgroup": "Australia",
                  "line": {
                    "color": "#636efa",
                    "dash": "solid"
                  },
                  "marker": {
                    "symbol": "circle"
                  },
                  "mode": "lines+markers",
                  "name": "Australia",
                  "orientation": "v",
                  "showlegend": true,
                  "type": "scatter",
                  "x": [
                    1952,
                    1957,
                    1962,
                    1967,
                    1972,
                    1977,
                    1982,
                    1987,
                    1992,
                    1997,
                    2002,
                    2007
                  ],
                  "xaxis": "x",
                  "y": [
                    69.12,
                    70.33,
                    70.93,
                    71.1,
                    71.93,
                    73.49,
                    74.74,
                    76.32,
                    77.56,
                    78.83,
                    80.37,
                    81.235
                  ],
                  "yaxis": "y"
                },
                {
                  "hovertemplate": "country=New Zealand<br>year=%{x}<br>lifeExp=%{y}<extra></extra>",
                  "legendgroup": "New Zealand",
                  "line": {
                    "color": "#EF553B",
                    "dash": "solid"
                  },
                  "marker": {
                    "symbol": "circle"
                  },
                  "mode": "lines+markers",
                  "name": "New Zealand",
                  "orientation": "v",
                  "showlegend": true,
                  "type": "scatter",
                  "x": [
                    1952,
                    1957,
                    1962,
                    1967,
                    1972,
                    1977,
                    1982,
                    1987,
                    1992,
                    1997,
                    2002,
                    2007
                  ],
                  "xaxis": "x",
                  "y": [
                    69.39,
                    70.26,
                    71.24,
                    71.52,
                    71.89,
                    72.22,
                    73.84,
                    74.32,
                    76.33,
                    77.55,
                    79.11,
                    80.204
                  ],
                  "yaxis": "y"
                }
              ],
              "layout": {
                "legend": {
                  "title": {
                    "text": "country"
                  },
                  "tracegroupgap": 0
                },
                "margin": {
                  "t": 60
                },
                "template": {
                  "data": {
                    "bar": [
                      {
                        "error_x": {
                          "color": "#2a3f5f"
                        },
                        "error_y": {
                          "color": "#2a3f5f"
                        },
                        "marker": {
                          "line": {
                            "color": "#E5ECF6",
                            "width": 0.5
                          },
                          "pattern": {
                            "fillmode": "overlay",
                            "size": 10,
                            "solidity": 0.2
                          }
                        },
                        "type": "bar"
                      }
                    ],
                    "barpolar": [
                      {
                        "marker": {
                          "line": {
                            "color": "#E5ECF6",
                            "width": 0.5
                          },
                          "pattern": {
                            "fillmode": "overlay",
                            "size": 10,
                            "solidity": 0.2
                          }
                        },
                        "type": "barpolar"
                      }
                    ],
                    "carpet": [
                      {
                        "aaxis": {
                          "endlinecolor": "#2a3f5f",
                          "gridcolor": "white",
                          "linecolor": "white",
                          "minorgridcolor": "white",
                          "startlinecolor": "#2a3f5f"
                        },
                        "baxis": {
                          "endlinecolor": "#2a3f5f",
                          "gridcolor": "white",
                          "linecolor": "white",
                          "minorgridcolor": "white",
                          "startlinecolor": "#2a3f5f"
                        },
                        "type": "carpet"
                      }
                    ],
                    "choropleth": [
                      {
                        "colorbar": {
                          "outlinewidth": 0,
                          "ticks": ""
                        },
                        "type": "choropleth"
                      }
                    ],
                    "contour": [
                      {
                        "colorbar": {
                          "outlinewidth": 0,
                          "ticks": ""
                        },
                        "colorscale": [
                          [
                            0,
                            "#0d0887"
                          ],
                          [
                            0.1111111111111111,
                            "#46039f"
                          ],
                          [
                            0.2222222222222222,
                            "#7201a8"
                          ],
                          [
                            0.3333333333333333,
                            "#9c179e"
                          ],
                          [
                            0.4444444444444444,
                            "#bd3786"
                          ],
                          [
                            0.5555555555555556,
                            "#d8576b"
                          ],
                          [
                            0.6666666666666666,
                            "#ed7953"
                          ],
                          [
                            0.7777777777777778,
                            "#fb9f3a"
                          ],
                          [
                            0.8888888888888888,
                            "#fdca26"
                          ],
                          [
                            1,
                            "#f0f921"
                          ]
                        ],
                        "type": "contour"
                      }
                    ],
                    "contourcarpet": [
                      {
                        "colorbar": {
                          "outlinewidth": 0,
                          "ticks": ""
                        },
                        "type": "contourcarpet"
                      }
                    ],
                    "heatmap": [
                      {
                        "colorbar": {
                          "outlinewidth": 0,
                          "ticks": ""
                        },
                        "colorscale": [
                          [
                            0,
                            "#0d0887"
                          ],
                          [
                            0.1111111111111111,
                            "#46039f"
                          ],
                          [
                            0.2222222222222222,
                            "#7201a8"
                          ],
                          [
                            0.3333333333333333,
                            "#9c179e"
                          ],
                          [
                            0.4444444444444444,
                            "#bd3786"
                          ],
                          [
                            0.5555555555555556,
                            "#d8576b"
                          ],
                          [
                            0.6666666666666666,
                            "#ed7953"
                          ],
                          [
                            0.7777777777777778,
                            "#fb9f3a"
                          ],
                          [
                            0.8888888888888888,
                            "#fdca26"
                          ],
                          [
                            1,
                            "#f0f921"
                          ]
                        ],
                        "type": "heatmap"
                      }
                    ],
                    "heatmapgl": [
                      {
                        "colorbar": {
                          "outlinewidth": 0,
                          "ticks": ""
                        },
                        "colorscale": [
                          [
                            0,
                            "#0d0887"
                          ],
                          [
                            0.1111111111111111,
                            "#46039f"
                          ],
                          [
                            0.2222222222222222,
                            "#7201a8"
                          ],
                          [
                            0.3333333333333333,
                            "#9c179e"
                          ],
                          [
                            0.4444444444444444,
                            "#bd3786"
                          ],
                          [
                            0.5555555555555556,
                            "#d8576b"
                          ],
                          [
                            0.6666666666666666,
                            "#ed7953"
                          ],
                          [
                            0.7777777777777778,
                            "#fb9f3a"
                          ],
                          [
                            0.8888888888888888,
                            "#fdca26"
                          ],
                          [
                            1,
                            "#f0f921"
                          ]
                        ],
                        "type": "heatmapgl"
                      }
                    ],
                    "histogram": [
                      {
                        "marker": {
                          "pattern": {
                            "fillmode": "overlay",
                            "size": 10,
                            "solidity": 0.2
                          }
                        },
                        "type": "histogram"
                      }
                    ],
                    "histogram2d": [
                      {
                        "colorbar": {
                          "outlinewidth": 0,
                          "ticks": ""
                        },
                        "colorscale": [
                          [
                            0,
                            "#0d0887"
                          ],
                          [
                            0.1111111111111111,
                            "#46039f"
                          ],
                          [
                            0.2222222222222222,
                            "#7201a8"
                          ],
                          [
                            0.3333333333333333,
                            "#9c179e"
                          ],
                          [
                            0.4444444444444444,
                            "#bd3786"
                          ],
                          [
                            0.5555555555555556,
                            "#d8576b"
                          ],
                          [
                            0.6666666666666666,
                            "#ed7953"
                          ],
                          [
                            0.7777777777777778,
                            "#fb9f3a"
                          ],
                          [
                            0.8888888888888888,
                            "#fdca26"
                          ],
                          [
                            1,
                            "#f0f921"
                          ]
                        ],
                        "type": "histogram2d"
                      }
                    ],
                    "histogram2dcontour": [
                      {
                        "colorbar": {
                          "outlinewidth": 0,
                          "ticks": ""
                        },
                        "colorscale": [
                          [
                            0,
                            "#0d0887"
                          ],
                          [
                            0.1111111111111111,
                            "#46039f"
                          ],
                          [
                            0.2222222222222222,
                            "#7201a8"
                          ],
                          [
                            0.3333333333333333,
                            "#9c179e"
                          ],
                          [
                            0.4444444444444444,
                            "#bd3786"
                          ],
                          [
                            0.5555555555555556,
                            "#d8576b"
                          ],
                          [
                            0.6666666666666666,
                            "#ed7953"
                          ],
                          [
                            0.7777777777777778,
                            "#fb9f3a"
                          ],
                          [
                            0.8888888888888888,
                            "#fdca26"
                          ],
                          [
                            1,
                            "#f0f921"
                          ]
                        ],
                        "type": "histogram2dcontour"
                      }
                    ],
                    "mesh3d": [
                      {
                        "colorbar": {
                          "outlinewidth": 0,
                          "ticks": ""
                        },
                        "type": "mesh3d"
                      }
                    ],
                    "parcoords": [
                      {
                        "line": {
                          "colorbar": {
                            "outlinewidth": 0,
                            "ticks": ""
                          }
                        },
                        "type": "parcoords"
                      }
                    ],
                    "pie": [
                      {
                        "automargin": true,
                        "type": "pie"
                      }
                    ],
                    "scatter": [
                      {
                        "fillpattern": {
                          "fillmode": "overlay",
                          "size": 10,
                          "solidity": 0.2
                        },
                        "type": "scatter"
                      }
                    ],
                    "scatter3d": [
                      {
                        "line": {
                          "colorbar": {
                            "outlinewidth": 0,
                            "ticks": ""
                          }
                        },
                        "marker": {
                          "colorbar": {
                            "outlinewidth": 0,
                            "ticks": ""
                          }
                        },
                        "type": "scatter3d"
                      }
                    ],
                    "scattercarpet": [
                      {
                        "marker": {
                          "colorbar": {
                            "outlinewidth": 0,
                            "ticks": ""
                          }
                        },
                        "type": "scattercarpet"
                      }
                    ],
                    "scattergeo": [
                      {
                        "marker": {
                          "colorbar": {
                            "outlinewidth": 0,
                            "ticks": ""
                          }
                        },
                        "type": "scattergeo"
                      }
                    ],
                    "scattergl": [
                      {
                        "marker": {
                          "colorbar": {
                            "outlinewidth": 0,
                            "ticks": ""
                          }
                        },
                        "type": "scattergl"
                      }
                    ],
                    "scattermapbox": [
                      {
                        "marker": {
                          "colorbar": {
                            "outlinewidth": 0,
                            "ticks": ""
                          }
                        },
                        "type": "scattermapbox"
                      }
                    ],
                    "scatterpolar": [
                      {
                        "marker": {
                          "colorbar": {
                            "outlinewidth": 0,
                            "ticks": ""
                          }
                        },
                        "type": "scatterpolar"
                      }
                    ],
                    "scatterpolargl": [
                      {
                        "marker": {
                          "colorbar": {
                            "outlinewidth": 0,
                            "ticks": ""
                          }
                        },
                        "type": "scatterpolargl"
                      }
                    ],
                    "scatterternary": [
                      {
                        "marker": {
                          "colorbar": {
                            "outlinewidth": 0,
                            "ticks": ""
                          }
                        },
                        "type": "scatterternary"
                      }
                    ],
                    "surface": [
                      {
                        "colorbar": {
                          "outlinewidth": 0,
                          "ticks": ""
                        },
                        "colorscale": [
                          [
                            0,
                            "#0d0887"
                          ],
                          [
                            0.1111111111111111,
                            "#46039f"
                          ],
                          [
                            0.2222222222222222,
                            "#7201a8"
                          ],
                          [
                            0.3333333333333333,
                            "#9c179e"
                          ],
                          [
                            0.4444444444444444,
                            "#bd3786"
                          ],
                          [
                            0.5555555555555556,
                            "#d8576b"
                          ],
                          [
                            0.6666666666666666,
                            "#ed7953"
                          ],
                          [
                            0.7777777777777778,
                            "#fb9f3a"
                          ],
                          [
                            0.8888888888888888,
                            "#fdca26"
                          ],
                          [
                            1,
                            "#f0f921"
                          ]
                        ],
                        "type": "surface"
                      }
                    ],
                    "table": [
                      {
                        "cells": {
                          "fill": {
                            "color": "#EBF0F8"
                          },
                          "line": {
                            "color": "white"
                          }
                        },
                        "header": {
                          "fill": {
                            "color": "#C8D4E3"
                          },
                          "line": {
                            "color": "white"
                          }
                        },
                        "type": "table"
                      }
                    ]
                  },
                  "layout": {
                    "annotationdefaults": {
                      "arrowcolor": "#2a3f5f",
                      "arrowhead": 0,
                      "arrowwidth": 1
                    },
                    "autotypenumbers": "strict",
                    "coloraxis": {
                      "colorbar": {
                        "outlinewidth": 0,
                        "ticks": ""
                      }
                    },
                    "colorscale": {
                      "diverging": [
                        [
                          0,
                          "#8e0152"
                        ],
                        [
                          0.1,
                          "#c51b7d"
                        ],
                        [
                          0.2,
                          "#de77ae"
                        ],
                        [
                          0.3,
                          "#f1b6da"
                        ],
                        [
                          0.4,
                          "#fde0ef"
                        ],
                        [
                          0.5,
                          "#f7f7f7"
                        ],
                        [
                          0.6,
                          "#e6f5d0"
                        ],
                        [
                          0.7,
                          "#b8e186"
                        ],
                        [
                          0.8,
                          "#7fbc41"
                        ],
                        [
                          0.9,
                          "#4d9221"
                        ],
                        [
                          1,
                          "#276419"
                        ]
                      ],
                      "sequential": [
                        [
                          0,
                          "#0d0887"
                        ],
                        [
                          0.1111111111111111,
                          "#46039f"
                        ],
                        [
                          0.2222222222222222,
                          "#7201a8"
                        ],
                        [
                          0.3333333333333333,
                          "#9c179e"
                        ],
                        [
                          0.4444444444444444,
                          "#bd3786"
                        ],
                        [
                          0.5555555555555556,
                          "#d8576b"
                        ],
                        [
                          0.6666666666666666,
                          "#ed7953"
                        ],
                        [
                          0.7777777777777778,
                          "#fb9f3a"
                        ],
                        [
                          0.8888888888888888,
                          "#fdca26"
                        ],
                        [
                          1,
                          "#f0f921"
                        ]
                      ],
                      "sequentialminus": [
                        [
                          0,
                          "#0d0887"
                        ],
                        [
                          0.1111111111111111,
                          "#46039f"
                        ],
                        [
                          0.2222222222222222,
                          "#7201a8"
                        ],
                        [
                          0.3333333333333333,
                          "#9c179e"
                        ],
                        [
                          0.4444444444444444,
                          "#bd3786"
                        ],
                        [
                          0.5555555555555556,
                          "#d8576b"
                        ],
                        [
                          0.6666666666666666,
                          "#ed7953"
                        ],
                        [
                          0.7777777777777778,
                          "#fb9f3a"
                        ],
                        [
                          0.8888888888888888,
                          "#fdca26"
                        ],
                        [
                          1,
                          "#f0f921"
                        ]
                      ]
                    },
                    "colorway": [
                      "#636efa",
                      "#EF553B",
                      "#00cc96",
                      "#ab63fa",
                      "#FFA15A",
                      "#19d3f3",
                      "#FF6692",
                      "#B6E880",
                      "#FF97FF",
                      "#FECB52"
                    ],
                    "font": {
                      "color": "#2a3f5f"
                    },
                    "geo": {
                      "bgcolor": "white",
                      "lakecolor": "white",
                      "landcolor": "#E5ECF6",
                      "showlakes": true,
                      "showland": true,
                      "subunitcolor": "white"
                    },
                    "hoverlabel": {
                      "align": "left"
                    },
                    "hovermode": "closest",
                    "mapbox": {
                      "style": "light"
                    },
                    "paper_bgcolor": "white",
                    "plot_bgcolor": "#E5ECF6",
                    "polar": {
                      "angularaxis": {
                        "gridcolor": "white",
                        "linecolor": "white",
                        "ticks": ""
                      },
                      "bgcolor": "#E5ECF6",
                      "radialaxis": {
                        "gridcolor": "white",
                        "linecolor": "white",
                        "ticks": ""
                      }
                    },
                    "scene": {
                      "xaxis": {
                        "backgroundcolor": "#E5ECF6",
                        "gridcolor": "white",
                        "gridwidth": 2,
                        "linecolor": "white",
                        "showbackground": true,
                        "ticks": "",
                        "zerolinecolor": "white"
                      },
                      "yaxis": {
                        "backgroundcolor": "#E5ECF6",
                        "gridcolor": "white",
                        "gridwidth": 2,
                        "linecolor": "white",
                        "showbackground": true,
                        "ticks": "",
                        "zerolinecolor": "white"
                      },
                      "zaxis": {
                        "backgroundcolor": "#E5ECF6",
                        "gridcolor": "white",
                        "gridwidth": 2,
                        "linecolor": "white",
                        "showbackground": true,
                        "ticks": "",
                        "zerolinecolor": "white"
                      }
                    },
                    "shapedefaults": {
                      "line": {
                        "color": "#2a3f5f"
                      }
                    },
                    "ternary": {
                      "aaxis": {
                        "gridcolor": "white",
                        "linecolor": "white",
                        "ticks": ""
                      },
                      "baxis": {
                        "gridcolor": "white",
                        "linecolor": "white",
                        "ticks": ""
                      },
                      "bgcolor": "#E5ECF6",
                      "caxis": {
                        "gridcolor": "white",
                        "linecolor": "white",
                        "ticks": ""
                      }
                    },
                    "title": {
                      "x": 0.05
                    },
                    "xaxis": {
                      "automargin": true,
                      "gridcolor": "white",
                      "linecolor": "white",
                      "ticks": "",
                      "title": {
                        "standoff": 15
                      },
                      "zerolinecolor": "white",
                      "zerolinewidth": 2
                    },
                    "yaxis": {
                      "automargin": true,
                      "gridcolor": "white",
                      "linecolor": "white",
                      "ticks": "",
                      "title": {
                        "standoff": 15
                      },
                      "zerolinecolor": "white",
                      "zerolinewidth": 2
                    }
                  }
                },
                "xaxis": {
                  "anchor": "y",
                  "domain": [
                    0,
                    1
                  ],
                  "title": {
                    "text": "year"
                  }
                },
                "yaxis": {
                  "anchor": "x",
                  "domain": [
                    0,
                    1
                  ],
                  "title": {
                    "text": "lifeExp"
                  }
                }
              }
            }
          },
          "metadata": {},
          "output_type": "display_data"
        }
      ],
      "source": [
        "df = px.data.gapminder().query(\"continent == 'Oceania'\")\n",
        "fig = px.line(df, x=\"year\", y=\"lifeExp\", color=\"country\", markers=True)\n",
        "fig.show()"
      ]
    },
    {
      "cell_type": "code",
      "execution_count": 5,
      "metadata": {},
      "outputs": [
        {
          "data": {
            "application/vnd.plotly.v1+json": {
              "config": {
                "plotlyServerURL": "https://plot.ly"
              },
              "data": [
                {
                  "alignmentgroup": "True",
                  "hovertemplate": "smoker=No<br>sex=%{x}<br>total_bill=%{y}<extra></extra>",
                  "legendgroup": "No",
                  "marker": {
                    "color": "#636efa",
                    "pattern": {
                      "shape": ""
                    }
                  },
                  "name": "No",
                  "offsetgroup": "No",
                  "orientation": "v",
                  "showlegend": true,
                  "textposition": "auto",
                  "type": "bar",
                  "x": [
                    "Female",
                    "Male",
                    "Male",
                    "Male",
                    "Female",
                    "Male",
                    "Male",
                    "Male",
                    "Male",
                    "Male",
                    "Male",
                    "Female",
                    "Male",
                    "Male",
                    "Female",
                    "Male",
                    "Female",
                    "Male",
                    "Female",
                    "Male",
                    "Male",
                    "Female",
                    "Female",
                    "Male",
                    "Male",
                    "Male",
                    "Male",
                    "Male",
                    "Male",
                    "Female",
                    "Male",
                    "Male",
                    "Female",
                    "Female",
                    "Male",
                    "Male",
                    "Male",
                    "Female",
                    "Male",
                    "Male",
                    "Male",
                    "Male",
                    "Male",
                    "Male",
                    "Male",
                    "Male",
                    "Male",
                    "Male",
                    "Male",
                    "Male",
                    "Male",
                    "Female",
                    "Female",
                    "Male",
                    "Male",
                    "Male",
                    "Female",
                    "Male",
                    "Male",
                    "Male",
                    "Female",
                    "Male",
                    "Male",
                    "Female",
                    "Female",
                    "Male",
                    "Male",
                    "Male",
                    "Male",
                    "Male",
                    "Female",
                    "Male",
                    "Female",
                    "Male",
                    "Male",
                    "Male",
                    "Male",
                    "Male",
                    "Female",
                    "Male",
                    "Female",
                    "Male",
                    "Male",
                    "Female",
                    "Male",
                    "Male",
                    "Female",
                    "Female",
                    "Male",
                    "Female",
                    "Female",
                    "Female",
                    "Male",
                    "Female",
                    "Male",
                    "Male",
                    "Female",
                    "Female",
                    "Male",
                    "Female",
                    "Female",
                    "Male",
                    "Male",
                    "Female",
                    "Female",
                    "Female",
                    "Female",
                    "Female",
                    "Female",
                    "Female",
                    "Female",
                    "Female",
                    "Male",
                    "Male",
                    "Female",
                    "Female",
                    "Female",
                    "Female",
                    "Female",
                    "Male",
                    "Male",
                    "Male",
                    "Male",
                    "Male",
                    "Male",
                    "Male",
                    "Female",
                    "Male",
                    "Female",
                    "Female",
                    "Male",
                    "Male",
                    "Male",
                    "Female",
                    "Male",
                    "Male",
                    "Male",
                    "Male",
                    "Male",
                    "Male",
                    "Male",
                    "Female",
                    "Male",
                    "Male",
                    "Male",
                    "Male",
                    "Male",
                    "Female",
                    "Male",
                    "Male",
                    "Female"
                  ],
                  "xaxis": "x",
                  "y": [
                    16.99,
                    10.34,
                    21.01,
                    23.68,
                    24.59,
                    25.29,
                    8.77,
                    26.88,
                    15.04,
                    14.78,
                    10.27,
                    35.26,
                    15.42,
                    18.43,
                    14.83,
                    21.58,
                    10.33,
                    16.29,
                    16.97,
                    20.65,
                    17.92,
                    20.29,
                    15.77,
                    39.42,
                    19.82,
                    17.81,
                    13.37,
                    12.69,
                    21.7,
                    19.65,
                    9.55,
                    18.35,
                    15.06,
                    20.69,
                    17.78,
                    24.06,
                    16.31,
                    16.93,
                    18.69,
                    31.27,
                    16.04,
                    17.46,
                    13.94,
                    9.68,
                    30.4,
                    18.29,
                    22.23,
                    32.4,
                    28.55,
                    18.04,
                    12.54,
                    10.29,
                    34.81,
                    9.94,
                    25.56,
                    19.49,
                    26.41,
                    48.27,
                    17.59,
                    20.08,
                    16.45,
                    20.23,
                    12.02,
                    17.07,
                    14.73,
                    10.51,
                    27.2,
                    22.76,
                    17.29,
                    16.66,
                    10.07,
                    15.98,
                    34.83,
                    13.03,
                    18.28,
                    24.71,
                    21.16,
                    22.49,
                    22.75,
                    12.46,
                    20.92,
                    18.24,
                    14,
                    7.25,
                    38.07,
                    23.95,
                    25.71,
                    17.31,
                    29.93,
                    10.65,
                    12.43,
                    24.08,
                    11.69,
                    13.42,
                    14.26,
                    15.95,
                    12.48,
                    29.8,
                    8.52,
                    14.52,
                    11.38,
                    22.82,
                    19.08,
                    20.27,
                    11.17,
                    12.26,
                    18.26,
                    8.51,
                    10.33,
                    14.15,
                    13.16,
                    17.47,
                    34.3,
                    41.19,
                    27.05,
                    16.43,
                    8.35,
                    18.64,
                    11.87,
                    9.78,
                    7.51,
                    14.07,
                    13.13,
                    17.26,
                    24.55,
                    19.77,
                    29.85,
                    48.17,
                    25,
                    13.39,
                    16.49,
                    21.5,
                    12.66,
                    16.21,
                    13.81,
                    24.52,
                    20.76,
                    31.71,
                    20.69,
                    7.56,
                    48.33,
                    15.98,
                    20.45,
                    13.28,
                    11.61,
                    10.77,
                    10.07,
                    35.83,
                    29.03,
                    17.82,
                    18.78
                  ],
                  "yaxis": "y"
                },
                {
                  "alignmentgroup": "True",
                  "hovertemplate": "smoker=Yes<br>sex=%{x}<br>total_bill=%{y}<extra></extra>",
                  "legendgroup": "Yes",
                  "marker": {
                    "color": "#EF553B",
                    "pattern": {
                      "shape": ""
                    }
                  },
                  "name": "Yes",
                  "offsetgroup": "Yes",
                  "orientation": "v",
                  "showlegend": true,
                  "textposition": "auto",
                  "type": "bar",
                  "x": [
                    "Male",
                    "Male",
                    "Male",
                    "Male",
                    "Male",
                    "Male",
                    "Female",
                    "Male",
                    "Female",
                    "Female",
                    "Male",
                    "Male",
                    "Male",
                    "Male",
                    "Female",
                    "Female",
                    "Male",
                    "Male",
                    "Male",
                    "Male",
                    "Female",
                    "Female",
                    "Female",
                    "Female",
                    "Male",
                    "Male",
                    "Male",
                    "Female",
                    "Male",
                    "Female",
                    "Female",
                    "Female",
                    "Male",
                    "Male",
                    "Male",
                    "Male",
                    "Male",
                    "Male",
                    "Male",
                    "Male",
                    "Female",
                    "Male",
                    "Male",
                    "Male",
                    "Male",
                    "Male",
                    "Male",
                    "Female",
                    "Male",
                    "Female",
                    "Male",
                    "Male",
                    "Female",
                    "Male",
                    "Male",
                    "Male",
                    "Male",
                    "Female",
                    "Female",
                    "Male",
                    "Male",
                    "Female",
                    "Female",
                    "Female",
                    "Male",
                    "Female",
                    "Male",
                    "Male",
                    "Male",
                    "Female",
                    "Male",
                    "Male",
                    "Female",
                    "Female",
                    "Female",
                    "Male",
                    "Male",
                    "Male",
                    "Female",
                    "Male",
                    "Female",
                    "Male",
                    "Male",
                    "Female",
                    "Female",
                    "Female",
                    "Male",
                    "Male",
                    "Male",
                    "Male",
                    "Male",
                    "Female",
                    "Male"
                  ],
                  "xaxis": "x",
                  "y": [
                    38.01,
                    11.24,
                    20.29,
                    13.81,
                    11.02,
                    18.29,
                    3.07,
                    15.01,
                    26.86,
                    25.28,
                    17.92,
                    19.44,
                    32.68,
                    28.97,
                    5.75,
                    16.32,
                    40.17,
                    27.28,
                    12.03,
                    21.01,
                    11.35,
                    15.38,
                    44.3,
                    22.42,
                    15.36,
                    20.49,
                    25.21,
                    14.31,
                    16,
                    17.51,
                    10.59,
                    10.63,
                    50.81,
                    15.81,
                    7.25,
                    31.85,
                    16.82,
                    32.9,
                    17.89,
                    14.48,
                    9.6,
                    34.63,
                    34.65,
                    23.33,
                    45.35,
                    23.17,
                    40.55,
                    20.9,
                    30.46,
                    18.15,
                    23.1,
                    15.69,
                    19.81,
                    28.44,
                    15.48,
                    16.58,
                    10.34,
                    43.11,
                    13,
                    13.51,
                    18.71,
                    12.74,
                    13,
                    16.4,
                    20.53,
                    16.47,
                    26.59,
                    38.73,
                    24.27,
                    12.76,
                    30.06,
                    25.89,
                    13.27,
                    28.17,
                    12.9,
                    28.15,
                    11.59,
                    7.74,
                    30.14,
                    12.16,
                    13.42,
                    8.58,
                    13.42,
                    16.27,
                    10.09,
                    22.12,
                    24.01,
                    15.69,
                    15.53,
                    12.6,
                    32.83,
                    27.18,
                    22.67
                  ],
                  "yaxis": "y"
                }
              ],
              "layout": {
                "barmode": "group",
                "legend": {
                  "title": {
                    "text": "smoker"
                  },
                  "tracegroupgap": 0
                },
                "margin": {
                  "t": 60
                },
                "template": {
                  "data": {
                    "bar": [
                      {
                        "error_x": {
                          "color": "#2a3f5f"
                        },
                        "error_y": {
                          "color": "#2a3f5f"
                        },
                        "marker": {
                          "line": {
                            "color": "#E5ECF6",
                            "width": 0.5
                          },
                          "pattern": {
                            "fillmode": "overlay",
                            "size": 10,
                            "solidity": 0.2
                          }
                        },
                        "type": "bar"
                      }
                    ],
                    "barpolar": [
                      {
                        "marker": {
                          "line": {
                            "color": "#E5ECF6",
                            "width": 0.5
                          },
                          "pattern": {
                            "fillmode": "overlay",
                            "size": 10,
                            "solidity": 0.2
                          }
                        },
                        "type": "barpolar"
                      }
                    ],
                    "carpet": [
                      {
                        "aaxis": {
                          "endlinecolor": "#2a3f5f",
                          "gridcolor": "white",
                          "linecolor": "white",
                          "minorgridcolor": "white",
                          "startlinecolor": "#2a3f5f"
                        },
                        "baxis": {
                          "endlinecolor": "#2a3f5f",
                          "gridcolor": "white",
                          "linecolor": "white",
                          "minorgridcolor": "white",
                          "startlinecolor": "#2a3f5f"
                        },
                        "type": "carpet"
                      }
                    ],
                    "choropleth": [
                      {
                        "colorbar": {
                          "outlinewidth": 0,
                          "ticks": ""
                        },
                        "type": "choropleth"
                      }
                    ],
                    "contour": [
                      {
                        "colorbar": {
                          "outlinewidth": 0,
                          "ticks": ""
                        },
                        "colorscale": [
                          [
                            0,
                            "#0d0887"
                          ],
                          [
                            0.1111111111111111,
                            "#46039f"
                          ],
                          [
                            0.2222222222222222,
                            "#7201a8"
                          ],
                          [
                            0.3333333333333333,
                            "#9c179e"
                          ],
                          [
                            0.4444444444444444,
                            "#bd3786"
                          ],
                          [
                            0.5555555555555556,
                            "#d8576b"
                          ],
                          [
                            0.6666666666666666,
                            "#ed7953"
                          ],
                          [
                            0.7777777777777778,
                            "#fb9f3a"
                          ],
                          [
                            0.8888888888888888,
                            "#fdca26"
                          ],
                          [
                            1,
                            "#f0f921"
                          ]
                        ],
                        "type": "contour"
                      }
                    ],
                    "contourcarpet": [
                      {
                        "colorbar": {
                          "outlinewidth": 0,
                          "ticks": ""
                        },
                        "type": "contourcarpet"
                      }
                    ],
                    "heatmap": [
                      {
                        "colorbar": {
                          "outlinewidth": 0,
                          "ticks": ""
                        },
                        "colorscale": [
                          [
                            0,
                            "#0d0887"
                          ],
                          [
                            0.1111111111111111,
                            "#46039f"
                          ],
                          [
                            0.2222222222222222,
                            "#7201a8"
                          ],
                          [
                            0.3333333333333333,
                            "#9c179e"
                          ],
                          [
                            0.4444444444444444,
                            "#bd3786"
                          ],
                          [
                            0.5555555555555556,
                            "#d8576b"
                          ],
                          [
                            0.6666666666666666,
                            "#ed7953"
                          ],
                          [
                            0.7777777777777778,
                            "#fb9f3a"
                          ],
                          [
                            0.8888888888888888,
                            "#fdca26"
                          ],
                          [
                            1,
                            "#f0f921"
                          ]
                        ],
                        "type": "heatmap"
                      }
                    ],
                    "heatmapgl": [
                      {
                        "colorbar": {
                          "outlinewidth": 0,
                          "ticks": ""
                        },
                        "colorscale": [
                          [
                            0,
                            "#0d0887"
                          ],
                          [
                            0.1111111111111111,
                            "#46039f"
                          ],
                          [
                            0.2222222222222222,
                            "#7201a8"
                          ],
                          [
                            0.3333333333333333,
                            "#9c179e"
                          ],
                          [
                            0.4444444444444444,
                            "#bd3786"
                          ],
                          [
                            0.5555555555555556,
                            "#d8576b"
                          ],
                          [
                            0.6666666666666666,
                            "#ed7953"
                          ],
                          [
                            0.7777777777777778,
                            "#fb9f3a"
                          ],
                          [
                            0.8888888888888888,
                            "#fdca26"
                          ],
                          [
                            1,
                            "#f0f921"
                          ]
                        ],
                        "type": "heatmapgl"
                      }
                    ],
                    "histogram": [
                      {
                        "marker": {
                          "pattern": {
                            "fillmode": "overlay",
                            "size": 10,
                            "solidity": 0.2
                          }
                        },
                        "type": "histogram"
                      }
                    ],
                    "histogram2d": [
                      {
                        "colorbar": {
                          "outlinewidth": 0,
                          "ticks": ""
                        },
                        "colorscale": [
                          [
                            0,
                            "#0d0887"
                          ],
                          [
                            0.1111111111111111,
                            "#46039f"
                          ],
                          [
                            0.2222222222222222,
                            "#7201a8"
                          ],
                          [
                            0.3333333333333333,
                            "#9c179e"
                          ],
                          [
                            0.4444444444444444,
                            "#bd3786"
                          ],
                          [
                            0.5555555555555556,
                            "#d8576b"
                          ],
                          [
                            0.6666666666666666,
                            "#ed7953"
                          ],
                          [
                            0.7777777777777778,
                            "#fb9f3a"
                          ],
                          [
                            0.8888888888888888,
                            "#fdca26"
                          ],
                          [
                            1,
                            "#f0f921"
                          ]
                        ],
                        "type": "histogram2d"
                      }
                    ],
                    "histogram2dcontour": [
                      {
                        "colorbar": {
                          "outlinewidth": 0,
                          "ticks": ""
                        },
                        "colorscale": [
                          [
                            0,
                            "#0d0887"
                          ],
                          [
                            0.1111111111111111,
                            "#46039f"
                          ],
                          [
                            0.2222222222222222,
                            "#7201a8"
                          ],
                          [
                            0.3333333333333333,
                            "#9c179e"
                          ],
                          [
                            0.4444444444444444,
                            "#bd3786"
                          ],
                          [
                            0.5555555555555556,
                            "#d8576b"
                          ],
                          [
                            0.6666666666666666,
                            "#ed7953"
                          ],
                          [
                            0.7777777777777778,
                            "#fb9f3a"
                          ],
                          [
                            0.8888888888888888,
                            "#fdca26"
                          ],
                          [
                            1,
                            "#f0f921"
                          ]
                        ],
                        "type": "histogram2dcontour"
                      }
                    ],
                    "mesh3d": [
                      {
                        "colorbar": {
                          "outlinewidth": 0,
                          "ticks": ""
                        },
                        "type": "mesh3d"
                      }
                    ],
                    "parcoords": [
                      {
                        "line": {
                          "colorbar": {
                            "outlinewidth": 0,
                            "ticks": ""
                          }
                        },
                        "type": "parcoords"
                      }
                    ],
                    "pie": [
                      {
                        "automargin": true,
                        "type": "pie"
                      }
                    ],
                    "scatter": [
                      {
                        "fillpattern": {
                          "fillmode": "overlay",
                          "size": 10,
                          "solidity": 0.2
                        },
                        "type": "scatter"
                      }
                    ],
                    "scatter3d": [
                      {
                        "line": {
                          "colorbar": {
                            "outlinewidth": 0,
                            "ticks": ""
                          }
                        },
                        "marker": {
                          "colorbar": {
                            "outlinewidth": 0,
                            "ticks": ""
                          }
                        },
                        "type": "scatter3d"
                      }
                    ],
                    "scattercarpet": [
                      {
                        "marker": {
                          "colorbar": {
                            "outlinewidth": 0,
                            "ticks": ""
                          }
                        },
                        "type": "scattercarpet"
                      }
                    ],
                    "scattergeo": [
                      {
                        "marker": {
                          "colorbar": {
                            "outlinewidth": 0,
                            "ticks": ""
                          }
                        },
                        "type": "scattergeo"
                      }
                    ],
                    "scattergl": [
                      {
                        "marker": {
                          "colorbar": {
                            "outlinewidth": 0,
                            "ticks": ""
                          }
                        },
                        "type": "scattergl"
                      }
                    ],
                    "scattermapbox": [
                      {
                        "marker": {
                          "colorbar": {
                            "outlinewidth": 0,
                            "ticks": ""
                          }
                        },
                        "type": "scattermapbox"
                      }
                    ],
                    "scatterpolar": [
                      {
                        "marker": {
                          "colorbar": {
                            "outlinewidth": 0,
                            "ticks": ""
                          }
                        },
                        "type": "scatterpolar"
                      }
                    ],
                    "scatterpolargl": [
                      {
                        "marker": {
                          "colorbar": {
                            "outlinewidth": 0,
                            "ticks": ""
                          }
                        },
                        "type": "scatterpolargl"
                      }
                    ],
                    "scatterternary": [
                      {
                        "marker": {
                          "colorbar": {
                            "outlinewidth": 0,
                            "ticks": ""
                          }
                        },
                        "type": "scatterternary"
                      }
                    ],
                    "surface": [
                      {
                        "colorbar": {
                          "outlinewidth": 0,
                          "ticks": ""
                        },
                        "colorscale": [
                          [
                            0,
                            "#0d0887"
                          ],
                          [
                            0.1111111111111111,
                            "#46039f"
                          ],
                          [
                            0.2222222222222222,
                            "#7201a8"
                          ],
                          [
                            0.3333333333333333,
                            "#9c179e"
                          ],
                          [
                            0.4444444444444444,
                            "#bd3786"
                          ],
                          [
                            0.5555555555555556,
                            "#d8576b"
                          ],
                          [
                            0.6666666666666666,
                            "#ed7953"
                          ],
                          [
                            0.7777777777777778,
                            "#fb9f3a"
                          ],
                          [
                            0.8888888888888888,
                            "#fdca26"
                          ],
                          [
                            1,
                            "#f0f921"
                          ]
                        ],
                        "type": "surface"
                      }
                    ],
                    "table": [
                      {
                        "cells": {
                          "fill": {
                            "color": "#EBF0F8"
                          },
                          "line": {
                            "color": "white"
                          }
                        },
                        "header": {
                          "fill": {
                            "color": "#C8D4E3"
                          },
                          "line": {
                            "color": "white"
                          }
                        },
                        "type": "table"
                      }
                    ]
                  },
                  "layout": {
                    "annotationdefaults": {
                      "arrowcolor": "#2a3f5f",
                      "arrowhead": 0,
                      "arrowwidth": 1
                    },
                    "autotypenumbers": "strict",
                    "coloraxis": {
                      "colorbar": {
                        "outlinewidth": 0,
                        "ticks": ""
                      }
                    },
                    "colorscale": {
                      "diverging": [
                        [
                          0,
                          "#8e0152"
                        ],
                        [
                          0.1,
                          "#c51b7d"
                        ],
                        [
                          0.2,
                          "#de77ae"
                        ],
                        [
                          0.3,
                          "#f1b6da"
                        ],
                        [
                          0.4,
                          "#fde0ef"
                        ],
                        [
                          0.5,
                          "#f7f7f7"
                        ],
                        [
                          0.6,
                          "#e6f5d0"
                        ],
                        [
                          0.7,
                          "#b8e186"
                        ],
                        [
                          0.8,
                          "#7fbc41"
                        ],
                        [
                          0.9,
                          "#4d9221"
                        ],
                        [
                          1,
                          "#276419"
                        ]
                      ],
                      "sequential": [
                        [
                          0,
                          "#0d0887"
                        ],
                        [
                          0.1111111111111111,
                          "#46039f"
                        ],
                        [
                          0.2222222222222222,
                          "#7201a8"
                        ],
                        [
                          0.3333333333333333,
                          "#9c179e"
                        ],
                        [
                          0.4444444444444444,
                          "#bd3786"
                        ],
                        [
                          0.5555555555555556,
                          "#d8576b"
                        ],
                        [
                          0.6666666666666666,
                          "#ed7953"
                        ],
                        [
                          0.7777777777777778,
                          "#fb9f3a"
                        ],
                        [
                          0.8888888888888888,
                          "#fdca26"
                        ],
                        [
                          1,
                          "#f0f921"
                        ]
                      ],
                      "sequentialminus": [
                        [
                          0,
                          "#0d0887"
                        ],
                        [
                          0.1111111111111111,
                          "#46039f"
                        ],
                        [
                          0.2222222222222222,
                          "#7201a8"
                        ],
                        [
                          0.3333333333333333,
                          "#9c179e"
                        ],
                        [
                          0.4444444444444444,
                          "#bd3786"
                        ],
                        [
                          0.5555555555555556,
                          "#d8576b"
                        ],
                        [
                          0.6666666666666666,
                          "#ed7953"
                        ],
                        [
                          0.7777777777777778,
                          "#fb9f3a"
                        ],
                        [
                          0.8888888888888888,
                          "#fdca26"
                        ],
                        [
                          1,
                          "#f0f921"
                        ]
                      ]
                    },
                    "colorway": [
                      "#636efa",
                      "#EF553B",
                      "#00cc96",
                      "#ab63fa",
                      "#FFA15A",
                      "#19d3f3",
                      "#FF6692",
                      "#B6E880",
                      "#FF97FF",
                      "#FECB52"
                    ],
                    "font": {
                      "color": "#2a3f5f"
                    },
                    "geo": {
                      "bgcolor": "white",
                      "lakecolor": "white",
                      "landcolor": "#E5ECF6",
                      "showlakes": true,
                      "showland": true,
                      "subunitcolor": "white"
                    },
                    "hoverlabel": {
                      "align": "left"
                    },
                    "hovermode": "closest",
                    "mapbox": {
                      "style": "light"
                    },
                    "paper_bgcolor": "white",
                    "plot_bgcolor": "#E5ECF6",
                    "polar": {
                      "angularaxis": {
                        "gridcolor": "white",
                        "linecolor": "white",
                        "ticks": ""
                      },
                      "bgcolor": "#E5ECF6",
                      "radialaxis": {
                        "gridcolor": "white",
                        "linecolor": "white",
                        "ticks": ""
                      }
                    },
                    "scene": {
                      "xaxis": {
                        "backgroundcolor": "#E5ECF6",
                        "gridcolor": "white",
                        "gridwidth": 2,
                        "linecolor": "white",
                        "showbackground": true,
                        "ticks": "",
                        "zerolinecolor": "white"
                      },
                      "yaxis": {
                        "backgroundcolor": "#E5ECF6",
                        "gridcolor": "white",
                        "gridwidth": 2,
                        "linecolor": "white",
                        "showbackground": true,
                        "ticks": "",
                        "zerolinecolor": "white"
                      },
                      "zaxis": {
                        "backgroundcolor": "#E5ECF6",
                        "gridcolor": "white",
                        "gridwidth": 2,
                        "linecolor": "white",
                        "showbackground": true,
                        "ticks": "",
                        "zerolinecolor": "white"
                      }
                    },
                    "shapedefaults": {
                      "line": {
                        "color": "#2a3f5f"
                      }
                    },
                    "ternary": {
                      "aaxis": {
                        "gridcolor": "white",
                        "linecolor": "white",
                        "ticks": ""
                      },
                      "baxis": {
                        "gridcolor": "white",
                        "linecolor": "white",
                        "ticks": ""
                      },
                      "bgcolor": "#E5ECF6",
                      "caxis": {
                        "gridcolor": "white",
                        "linecolor": "white",
                        "ticks": ""
                      }
                    },
                    "title": {
                      "x": 0.05
                    },
                    "xaxis": {
                      "automargin": true,
                      "gridcolor": "white",
                      "linecolor": "white",
                      "ticks": "",
                      "title": {
                        "standoff": 15
                      },
                      "zerolinecolor": "white",
                      "zerolinewidth": 2
                    },
                    "yaxis": {
                      "automargin": true,
                      "gridcolor": "white",
                      "linecolor": "white",
                      "ticks": "",
                      "title": {
                        "standoff": 15
                      },
                      "zerolinecolor": "white",
                      "zerolinewidth": 2
                    }
                  }
                },
                "xaxis": {
                  "anchor": "y",
                  "domain": [
                    0,
                    1
                  ],
                  "title": {
                    "text": "sex"
                  }
                },
                "yaxis": {
                  "anchor": "x",
                  "domain": [
                    0,
                    1
                  ],
                  "title": {
                    "text": "total_bill"
                  }
                }
              }
            }
          },
          "metadata": {},
          "output_type": "display_data"
        }
      ],
      "source": [
        "df = px.data.tips()\n",
        "fig = px.bar(df, x=\"sex\", y=\"total_bill\", color=\"smoker\", barmode=\"group\")\n",
        "fig.show()"
      ]
    },
    {
      "cell_type": "code",
      "execution_count": 6,
      "metadata": {},
      "outputs": [
        {
          "data": {
            "application/vnd.plotly.v1+json": {
              "config": {
                "plotlyServerURL": "https://plot.ly"
              },
              "data": [
                {
                  "dimensions": [
                    {
                      "axis": {
                        "matches": true
                      },
                      "label": "sepal_width",
                      "values": [
                        3.5,
                        3,
                        3.2,
                        3.1,
                        3.6,
                        3.9,
                        3.4,
                        3.4,
                        2.9,
                        3.1,
                        3.7,
                        3.4,
                        3,
                        3,
                        4,
                        4.4,
                        3.9,
                        3.5,
                        3.8,
                        3.8,
                        3.4,
                        3.7,
                        3.6,
                        3.3,
                        3.4,
                        3,
                        3.4,
                        3.5,
                        3.4,
                        3.2,
                        3.1,
                        3.4,
                        4.1,
                        4.2,
                        3.1,
                        3.2,
                        3.5,
                        3.1,
                        3,
                        3.4,
                        3.5,
                        2.3,
                        3.2,
                        3.5,
                        3.8,
                        3,
                        3.8,
                        3.2,
                        3.7,
                        3.3
                      ]
                    },
                    {
                      "axis": {
                        "matches": true
                      },
                      "label": "sepal_length",
                      "values": [
                        5.1,
                        4.9,
                        4.7,
                        4.6,
                        5,
                        5.4,
                        4.6,
                        5,
                        4.4,
                        4.9,
                        5.4,
                        4.8,
                        4.8,
                        4.3,
                        5.8,
                        5.7,
                        5.4,
                        5.1,
                        5.7,
                        5.1,
                        5.4,
                        5.1,
                        4.6,
                        5.1,
                        4.8,
                        5,
                        5,
                        5.2,
                        5.2,
                        4.7,
                        4.8,
                        5.4,
                        5.2,
                        5.5,
                        4.9,
                        5,
                        5.5,
                        4.9,
                        4.4,
                        5.1,
                        5,
                        4.5,
                        4.4,
                        5,
                        5.1,
                        4.8,
                        5.1,
                        4.6,
                        5.3,
                        5
                      ]
                    },
                    {
                      "axis": {
                        "matches": true
                      },
                      "label": "petal_width",
                      "values": [
                        0.2,
                        0.2,
                        0.2,
                        0.2,
                        0.2,
                        0.4,
                        0.3,
                        0.2,
                        0.2,
                        0.1,
                        0.2,
                        0.2,
                        0.1,
                        0.1,
                        0.2,
                        0.4,
                        0.4,
                        0.3,
                        0.3,
                        0.3,
                        0.2,
                        0.4,
                        0.2,
                        0.5,
                        0.2,
                        0.2,
                        0.4,
                        0.2,
                        0.2,
                        0.2,
                        0.2,
                        0.4,
                        0.1,
                        0.2,
                        0.1,
                        0.2,
                        0.2,
                        0.1,
                        0.2,
                        0.2,
                        0.3,
                        0.3,
                        0.2,
                        0.6,
                        0.4,
                        0.3,
                        0.2,
                        0.2,
                        0.2,
                        0.2
                      ]
                    },
                    {
                      "axis": {
                        "matches": true
                      },
                      "label": "petal_length",
                      "values": [
                        1.4,
                        1.4,
                        1.3,
                        1.5,
                        1.4,
                        1.7,
                        1.4,
                        1.5,
                        1.4,
                        1.5,
                        1.5,
                        1.6,
                        1.4,
                        1.1,
                        1.2,
                        1.5,
                        1.3,
                        1.4,
                        1.7,
                        1.5,
                        1.7,
                        1.5,
                        1,
                        1.7,
                        1.9,
                        1.6,
                        1.6,
                        1.5,
                        1.4,
                        1.6,
                        1.6,
                        1.5,
                        1.5,
                        1.4,
                        1.5,
                        1.2,
                        1.3,
                        1.5,
                        1.3,
                        1.5,
                        1.3,
                        1.3,
                        1.3,
                        1.6,
                        1.9,
                        1.4,
                        1.6,
                        1.4,
                        1.5,
                        1.4
                      ]
                    }
                  ],
                  "hovertemplate": "species=setosa<br>%{xaxis.title.text}=%{x}<br>%{yaxis.title.text}=%{y}<extra></extra>",
                  "legendgroup": "setosa",
                  "marker": {
                    "color": "#636efa",
                    "symbol": "circle"
                  },
                  "name": "setosa",
                  "showlegend": true,
                  "type": "splom"
                },
                {
                  "dimensions": [
                    {
                      "axis": {
                        "matches": true
                      },
                      "label": "sepal_width",
                      "values": [
                        3.2,
                        3.2,
                        3.1,
                        2.3,
                        2.8,
                        2.8,
                        3.3,
                        2.4,
                        2.9,
                        2.7,
                        2,
                        3,
                        2.2,
                        2.9,
                        2.9,
                        3.1,
                        3,
                        2.7,
                        2.2,
                        2.5,
                        3.2,
                        2.8,
                        2.5,
                        2.8,
                        2.9,
                        3,
                        2.8,
                        3,
                        2.9,
                        2.6,
                        2.4,
                        2.4,
                        2.7,
                        2.7,
                        3,
                        3.4,
                        3.1,
                        2.3,
                        3,
                        2.5,
                        2.6,
                        3,
                        2.6,
                        2.3,
                        2.7,
                        3,
                        2.9,
                        2.9,
                        2.5,
                        2.8
                      ]
                    },
                    {
                      "axis": {
                        "matches": true
                      },
                      "label": "sepal_length",
                      "values": [
                        7,
                        6.4,
                        6.9,
                        5.5,
                        6.5,
                        5.7,
                        6.3,
                        4.9,
                        6.6,
                        5.2,
                        5,
                        5.9,
                        6,
                        6.1,
                        5.6,
                        6.7,
                        5.6,
                        5.8,
                        6.2,
                        5.6,
                        5.9,
                        6.1,
                        6.3,
                        6.1,
                        6.4,
                        6.6,
                        6.8,
                        6.7,
                        6,
                        5.7,
                        5.5,
                        5.5,
                        5.8,
                        6,
                        5.4,
                        6,
                        6.7,
                        6.3,
                        5.6,
                        5.5,
                        5.5,
                        6.1,
                        5.8,
                        5,
                        5.6,
                        5.7,
                        5.7,
                        6.2,
                        5.1,
                        5.7
                      ]
                    },
                    {
                      "axis": {
                        "matches": true
                      },
                      "label": "petal_width",
                      "values": [
                        1.4,
                        1.5,
                        1.5,
                        1.3,
                        1.5,
                        1.3,
                        1.6,
                        1,
                        1.3,
                        1.4,
                        1,
                        1.5,
                        1,
                        1.4,
                        1.3,
                        1.4,
                        1.5,
                        1,
                        1.5,
                        1.1,
                        1.8,
                        1.3,
                        1.5,
                        1.2,
                        1.3,
                        1.4,
                        1.4,
                        1.7,
                        1.5,
                        1,
                        1.1,
                        1,
                        1.2,
                        1.6,
                        1.5,
                        1.6,
                        1.5,
                        1.3,
                        1.3,
                        1.3,
                        1.2,
                        1.4,
                        1.2,
                        1,
                        1.3,
                        1.2,
                        1.3,
                        1.3,
                        1.1,
                        1.3
                      ]
                    },
                    {
                      "axis": {
                        "matches": true
                      },
                      "label": "petal_length",
                      "values": [
                        4.7,
                        4.5,
                        4.9,
                        4,
                        4.6,
                        4.5,
                        4.7,
                        3.3,
                        4.6,
                        3.9,
                        3.5,
                        4.2,
                        4,
                        4.7,
                        3.6,
                        4.4,
                        4.5,
                        4.1,
                        4.5,
                        3.9,
                        4.8,
                        4,
                        4.9,
                        4.7,
                        4.3,
                        4.4,
                        4.8,
                        5,
                        4.5,
                        3.5,
                        3.8,
                        3.7,
                        3.9,
                        5.1,
                        4.5,
                        4.5,
                        4.7,
                        4.4,
                        4.1,
                        4,
                        4.4,
                        4.6,
                        4,
                        3.3,
                        4.2,
                        4.2,
                        4.2,
                        4.3,
                        3,
                        4.1
                      ]
                    }
                  ],
                  "hovertemplate": "species=versicolor<br>%{xaxis.title.text}=%{x}<br>%{yaxis.title.text}=%{y}<extra></extra>",
                  "legendgroup": "versicolor",
                  "marker": {
                    "color": "#EF553B",
                    "symbol": "circle"
                  },
                  "name": "versicolor",
                  "showlegend": true,
                  "type": "splom"
                },
                {
                  "dimensions": [
                    {
                      "axis": {
                        "matches": true
                      },
                      "label": "sepal_width",
                      "values": [
                        3.3,
                        2.7,
                        3,
                        2.9,
                        3,
                        3,
                        2.5,
                        2.9,
                        2.5,
                        3.6,
                        3.2,
                        2.7,
                        3,
                        2.5,
                        2.8,
                        3.2,
                        3,
                        3.8,
                        2.6,
                        2.2,
                        3.2,
                        2.8,
                        2.8,
                        2.7,
                        3.3,
                        3.2,
                        2.8,
                        3,
                        2.8,
                        3,
                        2.8,
                        3.8,
                        2.8,
                        2.8,
                        2.6,
                        3,
                        3.4,
                        3.1,
                        3,
                        3.1,
                        3.1,
                        3.1,
                        2.7,
                        3.2,
                        3.3,
                        3,
                        2.5,
                        3,
                        3.4,
                        3
                      ]
                    },
                    {
                      "axis": {
                        "matches": true
                      },
                      "label": "sepal_length",
                      "values": [
                        6.3,
                        5.8,
                        7.1,
                        6.3,
                        6.5,
                        7.6,
                        4.9,
                        7.3,
                        6.7,
                        7.2,
                        6.5,
                        6.4,
                        6.8,
                        5.7,
                        5.8,
                        6.4,
                        6.5,
                        7.7,
                        7.7,
                        6,
                        6.9,
                        5.6,
                        7.7,
                        6.3,
                        6.7,
                        7.2,
                        6.2,
                        6.1,
                        6.4,
                        7.2,
                        7.4,
                        7.9,
                        6.4,
                        6.3,
                        6.1,
                        7.7,
                        6.3,
                        6.4,
                        6,
                        6.9,
                        6.7,
                        6.9,
                        5.8,
                        6.8,
                        6.7,
                        6.7,
                        6.3,
                        6.5,
                        6.2,
                        5.9
                      ]
                    },
                    {
                      "axis": {
                        "matches": true
                      },
                      "label": "petal_width",
                      "values": [
                        2.5,
                        1.9,
                        2.1,
                        1.8,
                        2.2,
                        2.1,
                        1.7,
                        1.8,
                        1.8,
                        2.5,
                        2,
                        1.9,
                        2.1,
                        2,
                        2.4,
                        2.3,
                        1.8,
                        2.2,
                        2.3,
                        1.5,
                        2.3,
                        2,
                        2,
                        1.8,
                        2.1,
                        1.8,
                        1.8,
                        1.8,
                        2.1,
                        1.6,
                        1.9,
                        2,
                        2.2,
                        1.5,
                        1.4,
                        2.3,
                        2.4,
                        1.8,
                        1.8,
                        2.1,
                        2.4,
                        2.3,
                        1.9,
                        2.3,
                        2.5,
                        2.3,
                        1.9,
                        2,
                        2.3,
                        1.8
                      ]
                    },
                    {
                      "axis": {
                        "matches": true
                      },
                      "label": "petal_length",
                      "values": [
                        6,
                        5.1,
                        5.9,
                        5.6,
                        5.8,
                        6.6,
                        4.5,
                        6.3,
                        5.8,
                        6.1,
                        5.1,
                        5.3,
                        5.5,
                        5,
                        5.1,
                        5.3,
                        5.5,
                        6.7,
                        6.9,
                        5,
                        5.7,
                        4.9,
                        6.7,
                        4.9,
                        5.7,
                        6,
                        4.8,
                        4.9,
                        5.6,
                        5.8,
                        6.1,
                        6.4,
                        5.6,
                        5.1,
                        5.6,
                        6.1,
                        5.6,
                        5.5,
                        4.8,
                        5.4,
                        5.6,
                        5.1,
                        5.1,
                        5.9,
                        5.7,
                        5.2,
                        5,
                        5.2,
                        5.4,
                        5.1
                      ]
                    }
                  ],
                  "hovertemplate": "species=virginica<br>%{xaxis.title.text}=%{x}<br>%{yaxis.title.text}=%{y}<extra></extra>",
                  "legendgroup": "virginica",
                  "marker": {
                    "color": "#00cc96",
                    "symbol": "circle"
                  },
                  "name": "virginica",
                  "showlegend": true,
                  "type": "splom"
                }
              ],
              "layout": {
                "dragmode": "select",
                "legend": {
                  "title": {
                    "text": "species"
                  },
                  "tracegroupgap": 0
                },
                "margin": {
                  "t": 60
                },
                "template": {
                  "data": {
                    "bar": [
                      {
                        "error_x": {
                          "color": "#2a3f5f"
                        },
                        "error_y": {
                          "color": "#2a3f5f"
                        },
                        "marker": {
                          "line": {
                            "color": "#E5ECF6",
                            "width": 0.5
                          },
                          "pattern": {
                            "fillmode": "overlay",
                            "size": 10,
                            "solidity": 0.2
                          }
                        },
                        "type": "bar"
                      }
                    ],
                    "barpolar": [
                      {
                        "marker": {
                          "line": {
                            "color": "#E5ECF6",
                            "width": 0.5
                          },
                          "pattern": {
                            "fillmode": "overlay",
                            "size": 10,
                            "solidity": 0.2
                          }
                        },
                        "type": "barpolar"
                      }
                    ],
                    "carpet": [
                      {
                        "aaxis": {
                          "endlinecolor": "#2a3f5f",
                          "gridcolor": "white",
                          "linecolor": "white",
                          "minorgridcolor": "white",
                          "startlinecolor": "#2a3f5f"
                        },
                        "baxis": {
                          "endlinecolor": "#2a3f5f",
                          "gridcolor": "white",
                          "linecolor": "white",
                          "minorgridcolor": "white",
                          "startlinecolor": "#2a3f5f"
                        },
                        "type": "carpet"
                      }
                    ],
                    "choropleth": [
                      {
                        "colorbar": {
                          "outlinewidth": 0,
                          "ticks": ""
                        },
                        "type": "choropleth"
                      }
                    ],
                    "contour": [
                      {
                        "colorbar": {
                          "outlinewidth": 0,
                          "ticks": ""
                        },
                        "colorscale": [
                          [
                            0,
                            "#0d0887"
                          ],
                          [
                            0.1111111111111111,
                            "#46039f"
                          ],
                          [
                            0.2222222222222222,
                            "#7201a8"
                          ],
                          [
                            0.3333333333333333,
                            "#9c179e"
                          ],
                          [
                            0.4444444444444444,
                            "#bd3786"
                          ],
                          [
                            0.5555555555555556,
                            "#d8576b"
                          ],
                          [
                            0.6666666666666666,
                            "#ed7953"
                          ],
                          [
                            0.7777777777777778,
                            "#fb9f3a"
                          ],
                          [
                            0.8888888888888888,
                            "#fdca26"
                          ],
                          [
                            1,
                            "#f0f921"
                          ]
                        ],
                        "type": "contour"
                      }
                    ],
                    "contourcarpet": [
                      {
                        "colorbar": {
                          "outlinewidth": 0,
                          "ticks": ""
                        },
                        "type": "contourcarpet"
                      }
                    ],
                    "heatmap": [
                      {
                        "colorbar": {
                          "outlinewidth": 0,
                          "ticks": ""
                        },
                        "colorscale": [
                          [
                            0,
                            "#0d0887"
                          ],
                          [
                            0.1111111111111111,
                            "#46039f"
                          ],
                          [
                            0.2222222222222222,
                            "#7201a8"
                          ],
                          [
                            0.3333333333333333,
                            "#9c179e"
                          ],
                          [
                            0.4444444444444444,
                            "#bd3786"
                          ],
                          [
                            0.5555555555555556,
                            "#d8576b"
                          ],
                          [
                            0.6666666666666666,
                            "#ed7953"
                          ],
                          [
                            0.7777777777777778,
                            "#fb9f3a"
                          ],
                          [
                            0.8888888888888888,
                            "#fdca26"
                          ],
                          [
                            1,
                            "#f0f921"
                          ]
                        ],
                        "type": "heatmap"
                      }
                    ],
                    "heatmapgl": [
                      {
                        "colorbar": {
                          "outlinewidth": 0,
                          "ticks": ""
                        },
                        "colorscale": [
                          [
                            0,
                            "#0d0887"
                          ],
                          [
                            0.1111111111111111,
                            "#46039f"
                          ],
                          [
                            0.2222222222222222,
                            "#7201a8"
                          ],
                          [
                            0.3333333333333333,
                            "#9c179e"
                          ],
                          [
                            0.4444444444444444,
                            "#bd3786"
                          ],
                          [
                            0.5555555555555556,
                            "#d8576b"
                          ],
                          [
                            0.6666666666666666,
                            "#ed7953"
                          ],
                          [
                            0.7777777777777778,
                            "#fb9f3a"
                          ],
                          [
                            0.8888888888888888,
                            "#fdca26"
                          ],
                          [
                            1,
                            "#f0f921"
                          ]
                        ],
                        "type": "heatmapgl"
                      }
                    ],
                    "histogram": [
                      {
                        "marker": {
                          "pattern": {
                            "fillmode": "overlay",
                            "size": 10,
                            "solidity": 0.2
                          }
                        },
                        "type": "histogram"
                      }
                    ],
                    "histogram2d": [
                      {
                        "colorbar": {
                          "outlinewidth": 0,
                          "ticks": ""
                        },
                        "colorscale": [
                          [
                            0,
                            "#0d0887"
                          ],
                          [
                            0.1111111111111111,
                            "#46039f"
                          ],
                          [
                            0.2222222222222222,
                            "#7201a8"
                          ],
                          [
                            0.3333333333333333,
                            "#9c179e"
                          ],
                          [
                            0.4444444444444444,
                            "#bd3786"
                          ],
                          [
                            0.5555555555555556,
                            "#d8576b"
                          ],
                          [
                            0.6666666666666666,
                            "#ed7953"
                          ],
                          [
                            0.7777777777777778,
                            "#fb9f3a"
                          ],
                          [
                            0.8888888888888888,
                            "#fdca26"
                          ],
                          [
                            1,
                            "#f0f921"
                          ]
                        ],
                        "type": "histogram2d"
                      }
                    ],
                    "histogram2dcontour": [
                      {
                        "colorbar": {
                          "outlinewidth": 0,
                          "ticks": ""
                        },
                        "colorscale": [
                          [
                            0,
                            "#0d0887"
                          ],
                          [
                            0.1111111111111111,
                            "#46039f"
                          ],
                          [
                            0.2222222222222222,
                            "#7201a8"
                          ],
                          [
                            0.3333333333333333,
                            "#9c179e"
                          ],
                          [
                            0.4444444444444444,
                            "#bd3786"
                          ],
                          [
                            0.5555555555555556,
                            "#d8576b"
                          ],
                          [
                            0.6666666666666666,
                            "#ed7953"
                          ],
                          [
                            0.7777777777777778,
                            "#fb9f3a"
                          ],
                          [
                            0.8888888888888888,
                            "#fdca26"
                          ],
                          [
                            1,
                            "#f0f921"
                          ]
                        ],
                        "type": "histogram2dcontour"
                      }
                    ],
                    "mesh3d": [
                      {
                        "colorbar": {
                          "outlinewidth": 0,
                          "ticks": ""
                        },
                        "type": "mesh3d"
                      }
                    ],
                    "parcoords": [
                      {
                        "line": {
                          "colorbar": {
                            "outlinewidth": 0,
                            "ticks": ""
                          }
                        },
                        "type": "parcoords"
                      }
                    ],
                    "pie": [
                      {
                        "automargin": true,
                        "type": "pie"
                      }
                    ],
                    "scatter": [
                      {
                        "fillpattern": {
                          "fillmode": "overlay",
                          "size": 10,
                          "solidity": 0.2
                        },
                        "type": "scatter"
                      }
                    ],
                    "scatter3d": [
                      {
                        "line": {
                          "colorbar": {
                            "outlinewidth": 0,
                            "ticks": ""
                          }
                        },
                        "marker": {
                          "colorbar": {
                            "outlinewidth": 0,
                            "ticks": ""
                          }
                        },
                        "type": "scatter3d"
                      }
                    ],
                    "scattercarpet": [
                      {
                        "marker": {
                          "colorbar": {
                            "outlinewidth": 0,
                            "ticks": ""
                          }
                        },
                        "type": "scattercarpet"
                      }
                    ],
                    "scattergeo": [
                      {
                        "marker": {
                          "colorbar": {
                            "outlinewidth": 0,
                            "ticks": ""
                          }
                        },
                        "type": "scattergeo"
                      }
                    ],
                    "scattergl": [
                      {
                        "marker": {
                          "colorbar": {
                            "outlinewidth": 0,
                            "ticks": ""
                          }
                        },
                        "type": "scattergl"
                      }
                    ],
                    "scattermapbox": [
                      {
                        "marker": {
                          "colorbar": {
                            "outlinewidth": 0,
                            "ticks": ""
                          }
                        },
                        "type": "scattermapbox"
                      }
                    ],
                    "scatterpolar": [
                      {
                        "marker": {
                          "colorbar": {
                            "outlinewidth": 0,
                            "ticks": ""
                          }
                        },
                        "type": "scatterpolar"
                      }
                    ],
                    "scatterpolargl": [
                      {
                        "marker": {
                          "colorbar": {
                            "outlinewidth": 0,
                            "ticks": ""
                          }
                        },
                        "type": "scatterpolargl"
                      }
                    ],
                    "scatterternary": [
                      {
                        "marker": {
                          "colorbar": {
                            "outlinewidth": 0,
                            "ticks": ""
                          }
                        },
                        "type": "scatterternary"
                      }
                    ],
                    "surface": [
                      {
                        "colorbar": {
                          "outlinewidth": 0,
                          "ticks": ""
                        },
                        "colorscale": [
                          [
                            0,
                            "#0d0887"
                          ],
                          [
                            0.1111111111111111,
                            "#46039f"
                          ],
                          [
                            0.2222222222222222,
                            "#7201a8"
                          ],
                          [
                            0.3333333333333333,
                            "#9c179e"
                          ],
                          [
                            0.4444444444444444,
                            "#bd3786"
                          ],
                          [
                            0.5555555555555556,
                            "#d8576b"
                          ],
                          [
                            0.6666666666666666,
                            "#ed7953"
                          ],
                          [
                            0.7777777777777778,
                            "#fb9f3a"
                          ],
                          [
                            0.8888888888888888,
                            "#fdca26"
                          ],
                          [
                            1,
                            "#f0f921"
                          ]
                        ],
                        "type": "surface"
                      }
                    ],
                    "table": [
                      {
                        "cells": {
                          "fill": {
                            "color": "#EBF0F8"
                          },
                          "line": {
                            "color": "white"
                          }
                        },
                        "header": {
                          "fill": {
                            "color": "#C8D4E3"
                          },
                          "line": {
                            "color": "white"
                          }
                        },
                        "type": "table"
                      }
                    ]
                  },
                  "layout": {
                    "annotationdefaults": {
                      "arrowcolor": "#2a3f5f",
                      "arrowhead": 0,
                      "arrowwidth": 1
                    },
                    "autotypenumbers": "strict",
                    "coloraxis": {
                      "colorbar": {
                        "outlinewidth": 0,
                        "ticks": ""
                      }
                    },
                    "colorscale": {
                      "diverging": [
                        [
                          0,
                          "#8e0152"
                        ],
                        [
                          0.1,
                          "#c51b7d"
                        ],
                        [
                          0.2,
                          "#de77ae"
                        ],
                        [
                          0.3,
                          "#f1b6da"
                        ],
                        [
                          0.4,
                          "#fde0ef"
                        ],
                        [
                          0.5,
                          "#f7f7f7"
                        ],
                        [
                          0.6,
                          "#e6f5d0"
                        ],
                        [
                          0.7,
                          "#b8e186"
                        ],
                        [
                          0.8,
                          "#7fbc41"
                        ],
                        [
                          0.9,
                          "#4d9221"
                        ],
                        [
                          1,
                          "#276419"
                        ]
                      ],
                      "sequential": [
                        [
                          0,
                          "#0d0887"
                        ],
                        [
                          0.1111111111111111,
                          "#46039f"
                        ],
                        [
                          0.2222222222222222,
                          "#7201a8"
                        ],
                        [
                          0.3333333333333333,
                          "#9c179e"
                        ],
                        [
                          0.4444444444444444,
                          "#bd3786"
                        ],
                        [
                          0.5555555555555556,
                          "#d8576b"
                        ],
                        [
                          0.6666666666666666,
                          "#ed7953"
                        ],
                        [
                          0.7777777777777778,
                          "#fb9f3a"
                        ],
                        [
                          0.8888888888888888,
                          "#fdca26"
                        ],
                        [
                          1,
                          "#f0f921"
                        ]
                      ],
                      "sequentialminus": [
                        [
                          0,
                          "#0d0887"
                        ],
                        [
                          0.1111111111111111,
                          "#46039f"
                        ],
                        [
                          0.2222222222222222,
                          "#7201a8"
                        ],
                        [
                          0.3333333333333333,
                          "#9c179e"
                        ],
                        [
                          0.4444444444444444,
                          "#bd3786"
                        ],
                        [
                          0.5555555555555556,
                          "#d8576b"
                        ],
                        [
                          0.6666666666666666,
                          "#ed7953"
                        ],
                        [
                          0.7777777777777778,
                          "#fb9f3a"
                        ],
                        [
                          0.8888888888888888,
                          "#fdca26"
                        ],
                        [
                          1,
                          "#f0f921"
                        ]
                      ]
                    },
                    "colorway": [
                      "#636efa",
                      "#EF553B",
                      "#00cc96",
                      "#ab63fa",
                      "#FFA15A",
                      "#19d3f3",
                      "#FF6692",
                      "#B6E880",
                      "#FF97FF",
                      "#FECB52"
                    ],
                    "font": {
                      "color": "#2a3f5f"
                    },
                    "geo": {
                      "bgcolor": "white",
                      "lakecolor": "white",
                      "landcolor": "#E5ECF6",
                      "showlakes": true,
                      "showland": true,
                      "subunitcolor": "white"
                    },
                    "hoverlabel": {
                      "align": "left"
                    },
                    "hovermode": "closest",
                    "mapbox": {
                      "style": "light"
                    },
                    "paper_bgcolor": "white",
                    "plot_bgcolor": "#E5ECF6",
                    "polar": {
                      "angularaxis": {
                        "gridcolor": "white",
                        "linecolor": "white",
                        "ticks": ""
                      },
                      "bgcolor": "#E5ECF6",
                      "radialaxis": {
                        "gridcolor": "white",
                        "linecolor": "white",
                        "ticks": ""
                      }
                    },
                    "scene": {
                      "xaxis": {
                        "backgroundcolor": "#E5ECF6",
                        "gridcolor": "white",
                        "gridwidth": 2,
                        "linecolor": "white",
                        "showbackground": true,
                        "ticks": "",
                        "zerolinecolor": "white"
                      },
                      "yaxis": {
                        "backgroundcolor": "#E5ECF6",
                        "gridcolor": "white",
                        "gridwidth": 2,
                        "linecolor": "white",
                        "showbackground": true,
                        "ticks": "",
                        "zerolinecolor": "white"
                      },
                      "zaxis": {
                        "backgroundcolor": "#E5ECF6",
                        "gridcolor": "white",
                        "gridwidth": 2,
                        "linecolor": "white",
                        "showbackground": true,
                        "ticks": "",
                        "zerolinecolor": "white"
                      }
                    },
                    "shapedefaults": {
                      "line": {
                        "color": "#2a3f5f"
                      }
                    },
                    "ternary": {
                      "aaxis": {
                        "gridcolor": "white",
                        "linecolor": "white",
                        "ticks": ""
                      },
                      "baxis": {
                        "gridcolor": "white",
                        "linecolor": "white",
                        "ticks": ""
                      },
                      "bgcolor": "#E5ECF6",
                      "caxis": {
                        "gridcolor": "white",
                        "linecolor": "white",
                        "ticks": ""
                      }
                    },
                    "title": {
                      "x": 0.05
                    },
                    "xaxis": {
                      "automargin": true,
                      "gridcolor": "white",
                      "linecolor": "white",
                      "ticks": "",
                      "title": {
                        "standoff": 15
                      },
                      "zerolinecolor": "white",
                      "zerolinewidth": 2
                    },
                    "yaxis": {
                      "automargin": true,
                      "gridcolor": "white",
                      "linecolor": "white",
                      "ticks": "",
                      "title": {
                        "standoff": 15
                      },
                      "zerolinecolor": "white",
                      "zerolinewidth": 2
                    }
                  }
                }
              }
            }
          },
          "metadata": {},
          "output_type": "display_data"
        }
      ],
      "source": [
        "df = px.data.iris()\n",
        "fig = px.scatter_matrix(\n",
        "    df,\n",
        "    dimensions=[\"sepal_width\", \"sepal_length\", \"petal_width\", \"petal_length\"],\n",
        "    color=\"species\",\n",
        ")\n",
        "fig.show()"
      ]
    },
    {
      "cell_type": "code",
      "execution_count": 7,
      "metadata": {},
      "outputs": [
        {
          "data": {
            "application/vnd.plotly.v1+json": {
              "config": {
                "plotlyServerURL": "https://plot.ly"
              },
              "data": [
                {
                  "dimensions": [
                    {
                      "label": "Sepal Length",
                      "values": [
                        5.1,
                        4.9,
                        4.7,
                        4.6,
                        5,
                        5.4,
                        4.6,
                        5,
                        4.4,
                        4.9,
                        5.4,
                        4.8,
                        4.8,
                        4.3,
                        5.8,
                        5.7,
                        5.4,
                        5.1,
                        5.7,
                        5.1,
                        5.4,
                        5.1,
                        4.6,
                        5.1,
                        4.8,
                        5,
                        5,
                        5.2,
                        5.2,
                        4.7,
                        4.8,
                        5.4,
                        5.2,
                        5.5,
                        4.9,
                        5,
                        5.5,
                        4.9,
                        4.4,
                        5.1,
                        5,
                        4.5,
                        4.4,
                        5,
                        5.1,
                        4.8,
                        5.1,
                        4.6,
                        5.3,
                        5,
                        7,
                        6.4,
                        6.9,
                        5.5,
                        6.5,
                        5.7,
                        6.3,
                        4.9,
                        6.6,
                        5.2,
                        5,
                        5.9,
                        6,
                        6.1,
                        5.6,
                        6.7,
                        5.6,
                        5.8,
                        6.2,
                        5.6,
                        5.9,
                        6.1,
                        6.3,
                        6.1,
                        6.4,
                        6.6,
                        6.8,
                        6.7,
                        6,
                        5.7,
                        5.5,
                        5.5,
                        5.8,
                        6,
                        5.4,
                        6,
                        6.7,
                        6.3,
                        5.6,
                        5.5,
                        5.5,
                        6.1,
                        5.8,
                        5,
                        5.6,
                        5.7,
                        5.7,
                        6.2,
                        5.1,
                        5.7,
                        6.3,
                        5.8,
                        7.1,
                        6.3,
                        6.5,
                        7.6,
                        4.9,
                        7.3,
                        6.7,
                        7.2,
                        6.5,
                        6.4,
                        6.8,
                        5.7,
                        5.8,
                        6.4,
                        6.5,
                        7.7,
                        7.7,
                        6,
                        6.9,
                        5.6,
                        7.7,
                        6.3,
                        6.7,
                        7.2,
                        6.2,
                        6.1,
                        6.4,
                        7.2,
                        7.4,
                        7.9,
                        6.4,
                        6.3,
                        6.1,
                        7.7,
                        6.3,
                        6.4,
                        6,
                        6.9,
                        6.7,
                        6.9,
                        5.8,
                        6.8,
                        6.7,
                        6.7,
                        6.3,
                        6.5,
                        6.2,
                        5.9
                      ]
                    },
                    {
                      "label": "Sepal Width",
                      "values": [
                        3.5,
                        3,
                        3.2,
                        3.1,
                        3.6,
                        3.9,
                        3.4,
                        3.4,
                        2.9,
                        3.1,
                        3.7,
                        3.4,
                        3,
                        3,
                        4,
                        4.4,
                        3.9,
                        3.5,
                        3.8,
                        3.8,
                        3.4,
                        3.7,
                        3.6,
                        3.3,
                        3.4,
                        3,
                        3.4,
                        3.5,
                        3.4,
                        3.2,
                        3.1,
                        3.4,
                        4.1,
                        4.2,
                        3.1,
                        3.2,
                        3.5,
                        3.1,
                        3,
                        3.4,
                        3.5,
                        2.3,
                        3.2,
                        3.5,
                        3.8,
                        3,
                        3.8,
                        3.2,
                        3.7,
                        3.3,
                        3.2,
                        3.2,
                        3.1,
                        2.3,
                        2.8,
                        2.8,
                        3.3,
                        2.4,
                        2.9,
                        2.7,
                        2,
                        3,
                        2.2,
                        2.9,
                        2.9,
                        3.1,
                        3,
                        2.7,
                        2.2,
                        2.5,
                        3.2,
                        2.8,
                        2.5,
                        2.8,
                        2.9,
                        3,
                        2.8,
                        3,
                        2.9,
                        2.6,
                        2.4,
                        2.4,
                        2.7,
                        2.7,
                        3,
                        3.4,
                        3.1,
                        2.3,
                        3,
                        2.5,
                        2.6,
                        3,
                        2.6,
                        2.3,
                        2.7,
                        3,
                        2.9,
                        2.9,
                        2.5,
                        2.8,
                        3.3,
                        2.7,
                        3,
                        2.9,
                        3,
                        3,
                        2.5,
                        2.9,
                        2.5,
                        3.6,
                        3.2,
                        2.7,
                        3,
                        2.5,
                        2.8,
                        3.2,
                        3,
                        3.8,
                        2.6,
                        2.2,
                        3.2,
                        2.8,
                        2.8,
                        2.7,
                        3.3,
                        3.2,
                        2.8,
                        3,
                        2.8,
                        3,
                        2.8,
                        3.8,
                        2.8,
                        2.8,
                        2.6,
                        3,
                        3.4,
                        3.1,
                        3,
                        3.1,
                        3.1,
                        3.1,
                        2.7,
                        3.2,
                        3.3,
                        3,
                        2.5,
                        3,
                        3.4,
                        3
                      ]
                    },
                    {
                      "label": "Petal Length",
                      "values": [
                        1.4,
                        1.4,
                        1.3,
                        1.5,
                        1.4,
                        1.7,
                        1.4,
                        1.5,
                        1.4,
                        1.5,
                        1.5,
                        1.6,
                        1.4,
                        1.1,
                        1.2,
                        1.5,
                        1.3,
                        1.4,
                        1.7,
                        1.5,
                        1.7,
                        1.5,
                        1,
                        1.7,
                        1.9,
                        1.6,
                        1.6,
                        1.5,
                        1.4,
                        1.6,
                        1.6,
                        1.5,
                        1.5,
                        1.4,
                        1.5,
                        1.2,
                        1.3,
                        1.5,
                        1.3,
                        1.5,
                        1.3,
                        1.3,
                        1.3,
                        1.6,
                        1.9,
                        1.4,
                        1.6,
                        1.4,
                        1.5,
                        1.4,
                        4.7,
                        4.5,
                        4.9,
                        4,
                        4.6,
                        4.5,
                        4.7,
                        3.3,
                        4.6,
                        3.9,
                        3.5,
                        4.2,
                        4,
                        4.7,
                        3.6,
                        4.4,
                        4.5,
                        4.1,
                        4.5,
                        3.9,
                        4.8,
                        4,
                        4.9,
                        4.7,
                        4.3,
                        4.4,
                        4.8,
                        5,
                        4.5,
                        3.5,
                        3.8,
                        3.7,
                        3.9,
                        5.1,
                        4.5,
                        4.5,
                        4.7,
                        4.4,
                        4.1,
                        4,
                        4.4,
                        4.6,
                        4,
                        3.3,
                        4.2,
                        4.2,
                        4.2,
                        4.3,
                        3,
                        4.1,
                        6,
                        5.1,
                        5.9,
                        5.6,
                        5.8,
                        6.6,
                        4.5,
                        6.3,
                        5.8,
                        6.1,
                        5.1,
                        5.3,
                        5.5,
                        5,
                        5.1,
                        5.3,
                        5.5,
                        6.7,
                        6.9,
                        5,
                        5.7,
                        4.9,
                        6.7,
                        4.9,
                        5.7,
                        6,
                        4.8,
                        4.9,
                        5.6,
                        5.8,
                        6.1,
                        6.4,
                        5.6,
                        5.1,
                        5.6,
                        6.1,
                        5.6,
                        5.5,
                        4.8,
                        5.4,
                        5.6,
                        5.1,
                        5.1,
                        5.9,
                        5.7,
                        5.2,
                        5,
                        5.2,
                        5.4,
                        5.1
                      ]
                    },
                    {
                      "label": "Petal Width",
                      "values": [
                        0.2,
                        0.2,
                        0.2,
                        0.2,
                        0.2,
                        0.4,
                        0.3,
                        0.2,
                        0.2,
                        0.1,
                        0.2,
                        0.2,
                        0.1,
                        0.1,
                        0.2,
                        0.4,
                        0.4,
                        0.3,
                        0.3,
                        0.3,
                        0.2,
                        0.4,
                        0.2,
                        0.5,
                        0.2,
                        0.2,
                        0.4,
                        0.2,
                        0.2,
                        0.2,
                        0.2,
                        0.4,
                        0.1,
                        0.2,
                        0.1,
                        0.2,
                        0.2,
                        0.1,
                        0.2,
                        0.2,
                        0.3,
                        0.3,
                        0.2,
                        0.6,
                        0.4,
                        0.3,
                        0.2,
                        0.2,
                        0.2,
                        0.2,
                        1.4,
                        1.5,
                        1.5,
                        1.3,
                        1.5,
                        1.3,
                        1.6,
                        1,
                        1.3,
                        1.4,
                        1,
                        1.5,
                        1,
                        1.4,
                        1.3,
                        1.4,
                        1.5,
                        1,
                        1.5,
                        1.1,
                        1.8,
                        1.3,
                        1.5,
                        1.2,
                        1.3,
                        1.4,
                        1.4,
                        1.7,
                        1.5,
                        1,
                        1.1,
                        1,
                        1.2,
                        1.6,
                        1.5,
                        1.6,
                        1.5,
                        1.3,
                        1.3,
                        1.3,
                        1.2,
                        1.4,
                        1.2,
                        1,
                        1.3,
                        1.2,
                        1.3,
                        1.3,
                        1.1,
                        1.3,
                        2.5,
                        1.9,
                        2.1,
                        1.8,
                        2.2,
                        2.1,
                        1.7,
                        1.8,
                        1.8,
                        2.5,
                        2,
                        1.9,
                        2.1,
                        2,
                        2.4,
                        2.3,
                        1.8,
                        2.2,
                        2.3,
                        1.5,
                        2.3,
                        2,
                        2,
                        1.8,
                        2.1,
                        1.8,
                        1.8,
                        1.8,
                        2.1,
                        1.6,
                        1.9,
                        2,
                        2.2,
                        1.5,
                        1.4,
                        2.3,
                        2.4,
                        1.8,
                        1.8,
                        2.1,
                        2.4,
                        2.3,
                        1.9,
                        2.3,
                        2.5,
                        2.3,
                        1.9,
                        2,
                        2.3,
                        1.8
                      ]
                    },
                    {
                      "label": "Species",
                      "values": [
                        1,
                        1,
                        1,
                        1,
                        1,
                        1,
                        1,
                        1,
                        1,
                        1,
                        1,
                        1,
                        1,
                        1,
                        1,
                        1,
                        1,
                        1,
                        1,
                        1,
                        1,
                        1,
                        1,
                        1,
                        1,
                        1,
                        1,
                        1,
                        1,
                        1,
                        1,
                        1,
                        1,
                        1,
                        1,
                        1,
                        1,
                        1,
                        1,
                        1,
                        1,
                        1,
                        1,
                        1,
                        1,
                        1,
                        1,
                        1,
                        1,
                        1,
                        2,
                        2,
                        2,
                        2,
                        2,
                        2,
                        2,
                        2,
                        2,
                        2,
                        2,
                        2,
                        2,
                        2,
                        2,
                        2,
                        2,
                        2,
                        2,
                        2,
                        2,
                        2,
                        2,
                        2,
                        2,
                        2,
                        2,
                        2,
                        2,
                        2,
                        2,
                        2,
                        2,
                        2,
                        2,
                        2,
                        2,
                        2,
                        2,
                        2,
                        2,
                        2,
                        2,
                        2,
                        2,
                        2,
                        2,
                        2,
                        2,
                        2,
                        3,
                        3,
                        3,
                        3,
                        3,
                        3,
                        3,
                        3,
                        3,
                        3,
                        3,
                        3,
                        3,
                        3,
                        3,
                        3,
                        3,
                        3,
                        3,
                        3,
                        3,
                        3,
                        3,
                        3,
                        3,
                        3,
                        3,
                        3,
                        3,
                        3,
                        3,
                        3,
                        3,
                        3,
                        3,
                        3,
                        3,
                        3,
                        3,
                        3,
                        3,
                        3,
                        3,
                        3,
                        3,
                        3,
                        3,
                        3,
                        3,
                        3
                      ]
                    }
                  ],
                  "domain": {
                    "x": [
                      0,
                      1
                    ],
                    "y": [
                      0,
                      1
                    ]
                  },
                  "line": {
                    "color": [
                      1,
                      1,
                      1,
                      1,
                      1,
                      1,
                      1,
                      1,
                      1,
                      1,
                      1,
                      1,
                      1,
                      1,
                      1,
                      1,
                      1,
                      1,
                      1,
                      1,
                      1,
                      1,
                      1,
                      1,
                      1,
                      1,
                      1,
                      1,
                      1,
                      1,
                      1,
                      1,
                      1,
                      1,
                      1,
                      1,
                      1,
                      1,
                      1,
                      1,
                      1,
                      1,
                      1,
                      1,
                      1,
                      1,
                      1,
                      1,
                      1,
                      1,
                      2,
                      2,
                      2,
                      2,
                      2,
                      2,
                      2,
                      2,
                      2,
                      2,
                      2,
                      2,
                      2,
                      2,
                      2,
                      2,
                      2,
                      2,
                      2,
                      2,
                      2,
                      2,
                      2,
                      2,
                      2,
                      2,
                      2,
                      2,
                      2,
                      2,
                      2,
                      2,
                      2,
                      2,
                      2,
                      2,
                      2,
                      2,
                      2,
                      2,
                      2,
                      2,
                      2,
                      2,
                      2,
                      2,
                      2,
                      2,
                      2,
                      2,
                      3,
                      3,
                      3,
                      3,
                      3,
                      3,
                      3,
                      3,
                      3,
                      3,
                      3,
                      3,
                      3,
                      3,
                      3,
                      3,
                      3,
                      3,
                      3,
                      3,
                      3,
                      3,
                      3,
                      3,
                      3,
                      3,
                      3,
                      3,
                      3,
                      3,
                      3,
                      3,
                      3,
                      3,
                      3,
                      3,
                      3,
                      3,
                      3,
                      3,
                      3,
                      3,
                      3,
                      3,
                      3,
                      3,
                      3,
                      3,
                      3,
                      3
                    ],
                    "coloraxis": "coloraxis"
                  },
                  "name": "",
                  "type": "parcoords"
                }
              ],
              "layout": {
                "coloraxis": {
                  "cmid": 2,
                  "colorbar": {
                    "title": {
                      "text": "Species"
                    }
                  },
                  "colorscale": [
                    [
                      0,
                      "rgb(0, 147, 146)"
                    ],
                    [
                      0.16666666666666666,
                      "rgb(114, 170, 161)"
                    ],
                    [
                      0.3333333333333333,
                      "rgb(177, 199, 179)"
                    ],
                    [
                      0.5,
                      "rgb(241, 234, 200)"
                    ],
                    [
                      0.6666666666666666,
                      "rgb(229, 185, 173)"
                    ],
                    [
                      0.8333333333333334,
                      "rgb(217, 137, 148)"
                    ],
                    [
                      1,
                      "rgb(208, 88, 126)"
                    ]
                  ]
                },
                "legend": {
                  "tracegroupgap": 0
                },
                "margin": {
                  "t": 60
                },
                "template": {
                  "data": {
                    "bar": [
                      {
                        "error_x": {
                          "color": "#2a3f5f"
                        },
                        "error_y": {
                          "color": "#2a3f5f"
                        },
                        "marker": {
                          "line": {
                            "color": "#E5ECF6",
                            "width": 0.5
                          },
                          "pattern": {
                            "fillmode": "overlay",
                            "size": 10,
                            "solidity": 0.2
                          }
                        },
                        "type": "bar"
                      }
                    ],
                    "barpolar": [
                      {
                        "marker": {
                          "line": {
                            "color": "#E5ECF6",
                            "width": 0.5
                          },
                          "pattern": {
                            "fillmode": "overlay",
                            "size": 10,
                            "solidity": 0.2
                          }
                        },
                        "type": "barpolar"
                      }
                    ],
                    "carpet": [
                      {
                        "aaxis": {
                          "endlinecolor": "#2a3f5f",
                          "gridcolor": "white",
                          "linecolor": "white",
                          "minorgridcolor": "white",
                          "startlinecolor": "#2a3f5f"
                        },
                        "baxis": {
                          "endlinecolor": "#2a3f5f",
                          "gridcolor": "white",
                          "linecolor": "white",
                          "minorgridcolor": "white",
                          "startlinecolor": "#2a3f5f"
                        },
                        "type": "carpet"
                      }
                    ],
                    "choropleth": [
                      {
                        "colorbar": {
                          "outlinewidth": 0,
                          "ticks": ""
                        },
                        "type": "choropleth"
                      }
                    ],
                    "contour": [
                      {
                        "colorbar": {
                          "outlinewidth": 0,
                          "ticks": ""
                        },
                        "colorscale": [
                          [
                            0,
                            "#0d0887"
                          ],
                          [
                            0.1111111111111111,
                            "#46039f"
                          ],
                          [
                            0.2222222222222222,
                            "#7201a8"
                          ],
                          [
                            0.3333333333333333,
                            "#9c179e"
                          ],
                          [
                            0.4444444444444444,
                            "#bd3786"
                          ],
                          [
                            0.5555555555555556,
                            "#d8576b"
                          ],
                          [
                            0.6666666666666666,
                            "#ed7953"
                          ],
                          [
                            0.7777777777777778,
                            "#fb9f3a"
                          ],
                          [
                            0.8888888888888888,
                            "#fdca26"
                          ],
                          [
                            1,
                            "#f0f921"
                          ]
                        ],
                        "type": "contour"
                      }
                    ],
                    "contourcarpet": [
                      {
                        "colorbar": {
                          "outlinewidth": 0,
                          "ticks": ""
                        },
                        "type": "contourcarpet"
                      }
                    ],
                    "heatmap": [
                      {
                        "colorbar": {
                          "outlinewidth": 0,
                          "ticks": ""
                        },
                        "colorscale": [
                          [
                            0,
                            "#0d0887"
                          ],
                          [
                            0.1111111111111111,
                            "#46039f"
                          ],
                          [
                            0.2222222222222222,
                            "#7201a8"
                          ],
                          [
                            0.3333333333333333,
                            "#9c179e"
                          ],
                          [
                            0.4444444444444444,
                            "#bd3786"
                          ],
                          [
                            0.5555555555555556,
                            "#d8576b"
                          ],
                          [
                            0.6666666666666666,
                            "#ed7953"
                          ],
                          [
                            0.7777777777777778,
                            "#fb9f3a"
                          ],
                          [
                            0.8888888888888888,
                            "#fdca26"
                          ],
                          [
                            1,
                            "#f0f921"
                          ]
                        ],
                        "type": "heatmap"
                      }
                    ],
                    "heatmapgl": [
                      {
                        "colorbar": {
                          "outlinewidth": 0,
                          "ticks": ""
                        },
                        "colorscale": [
                          [
                            0,
                            "#0d0887"
                          ],
                          [
                            0.1111111111111111,
                            "#46039f"
                          ],
                          [
                            0.2222222222222222,
                            "#7201a8"
                          ],
                          [
                            0.3333333333333333,
                            "#9c179e"
                          ],
                          [
                            0.4444444444444444,
                            "#bd3786"
                          ],
                          [
                            0.5555555555555556,
                            "#d8576b"
                          ],
                          [
                            0.6666666666666666,
                            "#ed7953"
                          ],
                          [
                            0.7777777777777778,
                            "#fb9f3a"
                          ],
                          [
                            0.8888888888888888,
                            "#fdca26"
                          ],
                          [
                            1,
                            "#f0f921"
                          ]
                        ],
                        "type": "heatmapgl"
                      }
                    ],
                    "histogram": [
                      {
                        "marker": {
                          "pattern": {
                            "fillmode": "overlay",
                            "size": 10,
                            "solidity": 0.2
                          }
                        },
                        "type": "histogram"
                      }
                    ],
                    "histogram2d": [
                      {
                        "colorbar": {
                          "outlinewidth": 0,
                          "ticks": ""
                        },
                        "colorscale": [
                          [
                            0,
                            "#0d0887"
                          ],
                          [
                            0.1111111111111111,
                            "#46039f"
                          ],
                          [
                            0.2222222222222222,
                            "#7201a8"
                          ],
                          [
                            0.3333333333333333,
                            "#9c179e"
                          ],
                          [
                            0.4444444444444444,
                            "#bd3786"
                          ],
                          [
                            0.5555555555555556,
                            "#d8576b"
                          ],
                          [
                            0.6666666666666666,
                            "#ed7953"
                          ],
                          [
                            0.7777777777777778,
                            "#fb9f3a"
                          ],
                          [
                            0.8888888888888888,
                            "#fdca26"
                          ],
                          [
                            1,
                            "#f0f921"
                          ]
                        ],
                        "type": "histogram2d"
                      }
                    ],
                    "histogram2dcontour": [
                      {
                        "colorbar": {
                          "outlinewidth": 0,
                          "ticks": ""
                        },
                        "colorscale": [
                          [
                            0,
                            "#0d0887"
                          ],
                          [
                            0.1111111111111111,
                            "#46039f"
                          ],
                          [
                            0.2222222222222222,
                            "#7201a8"
                          ],
                          [
                            0.3333333333333333,
                            "#9c179e"
                          ],
                          [
                            0.4444444444444444,
                            "#bd3786"
                          ],
                          [
                            0.5555555555555556,
                            "#d8576b"
                          ],
                          [
                            0.6666666666666666,
                            "#ed7953"
                          ],
                          [
                            0.7777777777777778,
                            "#fb9f3a"
                          ],
                          [
                            0.8888888888888888,
                            "#fdca26"
                          ],
                          [
                            1,
                            "#f0f921"
                          ]
                        ],
                        "type": "histogram2dcontour"
                      }
                    ],
                    "mesh3d": [
                      {
                        "colorbar": {
                          "outlinewidth": 0,
                          "ticks": ""
                        },
                        "type": "mesh3d"
                      }
                    ],
                    "parcoords": [
                      {
                        "line": {
                          "colorbar": {
                            "outlinewidth": 0,
                            "ticks": ""
                          }
                        },
                        "type": "parcoords"
                      }
                    ],
                    "pie": [
                      {
                        "automargin": true,
                        "type": "pie"
                      }
                    ],
                    "scatter": [
                      {
                        "fillpattern": {
                          "fillmode": "overlay",
                          "size": 10,
                          "solidity": 0.2
                        },
                        "type": "scatter"
                      }
                    ],
                    "scatter3d": [
                      {
                        "line": {
                          "colorbar": {
                            "outlinewidth": 0,
                            "ticks": ""
                          }
                        },
                        "marker": {
                          "colorbar": {
                            "outlinewidth": 0,
                            "ticks": ""
                          }
                        },
                        "type": "scatter3d"
                      }
                    ],
                    "scattercarpet": [
                      {
                        "marker": {
                          "colorbar": {
                            "outlinewidth": 0,
                            "ticks": ""
                          }
                        },
                        "type": "scattercarpet"
                      }
                    ],
                    "scattergeo": [
                      {
                        "marker": {
                          "colorbar": {
                            "outlinewidth": 0,
                            "ticks": ""
                          }
                        },
                        "type": "scattergeo"
                      }
                    ],
                    "scattergl": [
                      {
                        "marker": {
                          "colorbar": {
                            "outlinewidth": 0,
                            "ticks": ""
                          }
                        },
                        "type": "scattergl"
                      }
                    ],
                    "scattermapbox": [
                      {
                        "marker": {
                          "colorbar": {
                            "outlinewidth": 0,
                            "ticks": ""
                          }
                        },
                        "type": "scattermapbox"
                      }
                    ],
                    "scatterpolar": [
                      {
                        "marker": {
                          "colorbar": {
                            "outlinewidth": 0,
                            "ticks": ""
                          }
                        },
                        "type": "scatterpolar"
                      }
                    ],
                    "scatterpolargl": [
                      {
                        "marker": {
                          "colorbar": {
                            "outlinewidth": 0,
                            "ticks": ""
                          }
                        },
                        "type": "scatterpolargl"
                      }
                    ],
                    "scatterternary": [
                      {
                        "marker": {
                          "colorbar": {
                            "outlinewidth": 0,
                            "ticks": ""
                          }
                        },
                        "type": "scatterternary"
                      }
                    ],
                    "surface": [
                      {
                        "colorbar": {
                          "outlinewidth": 0,
                          "ticks": ""
                        },
                        "colorscale": [
                          [
                            0,
                            "#0d0887"
                          ],
                          [
                            0.1111111111111111,
                            "#46039f"
                          ],
                          [
                            0.2222222222222222,
                            "#7201a8"
                          ],
                          [
                            0.3333333333333333,
                            "#9c179e"
                          ],
                          [
                            0.4444444444444444,
                            "#bd3786"
                          ],
                          [
                            0.5555555555555556,
                            "#d8576b"
                          ],
                          [
                            0.6666666666666666,
                            "#ed7953"
                          ],
                          [
                            0.7777777777777778,
                            "#fb9f3a"
                          ],
                          [
                            0.8888888888888888,
                            "#fdca26"
                          ],
                          [
                            1,
                            "#f0f921"
                          ]
                        ],
                        "type": "surface"
                      }
                    ],
                    "table": [
                      {
                        "cells": {
                          "fill": {
                            "color": "#EBF0F8"
                          },
                          "line": {
                            "color": "white"
                          }
                        },
                        "header": {
                          "fill": {
                            "color": "#C8D4E3"
                          },
                          "line": {
                            "color": "white"
                          }
                        },
                        "type": "table"
                      }
                    ]
                  },
                  "layout": {
                    "annotationdefaults": {
                      "arrowcolor": "#2a3f5f",
                      "arrowhead": 0,
                      "arrowwidth": 1
                    },
                    "autotypenumbers": "strict",
                    "coloraxis": {
                      "colorbar": {
                        "outlinewidth": 0,
                        "ticks": ""
                      }
                    },
                    "colorscale": {
                      "diverging": [
                        [
                          0,
                          "#8e0152"
                        ],
                        [
                          0.1,
                          "#c51b7d"
                        ],
                        [
                          0.2,
                          "#de77ae"
                        ],
                        [
                          0.3,
                          "#f1b6da"
                        ],
                        [
                          0.4,
                          "#fde0ef"
                        ],
                        [
                          0.5,
                          "#f7f7f7"
                        ],
                        [
                          0.6,
                          "#e6f5d0"
                        ],
                        [
                          0.7,
                          "#b8e186"
                        ],
                        [
                          0.8,
                          "#7fbc41"
                        ],
                        [
                          0.9,
                          "#4d9221"
                        ],
                        [
                          1,
                          "#276419"
                        ]
                      ],
                      "sequential": [
                        [
                          0,
                          "#0d0887"
                        ],
                        [
                          0.1111111111111111,
                          "#46039f"
                        ],
                        [
                          0.2222222222222222,
                          "#7201a8"
                        ],
                        [
                          0.3333333333333333,
                          "#9c179e"
                        ],
                        [
                          0.4444444444444444,
                          "#bd3786"
                        ],
                        [
                          0.5555555555555556,
                          "#d8576b"
                        ],
                        [
                          0.6666666666666666,
                          "#ed7953"
                        ],
                        [
                          0.7777777777777778,
                          "#fb9f3a"
                        ],
                        [
                          0.8888888888888888,
                          "#fdca26"
                        ],
                        [
                          1,
                          "#f0f921"
                        ]
                      ],
                      "sequentialminus": [
                        [
                          0,
                          "#0d0887"
                        ],
                        [
                          0.1111111111111111,
                          "#46039f"
                        ],
                        [
                          0.2222222222222222,
                          "#7201a8"
                        ],
                        [
                          0.3333333333333333,
                          "#9c179e"
                        ],
                        [
                          0.4444444444444444,
                          "#bd3786"
                        ],
                        [
                          0.5555555555555556,
                          "#d8576b"
                        ],
                        [
                          0.6666666666666666,
                          "#ed7953"
                        ],
                        [
                          0.7777777777777778,
                          "#fb9f3a"
                        ],
                        [
                          0.8888888888888888,
                          "#fdca26"
                        ],
                        [
                          1,
                          "#f0f921"
                        ]
                      ]
                    },
                    "colorway": [
                      "#636efa",
                      "#EF553B",
                      "#00cc96",
                      "#ab63fa",
                      "#FFA15A",
                      "#19d3f3",
                      "#FF6692",
                      "#B6E880",
                      "#FF97FF",
                      "#FECB52"
                    ],
                    "font": {
                      "color": "#2a3f5f"
                    },
                    "geo": {
                      "bgcolor": "white",
                      "lakecolor": "white",
                      "landcolor": "#E5ECF6",
                      "showlakes": true,
                      "showland": true,
                      "subunitcolor": "white"
                    },
                    "hoverlabel": {
                      "align": "left"
                    },
                    "hovermode": "closest",
                    "mapbox": {
                      "style": "light"
                    },
                    "paper_bgcolor": "white",
                    "plot_bgcolor": "#E5ECF6",
                    "polar": {
                      "angularaxis": {
                        "gridcolor": "white",
                        "linecolor": "white",
                        "ticks": ""
                      },
                      "bgcolor": "#E5ECF6",
                      "radialaxis": {
                        "gridcolor": "white",
                        "linecolor": "white",
                        "ticks": ""
                      }
                    },
                    "scene": {
                      "xaxis": {
                        "backgroundcolor": "#E5ECF6",
                        "gridcolor": "white",
                        "gridwidth": 2,
                        "linecolor": "white",
                        "showbackground": true,
                        "ticks": "",
                        "zerolinecolor": "white"
                      },
                      "yaxis": {
                        "backgroundcolor": "#E5ECF6",
                        "gridcolor": "white",
                        "gridwidth": 2,
                        "linecolor": "white",
                        "showbackground": true,
                        "ticks": "",
                        "zerolinecolor": "white"
                      },
                      "zaxis": {
                        "backgroundcolor": "#E5ECF6",
                        "gridcolor": "white",
                        "gridwidth": 2,
                        "linecolor": "white",
                        "showbackground": true,
                        "ticks": "",
                        "zerolinecolor": "white"
                      }
                    },
                    "shapedefaults": {
                      "line": {
                        "color": "#2a3f5f"
                      }
                    },
                    "ternary": {
                      "aaxis": {
                        "gridcolor": "white",
                        "linecolor": "white",
                        "ticks": ""
                      },
                      "baxis": {
                        "gridcolor": "white",
                        "linecolor": "white",
                        "ticks": ""
                      },
                      "bgcolor": "#E5ECF6",
                      "caxis": {
                        "gridcolor": "white",
                        "linecolor": "white",
                        "ticks": ""
                      }
                    },
                    "title": {
                      "x": 0.05
                    },
                    "xaxis": {
                      "automargin": true,
                      "gridcolor": "white",
                      "linecolor": "white",
                      "ticks": "",
                      "title": {
                        "standoff": 15
                      },
                      "zerolinecolor": "white",
                      "zerolinewidth": 2
                    },
                    "yaxis": {
                      "automargin": true,
                      "gridcolor": "white",
                      "linecolor": "white",
                      "ticks": "",
                      "title": {
                        "standoff": 15
                      },
                      "zerolinecolor": "white",
                      "zerolinewidth": 2
                    }
                  }
                }
              }
            }
          },
          "metadata": {},
          "output_type": "display_data"
        }
      ],
      "source": [
        "df = px.data.iris()\n",
        "fig = px.parallel_coordinates(\n",
        "    df,\n",
        "    color=\"species_id\",\n",
        "    labels={\n",
        "        \"species_id\": \"Species\",\n",
        "        \"sepal_width\": \"Sepal Width\",\n",
        "        \"sepal_length\": \"Sepal Length\",\n",
        "        \"petal_width\": \"Petal Width\",\n",
        "        \"petal_length\": \"Petal Length\",\n",
        "    },\n",
        "    color_continuous_scale=px.colors.diverging.Tealrose,\n",
        "    color_continuous_midpoint=2,\n",
        ")\n",
        "fig.show()"
      ]
    },
    {
      "cell_type": "code",
      "execution_count": 8,
      "metadata": {},
      "outputs": [
        {
          "data": {
            "application/vnd.plotly.v1+json": {
              "config": {
                "plotlyServerURL": "https://plot.ly"
              },
              "data": [
                {
                  "dimensions": [
                    {
                      "label": "sex",
                      "values": [
                        "Female",
                        "Male",
                        "Male",
                        "Male",
                        "Female",
                        "Male",
                        "Male",
                        "Male",
                        "Male",
                        "Male",
                        "Male",
                        "Female",
                        "Male",
                        "Male",
                        "Female",
                        "Male",
                        "Female",
                        "Male",
                        "Female",
                        "Male",
                        "Male",
                        "Female",
                        "Female",
                        "Male",
                        "Male",
                        "Male",
                        "Male",
                        "Male",
                        "Male",
                        "Female",
                        "Male",
                        "Male",
                        "Female",
                        "Female",
                        "Male",
                        "Male",
                        "Male",
                        "Female",
                        "Male",
                        "Male",
                        "Male",
                        "Male",
                        "Male",
                        "Male",
                        "Male",
                        "Male",
                        "Male",
                        "Male",
                        "Male",
                        "Male",
                        "Male",
                        "Female",
                        "Female",
                        "Male",
                        "Male",
                        "Male",
                        "Male",
                        "Female",
                        "Male",
                        "Male",
                        "Male",
                        "Male",
                        "Male",
                        "Male",
                        "Male",
                        "Male",
                        "Female",
                        "Female",
                        "Male",
                        "Male",
                        "Male",
                        "Female",
                        "Female",
                        "Female",
                        "Female",
                        "Male",
                        "Male",
                        "Male",
                        "Male",
                        "Male",
                        "Male",
                        "Male",
                        "Female",
                        "Male",
                        "Male",
                        "Female",
                        "Male",
                        "Male",
                        "Male",
                        "Male",
                        "Male",
                        "Male",
                        "Female",
                        "Female",
                        "Female",
                        "Male",
                        "Male",
                        "Male",
                        "Male",
                        "Male",
                        "Female",
                        "Female",
                        "Female",
                        "Female",
                        "Female",
                        "Male",
                        "Male",
                        "Male",
                        "Male",
                        "Female",
                        "Male",
                        "Female",
                        "Male",
                        "Male",
                        "Female",
                        "Female",
                        "Male",
                        "Female",
                        "Female",
                        "Female",
                        "Male",
                        "Female",
                        "Male",
                        "Male",
                        "Female",
                        "Female",
                        "Male",
                        "Female",
                        "Female",
                        "Male",
                        "Male",
                        "Female",
                        "Female",
                        "Female",
                        "Female",
                        "Female",
                        "Female",
                        "Female",
                        "Male",
                        "Female",
                        "Female",
                        "Male",
                        "Male",
                        "Female",
                        "Female",
                        "Female",
                        "Female",
                        "Female",
                        "Male",
                        "Male",
                        "Male",
                        "Male",
                        "Male",
                        "Male",
                        "Male",
                        "Female",
                        "Male",
                        "Female",
                        "Female",
                        "Male",
                        "Male",
                        "Male",
                        "Female",
                        "Male",
                        "Female",
                        "Male",
                        "Male",
                        "Male",
                        "Female",
                        "Female",
                        "Male",
                        "Male",
                        "Male",
                        "Male",
                        "Male",
                        "Male",
                        "Male",
                        "Male",
                        "Female",
                        "Male",
                        "Male",
                        "Male",
                        "Male",
                        "Male",
                        "Male",
                        "Male",
                        "Female",
                        "Male",
                        "Female",
                        "Male",
                        "Male",
                        "Female",
                        "Male",
                        "Male",
                        "Male",
                        "Male",
                        "Male",
                        "Female",
                        "Female",
                        "Male",
                        "Male",
                        "Female",
                        "Female",
                        "Female",
                        "Male",
                        "Female",
                        "Male",
                        "Male",
                        "Male",
                        "Female",
                        "Male",
                        "Male",
                        "Male",
                        "Female",
                        "Female",
                        "Female",
                        "Male",
                        "Male",
                        "Male",
                        "Female",
                        "Male",
                        "Female",
                        "Male",
                        "Female",
                        "Male",
                        "Female",
                        "Female",
                        "Male",
                        "Male",
                        "Female",
                        "Male",
                        "Male",
                        "Male",
                        "Male",
                        "Male",
                        "Male",
                        "Male",
                        "Male",
                        "Female",
                        "Male",
                        "Female",
                        "Male",
                        "Male",
                        "Female"
                      ]
                    },
                    {
                      "label": "smoker",
                      "values": [
                        "No",
                        "No",
                        "No",
                        "No",
                        "No",
                        "No",
                        "No",
                        "No",
                        "No",
                        "No",
                        "No",
                        "No",
                        "No",
                        "No",
                        "No",
                        "No",
                        "No",
                        "No",
                        "No",
                        "No",
                        "No",
                        "No",
                        "No",
                        "No",
                        "No",
                        "No",
                        "No",
                        "No",
                        "No",
                        "No",
                        "No",
                        "No",
                        "No",
                        "No",
                        "No",
                        "No",
                        "No",
                        "No",
                        "No",
                        "No",
                        "No",
                        "No",
                        "No",
                        "No",
                        "No",
                        "No",
                        "No",
                        "No",
                        "No",
                        "No",
                        "No",
                        "No",
                        "No",
                        "No",
                        "No",
                        "No",
                        "Yes",
                        "No",
                        "Yes",
                        "No",
                        "Yes",
                        "Yes",
                        "Yes",
                        "Yes",
                        "No",
                        "No",
                        "No",
                        "Yes",
                        "No",
                        "Yes",
                        "No",
                        "No",
                        "Yes",
                        "Yes",
                        "No",
                        "No",
                        "Yes",
                        "No",
                        "No",
                        "No",
                        "Yes",
                        "No",
                        "No",
                        "Yes",
                        "No",
                        "No",
                        "No",
                        "No",
                        "No",
                        "No",
                        "Yes",
                        "No",
                        "Yes",
                        "Yes",
                        "No",
                        "Yes",
                        "Yes",
                        "Yes",
                        "Yes",
                        "No",
                        "Yes",
                        "Yes",
                        "Yes",
                        "Yes",
                        "No",
                        "Yes",
                        "Yes",
                        "Yes",
                        "No",
                        "Yes",
                        "No",
                        "No",
                        "No",
                        "No",
                        "No",
                        "No",
                        "No",
                        "No",
                        "No",
                        "No",
                        "No",
                        "No",
                        "No",
                        "No",
                        "No",
                        "No",
                        "No",
                        "No",
                        "No",
                        "No",
                        "No",
                        "No",
                        "No",
                        "No",
                        "No",
                        "No",
                        "No",
                        "No",
                        "Yes",
                        "No",
                        "No",
                        "No",
                        "No",
                        "No",
                        "No",
                        "No",
                        "No",
                        "No",
                        "No",
                        "No",
                        "No",
                        "No",
                        "No",
                        "No",
                        "No",
                        "No",
                        "No",
                        "No",
                        "No",
                        "No",
                        "No",
                        "No",
                        "No",
                        "No",
                        "Yes",
                        "No",
                        "No",
                        "No",
                        "Yes",
                        "Yes",
                        "Yes",
                        "Yes",
                        "Yes",
                        "Yes",
                        "Yes",
                        "Yes",
                        "Yes",
                        "Yes",
                        "Yes",
                        "Yes",
                        "Yes",
                        "Yes",
                        "Yes",
                        "Yes",
                        "Yes",
                        "No",
                        "Yes",
                        "Yes",
                        "Yes",
                        "Yes",
                        "Yes",
                        "Yes",
                        "Yes",
                        "Yes",
                        "Yes",
                        "No",
                        "Yes",
                        "Yes",
                        "Yes",
                        "Yes",
                        "Yes",
                        "Yes",
                        "Yes",
                        "Yes",
                        "Yes",
                        "Yes",
                        "Yes",
                        "Yes",
                        "Yes",
                        "Yes",
                        "Yes",
                        "Yes",
                        "No",
                        "Yes",
                        "Yes",
                        "Yes",
                        "Yes",
                        "Yes",
                        "Yes",
                        "Yes",
                        "Yes",
                        "Yes",
                        "Yes",
                        "No",
                        "Yes",
                        "Yes",
                        "Yes",
                        "No",
                        "No",
                        "Yes",
                        "Yes",
                        "Yes",
                        "No",
                        "No",
                        "Yes",
                        "No",
                        "Yes",
                        "Yes",
                        "No",
                        "No",
                        "Yes",
                        "Yes",
                        "No",
                        "No"
                      ]
                    },
                    {
                      "label": "day",
                      "values": [
                        "Sun",
                        "Sun",
                        "Sun",
                        "Sun",
                        "Sun",
                        "Sun",
                        "Sun",
                        "Sun",
                        "Sun",
                        "Sun",
                        "Sun",
                        "Sun",
                        "Sun",
                        "Sun",
                        "Sun",
                        "Sun",
                        "Sun",
                        "Sun",
                        "Sun",
                        "Sat",
                        "Sat",
                        "Sat",
                        "Sat",
                        "Sat",
                        "Sat",
                        "Sat",
                        "Sat",
                        "Sat",
                        "Sat",
                        "Sat",
                        "Sat",
                        "Sat",
                        "Sat",
                        "Sat",
                        "Sat",
                        "Sat",
                        "Sat",
                        "Sat",
                        "Sat",
                        "Sat",
                        "Sat",
                        "Sun",
                        "Sun",
                        "Sun",
                        "Sun",
                        "Sun",
                        "Sun",
                        "Sun",
                        "Sun",
                        "Sun",
                        "Sun",
                        "Sun",
                        "Sun",
                        "Sun",
                        "Sun",
                        "Sun",
                        "Sat",
                        "Sat",
                        "Sat",
                        "Sat",
                        "Sat",
                        "Sat",
                        "Sat",
                        "Sat",
                        "Sat",
                        "Sat",
                        "Sat",
                        "Sat",
                        "Sat",
                        "Sat",
                        "Sat",
                        "Sat",
                        "Sat",
                        "Sat",
                        "Sat",
                        "Sat",
                        "Sat",
                        "Thur",
                        "Thur",
                        "Thur",
                        "Thur",
                        "Thur",
                        "Thur",
                        "Thur",
                        "Thur",
                        "Thur",
                        "Thur",
                        "Thur",
                        "Thur",
                        "Thur",
                        "Fri",
                        "Fri",
                        "Fri",
                        "Fri",
                        "Fri",
                        "Fri",
                        "Fri",
                        "Fri",
                        "Fri",
                        "Fri",
                        "Fri",
                        "Fri",
                        "Sat",
                        "Sat",
                        "Sat",
                        "Sat",
                        "Sat",
                        "Sat",
                        "Sat",
                        "Sat",
                        "Sat",
                        "Sat",
                        "Sun",
                        "Sun",
                        "Sun",
                        "Sun",
                        "Sun",
                        "Thur",
                        "Thur",
                        "Thur",
                        "Thur",
                        "Thur",
                        "Thur",
                        "Thur",
                        "Thur",
                        "Thur",
                        "Thur",
                        "Thur",
                        "Thur",
                        "Thur",
                        "Thur",
                        "Thur",
                        "Thur",
                        "Thur",
                        "Thur",
                        "Thur",
                        "Thur",
                        "Thur",
                        "Thur",
                        "Thur",
                        "Thur",
                        "Thur",
                        "Thur",
                        "Thur",
                        "Thur",
                        "Thur",
                        "Thur",
                        "Thur",
                        "Thur",
                        "Thur",
                        "Sun",
                        "Sun",
                        "Sun",
                        "Sun",
                        "Sun",
                        "Sun",
                        "Sun",
                        "Sun",
                        "Sun",
                        "Sun",
                        "Sun",
                        "Sun",
                        "Sun",
                        "Sun",
                        "Sun",
                        "Sun",
                        "Sun",
                        "Sun",
                        "Sat",
                        "Sat",
                        "Sat",
                        "Sat",
                        "Sun",
                        "Sun",
                        "Sun",
                        "Sun",
                        "Sun",
                        "Sun",
                        "Sun",
                        "Sun",
                        "Sun",
                        "Sun",
                        "Sun",
                        "Sun",
                        "Sun",
                        "Sun",
                        "Sun",
                        "Sun",
                        "Sun",
                        "Sun",
                        "Sun",
                        "Thur",
                        "Thur",
                        "Thur",
                        "Thur",
                        "Thur",
                        "Thur",
                        "Thur",
                        "Thur",
                        "Thur",
                        "Thur",
                        "Thur",
                        "Thur",
                        "Thur",
                        "Thur",
                        "Thur",
                        "Sat",
                        "Sat",
                        "Sat",
                        "Sat",
                        "Sat",
                        "Sat",
                        "Sat",
                        "Sat",
                        "Sat",
                        "Sat",
                        "Sat",
                        "Sat",
                        "Sat",
                        "Sat",
                        "Fri",
                        "Fri",
                        "Fri",
                        "Fri",
                        "Fri",
                        "Fri",
                        "Fri",
                        "Sat",
                        "Sat",
                        "Sat",
                        "Sat",
                        "Sat",
                        "Sat",
                        "Sat",
                        "Sat",
                        "Sat",
                        "Sat",
                        "Sat",
                        "Sat",
                        "Sat",
                        "Sat",
                        "Sat",
                        "Sat",
                        "Thur"
                      ]
                    },
                    {
                      "label": "time",
                      "values": [
                        "Dinner",
                        "Dinner",
                        "Dinner",
                        "Dinner",
                        "Dinner",
                        "Dinner",
                        "Dinner",
                        "Dinner",
                        "Dinner",
                        "Dinner",
                        "Dinner",
                        "Dinner",
                        "Dinner",
                        "Dinner",
                        "Dinner",
                        "Dinner",
                        "Dinner",
                        "Dinner",
                        "Dinner",
                        "Dinner",
                        "Dinner",
                        "Dinner",
                        "Dinner",
                        "Dinner",
                        "Dinner",
                        "Dinner",
                        "Dinner",
                        "Dinner",
                        "Dinner",
                        "Dinner",
                        "Dinner",
                        "Dinner",
                        "Dinner",
                        "Dinner",
                        "Dinner",
                        "Dinner",
                        "Dinner",
                        "Dinner",
                        "Dinner",
                        "Dinner",
                        "Dinner",
                        "Dinner",
                        "Dinner",
                        "Dinner",
                        "Dinner",
                        "Dinner",
                        "Dinner",
                        "Dinner",
                        "Dinner",
                        "Dinner",
                        "Dinner",
                        "Dinner",
                        "Dinner",
                        "Dinner",
                        "Dinner",
                        "Dinner",
                        "Dinner",
                        "Dinner",
                        "Dinner",
                        "Dinner",
                        "Dinner",
                        "Dinner",
                        "Dinner",
                        "Dinner",
                        "Dinner",
                        "Dinner",
                        "Dinner",
                        "Dinner",
                        "Dinner",
                        "Dinner",
                        "Dinner",
                        "Dinner",
                        "Dinner",
                        "Dinner",
                        "Dinner",
                        "Dinner",
                        "Dinner",
                        "Lunch",
                        "Lunch",
                        "Lunch",
                        "Lunch",
                        "Lunch",
                        "Lunch",
                        "Lunch",
                        "Lunch",
                        "Lunch",
                        "Lunch",
                        "Lunch",
                        "Lunch",
                        "Lunch",
                        "Dinner",
                        "Dinner",
                        "Dinner",
                        "Dinner",
                        "Dinner",
                        "Dinner",
                        "Dinner",
                        "Dinner",
                        "Dinner",
                        "Dinner",
                        "Dinner",
                        "Dinner",
                        "Dinner",
                        "Dinner",
                        "Dinner",
                        "Dinner",
                        "Dinner",
                        "Dinner",
                        "Dinner",
                        "Dinner",
                        "Dinner",
                        "Dinner",
                        "Dinner",
                        "Dinner",
                        "Dinner",
                        "Dinner",
                        "Dinner",
                        "Lunch",
                        "Lunch",
                        "Lunch",
                        "Lunch",
                        "Lunch",
                        "Lunch",
                        "Lunch",
                        "Lunch",
                        "Lunch",
                        "Lunch",
                        "Lunch",
                        "Lunch",
                        "Lunch",
                        "Lunch",
                        "Lunch",
                        "Lunch",
                        "Lunch",
                        "Lunch",
                        "Lunch",
                        "Lunch",
                        "Lunch",
                        "Lunch",
                        "Lunch",
                        "Lunch",
                        "Lunch",
                        "Lunch",
                        "Lunch",
                        "Lunch",
                        "Lunch",
                        "Lunch",
                        "Lunch",
                        "Lunch",
                        "Lunch",
                        "Dinner",
                        "Dinner",
                        "Dinner",
                        "Dinner",
                        "Dinner",
                        "Dinner",
                        "Dinner",
                        "Dinner",
                        "Dinner",
                        "Dinner",
                        "Dinner",
                        "Dinner",
                        "Dinner",
                        "Dinner",
                        "Dinner",
                        "Dinner",
                        "Dinner",
                        "Dinner",
                        "Dinner",
                        "Dinner",
                        "Dinner",
                        "Dinner",
                        "Dinner",
                        "Dinner",
                        "Dinner",
                        "Dinner",
                        "Dinner",
                        "Dinner",
                        "Dinner",
                        "Dinner",
                        "Dinner",
                        "Dinner",
                        "Dinner",
                        "Dinner",
                        "Dinner",
                        "Dinner",
                        "Dinner",
                        "Dinner",
                        "Dinner",
                        "Dinner",
                        "Dinner",
                        "Lunch",
                        "Lunch",
                        "Lunch",
                        "Lunch",
                        "Lunch",
                        "Lunch",
                        "Lunch",
                        "Lunch",
                        "Lunch",
                        "Lunch",
                        "Lunch",
                        "Lunch",
                        "Lunch",
                        "Lunch",
                        "Lunch",
                        "Dinner",
                        "Dinner",
                        "Dinner",
                        "Dinner",
                        "Dinner",
                        "Dinner",
                        "Dinner",
                        "Dinner",
                        "Dinner",
                        "Dinner",
                        "Dinner",
                        "Dinner",
                        "Dinner",
                        "Dinner",
                        "Lunch",
                        "Lunch",
                        "Lunch",
                        "Lunch",
                        "Lunch",
                        "Lunch",
                        "Lunch",
                        "Dinner",
                        "Dinner",
                        "Dinner",
                        "Dinner",
                        "Dinner",
                        "Dinner",
                        "Dinner",
                        "Dinner",
                        "Dinner",
                        "Dinner",
                        "Dinner",
                        "Dinner",
                        "Dinner",
                        "Dinner",
                        "Dinner",
                        "Dinner",
                        "Dinner"
                      ]
                    },
                    {
                      "label": "size",
                      "values": [
                        2,
                        3,
                        3,
                        2,
                        4,
                        4,
                        2,
                        4,
                        2,
                        2,
                        2,
                        4,
                        2,
                        4,
                        2,
                        2,
                        3,
                        3,
                        3,
                        3,
                        2,
                        2,
                        2,
                        4,
                        2,
                        4,
                        2,
                        2,
                        2,
                        2,
                        2,
                        4,
                        2,
                        4,
                        2,
                        3,
                        3,
                        3,
                        3,
                        3,
                        3,
                        2,
                        2,
                        2,
                        4,
                        2,
                        2,
                        4,
                        3,
                        2,
                        2,
                        2,
                        4,
                        2,
                        4,
                        2,
                        4,
                        2,
                        2,
                        4,
                        2,
                        2,
                        2,
                        4,
                        3,
                        3,
                        2,
                        1,
                        2,
                        2,
                        2,
                        3,
                        2,
                        2,
                        2,
                        2,
                        2,
                        4,
                        2,
                        2,
                        2,
                        2,
                        1,
                        2,
                        2,
                        4,
                        2,
                        2,
                        2,
                        2,
                        2,
                        2,
                        2,
                        2,
                        2,
                        4,
                        2,
                        2,
                        2,
                        2,
                        2,
                        2,
                        3,
                        2,
                        2,
                        2,
                        2,
                        2,
                        2,
                        2,
                        2,
                        1,
                        3,
                        2,
                        3,
                        2,
                        4,
                        2,
                        2,
                        4,
                        2,
                        2,
                        2,
                        2,
                        2,
                        6,
                        2,
                        2,
                        2,
                        3,
                        2,
                        2,
                        2,
                        2,
                        2,
                        2,
                        2,
                        2,
                        2,
                        2,
                        2,
                        6,
                        5,
                        6,
                        2,
                        2,
                        3,
                        2,
                        2,
                        2,
                        2,
                        2,
                        3,
                        4,
                        4,
                        5,
                        6,
                        4,
                        2,
                        4,
                        4,
                        2,
                        3,
                        2,
                        2,
                        3,
                        2,
                        4,
                        2,
                        2,
                        3,
                        2,
                        2,
                        2,
                        2,
                        2,
                        2,
                        2,
                        2,
                        2,
                        4,
                        2,
                        3,
                        4,
                        2,
                        5,
                        3,
                        5,
                        3,
                        3,
                        2,
                        2,
                        2,
                        2,
                        2,
                        2,
                        2,
                        4,
                        2,
                        2,
                        3,
                        2,
                        2,
                        2,
                        4,
                        3,
                        3,
                        4,
                        2,
                        2,
                        3,
                        4,
                        4,
                        2,
                        3,
                        2,
                        5,
                        2,
                        2,
                        4,
                        2,
                        2,
                        1,
                        3,
                        2,
                        2,
                        2,
                        4,
                        2,
                        2,
                        4,
                        3,
                        2,
                        2,
                        2,
                        2,
                        2,
                        2,
                        3,
                        3,
                        2,
                        2,
                        2,
                        2
                      ]
                    }
                  ],
                  "domain": {
                    "x": [
                      0,
                      1
                    ],
                    "y": [
                      0,
                      1
                    ]
                  },
                  "line": {
                    "color": [
                      2,
                      3,
                      3,
                      2,
                      4,
                      4,
                      2,
                      4,
                      2,
                      2,
                      2,
                      4,
                      2,
                      4,
                      2,
                      2,
                      3,
                      3,
                      3,
                      3,
                      2,
                      2,
                      2,
                      4,
                      2,
                      4,
                      2,
                      2,
                      2,
                      2,
                      2,
                      4,
                      2,
                      4,
                      2,
                      3,
                      3,
                      3,
                      3,
                      3,
                      3,
                      2,
                      2,
                      2,
                      4,
                      2,
                      2,
                      4,
                      3,
                      2,
                      2,
                      2,
                      4,
                      2,
                      4,
                      2,
                      4,
                      2,
                      2,
                      4,
                      2,
                      2,
                      2,
                      4,
                      3,
                      3,
                      2,
                      1,
                      2,
                      2,
                      2,
                      3,
                      2,
                      2,
                      2,
                      2,
                      2,
                      4,
                      2,
                      2,
                      2,
                      2,
                      1,
                      2,
                      2,
                      4,
                      2,
                      2,
                      2,
                      2,
                      2,
                      2,
                      2,
                      2,
                      2,
                      4,
                      2,
                      2,
                      2,
                      2,
                      2,
                      2,
                      3,
                      2,
                      2,
                      2,
                      2,
                      2,
                      2,
                      2,
                      2,
                      1,
                      3,
                      2,
                      3,
                      2,
                      4,
                      2,
                      2,
                      4,
                      2,
                      2,
                      2,
                      2,
                      2,
                      6,
                      2,
                      2,
                      2,
                      3,
                      2,
                      2,
                      2,
                      2,
                      2,
                      2,
                      2,
                      2,
                      2,
                      2,
                      2,
                      6,
                      5,
                      6,
                      2,
                      2,
                      3,
                      2,
                      2,
                      2,
                      2,
                      2,
                      3,
                      4,
                      4,
                      5,
                      6,
                      4,
                      2,
                      4,
                      4,
                      2,
                      3,
                      2,
                      2,
                      3,
                      2,
                      4,
                      2,
                      2,
                      3,
                      2,
                      2,
                      2,
                      2,
                      2,
                      2,
                      2,
                      2,
                      2,
                      4,
                      2,
                      3,
                      4,
                      2,
                      5,
                      3,
                      5,
                      3,
                      3,
                      2,
                      2,
                      2,
                      2,
                      2,
                      2,
                      2,
                      4,
                      2,
                      2,
                      3,
                      2,
                      2,
                      2,
                      4,
                      3,
                      3,
                      4,
                      2,
                      2,
                      3,
                      4,
                      4,
                      2,
                      3,
                      2,
                      5,
                      2,
                      2,
                      4,
                      2,
                      2,
                      1,
                      3,
                      2,
                      2,
                      2,
                      4,
                      2,
                      2,
                      4,
                      3,
                      2,
                      2,
                      2,
                      2,
                      2,
                      2,
                      3,
                      3,
                      2,
                      2,
                      2,
                      2
                    ],
                    "coloraxis": "coloraxis"
                  },
                  "name": "",
                  "type": "parcats"
                }
              ],
              "layout": {
                "coloraxis": {
                  "colorbar": {
                    "title": {
                      "text": "size"
                    }
                  },
                  "colorscale": [
                    [
                      0,
                      "#000004"
                    ],
                    [
                      0.1111111111111111,
                      "#1b0c41"
                    ],
                    [
                      0.2222222222222222,
                      "#4a0c6b"
                    ],
                    [
                      0.3333333333333333,
                      "#781c6d"
                    ],
                    [
                      0.4444444444444444,
                      "#a52c60"
                    ],
                    [
                      0.5555555555555556,
                      "#cf4446"
                    ],
                    [
                      0.6666666666666666,
                      "#ed6925"
                    ],
                    [
                      0.7777777777777778,
                      "#fb9b06"
                    ],
                    [
                      0.8888888888888888,
                      "#f7d13d"
                    ],
                    [
                      1,
                      "#fcffa4"
                    ]
                  ]
                },
                "legend": {
                  "tracegroupgap": 0
                },
                "margin": {
                  "t": 60
                },
                "template": {
                  "data": {
                    "bar": [
                      {
                        "error_x": {
                          "color": "#2a3f5f"
                        },
                        "error_y": {
                          "color": "#2a3f5f"
                        },
                        "marker": {
                          "line": {
                            "color": "#E5ECF6",
                            "width": 0.5
                          },
                          "pattern": {
                            "fillmode": "overlay",
                            "size": 10,
                            "solidity": 0.2
                          }
                        },
                        "type": "bar"
                      }
                    ],
                    "barpolar": [
                      {
                        "marker": {
                          "line": {
                            "color": "#E5ECF6",
                            "width": 0.5
                          },
                          "pattern": {
                            "fillmode": "overlay",
                            "size": 10,
                            "solidity": 0.2
                          }
                        },
                        "type": "barpolar"
                      }
                    ],
                    "carpet": [
                      {
                        "aaxis": {
                          "endlinecolor": "#2a3f5f",
                          "gridcolor": "white",
                          "linecolor": "white",
                          "minorgridcolor": "white",
                          "startlinecolor": "#2a3f5f"
                        },
                        "baxis": {
                          "endlinecolor": "#2a3f5f",
                          "gridcolor": "white",
                          "linecolor": "white",
                          "minorgridcolor": "white",
                          "startlinecolor": "#2a3f5f"
                        },
                        "type": "carpet"
                      }
                    ],
                    "choropleth": [
                      {
                        "colorbar": {
                          "outlinewidth": 0,
                          "ticks": ""
                        },
                        "type": "choropleth"
                      }
                    ],
                    "contour": [
                      {
                        "colorbar": {
                          "outlinewidth": 0,
                          "ticks": ""
                        },
                        "colorscale": [
                          [
                            0,
                            "#0d0887"
                          ],
                          [
                            0.1111111111111111,
                            "#46039f"
                          ],
                          [
                            0.2222222222222222,
                            "#7201a8"
                          ],
                          [
                            0.3333333333333333,
                            "#9c179e"
                          ],
                          [
                            0.4444444444444444,
                            "#bd3786"
                          ],
                          [
                            0.5555555555555556,
                            "#d8576b"
                          ],
                          [
                            0.6666666666666666,
                            "#ed7953"
                          ],
                          [
                            0.7777777777777778,
                            "#fb9f3a"
                          ],
                          [
                            0.8888888888888888,
                            "#fdca26"
                          ],
                          [
                            1,
                            "#f0f921"
                          ]
                        ],
                        "type": "contour"
                      }
                    ],
                    "contourcarpet": [
                      {
                        "colorbar": {
                          "outlinewidth": 0,
                          "ticks": ""
                        },
                        "type": "contourcarpet"
                      }
                    ],
                    "heatmap": [
                      {
                        "colorbar": {
                          "outlinewidth": 0,
                          "ticks": ""
                        },
                        "colorscale": [
                          [
                            0,
                            "#0d0887"
                          ],
                          [
                            0.1111111111111111,
                            "#46039f"
                          ],
                          [
                            0.2222222222222222,
                            "#7201a8"
                          ],
                          [
                            0.3333333333333333,
                            "#9c179e"
                          ],
                          [
                            0.4444444444444444,
                            "#bd3786"
                          ],
                          [
                            0.5555555555555556,
                            "#d8576b"
                          ],
                          [
                            0.6666666666666666,
                            "#ed7953"
                          ],
                          [
                            0.7777777777777778,
                            "#fb9f3a"
                          ],
                          [
                            0.8888888888888888,
                            "#fdca26"
                          ],
                          [
                            1,
                            "#f0f921"
                          ]
                        ],
                        "type": "heatmap"
                      }
                    ],
                    "heatmapgl": [
                      {
                        "colorbar": {
                          "outlinewidth": 0,
                          "ticks": ""
                        },
                        "colorscale": [
                          [
                            0,
                            "#0d0887"
                          ],
                          [
                            0.1111111111111111,
                            "#46039f"
                          ],
                          [
                            0.2222222222222222,
                            "#7201a8"
                          ],
                          [
                            0.3333333333333333,
                            "#9c179e"
                          ],
                          [
                            0.4444444444444444,
                            "#bd3786"
                          ],
                          [
                            0.5555555555555556,
                            "#d8576b"
                          ],
                          [
                            0.6666666666666666,
                            "#ed7953"
                          ],
                          [
                            0.7777777777777778,
                            "#fb9f3a"
                          ],
                          [
                            0.8888888888888888,
                            "#fdca26"
                          ],
                          [
                            1,
                            "#f0f921"
                          ]
                        ],
                        "type": "heatmapgl"
                      }
                    ],
                    "histogram": [
                      {
                        "marker": {
                          "pattern": {
                            "fillmode": "overlay",
                            "size": 10,
                            "solidity": 0.2
                          }
                        },
                        "type": "histogram"
                      }
                    ],
                    "histogram2d": [
                      {
                        "colorbar": {
                          "outlinewidth": 0,
                          "ticks": ""
                        },
                        "colorscale": [
                          [
                            0,
                            "#0d0887"
                          ],
                          [
                            0.1111111111111111,
                            "#46039f"
                          ],
                          [
                            0.2222222222222222,
                            "#7201a8"
                          ],
                          [
                            0.3333333333333333,
                            "#9c179e"
                          ],
                          [
                            0.4444444444444444,
                            "#bd3786"
                          ],
                          [
                            0.5555555555555556,
                            "#d8576b"
                          ],
                          [
                            0.6666666666666666,
                            "#ed7953"
                          ],
                          [
                            0.7777777777777778,
                            "#fb9f3a"
                          ],
                          [
                            0.8888888888888888,
                            "#fdca26"
                          ],
                          [
                            1,
                            "#f0f921"
                          ]
                        ],
                        "type": "histogram2d"
                      }
                    ],
                    "histogram2dcontour": [
                      {
                        "colorbar": {
                          "outlinewidth": 0,
                          "ticks": ""
                        },
                        "colorscale": [
                          [
                            0,
                            "#0d0887"
                          ],
                          [
                            0.1111111111111111,
                            "#46039f"
                          ],
                          [
                            0.2222222222222222,
                            "#7201a8"
                          ],
                          [
                            0.3333333333333333,
                            "#9c179e"
                          ],
                          [
                            0.4444444444444444,
                            "#bd3786"
                          ],
                          [
                            0.5555555555555556,
                            "#d8576b"
                          ],
                          [
                            0.6666666666666666,
                            "#ed7953"
                          ],
                          [
                            0.7777777777777778,
                            "#fb9f3a"
                          ],
                          [
                            0.8888888888888888,
                            "#fdca26"
                          ],
                          [
                            1,
                            "#f0f921"
                          ]
                        ],
                        "type": "histogram2dcontour"
                      }
                    ],
                    "mesh3d": [
                      {
                        "colorbar": {
                          "outlinewidth": 0,
                          "ticks": ""
                        },
                        "type": "mesh3d"
                      }
                    ],
                    "parcoords": [
                      {
                        "line": {
                          "colorbar": {
                            "outlinewidth": 0,
                            "ticks": ""
                          }
                        },
                        "type": "parcoords"
                      }
                    ],
                    "pie": [
                      {
                        "automargin": true,
                        "type": "pie"
                      }
                    ],
                    "scatter": [
                      {
                        "fillpattern": {
                          "fillmode": "overlay",
                          "size": 10,
                          "solidity": 0.2
                        },
                        "type": "scatter"
                      }
                    ],
                    "scatter3d": [
                      {
                        "line": {
                          "colorbar": {
                            "outlinewidth": 0,
                            "ticks": ""
                          }
                        },
                        "marker": {
                          "colorbar": {
                            "outlinewidth": 0,
                            "ticks": ""
                          }
                        },
                        "type": "scatter3d"
                      }
                    ],
                    "scattercarpet": [
                      {
                        "marker": {
                          "colorbar": {
                            "outlinewidth": 0,
                            "ticks": ""
                          }
                        },
                        "type": "scattercarpet"
                      }
                    ],
                    "scattergeo": [
                      {
                        "marker": {
                          "colorbar": {
                            "outlinewidth": 0,
                            "ticks": ""
                          }
                        },
                        "type": "scattergeo"
                      }
                    ],
                    "scattergl": [
                      {
                        "marker": {
                          "colorbar": {
                            "outlinewidth": 0,
                            "ticks": ""
                          }
                        },
                        "type": "scattergl"
                      }
                    ],
                    "scattermapbox": [
                      {
                        "marker": {
                          "colorbar": {
                            "outlinewidth": 0,
                            "ticks": ""
                          }
                        },
                        "type": "scattermapbox"
                      }
                    ],
                    "scatterpolar": [
                      {
                        "marker": {
                          "colorbar": {
                            "outlinewidth": 0,
                            "ticks": ""
                          }
                        },
                        "type": "scatterpolar"
                      }
                    ],
                    "scatterpolargl": [
                      {
                        "marker": {
                          "colorbar": {
                            "outlinewidth": 0,
                            "ticks": ""
                          }
                        },
                        "type": "scatterpolargl"
                      }
                    ],
                    "scatterternary": [
                      {
                        "marker": {
                          "colorbar": {
                            "outlinewidth": 0,
                            "ticks": ""
                          }
                        },
                        "type": "scatterternary"
                      }
                    ],
                    "surface": [
                      {
                        "colorbar": {
                          "outlinewidth": 0,
                          "ticks": ""
                        },
                        "colorscale": [
                          [
                            0,
                            "#0d0887"
                          ],
                          [
                            0.1111111111111111,
                            "#46039f"
                          ],
                          [
                            0.2222222222222222,
                            "#7201a8"
                          ],
                          [
                            0.3333333333333333,
                            "#9c179e"
                          ],
                          [
                            0.4444444444444444,
                            "#bd3786"
                          ],
                          [
                            0.5555555555555556,
                            "#d8576b"
                          ],
                          [
                            0.6666666666666666,
                            "#ed7953"
                          ],
                          [
                            0.7777777777777778,
                            "#fb9f3a"
                          ],
                          [
                            0.8888888888888888,
                            "#fdca26"
                          ],
                          [
                            1,
                            "#f0f921"
                          ]
                        ],
                        "type": "surface"
                      }
                    ],
                    "table": [
                      {
                        "cells": {
                          "fill": {
                            "color": "#EBF0F8"
                          },
                          "line": {
                            "color": "white"
                          }
                        },
                        "header": {
                          "fill": {
                            "color": "#C8D4E3"
                          },
                          "line": {
                            "color": "white"
                          }
                        },
                        "type": "table"
                      }
                    ]
                  },
                  "layout": {
                    "annotationdefaults": {
                      "arrowcolor": "#2a3f5f",
                      "arrowhead": 0,
                      "arrowwidth": 1
                    },
                    "autotypenumbers": "strict",
                    "coloraxis": {
                      "colorbar": {
                        "outlinewidth": 0,
                        "ticks": ""
                      }
                    },
                    "colorscale": {
                      "diverging": [
                        [
                          0,
                          "#8e0152"
                        ],
                        [
                          0.1,
                          "#c51b7d"
                        ],
                        [
                          0.2,
                          "#de77ae"
                        ],
                        [
                          0.3,
                          "#f1b6da"
                        ],
                        [
                          0.4,
                          "#fde0ef"
                        ],
                        [
                          0.5,
                          "#f7f7f7"
                        ],
                        [
                          0.6,
                          "#e6f5d0"
                        ],
                        [
                          0.7,
                          "#b8e186"
                        ],
                        [
                          0.8,
                          "#7fbc41"
                        ],
                        [
                          0.9,
                          "#4d9221"
                        ],
                        [
                          1,
                          "#276419"
                        ]
                      ],
                      "sequential": [
                        [
                          0,
                          "#0d0887"
                        ],
                        [
                          0.1111111111111111,
                          "#46039f"
                        ],
                        [
                          0.2222222222222222,
                          "#7201a8"
                        ],
                        [
                          0.3333333333333333,
                          "#9c179e"
                        ],
                        [
                          0.4444444444444444,
                          "#bd3786"
                        ],
                        [
                          0.5555555555555556,
                          "#d8576b"
                        ],
                        [
                          0.6666666666666666,
                          "#ed7953"
                        ],
                        [
                          0.7777777777777778,
                          "#fb9f3a"
                        ],
                        [
                          0.8888888888888888,
                          "#fdca26"
                        ],
                        [
                          1,
                          "#f0f921"
                        ]
                      ],
                      "sequentialminus": [
                        [
                          0,
                          "#0d0887"
                        ],
                        [
                          0.1111111111111111,
                          "#46039f"
                        ],
                        [
                          0.2222222222222222,
                          "#7201a8"
                        ],
                        [
                          0.3333333333333333,
                          "#9c179e"
                        ],
                        [
                          0.4444444444444444,
                          "#bd3786"
                        ],
                        [
                          0.5555555555555556,
                          "#d8576b"
                        ],
                        [
                          0.6666666666666666,
                          "#ed7953"
                        ],
                        [
                          0.7777777777777778,
                          "#fb9f3a"
                        ],
                        [
                          0.8888888888888888,
                          "#fdca26"
                        ],
                        [
                          1,
                          "#f0f921"
                        ]
                      ]
                    },
                    "colorway": [
                      "#636efa",
                      "#EF553B",
                      "#00cc96",
                      "#ab63fa",
                      "#FFA15A",
                      "#19d3f3",
                      "#FF6692",
                      "#B6E880",
                      "#FF97FF",
                      "#FECB52"
                    ],
                    "font": {
                      "color": "#2a3f5f"
                    },
                    "geo": {
                      "bgcolor": "white",
                      "lakecolor": "white",
                      "landcolor": "#E5ECF6",
                      "showlakes": true,
                      "showland": true,
                      "subunitcolor": "white"
                    },
                    "hoverlabel": {
                      "align": "left"
                    },
                    "hovermode": "closest",
                    "mapbox": {
                      "style": "light"
                    },
                    "paper_bgcolor": "white",
                    "plot_bgcolor": "#E5ECF6",
                    "polar": {
                      "angularaxis": {
                        "gridcolor": "white",
                        "linecolor": "white",
                        "ticks": ""
                      },
                      "bgcolor": "#E5ECF6",
                      "radialaxis": {
                        "gridcolor": "white",
                        "linecolor": "white",
                        "ticks": ""
                      }
                    },
                    "scene": {
                      "xaxis": {
                        "backgroundcolor": "#E5ECF6",
                        "gridcolor": "white",
                        "gridwidth": 2,
                        "linecolor": "white",
                        "showbackground": true,
                        "ticks": "",
                        "zerolinecolor": "white"
                      },
                      "yaxis": {
                        "backgroundcolor": "#E5ECF6",
                        "gridcolor": "white",
                        "gridwidth": 2,
                        "linecolor": "white",
                        "showbackground": true,
                        "ticks": "",
                        "zerolinecolor": "white"
                      },
                      "zaxis": {
                        "backgroundcolor": "#E5ECF6",
                        "gridcolor": "white",
                        "gridwidth": 2,
                        "linecolor": "white",
                        "showbackground": true,
                        "ticks": "",
                        "zerolinecolor": "white"
                      }
                    },
                    "shapedefaults": {
                      "line": {
                        "color": "#2a3f5f"
                      }
                    },
                    "ternary": {
                      "aaxis": {
                        "gridcolor": "white",
                        "linecolor": "white",
                        "ticks": ""
                      },
                      "baxis": {
                        "gridcolor": "white",
                        "linecolor": "white",
                        "ticks": ""
                      },
                      "bgcolor": "#E5ECF6",
                      "caxis": {
                        "gridcolor": "white",
                        "linecolor": "white",
                        "ticks": ""
                      }
                    },
                    "title": {
                      "x": 0.05
                    },
                    "xaxis": {
                      "automargin": true,
                      "gridcolor": "white",
                      "linecolor": "white",
                      "ticks": "",
                      "title": {
                        "standoff": 15
                      },
                      "zerolinecolor": "white",
                      "zerolinewidth": 2
                    },
                    "yaxis": {
                      "automargin": true,
                      "gridcolor": "white",
                      "linecolor": "white",
                      "ticks": "",
                      "title": {
                        "standoff": 15
                      },
                      "zerolinecolor": "white",
                      "zerolinewidth": 2
                    }
                  }
                }
              }
            }
          },
          "metadata": {},
          "output_type": "display_data"
        }
      ],
      "source": [
        "df = px.data.tips()\n",
        "fig = px.parallel_categories(\n",
        "    df, color=\"size\", color_continuous_scale=px.colors.sequential.Inferno\n",
        ")\n",
        "fig.show()"
      ]
    },
    {
      "cell_type": "code",
      "execution_count": 9,
      "metadata": {},
      "outputs": [
        {
          "data": {
            "application/vnd.plotly.v1+json": {
              "config": {
                "plotlyServerURL": "https://plot.ly"
              },
              "data": [
                {
                  "hovertemplate": "<b>%{hovertext}</b><br><br>continent=Asia<br>gdpPercap=%{x}<br>lifeExp=%{y}<br>pop=%{marker.size}<extra></extra>",
                  "hovertext": [
                    "Afghanistan",
                    "Bahrain",
                    "Bangladesh",
                    "Cambodia",
                    "China",
                    "Hong Kong, China",
                    "India",
                    "Indonesia",
                    "Iran",
                    "Iraq",
                    "Israel",
                    "Japan",
                    "Jordan",
                    "Korea, Dem. Rep.",
                    "Korea, Rep.",
                    "Kuwait",
                    "Lebanon",
                    "Malaysia",
                    "Mongolia",
                    "Myanmar",
                    "Nepal",
                    "Oman",
                    "Pakistan",
                    "Philippines",
                    "Saudi Arabia",
                    "Singapore",
                    "Sri Lanka",
                    "Syria",
                    "Taiwan",
                    "Thailand",
                    "Vietnam",
                    "West Bank and Gaza",
                    "Yemen, Rep."
                  ],
                  "legendgroup": "Asia",
                  "marker": {
                    "color": "#636efa",
                    "size": [
                      31889923,
                      708573,
                      150448339,
                      14131858,
                      1318683096,
                      6980412,
                      1110396331,
                      223547000,
                      69453570,
                      27499638,
                      6426679,
                      127467972,
                      6053193,
                      23301725,
                      49044790,
                      2505559,
                      3921278,
                      24821286,
                      2874127,
                      47761980,
                      28901790,
                      3204897,
                      169270617,
                      91077287,
                      27601038,
                      4553009,
                      20378239,
                      19314747,
                      23174294,
                      65068149,
                      85262356,
                      4018332,
                      22211743
                    ],
                    "sizemode": "area",
                    "sizeref": 366300.86,
                    "symbol": "circle"
                  },
                  "mode": "markers",
                  "name": "Asia",
                  "orientation": "v",
                  "showlegend": true,
                  "type": "scatter",
                  "x": [
                    974.5803384,
                    29796.04834,
                    1391.253792,
                    1713.778686,
                    4959.114854,
                    39724.97867,
                    2452.210407,
                    3540.651564,
                    11605.71449,
                    4471.061906,
                    25523.2771,
                    31656.06806,
                    4519.461171,
                    1593.06548,
                    23348.139730000006,
                    47306.98978,
                    10461.05868,
                    12451.6558,
                    3095.7722710000007,
                    944,
                    1091.359778,
                    22316.19287,
                    2605.94758,
                    3190.481016,
                    21654.83194,
                    47143.17964,
                    3970.095407,
                    4184.548089,
                    28718.27684,
                    7458.396326999998,
                    2441.576404,
                    3025.349798,
                    2280.769906
                  ],
                  "xaxis": "x",
                  "y": [
                    43.828,
                    75.635,
                    64.062,
                    59.723,
                    72.961,
                    82.208,
                    64.69800000000001,
                    70.65,
                    70.964,
                    59.545,
                    80.745,
                    82.603,
                    72.535,
                    67.297,
                    78.623,
                    77.58800000000002,
                    71.993,
                    74.241,
                    66.803,
                    62.069,
                    63.785,
                    75.64,
                    65.483,
                    71.688,
                    72.777,
                    79.972,
                    72.396,
                    74.143,
                    78.4,
                    70.616,
                    74.249,
                    73.422,
                    62.698
                  ],
                  "yaxis": "y"
                },
                {
                  "hovertemplate": "<b>%{hovertext}</b><br><br>continent=Europe<br>gdpPercap=%{x}<br>lifeExp=%{y}<br>pop=%{marker.size}<extra></extra>",
                  "hovertext": [
                    "Albania",
                    "Austria",
                    "Belgium",
                    "Bosnia and Herzegovina",
                    "Bulgaria",
                    "Croatia",
                    "Czech Republic",
                    "Denmark",
                    "Finland",
                    "France",
                    "Germany",
                    "Greece",
                    "Hungary",
                    "Iceland",
                    "Ireland",
                    "Italy",
                    "Montenegro",
                    "Netherlands",
                    "Norway",
                    "Poland",
                    "Portugal",
                    "Romania",
                    "Serbia",
                    "Slovak Republic",
                    "Slovenia",
                    "Spain",
                    "Sweden",
                    "Switzerland",
                    "Turkey",
                    "United Kingdom"
                  ],
                  "legendgroup": "Europe",
                  "marker": {
                    "color": "#EF553B",
                    "size": [
                      3600523,
                      8199783,
                      10392226,
                      4552198,
                      7322858,
                      4493312,
                      10228744,
                      5468120,
                      5238460,
                      61083916,
                      82400996,
                      10706290,
                      9956108,
                      301931,
                      4109086,
                      58147733,
                      684736,
                      16570613,
                      4627926,
                      38518241,
                      10642836,
                      22276056,
                      10150265,
                      5447502,
                      2009245,
                      40448191,
                      9031088,
                      7554661,
                      71158647,
                      60776238
                    ],
                    "sizemode": "area",
                    "sizeref": 366300.86,
                    "symbol": "circle"
                  },
                  "mode": "markers",
                  "name": "Europe",
                  "orientation": "v",
                  "showlegend": true,
                  "type": "scatter",
                  "x": [
                    5937.029525999998,
                    36126.4927,
                    33692.60508,
                    7446.298803,
                    10680.79282,
                    14619.222719999998,
                    22833.30851,
                    35278.41874,
                    33207.0844,
                    30470.0167,
                    32170.37442,
                    27538.41188,
                    18008.94444,
                    36180.78919,
                    40675.99635,
                    28569.7197,
                    9253.896111,
                    36797.93332,
                    49357.19017,
                    15389.924680000002,
                    20509.64777,
                    10808.47561,
                    9786.534714,
                    18678.31435,
                    25768.25759,
                    28821.0637,
                    33859.74835,
                    37506.41907,
                    8458.276384,
                    33203.26128
                  ],
                  "xaxis": "x",
                  "y": [
                    76.423,
                    79.829,
                    79.441,
                    74.852,
                    73.005,
                    75.748,
                    76.486,
                    78.332,
                    79.313,
                    80.657,
                    79.406,
                    79.483,
                    73.33800000000002,
                    81.757,
                    78.885,
                    80.546,
                    74.543,
                    79.762,
                    80.196,
                    75.563,
                    78.098,
                    72.476,
                    74.002,
                    74.663,
                    77.926,
                    80.941,
                    80.884,
                    81.70100000000002,
                    71.777,
                    79.425
                  ],
                  "yaxis": "y"
                },
                {
                  "hovertemplate": "<b>%{hovertext}</b><br><br>continent=Africa<br>gdpPercap=%{x}<br>lifeExp=%{y}<br>pop=%{marker.size}<extra></extra>",
                  "hovertext": [
                    "Algeria",
                    "Angola",
                    "Benin",
                    "Botswana",
                    "Burkina Faso",
                    "Burundi",
                    "Cameroon",
                    "Central African Republic",
                    "Chad",
                    "Comoros",
                    "Congo, Dem. Rep.",
                    "Congo, Rep.",
                    "Cote d'Ivoire",
                    "Djibouti",
                    "Egypt",
                    "Equatorial Guinea",
                    "Eritrea",
                    "Ethiopia",
                    "Gabon",
                    "Gambia",
                    "Ghana",
                    "Guinea",
                    "Guinea-Bissau",
                    "Kenya",
                    "Lesotho",
                    "Liberia",
                    "Libya",
                    "Madagascar",
                    "Malawi",
                    "Mali",
                    "Mauritania",
                    "Mauritius",
                    "Morocco",
                    "Mozambique",
                    "Namibia",
                    "Niger",
                    "Nigeria",
                    "Reunion",
                    "Rwanda",
                    "Sao Tome and Principe",
                    "Senegal",
                    "Sierra Leone",
                    "Somalia",
                    "South Africa",
                    "Sudan",
                    "Swaziland",
                    "Tanzania",
                    "Togo",
                    "Tunisia",
                    "Uganda",
                    "Zambia",
                    "Zimbabwe"
                  ],
                  "legendgroup": "Africa",
                  "marker": {
                    "color": "#00cc96",
                    "size": [
                      33333216,
                      12420476,
                      8078314,
                      1639131,
                      14326203,
                      8390505,
                      17696293,
                      4369038,
                      10238807,
                      710960,
                      64606759,
                      3800610,
                      18013409,
                      496374,
                      80264543,
                      551201,
                      4906585,
                      76511887,
                      1454867,
                      1688359,
                      22873338,
                      9947814,
                      1472041,
                      35610177,
                      2012649,
                      3193942,
                      6036914,
                      19167654,
                      13327079,
                      12031795,
                      3270065,
                      1250882,
                      33757175,
                      19951656,
                      2055080,
                      12894865,
                      135031164,
                      798094,
                      8860588,
                      199579,
                      12267493,
                      6144562,
                      9118773,
                      43997828,
                      42292929,
                      1133066,
                      38139640,
                      5701579,
                      10276158,
                      29170398,
                      11746035,
                      12311143
                    ],
                    "sizemode": "area",
                    "sizeref": 366300.86,
                    "symbol": "circle"
                  },
                  "mode": "markers",
                  "name": "Africa",
                  "orientation": "v",
                  "showlegend": true,
                  "type": "scatter",
                  "x": [
                    6223.367465,
                    4797.231267,
                    1441.284873,
                    12569.85177,
                    1217.032994,
                    430.0706916,
                    2042.09524,
                    706.016537,
                    1704.063724,
                    986.1478792,
                    277.5518587,
                    3632.557798,
                    1544.750112,
                    2082.4815670000007,
                    5581.180998,
                    12154.08975,
                    641.3695236000002,
                    690.8055759,
                    13206.48452,
                    752.7497265,
                    1327.60891,
                    942.6542111,
                    579.2317429999998,
                    1463.249282,
                    1569.331442,
                    414.5073415,
                    12057.49928,
                    1044.770126,
                    759.3499101,
                    1042.581557,
                    1803.151496,
                    10956.99112,
                    3820.17523,
                    823.6856205,
                    4811.060429,
                    619.6768923999998,
                    2013.977305,
                    7670.122558,
                    863.0884639000002,
                    1598.435089,
                    1712.472136,
                    862.5407561000002,
                    926.1410683,
                    9269.657808,
                    2602.394995,
                    4513.480643,
                    1107.482182,
                    882.9699437999999,
                    7092.923025,
                    1056.380121,
                    1271.211593,
                    469.70929810000007
                  ],
                  "xaxis": "x",
                  "y": [
                    72.301,
                    42.731,
                    56.728,
                    50.728,
                    52.295,
                    49.58,
                    50.43,
                    44.74100000000001,
                    50.651,
                    65.152,
                    46.462,
                    55.322,
                    48.328,
                    54.791,
                    71.33800000000002,
                    51.57899999999999,
                    58.04,
                    52.947,
                    56.735,
                    59.448,
                    60.022,
                    56.007,
                    46.38800000000001,
                    54.11,
                    42.592,
                    45.678,
                    73.952,
                    59.44300000000001,
                    48.303,
                    54.467,
                    64.164,
                    72.801,
                    71.164,
                    42.082,
                    52.90600000000001,
                    56.867,
                    46.859,
                    76.442,
                    46.242,
                    65.528,
                    63.062,
                    42.56800000000001,
                    48.159,
                    49.339,
                    58.556,
                    39.613,
                    52.517,
                    58.42,
                    73.923,
                    51.542,
                    42.38399999999999,
                    43.487
                  ],
                  "yaxis": "y"
                },
                {
                  "hovertemplate": "<b>%{hovertext}</b><br><br>continent=Americas<br>gdpPercap=%{x}<br>lifeExp=%{y}<br>pop=%{marker.size}<extra></extra>",
                  "hovertext": [
                    "Argentina",
                    "Bolivia",
                    "Brazil",
                    "Canada",
                    "Chile",
                    "Colombia",
                    "Costa Rica",
                    "Cuba",
                    "Dominican Republic",
                    "Ecuador",
                    "El Salvador",
                    "Guatemala",
                    "Haiti",
                    "Honduras",
                    "Jamaica",
                    "Mexico",
                    "Nicaragua",
                    "Panama",
                    "Paraguay",
                    "Peru",
                    "Puerto Rico",
                    "Trinidad and Tobago",
                    "United States",
                    "Uruguay",
                    "Venezuela"
                  ],
                  "legendgroup": "Americas",
                  "marker": {
                    "color": "#ab63fa",
                    "size": [
                      40301927,
                      9119152,
                      190010647,
                      33390141,
                      16284741,
                      44227550,
                      4133884,
                      11416987,
                      9319622,
                      13755680,
                      6939688,
                      12572928,
                      8502814,
                      7483763,
                      2780132,
                      108700891,
                      5675356,
                      3242173,
                      6667147,
                      28674757,
                      3942491,
                      1056608,
                      301139947,
                      3447496,
                      26084662
                    ],
                    "sizemode": "area",
                    "sizeref": 366300.86,
                    "symbol": "circle"
                  },
                  "mode": "markers",
                  "name": "Americas",
                  "orientation": "v",
                  "showlegend": true,
                  "type": "scatter",
                  "x": [
                    12779.37964,
                    3822.137084,
                    9065.800825,
                    36319.23501,
                    13171.63885,
                    7006.580419,
                    9645.06142,
                    8948.102923,
                    6025.3747520000015,
                    6873.262326000001,
                    5728.353514,
                    5186.050003,
                    1201.637154,
                    3548.3308460000007,
                    7320.8802620000015,
                    11977.57496,
                    2749.320965,
                    9809.185636,
                    4172.838464,
                    7408.905561,
                    19328.70901,
                    18008.50924,
                    42951.65309,
                    10611.46299,
                    11415.80569
                  ],
                  "xaxis": "x",
                  "y": [
                    75.32,
                    65.554,
                    72.39,
                    80.653,
                    78.553,
                    72.889,
                    78.782,
                    78.273,
                    72.235,
                    74.994,
                    71.878,
                    70.259,
                    60.916,
                    70.19800000000001,
                    72.567,
                    76.195,
                    72.899,
                    75.53699999999998,
                    71.752,
                    71.421,
                    78.74600000000002,
                    69.819,
                    78.242,
                    76.384,
                    73.747
                  ],
                  "yaxis": "y"
                },
                {
                  "hovertemplate": "<b>%{hovertext}</b><br><br>continent=Oceania<br>gdpPercap=%{x}<br>lifeExp=%{y}<br>pop=%{marker.size}<extra></extra>",
                  "hovertext": [
                    "Australia",
                    "New Zealand"
                  ],
                  "legendgroup": "Oceania",
                  "marker": {
                    "color": "#FFA15A",
                    "size": [
                      20434176,
                      4115771
                    ],
                    "sizemode": "area",
                    "sizeref": 366300.86,
                    "symbol": "circle"
                  },
                  "mode": "markers",
                  "name": "Oceania",
                  "orientation": "v",
                  "showlegend": true,
                  "type": "scatter",
                  "x": [
                    34435.367439999995,
                    25185.00911
                  ],
                  "xaxis": "x",
                  "y": [
                    81.235,
                    80.204
                  ],
                  "yaxis": "y"
                }
              ],
              "layout": {
                "legend": {
                  "itemsizing": "constant",
                  "title": {
                    "text": "continent"
                  },
                  "tracegroupgap": 0
                },
                "margin": {
                  "t": 60
                },
                "template": {
                  "data": {
                    "bar": [
                      {
                        "error_x": {
                          "color": "#2a3f5f"
                        },
                        "error_y": {
                          "color": "#2a3f5f"
                        },
                        "marker": {
                          "line": {
                            "color": "#E5ECF6",
                            "width": 0.5
                          },
                          "pattern": {
                            "fillmode": "overlay",
                            "size": 10,
                            "solidity": 0.2
                          }
                        },
                        "type": "bar"
                      }
                    ],
                    "barpolar": [
                      {
                        "marker": {
                          "line": {
                            "color": "#E5ECF6",
                            "width": 0.5
                          },
                          "pattern": {
                            "fillmode": "overlay",
                            "size": 10,
                            "solidity": 0.2
                          }
                        },
                        "type": "barpolar"
                      }
                    ],
                    "carpet": [
                      {
                        "aaxis": {
                          "endlinecolor": "#2a3f5f",
                          "gridcolor": "white",
                          "linecolor": "white",
                          "minorgridcolor": "white",
                          "startlinecolor": "#2a3f5f"
                        },
                        "baxis": {
                          "endlinecolor": "#2a3f5f",
                          "gridcolor": "white",
                          "linecolor": "white",
                          "minorgridcolor": "white",
                          "startlinecolor": "#2a3f5f"
                        },
                        "type": "carpet"
                      }
                    ],
                    "choropleth": [
                      {
                        "colorbar": {
                          "outlinewidth": 0,
                          "ticks": ""
                        },
                        "type": "choropleth"
                      }
                    ],
                    "contour": [
                      {
                        "colorbar": {
                          "outlinewidth": 0,
                          "ticks": ""
                        },
                        "colorscale": [
                          [
                            0,
                            "#0d0887"
                          ],
                          [
                            0.1111111111111111,
                            "#46039f"
                          ],
                          [
                            0.2222222222222222,
                            "#7201a8"
                          ],
                          [
                            0.3333333333333333,
                            "#9c179e"
                          ],
                          [
                            0.4444444444444444,
                            "#bd3786"
                          ],
                          [
                            0.5555555555555556,
                            "#d8576b"
                          ],
                          [
                            0.6666666666666666,
                            "#ed7953"
                          ],
                          [
                            0.7777777777777778,
                            "#fb9f3a"
                          ],
                          [
                            0.8888888888888888,
                            "#fdca26"
                          ],
                          [
                            1,
                            "#f0f921"
                          ]
                        ],
                        "type": "contour"
                      }
                    ],
                    "contourcarpet": [
                      {
                        "colorbar": {
                          "outlinewidth": 0,
                          "ticks": ""
                        },
                        "type": "contourcarpet"
                      }
                    ],
                    "heatmap": [
                      {
                        "colorbar": {
                          "outlinewidth": 0,
                          "ticks": ""
                        },
                        "colorscale": [
                          [
                            0,
                            "#0d0887"
                          ],
                          [
                            0.1111111111111111,
                            "#46039f"
                          ],
                          [
                            0.2222222222222222,
                            "#7201a8"
                          ],
                          [
                            0.3333333333333333,
                            "#9c179e"
                          ],
                          [
                            0.4444444444444444,
                            "#bd3786"
                          ],
                          [
                            0.5555555555555556,
                            "#d8576b"
                          ],
                          [
                            0.6666666666666666,
                            "#ed7953"
                          ],
                          [
                            0.7777777777777778,
                            "#fb9f3a"
                          ],
                          [
                            0.8888888888888888,
                            "#fdca26"
                          ],
                          [
                            1,
                            "#f0f921"
                          ]
                        ],
                        "type": "heatmap"
                      }
                    ],
                    "heatmapgl": [
                      {
                        "colorbar": {
                          "outlinewidth": 0,
                          "ticks": ""
                        },
                        "colorscale": [
                          [
                            0,
                            "#0d0887"
                          ],
                          [
                            0.1111111111111111,
                            "#46039f"
                          ],
                          [
                            0.2222222222222222,
                            "#7201a8"
                          ],
                          [
                            0.3333333333333333,
                            "#9c179e"
                          ],
                          [
                            0.4444444444444444,
                            "#bd3786"
                          ],
                          [
                            0.5555555555555556,
                            "#d8576b"
                          ],
                          [
                            0.6666666666666666,
                            "#ed7953"
                          ],
                          [
                            0.7777777777777778,
                            "#fb9f3a"
                          ],
                          [
                            0.8888888888888888,
                            "#fdca26"
                          ],
                          [
                            1,
                            "#f0f921"
                          ]
                        ],
                        "type": "heatmapgl"
                      }
                    ],
                    "histogram": [
                      {
                        "marker": {
                          "pattern": {
                            "fillmode": "overlay",
                            "size": 10,
                            "solidity": 0.2
                          }
                        },
                        "type": "histogram"
                      }
                    ],
                    "histogram2d": [
                      {
                        "colorbar": {
                          "outlinewidth": 0,
                          "ticks": ""
                        },
                        "colorscale": [
                          [
                            0,
                            "#0d0887"
                          ],
                          [
                            0.1111111111111111,
                            "#46039f"
                          ],
                          [
                            0.2222222222222222,
                            "#7201a8"
                          ],
                          [
                            0.3333333333333333,
                            "#9c179e"
                          ],
                          [
                            0.4444444444444444,
                            "#bd3786"
                          ],
                          [
                            0.5555555555555556,
                            "#d8576b"
                          ],
                          [
                            0.6666666666666666,
                            "#ed7953"
                          ],
                          [
                            0.7777777777777778,
                            "#fb9f3a"
                          ],
                          [
                            0.8888888888888888,
                            "#fdca26"
                          ],
                          [
                            1,
                            "#f0f921"
                          ]
                        ],
                        "type": "histogram2d"
                      }
                    ],
                    "histogram2dcontour": [
                      {
                        "colorbar": {
                          "outlinewidth": 0,
                          "ticks": ""
                        },
                        "colorscale": [
                          [
                            0,
                            "#0d0887"
                          ],
                          [
                            0.1111111111111111,
                            "#46039f"
                          ],
                          [
                            0.2222222222222222,
                            "#7201a8"
                          ],
                          [
                            0.3333333333333333,
                            "#9c179e"
                          ],
                          [
                            0.4444444444444444,
                            "#bd3786"
                          ],
                          [
                            0.5555555555555556,
                            "#d8576b"
                          ],
                          [
                            0.6666666666666666,
                            "#ed7953"
                          ],
                          [
                            0.7777777777777778,
                            "#fb9f3a"
                          ],
                          [
                            0.8888888888888888,
                            "#fdca26"
                          ],
                          [
                            1,
                            "#f0f921"
                          ]
                        ],
                        "type": "histogram2dcontour"
                      }
                    ],
                    "mesh3d": [
                      {
                        "colorbar": {
                          "outlinewidth": 0,
                          "ticks": ""
                        },
                        "type": "mesh3d"
                      }
                    ],
                    "parcoords": [
                      {
                        "line": {
                          "colorbar": {
                            "outlinewidth": 0,
                            "ticks": ""
                          }
                        },
                        "type": "parcoords"
                      }
                    ],
                    "pie": [
                      {
                        "automargin": true,
                        "type": "pie"
                      }
                    ],
                    "scatter": [
                      {
                        "fillpattern": {
                          "fillmode": "overlay",
                          "size": 10,
                          "solidity": 0.2
                        },
                        "type": "scatter"
                      }
                    ],
                    "scatter3d": [
                      {
                        "line": {
                          "colorbar": {
                            "outlinewidth": 0,
                            "ticks": ""
                          }
                        },
                        "marker": {
                          "colorbar": {
                            "outlinewidth": 0,
                            "ticks": ""
                          }
                        },
                        "type": "scatter3d"
                      }
                    ],
                    "scattercarpet": [
                      {
                        "marker": {
                          "colorbar": {
                            "outlinewidth": 0,
                            "ticks": ""
                          }
                        },
                        "type": "scattercarpet"
                      }
                    ],
                    "scattergeo": [
                      {
                        "marker": {
                          "colorbar": {
                            "outlinewidth": 0,
                            "ticks": ""
                          }
                        },
                        "type": "scattergeo"
                      }
                    ],
                    "scattergl": [
                      {
                        "marker": {
                          "colorbar": {
                            "outlinewidth": 0,
                            "ticks": ""
                          }
                        },
                        "type": "scattergl"
                      }
                    ],
                    "scattermapbox": [
                      {
                        "marker": {
                          "colorbar": {
                            "outlinewidth": 0,
                            "ticks": ""
                          }
                        },
                        "type": "scattermapbox"
                      }
                    ],
                    "scatterpolar": [
                      {
                        "marker": {
                          "colorbar": {
                            "outlinewidth": 0,
                            "ticks": ""
                          }
                        },
                        "type": "scatterpolar"
                      }
                    ],
                    "scatterpolargl": [
                      {
                        "marker": {
                          "colorbar": {
                            "outlinewidth": 0,
                            "ticks": ""
                          }
                        },
                        "type": "scatterpolargl"
                      }
                    ],
                    "scatterternary": [
                      {
                        "marker": {
                          "colorbar": {
                            "outlinewidth": 0,
                            "ticks": ""
                          }
                        },
                        "type": "scatterternary"
                      }
                    ],
                    "surface": [
                      {
                        "colorbar": {
                          "outlinewidth": 0,
                          "ticks": ""
                        },
                        "colorscale": [
                          [
                            0,
                            "#0d0887"
                          ],
                          [
                            0.1111111111111111,
                            "#46039f"
                          ],
                          [
                            0.2222222222222222,
                            "#7201a8"
                          ],
                          [
                            0.3333333333333333,
                            "#9c179e"
                          ],
                          [
                            0.4444444444444444,
                            "#bd3786"
                          ],
                          [
                            0.5555555555555556,
                            "#d8576b"
                          ],
                          [
                            0.6666666666666666,
                            "#ed7953"
                          ],
                          [
                            0.7777777777777778,
                            "#fb9f3a"
                          ],
                          [
                            0.8888888888888888,
                            "#fdca26"
                          ],
                          [
                            1,
                            "#f0f921"
                          ]
                        ],
                        "type": "surface"
                      }
                    ],
                    "table": [
                      {
                        "cells": {
                          "fill": {
                            "color": "#EBF0F8"
                          },
                          "line": {
                            "color": "white"
                          }
                        },
                        "header": {
                          "fill": {
                            "color": "#C8D4E3"
                          },
                          "line": {
                            "color": "white"
                          }
                        },
                        "type": "table"
                      }
                    ]
                  },
                  "layout": {
                    "annotationdefaults": {
                      "arrowcolor": "#2a3f5f",
                      "arrowhead": 0,
                      "arrowwidth": 1
                    },
                    "autotypenumbers": "strict",
                    "coloraxis": {
                      "colorbar": {
                        "outlinewidth": 0,
                        "ticks": ""
                      }
                    },
                    "colorscale": {
                      "diverging": [
                        [
                          0,
                          "#8e0152"
                        ],
                        [
                          0.1,
                          "#c51b7d"
                        ],
                        [
                          0.2,
                          "#de77ae"
                        ],
                        [
                          0.3,
                          "#f1b6da"
                        ],
                        [
                          0.4,
                          "#fde0ef"
                        ],
                        [
                          0.5,
                          "#f7f7f7"
                        ],
                        [
                          0.6,
                          "#e6f5d0"
                        ],
                        [
                          0.7,
                          "#b8e186"
                        ],
                        [
                          0.8,
                          "#7fbc41"
                        ],
                        [
                          0.9,
                          "#4d9221"
                        ],
                        [
                          1,
                          "#276419"
                        ]
                      ],
                      "sequential": [
                        [
                          0,
                          "#0d0887"
                        ],
                        [
                          0.1111111111111111,
                          "#46039f"
                        ],
                        [
                          0.2222222222222222,
                          "#7201a8"
                        ],
                        [
                          0.3333333333333333,
                          "#9c179e"
                        ],
                        [
                          0.4444444444444444,
                          "#bd3786"
                        ],
                        [
                          0.5555555555555556,
                          "#d8576b"
                        ],
                        [
                          0.6666666666666666,
                          "#ed7953"
                        ],
                        [
                          0.7777777777777778,
                          "#fb9f3a"
                        ],
                        [
                          0.8888888888888888,
                          "#fdca26"
                        ],
                        [
                          1,
                          "#f0f921"
                        ]
                      ],
                      "sequentialminus": [
                        [
                          0,
                          "#0d0887"
                        ],
                        [
                          0.1111111111111111,
                          "#46039f"
                        ],
                        [
                          0.2222222222222222,
                          "#7201a8"
                        ],
                        [
                          0.3333333333333333,
                          "#9c179e"
                        ],
                        [
                          0.4444444444444444,
                          "#bd3786"
                        ],
                        [
                          0.5555555555555556,
                          "#d8576b"
                        ],
                        [
                          0.6666666666666666,
                          "#ed7953"
                        ],
                        [
                          0.7777777777777778,
                          "#fb9f3a"
                        ],
                        [
                          0.8888888888888888,
                          "#fdca26"
                        ],
                        [
                          1,
                          "#f0f921"
                        ]
                      ]
                    },
                    "colorway": [
                      "#636efa",
                      "#EF553B",
                      "#00cc96",
                      "#ab63fa",
                      "#FFA15A",
                      "#19d3f3",
                      "#FF6692",
                      "#B6E880",
                      "#FF97FF",
                      "#FECB52"
                    ],
                    "font": {
                      "color": "#2a3f5f"
                    },
                    "geo": {
                      "bgcolor": "white",
                      "lakecolor": "white",
                      "landcolor": "#E5ECF6",
                      "showlakes": true,
                      "showland": true,
                      "subunitcolor": "white"
                    },
                    "hoverlabel": {
                      "align": "left"
                    },
                    "hovermode": "closest",
                    "mapbox": {
                      "style": "light"
                    },
                    "paper_bgcolor": "white",
                    "plot_bgcolor": "#E5ECF6",
                    "polar": {
                      "angularaxis": {
                        "gridcolor": "white",
                        "linecolor": "white",
                        "ticks": ""
                      },
                      "bgcolor": "#E5ECF6",
                      "radialaxis": {
                        "gridcolor": "white",
                        "linecolor": "white",
                        "ticks": ""
                      }
                    },
                    "scene": {
                      "xaxis": {
                        "backgroundcolor": "#E5ECF6",
                        "gridcolor": "white",
                        "gridwidth": 2,
                        "linecolor": "white",
                        "showbackground": true,
                        "ticks": "",
                        "zerolinecolor": "white"
                      },
                      "yaxis": {
                        "backgroundcolor": "#E5ECF6",
                        "gridcolor": "white",
                        "gridwidth": 2,
                        "linecolor": "white",
                        "showbackground": true,
                        "ticks": "",
                        "zerolinecolor": "white"
                      },
                      "zaxis": {
                        "backgroundcolor": "#E5ECF6",
                        "gridcolor": "white",
                        "gridwidth": 2,
                        "linecolor": "white",
                        "showbackground": true,
                        "ticks": "",
                        "zerolinecolor": "white"
                      }
                    },
                    "shapedefaults": {
                      "line": {
                        "color": "#2a3f5f"
                      }
                    },
                    "ternary": {
                      "aaxis": {
                        "gridcolor": "white",
                        "linecolor": "white",
                        "ticks": ""
                      },
                      "baxis": {
                        "gridcolor": "white",
                        "linecolor": "white",
                        "ticks": ""
                      },
                      "bgcolor": "#E5ECF6",
                      "caxis": {
                        "gridcolor": "white",
                        "linecolor": "white",
                        "ticks": ""
                      }
                    },
                    "title": {
                      "x": 0.05
                    },
                    "xaxis": {
                      "automargin": true,
                      "gridcolor": "white",
                      "linecolor": "white",
                      "ticks": "",
                      "title": {
                        "standoff": 15
                      },
                      "zerolinecolor": "white",
                      "zerolinewidth": 2
                    },
                    "yaxis": {
                      "automargin": true,
                      "gridcolor": "white",
                      "linecolor": "white",
                      "ticks": "",
                      "title": {
                        "standoff": 15
                      },
                      "zerolinecolor": "white",
                      "zerolinewidth": 2
                    }
                  }
                },
                "xaxis": {
                  "anchor": "y",
                  "domain": [
                    0,
                    1
                  ],
                  "title": {
                    "text": "gdpPercap"
                  },
                  "type": "log"
                },
                "yaxis": {
                  "anchor": "x",
                  "domain": [
                    0,
                    1
                  ],
                  "title": {
                    "text": "lifeExp"
                  }
                }
              }
            }
          },
          "metadata": {},
          "output_type": "display_data"
        }
      ],
      "source": [
        "df = px.data.gapminder()\n",
        "fig = px.scatter(\n",
        "    df.query(\"year==2007\"),\n",
        "    x=\"gdpPercap\",\n",
        "    y=\"lifeExp\",\n",
        "    size=\"pop\",\n",
        "    color=\"continent\",\n",
        "    hover_name=\"country\",\n",
        "    log_x=True,\n",
        "    size_max=60,\n",
        ")\n",
        "fig.show()"
      ]
    },
    {
      "cell_type": "code",
      "execution_count": 10,
      "metadata": {},
      "outputs": [
        {
          "data": {
            "application/vnd.plotly.v1+json": {
              "config": {
                "plotlyServerURL": "https://plot.ly"
              },
              "data": [
                {
                  "branchvalues": "total",
                  "customdata": [
                    [
                      "AFG",
                      43.828
                    ],
                    [
                      "ALB",
                      76.423
                    ],
                    [
                      "DZA",
                      72.301
                    ],
                    [
                      "AGO",
                      42.731
                    ],
                    [
                      "ARG",
                      75.32
                    ],
                    [
                      "AUS",
                      81.235
                    ],
                    [
                      "AUT",
                      79.829
                    ],
                    [
                      "BHR",
                      75.635
                    ],
                    [
                      "BGD",
                      64.062
                    ],
                    [
                      "BEL",
                      79.441
                    ],
                    [
                      "BEN",
                      56.728
                    ],
                    [
                      "BOL",
                      65.554
                    ],
                    [
                      "BIH",
                      74.852
                    ],
                    [
                      "BWA",
                      50.728
                    ],
                    [
                      "BRA",
                      72.39
                    ],
                    [
                      "BGR",
                      73.005
                    ],
                    [
                      "BFA",
                      52.295
                    ],
                    [
                      "BDI",
                      49.58
                    ],
                    [
                      "KHM",
                      59.723
                    ],
                    [
                      "CMR",
                      50.43
                    ],
                    [
                      "CAN",
                      80.65300000000002
                    ],
                    [
                      "CAF",
                      44.74100000000001
                    ],
                    [
                      "TCD",
                      50.651
                    ],
                    [
                      "CHL",
                      78.553
                    ],
                    [
                      "CHN",
                      72.961
                    ],
                    [
                      "COL",
                      72.889
                    ],
                    [
                      "COM",
                      65.152
                    ],
                    [
                      "COD",
                      46.462
                    ],
                    [
                      "COG",
                      55.322
                    ],
                    [
                      "CRI",
                      78.782
                    ],
                    [
                      "CIV",
                      48.328
                    ],
                    [
                      "HRV",
                      75.748
                    ],
                    [
                      "CUB",
                      78.273
                    ],
                    [
                      "CZE",
                      76.486
                    ],
                    [
                      "DNK",
                      78.332
                    ],
                    [
                      "DJI",
                      54.791
                    ],
                    [
                      "DOM",
                      72.235
                    ],
                    [
                      "ECU",
                      74.994
                    ],
                    [
                      "EGY",
                      71.33800000000002
                    ],
                    [
                      "SLV",
                      71.878
                    ],
                    [
                      "GNQ",
                      51.57899999999999
                    ],
                    [
                      "ERI",
                      58.03999999999999
                    ],
                    [
                      "ETH",
                      52.947
                    ],
                    [
                      "FIN",
                      79.313
                    ],
                    [
                      "FRA",
                      80.65699999999998
                    ],
                    [
                      "GAB",
                      56.73500000000001
                    ],
                    [
                      "GMB",
                      59.448
                    ],
                    [
                      "DEU",
                      79.406
                    ],
                    [
                      "GHA",
                      60.02199999999999
                    ],
                    [
                      "GRC",
                      79.483
                    ],
                    [
                      "GTM",
                      70.259
                    ],
                    [
                      "GIN",
                      56.007
                    ],
                    [
                      "GNB",
                      46.38800000000001
                    ],
                    [
                      "HTI",
                      60.916
                    ],
                    [
                      "HND",
                      70.19800000000001
                    ],
                    [
                      "HKG",
                      82.208
                    ],
                    [
                      "HUN",
                      73.33800000000002
                    ],
                    [
                      "ISL",
                      81.757
                    ],
                    [
                      "IND",
                      64.69800000000001
                    ],
                    [
                      "IDN",
                      70.65
                    ],
                    [
                      "IRN",
                      70.964
                    ],
                    [
                      "IRQ",
                      59.545
                    ],
                    [
                      "IRL",
                      78.885
                    ],
                    [
                      "ISR",
                      80.745
                    ],
                    [
                      "ITA",
                      80.546
                    ],
                    [
                      "JAM",
                      72.567
                    ],
                    [
                      "JPN",
                      82.603
                    ],
                    [
                      "JOR",
                      72.535
                    ],
                    [
                      "KEN",
                      54.11
                    ],
                    [
                      "KOR",
                      67.297
                    ],
                    [
                      "KOR",
                      78.623
                    ],
                    [
                      "KWT",
                      77.58800000000002
                    ],
                    [
                      "LBN",
                      71.993
                    ],
                    [
                      "LSO",
                      42.592
                    ],
                    [
                      "LBR",
                      45.678
                    ],
                    [
                      "LBY",
                      73.952
                    ],
                    [
                      "MDG",
                      59.443000000000005
                    ],
                    [
                      "MWI",
                      48.303
                    ],
                    [
                      "MYS",
                      74.241
                    ],
                    [
                      "MLI",
                      54.467
                    ],
                    [
                      "MRT",
                      64.164
                    ],
                    [
                      "MUS",
                      72.801
                    ],
                    [
                      "MEX",
                      76.195
                    ],
                    [
                      "MNG",
                      66.803
                    ],
                    [
                      "MNE",
                      74.543
                    ],
                    [
                      "MAR",
                      71.164
                    ],
                    [
                      "MOZ",
                      42.082
                    ],
                    [
                      "MMR",
                      62.06900000000001
                    ],
                    [
                      "NAM",
                      52.90600000000001
                    ],
                    [
                      "NPL",
                      63.785
                    ],
                    [
                      "NLD",
                      79.762
                    ],
                    [
                      "NZL",
                      80.204
                    ],
                    [
                      "NIC",
                      72.899
                    ],
                    [
                      "NER",
                      56.867
                    ],
                    [
                      "NGA",
                      46.859
                    ],
                    [
                      "NOR",
                      80.196
                    ],
                    [
                      "OMN",
                      75.64
                    ],
                    [
                      "PAK",
                      65.483
                    ],
                    [
                      "PAN",
                      75.53699999999998
                    ],
                    [
                      "PRY",
                      71.752
                    ],
                    [
                      "PER",
                      71.421
                    ],
                    [
                      "PHL",
                      71.688
                    ],
                    [
                      "POL",
                      75.563
                    ],
                    [
                      "PRT",
                      78.098
                    ],
                    [
                      "PRI",
                      78.74600000000002
                    ],
                    [
                      "REU",
                      76.442
                    ],
                    [
                      "ROU",
                      72.476
                    ],
                    [
                      "RWA",
                      46.242
                    ],
                    [
                      "STP",
                      65.528
                    ],
                    [
                      "SAU",
                      72.777
                    ],
                    [
                      "SEN",
                      63.062
                    ],
                    [
                      "SRB",
                      74.002
                    ],
                    [
                      "SLE",
                      42.56800000000001
                    ],
                    [
                      "SGP",
                      79.972
                    ],
                    [
                      "SVK",
                      74.663
                    ],
                    [
                      "SVN",
                      77.926
                    ],
                    [
                      "SOM",
                      48.159
                    ],
                    [
                      "ZAF",
                      49.339
                    ],
                    [
                      "ESP",
                      80.941
                    ],
                    [
                      "LKA",
                      72.396
                    ],
                    [
                      "SDN",
                      58.55599999999999
                    ],
                    [
                      "SWZ",
                      39.613
                    ],
                    [
                      "SWE",
                      80.884
                    ],
                    [
                      "CHE",
                      81.70100000000002
                    ],
                    [
                      "SYR",
                      74.143
                    ],
                    [
                      "TWN",
                      78.4
                    ],
                    [
                      "TZA",
                      52.517
                    ],
                    [
                      "THA",
                      70.616
                    ],
                    [
                      "TGO",
                      58.42
                    ],
                    [
                      "TTO",
                      69.819
                    ],
                    [
                      "TUN",
                      73.923
                    ],
                    [
                      "TUR",
                      71.777
                    ],
                    [
                      "UGA",
                      51.542
                    ],
                    [
                      "GBR",
                      79.425
                    ],
                    [
                      "USA",
                      78.242
                    ],
                    [
                      "URY",
                      76.384
                    ],
                    [
                      "VEN",
                      73.747
                    ],
                    [
                      "VNM",
                      74.249
                    ],
                    [
                      "PSE",
                      73.422
                    ],
                    [
                      "YEM",
                      62.698
                    ],
                    [
                      "ZMB",
                      42.38399999999999
                    ],
                    [
                      "ZWE",
                      43.487
                    ],
                    [
                      "(?)",
                      54.56441057558197
                    ],
                    [
                      "(?)",
                      75.35668222743027
                    ],
                    [
                      "(?)",
                      69.44386304205017
                    ],
                    [
                      "(?)",
                      77.89057081069897
                    ],
                    [
                      "(?)",
                      81.06215400970112
                    ]
                  ],
                  "domain": {
                    "x": [
                      0,
                      1
                    ],
                    "y": [
                      0,
                      1
                    ]
                  },
                  "hovertemplate": "labels=%{label}<br>pop=%{value}<br>parent=%{parent}<br>id=%{id}<br>iso_alpha=%{customdata[0]}<br>lifeExp=%{color}<extra></extra>",
                  "ids": [
                    "Asia/Afghanistan",
                    "Europe/Albania",
                    "Africa/Algeria",
                    "Africa/Angola",
                    "Americas/Argentina",
                    "Oceania/Australia",
                    "Europe/Austria",
                    "Asia/Bahrain",
                    "Asia/Bangladesh",
                    "Europe/Belgium",
                    "Africa/Benin",
                    "Americas/Bolivia",
                    "Europe/Bosnia and Herzegovina",
                    "Africa/Botswana",
                    "Americas/Brazil",
                    "Europe/Bulgaria",
                    "Africa/Burkina Faso",
                    "Africa/Burundi",
                    "Asia/Cambodia",
                    "Africa/Cameroon",
                    "Americas/Canada",
                    "Africa/Central African Republic",
                    "Africa/Chad",
                    "Americas/Chile",
                    "Asia/China",
                    "Americas/Colombia",
                    "Africa/Comoros",
                    "Africa/Congo, Dem. Rep.",
                    "Africa/Congo, Rep.",
                    "Americas/Costa Rica",
                    "Africa/Cote d'Ivoire",
                    "Europe/Croatia",
                    "Americas/Cuba",
                    "Europe/Czech Republic",
                    "Europe/Denmark",
                    "Africa/Djibouti",
                    "Americas/Dominican Republic",
                    "Americas/Ecuador",
                    "Africa/Egypt",
                    "Americas/El Salvador",
                    "Africa/Equatorial Guinea",
                    "Africa/Eritrea",
                    "Africa/Ethiopia",
                    "Europe/Finland",
                    "Europe/France",
                    "Africa/Gabon",
                    "Africa/Gambia",
                    "Europe/Germany",
                    "Africa/Ghana",
                    "Europe/Greece",
                    "Americas/Guatemala",
                    "Africa/Guinea",
                    "Africa/Guinea-Bissau",
                    "Americas/Haiti",
                    "Americas/Honduras",
                    "Asia/Hong Kong, China",
                    "Europe/Hungary",
                    "Europe/Iceland",
                    "Asia/India",
                    "Asia/Indonesia",
                    "Asia/Iran",
                    "Asia/Iraq",
                    "Europe/Ireland",
                    "Asia/Israel",
                    "Europe/Italy",
                    "Americas/Jamaica",
                    "Asia/Japan",
                    "Asia/Jordan",
                    "Africa/Kenya",
                    "Asia/Korea, Dem. Rep.",
                    "Asia/Korea, Rep.",
                    "Asia/Kuwait",
                    "Asia/Lebanon",
                    "Africa/Lesotho",
                    "Africa/Liberia",
                    "Africa/Libya",
                    "Africa/Madagascar",
                    "Africa/Malawi",
                    "Asia/Malaysia",
                    "Africa/Mali",
                    "Africa/Mauritania",
                    "Africa/Mauritius",
                    "Americas/Mexico",
                    "Asia/Mongolia",
                    "Europe/Montenegro",
                    "Africa/Morocco",
                    "Africa/Mozambique",
                    "Asia/Myanmar",
                    "Africa/Namibia",
                    "Asia/Nepal",
                    "Europe/Netherlands",
                    "Oceania/New Zealand",
                    "Americas/Nicaragua",
                    "Africa/Niger",
                    "Africa/Nigeria",
                    "Europe/Norway",
                    "Asia/Oman",
                    "Asia/Pakistan",
                    "Americas/Panama",
                    "Americas/Paraguay",
                    "Americas/Peru",
                    "Asia/Philippines",
                    "Europe/Poland",
                    "Europe/Portugal",
                    "Americas/Puerto Rico",
                    "Africa/Reunion",
                    "Europe/Romania",
                    "Africa/Rwanda",
                    "Africa/Sao Tome and Principe",
                    "Asia/Saudi Arabia",
                    "Africa/Senegal",
                    "Europe/Serbia",
                    "Africa/Sierra Leone",
                    "Asia/Singapore",
                    "Europe/Slovak Republic",
                    "Europe/Slovenia",
                    "Africa/Somalia",
                    "Africa/South Africa",
                    "Europe/Spain",
                    "Asia/Sri Lanka",
                    "Africa/Sudan",
                    "Africa/Swaziland",
                    "Europe/Sweden",
                    "Europe/Switzerland",
                    "Asia/Syria",
                    "Asia/Taiwan",
                    "Africa/Tanzania",
                    "Asia/Thailand",
                    "Africa/Togo",
                    "Americas/Trinidad and Tobago",
                    "Africa/Tunisia",
                    "Europe/Turkey",
                    "Africa/Uganda",
                    "Europe/United Kingdom",
                    "Americas/United States",
                    "Americas/Uruguay",
                    "Americas/Venezuela",
                    "Asia/Vietnam",
                    "Asia/West Bank and Gaza",
                    "Asia/Yemen, Rep.",
                    "Africa/Zambia",
                    "Africa/Zimbabwe",
                    "Africa",
                    "Americas",
                    "Asia",
                    "Europe",
                    "Oceania"
                  ],
                  "labels": [
                    "Afghanistan",
                    "Albania",
                    "Algeria",
                    "Angola",
                    "Argentina",
                    "Australia",
                    "Austria",
                    "Bahrain",
                    "Bangladesh",
                    "Belgium",
                    "Benin",
                    "Bolivia",
                    "Bosnia and Herzegovina",
                    "Botswana",
                    "Brazil",
                    "Bulgaria",
                    "Burkina Faso",
                    "Burundi",
                    "Cambodia",
                    "Cameroon",
                    "Canada",
                    "Central African Republic",
                    "Chad",
                    "Chile",
                    "China",
                    "Colombia",
                    "Comoros",
                    "Congo, Dem. Rep.",
                    "Congo, Rep.",
                    "Costa Rica",
                    "Cote d'Ivoire",
                    "Croatia",
                    "Cuba",
                    "Czech Republic",
                    "Denmark",
                    "Djibouti",
                    "Dominican Republic",
                    "Ecuador",
                    "Egypt",
                    "El Salvador",
                    "Equatorial Guinea",
                    "Eritrea",
                    "Ethiopia",
                    "Finland",
                    "France",
                    "Gabon",
                    "Gambia",
                    "Germany",
                    "Ghana",
                    "Greece",
                    "Guatemala",
                    "Guinea",
                    "Guinea-Bissau",
                    "Haiti",
                    "Honduras",
                    "Hong Kong, China",
                    "Hungary",
                    "Iceland",
                    "India",
                    "Indonesia",
                    "Iran",
                    "Iraq",
                    "Ireland",
                    "Israel",
                    "Italy",
                    "Jamaica",
                    "Japan",
                    "Jordan",
                    "Kenya",
                    "Korea, Dem. Rep.",
                    "Korea, Rep.",
                    "Kuwait",
                    "Lebanon",
                    "Lesotho",
                    "Liberia",
                    "Libya",
                    "Madagascar",
                    "Malawi",
                    "Malaysia",
                    "Mali",
                    "Mauritania",
                    "Mauritius",
                    "Mexico",
                    "Mongolia",
                    "Montenegro",
                    "Morocco",
                    "Mozambique",
                    "Myanmar",
                    "Namibia",
                    "Nepal",
                    "Netherlands",
                    "New Zealand",
                    "Nicaragua",
                    "Niger",
                    "Nigeria",
                    "Norway",
                    "Oman",
                    "Pakistan",
                    "Panama",
                    "Paraguay",
                    "Peru",
                    "Philippines",
                    "Poland",
                    "Portugal",
                    "Puerto Rico",
                    "Reunion",
                    "Romania",
                    "Rwanda",
                    "Sao Tome and Principe",
                    "Saudi Arabia",
                    "Senegal",
                    "Serbia",
                    "Sierra Leone",
                    "Singapore",
                    "Slovak Republic",
                    "Slovenia",
                    "Somalia",
                    "South Africa",
                    "Spain",
                    "Sri Lanka",
                    "Sudan",
                    "Swaziland",
                    "Sweden",
                    "Switzerland",
                    "Syria",
                    "Taiwan",
                    "Tanzania",
                    "Thailand",
                    "Togo",
                    "Trinidad and Tobago",
                    "Tunisia",
                    "Turkey",
                    "Uganda",
                    "United Kingdom",
                    "United States",
                    "Uruguay",
                    "Venezuela",
                    "Vietnam",
                    "West Bank and Gaza",
                    "Yemen, Rep.",
                    "Zambia",
                    "Zimbabwe",
                    "Africa",
                    "Americas",
                    "Asia",
                    "Europe",
                    "Oceania"
                  ],
                  "marker": {
                    "coloraxis": "coloraxis",
                    "colors": [
                      43.828,
                      76.423,
                      72.301,
                      42.731,
                      75.32,
                      81.235,
                      79.829,
                      75.635,
                      64.062,
                      79.441,
                      56.728,
                      65.554,
                      74.852,
                      50.728,
                      72.39,
                      73.005,
                      52.295,
                      49.58,
                      59.723,
                      50.43,
                      80.65300000000002,
                      44.74100000000001,
                      50.651,
                      78.553,
                      72.961,
                      72.889,
                      65.152,
                      46.462,
                      55.322,
                      78.782,
                      48.328,
                      75.748,
                      78.273,
                      76.486,
                      78.332,
                      54.791,
                      72.235,
                      74.994,
                      71.33800000000002,
                      71.878,
                      51.57899999999999,
                      58.03999999999999,
                      52.947,
                      79.313,
                      80.65699999999998,
                      56.73500000000001,
                      59.448,
                      79.406,
                      60.02199999999999,
                      79.483,
                      70.259,
                      56.007,
                      46.38800000000001,
                      60.916,
                      70.19800000000001,
                      82.208,
                      73.33800000000002,
                      81.757,
                      64.69800000000001,
                      70.65,
                      70.964,
                      59.545,
                      78.885,
                      80.745,
                      80.546,
                      72.567,
                      82.603,
                      72.535,
                      54.11,
                      67.297,
                      78.623,
                      77.58800000000002,
                      71.993,
                      42.592,
                      45.678,
                      73.952,
                      59.443000000000005,
                      48.303,
                      74.241,
                      54.467,
                      64.164,
                      72.801,
                      76.195,
                      66.803,
                      74.543,
                      71.164,
                      42.082,
                      62.06900000000001,
                      52.90600000000001,
                      63.785,
                      79.762,
                      80.204,
                      72.899,
                      56.867,
                      46.859,
                      80.196,
                      75.64,
                      65.483,
                      75.53699999999998,
                      71.752,
                      71.421,
                      71.688,
                      75.563,
                      78.098,
                      78.74600000000002,
                      76.442,
                      72.476,
                      46.242,
                      65.528,
                      72.777,
                      63.062,
                      74.002,
                      42.56800000000001,
                      79.972,
                      74.663,
                      77.926,
                      48.159,
                      49.339,
                      80.941,
                      72.396,
                      58.55599999999999,
                      39.613,
                      80.884,
                      81.70100000000002,
                      74.143,
                      78.4,
                      52.517,
                      70.616,
                      58.42,
                      69.819,
                      73.923,
                      71.777,
                      51.542,
                      79.425,
                      78.242,
                      76.384,
                      73.747,
                      74.249,
                      73.422,
                      62.698,
                      42.38399999999999,
                      43.487,
                      54.56441057558197,
                      75.35668222743027,
                      69.44386304205017,
                      77.89057081069897,
                      81.06215400970112
                    ]
                  },
                  "name": "",
                  "parents": [
                    "Asia",
                    "Europe",
                    "Africa",
                    "Africa",
                    "Americas",
                    "Oceania",
                    "Europe",
                    "Asia",
                    "Asia",
                    "Europe",
                    "Africa",
                    "Americas",
                    "Europe",
                    "Africa",
                    "Americas",
                    "Europe",
                    "Africa",
                    "Africa",
                    "Asia",
                    "Africa",
                    "Americas",
                    "Africa",
                    "Africa",
                    "Americas",
                    "Asia",
                    "Americas",
                    "Africa",
                    "Africa",
                    "Africa",
                    "Americas",
                    "Africa",
                    "Europe",
                    "Americas",
                    "Europe",
                    "Europe",
                    "Africa",
                    "Americas",
                    "Americas",
                    "Africa",
                    "Americas",
                    "Africa",
                    "Africa",
                    "Africa",
                    "Europe",
                    "Europe",
                    "Africa",
                    "Africa",
                    "Europe",
                    "Africa",
                    "Europe",
                    "Americas",
                    "Africa",
                    "Africa",
                    "Americas",
                    "Americas",
                    "Asia",
                    "Europe",
                    "Europe",
                    "Asia",
                    "Asia",
                    "Asia",
                    "Asia",
                    "Europe",
                    "Asia",
                    "Europe",
                    "Americas",
                    "Asia",
                    "Asia",
                    "Africa",
                    "Asia",
                    "Asia",
                    "Asia",
                    "Asia",
                    "Africa",
                    "Africa",
                    "Africa",
                    "Africa",
                    "Africa",
                    "Asia",
                    "Africa",
                    "Africa",
                    "Africa",
                    "Americas",
                    "Asia",
                    "Europe",
                    "Africa",
                    "Africa",
                    "Asia",
                    "Africa",
                    "Asia",
                    "Europe",
                    "Oceania",
                    "Americas",
                    "Africa",
                    "Africa",
                    "Europe",
                    "Asia",
                    "Asia",
                    "Americas",
                    "Americas",
                    "Americas",
                    "Asia",
                    "Europe",
                    "Europe",
                    "Americas",
                    "Africa",
                    "Europe",
                    "Africa",
                    "Africa",
                    "Asia",
                    "Africa",
                    "Europe",
                    "Africa",
                    "Asia",
                    "Europe",
                    "Europe",
                    "Africa",
                    "Africa",
                    "Europe",
                    "Asia",
                    "Africa",
                    "Africa",
                    "Europe",
                    "Europe",
                    "Asia",
                    "Asia",
                    "Africa",
                    "Asia",
                    "Africa",
                    "Americas",
                    "Africa",
                    "Europe",
                    "Africa",
                    "Europe",
                    "Americas",
                    "Americas",
                    "Americas",
                    "Asia",
                    "Asia",
                    "Asia",
                    "Africa",
                    "Africa",
                    "",
                    "",
                    "",
                    "",
                    ""
                  ],
                  "type": "sunburst",
                  "values": [
                    31889923,
                    3600523,
                    33333216,
                    12420476,
                    40301927,
                    20434176,
                    8199783,
                    708573,
                    150448339,
                    10392226,
                    8078314,
                    9119152,
                    4552198,
                    1639131,
                    190010647,
                    7322858,
                    14326203,
                    8390505,
                    14131858,
                    17696293,
                    33390141,
                    4369038,
                    10238807,
                    16284741,
                    1318683096,
                    44227550,
                    710960,
                    64606759,
                    3800610,
                    4133884,
                    18013409,
                    4493312,
                    11416987,
                    10228744,
                    5468120,
                    496374,
                    9319622,
                    13755680,
                    80264543,
                    6939688,
                    551201,
                    4906585,
                    76511887,
                    5238460,
                    61083916,
                    1454867,
                    1688359,
                    82400996,
                    22873338,
                    10706290,
                    12572928,
                    9947814,
                    1472041,
                    8502814,
                    7483763,
                    6980412,
                    9956108,
                    301931,
                    1110396331,
                    223547000,
                    69453570,
                    27499638,
                    4109086,
                    6426679,
                    58147733,
                    2780132,
                    127467972,
                    6053193,
                    35610177,
                    23301725,
                    49044790,
                    2505559,
                    3921278,
                    2012649,
                    3193942,
                    6036914,
                    19167654,
                    13327079,
                    24821286,
                    12031795,
                    3270065,
                    1250882,
                    108700891,
                    2874127,
                    684736,
                    33757175,
                    19951656,
                    47761980,
                    2055080,
                    28901790,
                    16570613,
                    4115771,
                    5675356,
                    12894865,
                    135031164,
                    4627926,
                    3204897,
                    169270617,
                    3242173,
                    6667147,
                    28674757,
                    91077287,
                    38518241,
                    10642836,
                    3942491,
                    798094,
                    22276056,
                    8860588,
                    199579,
                    27601038,
                    12267493,
                    10150265,
                    6144562,
                    4553009,
                    5447502,
                    2009245,
                    9118773,
                    43997828,
                    40448191,
                    20378239,
                    42292929,
                    1133066,
                    9031088,
                    7554661,
                    19314747,
                    23174294,
                    38139640,
                    65068149,
                    5701579,
                    1056608,
                    10276158,
                    71158647,
                    29170398,
                    60776238,
                    301139947,
                    3447496,
                    26084662,
                    85262356,
                    4018332,
                    22211743,
                    11746035,
                    12311143,
                    929539692,
                    898871184,
                    3811953827,
                    586098529,
                    24549947
                  ]
                }
              ],
              "layout": {
                "coloraxis": {
                  "colorbar": {
                    "title": {
                      "text": "lifeExp"
                    }
                  },
                  "colorscale": [
                    [
                      0,
                      "#0d0887"
                    ],
                    [
                      0.1111111111111111,
                      "#46039f"
                    ],
                    [
                      0.2222222222222222,
                      "#7201a8"
                    ],
                    [
                      0.3333333333333333,
                      "#9c179e"
                    ],
                    [
                      0.4444444444444444,
                      "#bd3786"
                    ],
                    [
                      0.5555555555555556,
                      "#d8576b"
                    ],
                    [
                      0.6666666666666666,
                      "#ed7953"
                    ],
                    [
                      0.7777777777777778,
                      "#fb9f3a"
                    ],
                    [
                      0.8888888888888888,
                      "#fdca26"
                    ],
                    [
                      1,
                      "#f0f921"
                    ]
                  ]
                },
                "legend": {
                  "tracegroupgap": 0
                },
                "margin": {
                  "t": 60
                },
                "template": {
                  "data": {
                    "bar": [
                      {
                        "error_x": {
                          "color": "#2a3f5f"
                        },
                        "error_y": {
                          "color": "#2a3f5f"
                        },
                        "marker": {
                          "line": {
                            "color": "#E5ECF6",
                            "width": 0.5
                          },
                          "pattern": {
                            "fillmode": "overlay",
                            "size": 10,
                            "solidity": 0.2
                          }
                        },
                        "type": "bar"
                      }
                    ],
                    "barpolar": [
                      {
                        "marker": {
                          "line": {
                            "color": "#E5ECF6",
                            "width": 0.5
                          },
                          "pattern": {
                            "fillmode": "overlay",
                            "size": 10,
                            "solidity": 0.2
                          }
                        },
                        "type": "barpolar"
                      }
                    ],
                    "carpet": [
                      {
                        "aaxis": {
                          "endlinecolor": "#2a3f5f",
                          "gridcolor": "white",
                          "linecolor": "white",
                          "minorgridcolor": "white",
                          "startlinecolor": "#2a3f5f"
                        },
                        "baxis": {
                          "endlinecolor": "#2a3f5f",
                          "gridcolor": "white",
                          "linecolor": "white",
                          "minorgridcolor": "white",
                          "startlinecolor": "#2a3f5f"
                        },
                        "type": "carpet"
                      }
                    ],
                    "choropleth": [
                      {
                        "colorbar": {
                          "outlinewidth": 0,
                          "ticks": ""
                        },
                        "type": "choropleth"
                      }
                    ],
                    "contour": [
                      {
                        "colorbar": {
                          "outlinewidth": 0,
                          "ticks": ""
                        },
                        "colorscale": [
                          [
                            0,
                            "#0d0887"
                          ],
                          [
                            0.1111111111111111,
                            "#46039f"
                          ],
                          [
                            0.2222222222222222,
                            "#7201a8"
                          ],
                          [
                            0.3333333333333333,
                            "#9c179e"
                          ],
                          [
                            0.4444444444444444,
                            "#bd3786"
                          ],
                          [
                            0.5555555555555556,
                            "#d8576b"
                          ],
                          [
                            0.6666666666666666,
                            "#ed7953"
                          ],
                          [
                            0.7777777777777778,
                            "#fb9f3a"
                          ],
                          [
                            0.8888888888888888,
                            "#fdca26"
                          ],
                          [
                            1,
                            "#f0f921"
                          ]
                        ],
                        "type": "contour"
                      }
                    ],
                    "contourcarpet": [
                      {
                        "colorbar": {
                          "outlinewidth": 0,
                          "ticks": ""
                        },
                        "type": "contourcarpet"
                      }
                    ],
                    "heatmap": [
                      {
                        "colorbar": {
                          "outlinewidth": 0,
                          "ticks": ""
                        },
                        "colorscale": [
                          [
                            0,
                            "#0d0887"
                          ],
                          [
                            0.1111111111111111,
                            "#46039f"
                          ],
                          [
                            0.2222222222222222,
                            "#7201a8"
                          ],
                          [
                            0.3333333333333333,
                            "#9c179e"
                          ],
                          [
                            0.4444444444444444,
                            "#bd3786"
                          ],
                          [
                            0.5555555555555556,
                            "#d8576b"
                          ],
                          [
                            0.6666666666666666,
                            "#ed7953"
                          ],
                          [
                            0.7777777777777778,
                            "#fb9f3a"
                          ],
                          [
                            0.8888888888888888,
                            "#fdca26"
                          ],
                          [
                            1,
                            "#f0f921"
                          ]
                        ],
                        "type": "heatmap"
                      }
                    ],
                    "heatmapgl": [
                      {
                        "colorbar": {
                          "outlinewidth": 0,
                          "ticks": ""
                        },
                        "colorscale": [
                          [
                            0,
                            "#0d0887"
                          ],
                          [
                            0.1111111111111111,
                            "#46039f"
                          ],
                          [
                            0.2222222222222222,
                            "#7201a8"
                          ],
                          [
                            0.3333333333333333,
                            "#9c179e"
                          ],
                          [
                            0.4444444444444444,
                            "#bd3786"
                          ],
                          [
                            0.5555555555555556,
                            "#d8576b"
                          ],
                          [
                            0.6666666666666666,
                            "#ed7953"
                          ],
                          [
                            0.7777777777777778,
                            "#fb9f3a"
                          ],
                          [
                            0.8888888888888888,
                            "#fdca26"
                          ],
                          [
                            1,
                            "#f0f921"
                          ]
                        ],
                        "type": "heatmapgl"
                      }
                    ],
                    "histogram": [
                      {
                        "marker": {
                          "pattern": {
                            "fillmode": "overlay",
                            "size": 10,
                            "solidity": 0.2
                          }
                        },
                        "type": "histogram"
                      }
                    ],
                    "histogram2d": [
                      {
                        "colorbar": {
                          "outlinewidth": 0,
                          "ticks": ""
                        },
                        "colorscale": [
                          [
                            0,
                            "#0d0887"
                          ],
                          [
                            0.1111111111111111,
                            "#46039f"
                          ],
                          [
                            0.2222222222222222,
                            "#7201a8"
                          ],
                          [
                            0.3333333333333333,
                            "#9c179e"
                          ],
                          [
                            0.4444444444444444,
                            "#bd3786"
                          ],
                          [
                            0.5555555555555556,
                            "#d8576b"
                          ],
                          [
                            0.6666666666666666,
                            "#ed7953"
                          ],
                          [
                            0.7777777777777778,
                            "#fb9f3a"
                          ],
                          [
                            0.8888888888888888,
                            "#fdca26"
                          ],
                          [
                            1,
                            "#f0f921"
                          ]
                        ],
                        "type": "histogram2d"
                      }
                    ],
                    "histogram2dcontour": [
                      {
                        "colorbar": {
                          "outlinewidth": 0,
                          "ticks": ""
                        },
                        "colorscale": [
                          [
                            0,
                            "#0d0887"
                          ],
                          [
                            0.1111111111111111,
                            "#46039f"
                          ],
                          [
                            0.2222222222222222,
                            "#7201a8"
                          ],
                          [
                            0.3333333333333333,
                            "#9c179e"
                          ],
                          [
                            0.4444444444444444,
                            "#bd3786"
                          ],
                          [
                            0.5555555555555556,
                            "#d8576b"
                          ],
                          [
                            0.6666666666666666,
                            "#ed7953"
                          ],
                          [
                            0.7777777777777778,
                            "#fb9f3a"
                          ],
                          [
                            0.8888888888888888,
                            "#fdca26"
                          ],
                          [
                            1,
                            "#f0f921"
                          ]
                        ],
                        "type": "histogram2dcontour"
                      }
                    ],
                    "mesh3d": [
                      {
                        "colorbar": {
                          "outlinewidth": 0,
                          "ticks": ""
                        },
                        "type": "mesh3d"
                      }
                    ],
                    "parcoords": [
                      {
                        "line": {
                          "colorbar": {
                            "outlinewidth": 0,
                            "ticks": ""
                          }
                        },
                        "type": "parcoords"
                      }
                    ],
                    "pie": [
                      {
                        "automargin": true,
                        "type": "pie"
                      }
                    ],
                    "scatter": [
                      {
                        "fillpattern": {
                          "fillmode": "overlay",
                          "size": 10,
                          "solidity": 0.2
                        },
                        "type": "scatter"
                      }
                    ],
                    "scatter3d": [
                      {
                        "line": {
                          "colorbar": {
                            "outlinewidth": 0,
                            "ticks": ""
                          }
                        },
                        "marker": {
                          "colorbar": {
                            "outlinewidth": 0,
                            "ticks": ""
                          }
                        },
                        "type": "scatter3d"
                      }
                    ],
                    "scattercarpet": [
                      {
                        "marker": {
                          "colorbar": {
                            "outlinewidth": 0,
                            "ticks": ""
                          }
                        },
                        "type": "scattercarpet"
                      }
                    ],
                    "scattergeo": [
                      {
                        "marker": {
                          "colorbar": {
                            "outlinewidth": 0,
                            "ticks": ""
                          }
                        },
                        "type": "scattergeo"
                      }
                    ],
                    "scattergl": [
                      {
                        "marker": {
                          "colorbar": {
                            "outlinewidth": 0,
                            "ticks": ""
                          }
                        },
                        "type": "scattergl"
                      }
                    ],
                    "scattermapbox": [
                      {
                        "marker": {
                          "colorbar": {
                            "outlinewidth": 0,
                            "ticks": ""
                          }
                        },
                        "type": "scattermapbox"
                      }
                    ],
                    "scatterpolar": [
                      {
                        "marker": {
                          "colorbar": {
                            "outlinewidth": 0,
                            "ticks": ""
                          }
                        },
                        "type": "scatterpolar"
                      }
                    ],
                    "scatterpolargl": [
                      {
                        "marker": {
                          "colorbar": {
                            "outlinewidth": 0,
                            "ticks": ""
                          }
                        },
                        "type": "scatterpolargl"
                      }
                    ],
                    "scatterternary": [
                      {
                        "marker": {
                          "colorbar": {
                            "outlinewidth": 0,
                            "ticks": ""
                          }
                        },
                        "type": "scatterternary"
                      }
                    ],
                    "surface": [
                      {
                        "colorbar": {
                          "outlinewidth": 0,
                          "ticks": ""
                        },
                        "colorscale": [
                          [
                            0,
                            "#0d0887"
                          ],
                          [
                            0.1111111111111111,
                            "#46039f"
                          ],
                          [
                            0.2222222222222222,
                            "#7201a8"
                          ],
                          [
                            0.3333333333333333,
                            "#9c179e"
                          ],
                          [
                            0.4444444444444444,
                            "#bd3786"
                          ],
                          [
                            0.5555555555555556,
                            "#d8576b"
                          ],
                          [
                            0.6666666666666666,
                            "#ed7953"
                          ],
                          [
                            0.7777777777777778,
                            "#fb9f3a"
                          ],
                          [
                            0.8888888888888888,
                            "#fdca26"
                          ],
                          [
                            1,
                            "#f0f921"
                          ]
                        ],
                        "type": "surface"
                      }
                    ],
                    "table": [
                      {
                        "cells": {
                          "fill": {
                            "color": "#EBF0F8"
                          },
                          "line": {
                            "color": "white"
                          }
                        },
                        "header": {
                          "fill": {
                            "color": "#C8D4E3"
                          },
                          "line": {
                            "color": "white"
                          }
                        },
                        "type": "table"
                      }
                    ]
                  },
                  "layout": {
                    "annotationdefaults": {
                      "arrowcolor": "#2a3f5f",
                      "arrowhead": 0,
                      "arrowwidth": 1
                    },
                    "autotypenumbers": "strict",
                    "coloraxis": {
                      "colorbar": {
                        "outlinewidth": 0,
                        "ticks": ""
                      }
                    },
                    "colorscale": {
                      "diverging": [
                        [
                          0,
                          "#8e0152"
                        ],
                        [
                          0.1,
                          "#c51b7d"
                        ],
                        [
                          0.2,
                          "#de77ae"
                        ],
                        [
                          0.3,
                          "#f1b6da"
                        ],
                        [
                          0.4,
                          "#fde0ef"
                        ],
                        [
                          0.5,
                          "#f7f7f7"
                        ],
                        [
                          0.6,
                          "#e6f5d0"
                        ],
                        [
                          0.7,
                          "#b8e186"
                        ],
                        [
                          0.8,
                          "#7fbc41"
                        ],
                        [
                          0.9,
                          "#4d9221"
                        ],
                        [
                          1,
                          "#276419"
                        ]
                      ],
                      "sequential": [
                        [
                          0,
                          "#0d0887"
                        ],
                        [
                          0.1111111111111111,
                          "#46039f"
                        ],
                        [
                          0.2222222222222222,
                          "#7201a8"
                        ],
                        [
                          0.3333333333333333,
                          "#9c179e"
                        ],
                        [
                          0.4444444444444444,
                          "#bd3786"
                        ],
                        [
                          0.5555555555555556,
                          "#d8576b"
                        ],
                        [
                          0.6666666666666666,
                          "#ed7953"
                        ],
                        [
                          0.7777777777777778,
                          "#fb9f3a"
                        ],
                        [
                          0.8888888888888888,
                          "#fdca26"
                        ],
                        [
                          1,
                          "#f0f921"
                        ]
                      ],
                      "sequentialminus": [
                        [
                          0,
                          "#0d0887"
                        ],
                        [
                          0.1111111111111111,
                          "#46039f"
                        ],
                        [
                          0.2222222222222222,
                          "#7201a8"
                        ],
                        [
                          0.3333333333333333,
                          "#9c179e"
                        ],
                        [
                          0.4444444444444444,
                          "#bd3786"
                        ],
                        [
                          0.5555555555555556,
                          "#d8576b"
                        ],
                        [
                          0.6666666666666666,
                          "#ed7953"
                        ],
                        [
                          0.7777777777777778,
                          "#fb9f3a"
                        ],
                        [
                          0.8888888888888888,
                          "#fdca26"
                        ],
                        [
                          1,
                          "#f0f921"
                        ]
                      ]
                    },
                    "colorway": [
                      "#636efa",
                      "#EF553B",
                      "#00cc96",
                      "#ab63fa",
                      "#FFA15A",
                      "#19d3f3",
                      "#FF6692",
                      "#B6E880",
                      "#FF97FF",
                      "#FECB52"
                    ],
                    "font": {
                      "color": "#2a3f5f"
                    },
                    "geo": {
                      "bgcolor": "white",
                      "lakecolor": "white",
                      "landcolor": "#E5ECF6",
                      "showlakes": true,
                      "showland": true,
                      "subunitcolor": "white"
                    },
                    "hoverlabel": {
                      "align": "left"
                    },
                    "hovermode": "closest",
                    "mapbox": {
                      "style": "light"
                    },
                    "paper_bgcolor": "white",
                    "plot_bgcolor": "#E5ECF6",
                    "polar": {
                      "angularaxis": {
                        "gridcolor": "white",
                        "linecolor": "white",
                        "ticks": ""
                      },
                      "bgcolor": "#E5ECF6",
                      "radialaxis": {
                        "gridcolor": "white",
                        "linecolor": "white",
                        "ticks": ""
                      }
                    },
                    "scene": {
                      "xaxis": {
                        "backgroundcolor": "#E5ECF6",
                        "gridcolor": "white",
                        "gridwidth": 2,
                        "linecolor": "white",
                        "showbackground": true,
                        "ticks": "",
                        "zerolinecolor": "white"
                      },
                      "yaxis": {
                        "backgroundcolor": "#E5ECF6",
                        "gridcolor": "white",
                        "gridwidth": 2,
                        "linecolor": "white",
                        "showbackground": true,
                        "ticks": "",
                        "zerolinecolor": "white"
                      },
                      "zaxis": {
                        "backgroundcolor": "#E5ECF6",
                        "gridcolor": "white",
                        "gridwidth": 2,
                        "linecolor": "white",
                        "showbackground": true,
                        "ticks": "",
                        "zerolinecolor": "white"
                      }
                    },
                    "shapedefaults": {
                      "line": {
                        "color": "#2a3f5f"
                      }
                    },
                    "ternary": {
                      "aaxis": {
                        "gridcolor": "white",
                        "linecolor": "white",
                        "ticks": ""
                      },
                      "baxis": {
                        "gridcolor": "white",
                        "linecolor": "white",
                        "ticks": ""
                      },
                      "bgcolor": "#E5ECF6",
                      "caxis": {
                        "gridcolor": "white",
                        "linecolor": "white",
                        "ticks": ""
                      }
                    },
                    "title": {
                      "x": 0.05
                    },
                    "xaxis": {
                      "automargin": true,
                      "gridcolor": "white",
                      "linecolor": "white",
                      "ticks": "",
                      "title": {
                        "standoff": 15
                      },
                      "zerolinecolor": "white",
                      "zerolinewidth": 2
                    },
                    "yaxis": {
                      "automargin": true,
                      "gridcolor": "white",
                      "linecolor": "white",
                      "ticks": "",
                      "title": {
                        "standoff": 15
                      },
                      "zerolinecolor": "white",
                      "zerolinewidth": 2
                    }
                  }
                }
              }
            }
          },
          "metadata": {},
          "output_type": "display_data"
        }
      ],
      "source": [
        "df = px.data.gapminder().query(\"year == 2007\")\n",
        "fig = px.sunburst(\n",
        "    df,\n",
        "    path=[\"continent\", \"country\"],\n",
        "    values=\"pop\",\n",
        "    color=\"lifeExp\",\n",
        "    hover_data=[\"iso_alpha\"],\n",
        ")\n",
        "fig.show()"
      ]
    },
    {
      "cell_type": "code",
      "execution_count": 11,
      "metadata": {},
      "outputs": [
        {
          "data": {
            "application/vnd.plotly.v1+json": {
              "config": {
                "plotlyServerURL": "https://plot.ly"
              },
              "data": [
                {
                  "alignmentgroup": "True",
                  "box": {
                    "visible": true
                  },
                  "customdata": [
                    [
                      16.99,
                      "Female",
                      "Sun",
                      "Dinner",
                      2
                    ],
                    [
                      24.59,
                      "Female",
                      "Sun",
                      "Dinner",
                      4
                    ],
                    [
                      35.26,
                      "Female",
                      "Sun",
                      "Dinner",
                      4
                    ],
                    [
                      14.83,
                      "Female",
                      "Sun",
                      "Dinner",
                      2
                    ],
                    [
                      10.33,
                      "Female",
                      "Sun",
                      "Dinner",
                      3
                    ],
                    [
                      16.97,
                      "Female",
                      "Sun",
                      "Dinner",
                      3
                    ],
                    [
                      20.29,
                      "Female",
                      "Sat",
                      "Dinner",
                      2
                    ],
                    [
                      15.77,
                      "Female",
                      "Sat",
                      "Dinner",
                      2
                    ],
                    [
                      19.65,
                      "Female",
                      "Sat",
                      "Dinner",
                      2
                    ],
                    [
                      15.06,
                      "Female",
                      "Sat",
                      "Dinner",
                      2
                    ],
                    [
                      20.69,
                      "Female",
                      "Sat",
                      "Dinner",
                      4
                    ],
                    [
                      16.93,
                      "Female",
                      "Sat",
                      "Dinner",
                      3
                    ],
                    [
                      10.29,
                      "Female",
                      "Sun",
                      "Dinner",
                      2
                    ],
                    [
                      34.81,
                      "Female",
                      "Sun",
                      "Dinner",
                      4
                    ],
                    [
                      26.41,
                      "Female",
                      "Sat",
                      "Dinner",
                      2
                    ],
                    [
                      16.45,
                      "Female",
                      "Sat",
                      "Dinner",
                      2
                    ],
                    [
                      3.07,
                      "Female",
                      "Sat",
                      "Dinner",
                      1
                    ],
                    [
                      17.07,
                      "Female",
                      "Sat",
                      "Dinner",
                      3
                    ],
                    [
                      26.86,
                      "Female",
                      "Sat",
                      "Dinner",
                      2
                    ],
                    [
                      25.28,
                      "Female",
                      "Sat",
                      "Dinner",
                      2
                    ],
                    [
                      14.73,
                      "Female",
                      "Sat",
                      "Dinner",
                      2
                    ],
                    [
                      10.07,
                      "Female",
                      "Thur",
                      "Lunch",
                      1
                    ],
                    [
                      34.83,
                      "Female",
                      "Thur",
                      "Lunch",
                      4
                    ],
                    [
                      5.75,
                      "Female",
                      "Fri",
                      "Dinner",
                      2
                    ],
                    [
                      16.32,
                      "Female",
                      "Fri",
                      "Dinner",
                      2
                    ],
                    [
                      22.75,
                      "Female",
                      "Fri",
                      "Dinner",
                      2
                    ],
                    [
                      11.35,
                      "Female",
                      "Fri",
                      "Dinner",
                      2
                    ],
                    [
                      15.38,
                      "Female",
                      "Fri",
                      "Dinner",
                      2
                    ],
                    [
                      44.3,
                      "Female",
                      "Sat",
                      "Dinner",
                      3
                    ],
                    [
                      22.42,
                      "Female",
                      "Sat",
                      "Dinner",
                      2
                    ],
                    [
                      20.92,
                      "Female",
                      "Sat",
                      "Dinner",
                      2
                    ],
                    [
                      14.31,
                      "Female",
                      "Sat",
                      "Dinner",
                      2
                    ],
                    [
                      7.25,
                      "Female",
                      "Sat",
                      "Dinner",
                      1
                    ],
                    [
                      25.71,
                      "Female",
                      "Sun",
                      "Dinner",
                      3
                    ],
                    [
                      17.31,
                      "Female",
                      "Sun",
                      "Dinner",
                      2
                    ],
                    [
                      10.65,
                      "Female",
                      "Thur",
                      "Lunch",
                      2
                    ],
                    [
                      12.43,
                      "Female",
                      "Thur",
                      "Lunch",
                      2
                    ],
                    [
                      24.08,
                      "Female",
                      "Thur",
                      "Lunch",
                      4
                    ],
                    [
                      13.42,
                      "Female",
                      "Thur",
                      "Lunch",
                      2
                    ],
                    [
                      12.48,
                      "Female",
                      "Thur",
                      "Lunch",
                      2
                    ],
                    [
                      29.8,
                      "Female",
                      "Thur",
                      "Lunch",
                      6
                    ],
                    [
                      14.52,
                      "Female",
                      "Thur",
                      "Lunch",
                      2
                    ],
                    [
                      11.38,
                      "Female",
                      "Thur",
                      "Lunch",
                      2
                    ],
                    [
                      20.27,
                      "Female",
                      "Thur",
                      "Lunch",
                      2
                    ],
                    [
                      11.17,
                      "Female",
                      "Thur",
                      "Lunch",
                      2
                    ],
                    [
                      12.26,
                      "Female",
                      "Thur",
                      "Lunch",
                      2
                    ],
                    [
                      18.26,
                      "Female",
                      "Thur",
                      "Lunch",
                      2
                    ],
                    [
                      8.51,
                      "Female",
                      "Thur",
                      "Lunch",
                      2
                    ],
                    [
                      10.33,
                      "Female",
                      "Thur",
                      "Lunch",
                      2
                    ],
                    [
                      14.15,
                      "Female",
                      "Thur",
                      "Lunch",
                      2
                    ],
                    [
                      13.16,
                      "Female",
                      "Thur",
                      "Lunch",
                      2
                    ],
                    [
                      17.47,
                      "Female",
                      "Thur",
                      "Lunch",
                      2
                    ],
                    [
                      27.05,
                      "Female",
                      "Thur",
                      "Lunch",
                      6
                    ],
                    [
                      16.43,
                      "Female",
                      "Thur",
                      "Lunch",
                      2
                    ],
                    [
                      8.35,
                      "Female",
                      "Thur",
                      "Lunch",
                      2
                    ],
                    [
                      18.64,
                      "Female",
                      "Thur",
                      "Lunch",
                      3
                    ],
                    [
                      11.87,
                      "Female",
                      "Thur",
                      "Lunch",
                      2
                    ],
                    [
                      29.85,
                      "Female",
                      "Sun",
                      "Dinner",
                      5
                    ],
                    [
                      25,
                      "Female",
                      "Sun",
                      "Dinner",
                      4
                    ],
                    [
                      13.39,
                      "Female",
                      "Sun",
                      "Dinner",
                      2
                    ],
                    [
                      16.21,
                      "Female",
                      "Sun",
                      "Dinner",
                      3
                    ],
                    [
                      17.51,
                      "Female",
                      "Sun",
                      "Dinner",
                      2
                    ],
                    [
                      10.59,
                      "Female",
                      "Sat",
                      "Dinner",
                      2
                    ],
                    [
                      10.63,
                      "Female",
                      "Sat",
                      "Dinner",
                      2
                    ],
                    [
                      9.6,
                      "Female",
                      "Sun",
                      "Dinner",
                      2
                    ],
                    [
                      20.9,
                      "Female",
                      "Sun",
                      "Dinner",
                      3
                    ],
                    [
                      18.15,
                      "Female",
                      "Sun",
                      "Dinner",
                      3
                    ],
                    [
                      19.81,
                      "Female",
                      "Thur",
                      "Lunch",
                      2
                    ],
                    [
                      43.11,
                      "Female",
                      "Thur",
                      "Lunch",
                      4
                    ],
                    [
                      13,
                      "Female",
                      "Thur",
                      "Lunch",
                      2
                    ],
                    [
                      12.74,
                      "Female",
                      "Thur",
                      "Lunch",
                      2
                    ],
                    [
                      13,
                      "Female",
                      "Thur",
                      "Lunch",
                      2
                    ],
                    [
                      16.4,
                      "Female",
                      "Thur",
                      "Lunch",
                      2
                    ],
                    [
                      16.47,
                      "Female",
                      "Thur",
                      "Lunch",
                      3
                    ],
                    [
                      12.76,
                      "Female",
                      "Sat",
                      "Dinner",
                      2
                    ],
                    [
                      13.27,
                      "Female",
                      "Sat",
                      "Dinner",
                      2
                    ],
                    [
                      28.17,
                      "Female",
                      "Sat",
                      "Dinner",
                      3
                    ],
                    [
                      12.9,
                      "Female",
                      "Sat",
                      "Dinner",
                      2
                    ],
                    [
                      30.14,
                      "Female",
                      "Sat",
                      "Dinner",
                      4
                    ],
                    [
                      13.42,
                      "Female",
                      "Fri",
                      "Lunch",
                      2
                    ],
                    [
                      15.98,
                      "Female",
                      "Fri",
                      "Lunch",
                      3
                    ],
                    [
                      16.27,
                      "Female",
                      "Fri",
                      "Lunch",
                      2
                    ],
                    [
                      10.09,
                      "Female",
                      "Fri",
                      "Lunch",
                      2
                    ],
                    [
                      22.12,
                      "Female",
                      "Sat",
                      "Dinner",
                      2
                    ],
                    [
                      35.83,
                      "Female",
                      "Sat",
                      "Dinner",
                      3
                    ],
                    [
                      27.18,
                      "Female",
                      "Sat",
                      "Dinner",
                      2
                    ],
                    [
                      18.78,
                      "Female",
                      "Thur",
                      "Dinner",
                      2
                    ]
                  ],
                  "hovertemplate": "sex=%{customdata[1]}<br>smoker=%{x}<br>tip=%{y}<br>total_bill=%{customdata[0]}<br>day=%{customdata[2]}<br>time=%{customdata[3]}<br>size=%{customdata[4]}<extra></extra>",
                  "legendgroup": "Female",
                  "marker": {
                    "color": "#636efa"
                  },
                  "name": "Female",
                  "offsetgroup": "Female",
                  "orientation": "v",
                  "points": "all",
                  "scalegroup": "True",
                  "showlegend": true,
                  "type": "violin",
                  "x": [
                    "No",
                    "No",
                    "No",
                    "No",
                    "No",
                    "No",
                    "No",
                    "No",
                    "No",
                    "No",
                    "No",
                    "No",
                    "No",
                    "No",
                    "No",
                    "No",
                    "Yes",
                    "No",
                    "Yes",
                    "Yes",
                    "No",
                    "No",
                    "No",
                    "Yes",
                    "Yes",
                    "No",
                    "Yes",
                    "Yes",
                    "Yes",
                    "Yes",
                    "No",
                    "Yes",
                    "No",
                    "No",
                    "No",
                    "No",
                    "No",
                    "No",
                    "No",
                    "No",
                    "No",
                    "No",
                    "No",
                    "No",
                    "No",
                    "No",
                    "No",
                    "No",
                    "No",
                    "No",
                    "No",
                    "No",
                    "No",
                    "No",
                    "No",
                    "No",
                    "No",
                    "No",
                    "No",
                    "No",
                    "No",
                    "Yes",
                    "Yes",
                    "Yes",
                    "Yes",
                    "Yes",
                    "Yes",
                    "Yes",
                    "Yes",
                    "Yes",
                    "Yes",
                    "Yes",
                    "Yes",
                    "Yes",
                    "Yes",
                    "Yes",
                    "Yes",
                    "Yes",
                    "Yes",
                    "Yes",
                    "No",
                    "Yes",
                    "Yes",
                    "Yes",
                    "No",
                    "Yes",
                    "No"
                  ],
                  "x0": " ",
                  "xaxis": "x",
                  "y": [
                    1.01,
                    3.61,
                    5,
                    3.02,
                    1.67,
                    3.5,
                    2.75,
                    2.23,
                    3,
                    3,
                    2.45,
                    3.07,
                    2.6,
                    5.2,
                    1.5,
                    2.47,
                    1,
                    3,
                    3.14,
                    5,
                    2.2,
                    1.83,
                    5.17,
                    1,
                    4.3,
                    3.25,
                    2.5,
                    3,
                    2.5,
                    3.48,
                    4.08,
                    4,
                    1,
                    4,
                    3.5,
                    1.5,
                    1.8,
                    2.92,
                    1.68,
                    2.52,
                    4.2,
                    2,
                    2,
                    2.83,
                    1.5,
                    2,
                    3.25,
                    1.25,
                    2,
                    2,
                    2.75,
                    3.5,
                    5,
                    2.3,
                    1.5,
                    1.36,
                    1.63,
                    5.14,
                    3.75,
                    2.61,
                    2,
                    3,
                    1.61,
                    2,
                    4,
                    3.5,
                    3.5,
                    4.19,
                    5,
                    2,
                    2.01,
                    2,
                    2.5,
                    3.23,
                    2.23,
                    2.5,
                    6.5,
                    1.1,
                    3.09,
                    3.48,
                    3,
                    2.5,
                    2,
                    2.88,
                    4.67,
                    2,
                    3
                  ],
                  "y0": " ",
                  "yaxis": "y"
                },
                {
                  "alignmentgroup": "True",
                  "box": {
                    "visible": true
                  },
                  "customdata": [
                    [
                      10.34,
                      "Male",
                      "Sun",
                      "Dinner",
                      3
                    ],
                    [
                      21.01,
                      "Male",
                      "Sun",
                      "Dinner",
                      3
                    ],
                    [
                      23.68,
                      "Male",
                      "Sun",
                      "Dinner",
                      2
                    ],
                    [
                      25.29,
                      "Male",
                      "Sun",
                      "Dinner",
                      4
                    ],
                    [
                      8.77,
                      "Male",
                      "Sun",
                      "Dinner",
                      2
                    ],
                    [
                      26.88,
                      "Male",
                      "Sun",
                      "Dinner",
                      4
                    ],
                    [
                      15.04,
                      "Male",
                      "Sun",
                      "Dinner",
                      2
                    ],
                    [
                      14.78,
                      "Male",
                      "Sun",
                      "Dinner",
                      2
                    ],
                    [
                      10.27,
                      "Male",
                      "Sun",
                      "Dinner",
                      2
                    ],
                    [
                      15.42,
                      "Male",
                      "Sun",
                      "Dinner",
                      2
                    ],
                    [
                      18.43,
                      "Male",
                      "Sun",
                      "Dinner",
                      4
                    ],
                    [
                      21.58,
                      "Male",
                      "Sun",
                      "Dinner",
                      2
                    ],
                    [
                      16.29,
                      "Male",
                      "Sun",
                      "Dinner",
                      3
                    ],
                    [
                      20.65,
                      "Male",
                      "Sat",
                      "Dinner",
                      3
                    ],
                    [
                      17.92,
                      "Male",
                      "Sat",
                      "Dinner",
                      2
                    ],
                    [
                      39.42,
                      "Male",
                      "Sat",
                      "Dinner",
                      4
                    ],
                    [
                      19.82,
                      "Male",
                      "Sat",
                      "Dinner",
                      2
                    ],
                    [
                      17.81,
                      "Male",
                      "Sat",
                      "Dinner",
                      4
                    ],
                    [
                      13.37,
                      "Male",
                      "Sat",
                      "Dinner",
                      2
                    ],
                    [
                      12.69,
                      "Male",
                      "Sat",
                      "Dinner",
                      2
                    ],
                    [
                      21.7,
                      "Male",
                      "Sat",
                      "Dinner",
                      2
                    ],
                    [
                      9.55,
                      "Male",
                      "Sat",
                      "Dinner",
                      2
                    ],
                    [
                      18.35,
                      "Male",
                      "Sat",
                      "Dinner",
                      4
                    ],
                    [
                      17.78,
                      "Male",
                      "Sat",
                      "Dinner",
                      2
                    ],
                    [
                      24.06,
                      "Male",
                      "Sat",
                      "Dinner",
                      3
                    ],
                    [
                      16.31,
                      "Male",
                      "Sat",
                      "Dinner",
                      3
                    ],
                    [
                      18.69,
                      "Male",
                      "Sat",
                      "Dinner",
                      3
                    ],
                    [
                      31.27,
                      "Male",
                      "Sat",
                      "Dinner",
                      3
                    ],
                    [
                      16.04,
                      "Male",
                      "Sat",
                      "Dinner",
                      3
                    ],
                    [
                      17.46,
                      "Male",
                      "Sun",
                      "Dinner",
                      2
                    ],
                    [
                      13.94,
                      "Male",
                      "Sun",
                      "Dinner",
                      2
                    ],
                    [
                      9.68,
                      "Male",
                      "Sun",
                      "Dinner",
                      2
                    ],
                    [
                      30.4,
                      "Male",
                      "Sun",
                      "Dinner",
                      4
                    ],
                    [
                      18.29,
                      "Male",
                      "Sun",
                      "Dinner",
                      2
                    ],
                    [
                      22.23,
                      "Male",
                      "Sun",
                      "Dinner",
                      2
                    ],
                    [
                      32.4,
                      "Male",
                      "Sun",
                      "Dinner",
                      4
                    ],
                    [
                      28.55,
                      "Male",
                      "Sun",
                      "Dinner",
                      3
                    ],
                    [
                      18.04,
                      "Male",
                      "Sun",
                      "Dinner",
                      2
                    ],
                    [
                      12.54,
                      "Male",
                      "Sun",
                      "Dinner",
                      2
                    ],
                    [
                      9.94,
                      "Male",
                      "Sun",
                      "Dinner",
                      2
                    ],
                    [
                      25.56,
                      "Male",
                      "Sun",
                      "Dinner",
                      4
                    ],
                    [
                      19.49,
                      "Male",
                      "Sun",
                      "Dinner",
                      2
                    ],
                    [
                      38.01,
                      "Male",
                      "Sat",
                      "Dinner",
                      4
                    ],
                    [
                      11.24,
                      "Male",
                      "Sat",
                      "Dinner",
                      2
                    ],
                    [
                      48.27,
                      "Male",
                      "Sat",
                      "Dinner",
                      4
                    ],
                    [
                      20.29,
                      "Male",
                      "Sat",
                      "Dinner",
                      2
                    ],
                    [
                      13.81,
                      "Male",
                      "Sat",
                      "Dinner",
                      2
                    ],
                    [
                      11.02,
                      "Male",
                      "Sat",
                      "Dinner",
                      2
                    ],
                    [
                      18.29,
                      "Male",
                      "Sat",
                      "Dinner",
                      4
                    ],
                    [
                      17.59,
                      "Male",
                      "Sat",
                      "Dinner",
                      3
                    ],
                    [
                      20.08,
                      "Male",
                      "Sat",
                      "Dinner",
                      3
                    ],
                    [
                      20.23,
                      "Male",
                      "Sat",
                      "Dinner",
                      2
                    ],
                    [
                      15.01,
                      "Male",
                      "Sat",
                      "Dinner",
                      2
                    ],
                    [
                      12.02,
                      "Male",
                      "Sat",
                      "Dinner",
                      2
                    ],
                    [
                      10.51,
                      "Male",
                      "Sat",
                      "Dinner",
                      2
                    ],
                    [
                      17.92,
                      "Male",
                      "Sat",
                      "Dinner",
                      2
                    ],
                    [
                      27.2,
                      "Male",
                      "Thur",
                      "Lunch",
                      4
                    ],
                    [
                      22.76,
                      "Male",
                      "Thur",
                      "Lunch",
                      2
                    ],
                    [
                      17.29,
                      "Male",
                      "Thur",
                      "Lunch",
                      2
                    ],
                    [
                      19.44,
                      "Male",
                      "Thur",
                      "Lunch",
                      2
                    ],
                    [
                      16.66,
                      "Male",
                      "Thur",
                      "Lunch",
                      2
                    ],
                    [
                      32.68,
                      "Male",
                      "Thur",
                      "Lunch",
                      2
                    ],
                    [
                      15.98,
                      "Male",
                      "Thur",
                      "Lunch",
                      2
                    ],
                    [
                      13.03,
                      "Male",
                      "Thur",
                      "Lunch",
                      2
                    ],
                    [
                      18.28,
                      "Male",
                      "Thur",
                      "Lunch",
                      2
                    ],
                    [
                      24.71,
                      "Male",
                      "Thur",
                      "Lunch",
                      2
                    ],
                    [
                      21.16,
                      "Male",
                      "Thur",
                      "Lunch",
                      2
                    ],
                    [
                      28.97,
                      "Male",
                      "Fri",
                      "Dinner",
                      2
                    ],
                    [
                      22.49,
                      "Male",
                      "Fri",
                      "Dinner",
                      2
                    ],
                    [
                      40.17,
                      "Male",
                      "Fri",
                      "Dinner",
                      4
                    ],
                    [
                      27.28,
                      "Male",
                      "Fri",
                      "Dinner",
                      2
                    ],
                    [
                      12.03,
                      "Male",
                      "Fri",
                      "Dinner",
                      2
                    ],
                    [
                      21.01,
                      "Male",
                      "Fri",
                      "Dinner",
                      2
                    ],
                    [
                      12.46,
                      "Male",
                      "Fri",
                      "Dinner",
                      2
                    ],
                    [
                      15.36,
                      "Male",
                      "Sat",
                      "Dinner",
                      2
                    ],
                    [
                      20.49,
                      "Male",
                      "Sat",
                      "Dinner",
                      2
                    ],
                    [
                      25.21,
                      "Male",
                      "Sat",
                      "Dinner",
                      2
                    ],
                    [
                      18.24,
                      "Male",
                      "Sat",
                      "Dinner",
                      2
                    ],
                    [
                      14,
                      "Male",
                      "Sat",
                      "Dinner",
                      2
                    ],
                    [
                      38.07,
                      "Male",
                      "Sun",
                      "Dinner",
                      3
                    ],
                    [
                      23.95,
                      "Male",
                      "Sun",
                      "Dinner",
                      2
                    ],
                    [
                      29.93,
                      "Male",
                      "Sun",
                      "Dinner",
                      4
                    ],
                    [
                      11.69,
                      "Male",
                      "Thur",
                      "Lunch",
                      2
                    ],
                    [
                      14.26,
                      "Male",
                      "Thur",
                      "Lunch",
                      2
                    ],
                    [
                      15.95,
                      "Male",
                      "Thur",
                      "Lunch",
                      2
                    ],
                    [
                      8.52,
                      "Male",
                      "Thur",
                      "Lunch",
                      2
                    ],
                    [
                      22.82,
                      "Male",
                      "Thur",
                      "Lunch",
                      3
                    ],
                    [
                      19.08,
                      "Male",
                      "Thur",
                      "Lunch",
                      2
                    ],
                    [
                      16,
                      "Male",
                      "Thur",
                      "Lunch",
                      2
                    ],
                    [
                      34.3,
                      "Male",
                      "Thur",
                      "Lunch",
                      6
                    ],
                    [
                      41.19,
                      "Male",
                      "Thur",
                      "Lunch",
                      5
                    ],
                    [
                      9.78,
                      "Male",
                      "Thur",
                      "Lunch",
                      2
                    ],
                    [
                      7.51,
                      "Male",
                      "Thur",
                      "Lunch",
                      2
                    ],
                    [
                      14.07,
                      "Male",
                      "Sun",
                      "Dinner",
                      2
                    ],
                    [
                      13.13,
                      "Male",
                      "Sun",
                      "Dinner",
                      2
                    ],
                    [
                      17.26,
                      "Male",
                      "Sun",
                      "Dinner",
                      3
                    ],
                    [
                      24.55,
                      "Male",
                      "Sun",
                      "Dinner",
                      4
                    ],
                    [
                      19.77,
                      "Male",
                      "Sun",
                      "Dinner",
                      4
                    ],
                    [
                      48.17,
                      "Male",
                      "Sun",
                      "Dinner",
                      6
                    ],
                    [
                      16.49,
                      "Male",
                      "Sun",
                      "Dinner",
                      4
                    ],
                    [
                      21.5,
                      "Male",
                      "Sun",
                      "Dinner",
                      4
                    ],
                    [
                      12.66,
                      "Male",
                      "Sun",
                      "Dinner",
                      2
                    ],
                    [
                      13.81,
                      "Male",
                      "Sun",
                      "Dinner",
                      2
                    ],
                    [
                      24.52,
                      "Male",
                      "Sun",
                      "Dinner",
                      3
                    ],
                    [
                      20.76,
                      "Male",
                      "Sun",
                      "Dinner",
                      2
                    ],
                    [
                      31.71,
                      "Male",
                      "Sun",
                      "Dinner",
                      4
                    ],
                    [
                      50.81,
                      "Male",
                      "Sat",
                      "Dinner",
                      3
                    ],
                    [
                      15.81,
                      "Male",
                      "Sat",
                      "Dinner",
                      2
                    ],
                    [
                      7.25,
                      "Male",
                      "Sun",
                      "Dinner",
                      2
                    ],
                    [
                      31.85,
                      "Male",
                      "Sun",
                      "Dinner",
                      2
                    ],
                    [
                      16.82,
                      "Male",
                      "Sun",
                      "Dinner",
                      2
                    ],
                    [
                      32.9,
                      "Male",
                      "Sun",
                      "Dinner",
                      2
                    ],
                    [
                      17.89,
                      "Male",
                      "Sun",
                      "Dinner",
                      2
                    ],
                    [
                      14.48,
                      "Male",
                      "Sun",
                      "Dinner",
                      2
                    ],
                    [
                      34.63,
                      "Male",
                      "Sun",
                      "Dinner",
                      2
                    ],
                    [
                      34.65,
                      "Male",
                      "Sun",
                      "Dinner",
                      4
                    ],
                    [
                      23.33,
                      "Male",
                      "Sun",
                      "Dinner",
                      2
                    ],
                    [
                      45.35,
                      "Male",
                      "Sun",
                      "Dinner",
                      3
                    ],
                    [
                      23.17,
                      "Male",
                      "Sun",
                      "Dinner",
                      4
                    ],
                    [
                      40.55,
                      "Male",
                      "Sun",
                      "Dinner",
                      2
                    ],
                    [
                      20.69,
                      "Male",
                      "Sun",
                      "Dinner",
                      5
                    ],
                    [
                      30.46,
                      "Male",
                      "Sun",
                      "Dinner",
                      5
                    ],
                    [
                      23.1,
                      "Male",
                      "Sun",
                      "Dinner",
                      3
                    ],
                    [
                      15.69,
                      "Male",
                      "Sun",
                      "Dinner",
                      2
                    ],
                    [
                      28.44,
                      "Male",
                      "Thur",
                      "Lunch",
                      2
                    ],
                    [
                      15.48,
                      "Male",
                      "Thur",
                      "Lunch",
                      2
                    ],
                    [
                      16.58,
                      "Male",
                      "Thur",
                      "Lunch",
                      2
                    ],
                    [
                      7.56,
                      "Male",
                      "Thur",
                      "Lunch",
                      2
                    ],
                    [
                      10.34,
                      "Male",
                      "Thur",
                      "Lunch",
                      2
                    ],
                    [
                      13.51,
                      "Male",
                      "Thur",
                      "Lunch",
                      2
                    ],
                    [
                      18.71,
                      "Male",
                      "Thur",
                      "Lunch",
                      3
                    ],
                    [
                      20.53,
                      "Male",
                      "Thur",
                      "Lunch",
                      4
                    ],
                    [
                      26.59,
                      "Male",
                      "Sat",
                      "Dinner",
                      3
                    ],
                    [
                      38.73,
                      "Male",
                      "Sat",
                      "Dinner",
                      4
                    ],
                    [
                      24.27,
                      "Male",
                      "Sat",
                      "Dinner",
                      2
                    ],
                    [
                      30.06,
                      "Male",
                      "Sat",
                      "Dinner",
                      3
                    ],
                    [
                      25.89,
                      "Male",
                      "Sat",
                      "Dinner",
                      4
                    ],
                    [
                      48.33,
                      "Male",
                      "Sat",
                      "Dinner",
                      4
                    ],
                    [
                      28.15,
                      "Male",
                      "Sat",
                      "Dinner",
                      5
                    ],
                    [
                      11.59,
                      "Male",
                      "Sat",
                      "Dinner",
                      2
                    ],
                    [
                      7.74,
                      "Male",
                      "Sat",
                      "Dinner",
                      2
                    ],
                    [
                      12.16,
                      "Male",
                      "Fri",
                      "Lunch",
                      2
                    ],
                    [
                      8.58,
                      "Male",
                      "Fri",
                      "Lunch",
                      1
                    ],
                    [
                      13.42,
                      "Male",
                      "Fri",
                      "Lunch",
                      2
                    ],
                    [
                      20.45,
                      "Male",
                      "Sat",
                      "Dinner",
                      4
                    ],
                    [
                      13.28,
                      "Male",
                      "Sat",
                      "Dinner",
                      2
                    ],
                    [
                      24.01,
                      "Male",
                      "Sat",
                      "Dinner",
                      4
                    ],
                    [
                      15.69,
                      "Male",
                      "Sat",
                      "Dinner",
                      3
                    ],
                    [
                      11.61,
                      "Male",
                      "Sat",
                      "Dinner",
                      2
                    ],
                    [
                      10.77,
                      "Male",
                      "Sat",
                      "Dinner",
                      2
                    ],
                    [
                      15.53,
                      "Male",
                      "Sat",
                      "Dinner",
                      2
                    ],
                    [
                      10.07,
                      "Male",
                      "Sat",
                      "Dinner",
                      2
                    ],
                    [
                      12.6,
                      "Male",
                      "Sat",
                      "Dinner",
                      2
                    ],
                    [
                      32.83,
                      "Male",
                      "Sat",
                      "Dinner",
                      2
                    ],
                    [
                      29.03,
                      "Male",
                      "Sat",
                      "Dinner",
                      3
                    ],
                    [
                      22.67,
                      "Male",
                      "Sat",
                      "Dinner",
                      2
                    ],
                    [
                      17.82,
                      "Male",
                      "Sat",
                      "Dinner",
                      2
                    ]
                  ],
                  "hovertemplate": "sex=%{customdata[1]}<br>smoker=%{x}<br>tip=%{y}<br>total_bill=%{customdata[0]}<br>day=%{customdata[2]}<br>time=%{customdata[3]}<br>size=%{customdata[4]}<extra></extra>",
                  "legendgroup": "Male",
                  "marker": {
                    "color": "#EF553B"
                  },
                  "name": "Male",
                  "offsetgroup": "Male",
                  "orientation": "v",
                  "points": "all",
                  "scalegroup": "True",
                  "showlegend": true,
                  "type": "violin",
                  "x": [
                    "No",
                    "No",
                    "No",
                    "No",
                    "No",
                    "No",
                    "No",
                    "No",
                    "No",
                    "No",
                    "No",
                    "No",
                    "No",
                    "No",
                    "No",
                    "No",
                    "No",
                    "No",
                    "No",
                    "No",
                    "No",
                    "No",
                    "No",
                    "No",
                    "No",
                    "No",
                    "No",
                    "No",
                    "No",
                    "No",
                    "No",
                    "No",
                    "No",
                    "No",
                    "No",
                    "No",
                    "No",
                    "No",
                    "No",
                    "No",
                    "No",
                    "No",
                    "Yes",
                    "Yes",
                    "No",
                    "Yes",
                    "Yes",
                    "Yes",
                    "Yes",
                    "No",
                    "No",
                    "No",
                    "Yes",
                    "No",
                    "No",
                    "Yes",
                    "No",
                    "No",
                    "No",
                    "Yes",
                    "No",
                    "Yes",
                    "No",
                    "No",
                    "No",
                    "No",
                    "No",
                    "Yes",
                    "No",
                    "Yes",
                    "Yes",
                    "Yes",
                    "Yes",
                    "No",
                    "Yes",
                    "Yes",
                    "Yes",
                    "No",
                    "No",
                    "No",
                    "No",
                    "No",
                    "No",
                    "No",
                    "No",
                    "No",
                    "No",
                    "No",
                    "Yes",
                    "No",
                    "No",
                    "No",
                    "No",
                    "No",
                    "No",
                    "No",
                    "No",
                    "No",
                    "No",
                    "No",
                    "No",
                    "No",
                    "No",
                    "No",
                    "No",
                    "No",
                    "Yes",
                    "Yes",
                    "Yes",
                    "Yes",
                    "Yes",
                    "Yes",
                    "Yes",
                    "Yes",
                    "Yes",
                    "Yes",
                    "Yes",
                    "Yes",
                    "Yes",
                    "Yes",
                    "No",
                    "Yes",
                    "Yes",
                    "Yes",
                    "Yes",
                    "Yes",
                    "Yes",
                    "No",
                    "Yes",
                    "Yes",
                    "Yes",
                    "Yes",
                    "Yes",
                    "Yes",
                    "Yes",
                    "Yes",
                    "Yes",
                    "No",
                    "Yes",
                    "Yes",
                    "Yes",
                    "Yes",
                    "Yes",
                    "Yes",
                    "No",
                    "No",
                    "Yes",
                    "Yes",
                    "No",
                    "No",
                    "Yes",
                    "No",
                    "Yes",
                    "Yes",
                    "No",
                    "Yes",
                    "No"
                  ],
                  "x0": " ",
                  "xaxis": "x",
                  "y": [
                    1.66,
                    3.5,
                    3.31,
                    4.71,
                    2,
                    3.12,
                    1.96,
                    3.23,
                    1.71,
                    1.57,
                    3,
                    3.92,
                    3.71,
                    3.35,
                    4.08,
                    7.58,
                    3.18,
                    2.34,
                    2,
                    2,
                    4.3,
                    1.45,
                    2.5,
                    3.27,
                    3.6,
                    2,
                    2.31,
                    5,
                    2.24,
                    2.54,
                    3.06,
                    1.32,
                    5.6,
                    3,
                    5,
                    6,
                    2.05,
                    3,
                    2.5,
                    1.56,
                    4.34,
                    3.51,
                    3,
                    1.76,
                    6.73,
                    3.21,
                    2,
                    1.98,
                    3.76,
                    2.64,
                    3.15,
                    2.01,
                    2.09,
                    1.97,
                    1.25,
                    3.08,
                    4,
                    3,
                    2.71,
                    3,
                    3.4,
                    5,
                    2.03,
                    2,
                    4,
                    5.85,
                    3,
                    3,
                    3.5,
                    4.73,
                    4,
                    1.5,
                    3,
                    1.5,
                    1.64,
                    4.06,
                    4.29,
                    3.76,
                    3,
                    4,
                    2.55,
                    5.07,
                    2.31,
                    2.5,
                    2,
                    1.48,
                    2.18,
                    1.5,
                    2,
                    6.7,
                    5,
                    1.73,
                    2,
                    2.5,
                    2,
                    2.74,
                    2,
                    2,
                    5,
                    2,
                    3.5,
                    2.5,
                    2,
                    3.48,
                    2.24,
                    4.5,
                    10,
                    3.16,
                    5.15,
                    3.18,
                    4,
                    3.11,
                    2,
                    2,
                    3.55,
                    3.68,
                    5.65,
                    3.5,
                    6.5,
                    3,
                    5,
                    2,
                    4,
                    1.5,
                    2.56,
                    2.02,
                    4,
                    1.44,
                    2,
                    2,
                    4,
                    4,
                    3.41,
                    3,
                    2.03,
                    2,
                    5.16,
                    9,
                    3,
                    1.5,
                    1.44,
                    2.2,
                    1.92,
                    1.58,
                    3,
                    2.72,
                    2,
                    3,
                    3.39,
                    1.47,
                    3,
                    1.25,
                    1,
                    1.17,
                    5.92,
                    2,
                    1.75
                  ],
                  "y0": " ",
                  "yaxis": "y"
                }
              ],
              "layout": {
                "legend": {
                  "title": {
                    "text": "sex"
                  },
                  "tracegroupgap": 0
                },
                "margin": {
                  "t": 60
                },
                "template": {
                  "data": {
                    "bar": [
                      {
                        "error_x": {
                          "color": "#2a3f5f"
                        },
                        "error_y": {
                          "color": "#2a3f5f"
                        },
                        "marker": {
                          "line": {
                            "color": "#E5ECF6",
                            "width": 0.5
                          },
                          "pattern": {
                            "fillmode": "overlay",
                            "size": 10,
                            "solidity": 0.2
                          }
                        },
                        "type": "bar"
                      }
                    ],
                    "barpolar": [
                      {
                        "marker": {
                          "line": {
                            "color": "#E5ECF6",
                            "width": 0.5
                          },
                          "pattern": {
                            "fillmode": "overlay",
                            "size": 10,
                            "solidity": 0.2
                          }
                        },
                        "type": "barpolar"
                      }
                    ],
                    "carpet": [
                      {
                        "aaxis": {
                          "endlinecolor": "#2a3f5f",
                          "gridcolor": "white",
                          "linecolor": "white",
                          "minorgridcolor": "white",
                          "startlinecolor": "#2a3f5f"
                        },
                        "baxis": {
                          "endlinecolor": "#2a3f5f",
                          "gridcolor": "white",
                          "linecolor": "white",
                          "minorgridcolor": "white",
                          "startlinecolor": "#2a3f5f"
                        },
                        "type": "carpet"
                      }
                    ],
                    "choropleth": [
                      {
                        "colorbar": {
                          "outlinewidth": 0,
                          "ticks": ""
                        },
                        "type": "choropleth"
                      }
                    ],
                    "contour": [
                      {
                        "colorbar": {
                          "outlinewidth": 0,
                          "ticks": ""
                        },
                        "colorscale": [
                          [
                            0,
                            "#0d0887"
                          ],
                          [
                            0.1111111111111111,
                            "#46039f"
                          ],
                          [
                            0.2222222222222222,
                            "#7201a8"
                          ],
                          [
                            0.3333333333333333,
                            "#9c179e"
                          ],
                          [
                            0.4444444444444444,
                            "#bd3786"
                          ],
                          [
                            0.5555555555555556,
                            "#d8576b"
                          ],
                          [
                            0.6666666666666666,
                            "#ed7953"
                          ],
                          [
                            0.7777777777777778,
                            "#fb9f3a"
                          ],
                          [
                            0.8888888888888888,
                            "#fdca26"
                          ],
                          [
                            1,
                            "#f0f921"
                          ]
                        ],
                        "type": "contour"
                      }
                    ],
                    "contourcarpet": [
                      {
                        "colorbar": {
                          "outlinewidth": 0,
                          "ticks": ""
                        },
                        "type": "contourcarpet"
                      }
                    ],
                    "heatmap": [
                      {
                        "colorbar": {
                          "outlinewidth": 0,
                          "ticks": ""
                        },
                        "colorscale": [
                          [
                            0,
                            "#0d0887"
                          ],
                          [
                            0.1111111111111111,
                            "#46039f"
                          ],
                          [
                            0.2222222222222222,
                            "#7201a8"
                          ],
                          [
                            0.3333333333333333,
                            "#9c179e"
                          ],
                          [
                            0.4444444444444444,
                            "#bd3786"
                          ],
                          [
                            0.5555555555555556,
                            "#d8576b"
                          ],
                          [
                            0.6666666666666666,
                            "#ed7953"
                          ],
                          [
                            0.7777777777777778,
                            "#fb9f3a"
                          ],
                          [
                            0.8888888888888888,
                            "#fdca26"
                          ],
                          [
                            1,
                            "#f0f921"
                          ]
                        ],
                        "type": "heatmap"
                      }
                    ],
                    "heatmapgl": [
                      {
                        "colorbar": {
                          "outlinewidth": 0,
                          "ticks": ""
                        },
                        "colorscale": [
                          [
                            0,
                            "#0d0887"
                          ],
                          [
                            0.1111111111111111,
                            "#46039f"
                          ],
                          [
                            0.2222222222222222,
                            "#7201a8"
                          ],
                          [
                            0.3333333333333333,
                            "#9c179e"
                          ],
                          [
                            0.4444444444444444,
                            "#bd3786"
                          ],
                          [
                            0.5555555555555556,
                            "#d8576b"
                          ],
                          [
                            0.6666666666666666,
                            "#ed7953"
                          ],
                          [
                            0.7777777777777778,
                            "#fb9f3a"
                          ],
                          [
                            0.8888888888888888,
                            "#fdca26"
                          ],
                          [
                            1,
                            "#f0f921"
                          ]
                        ],
                        "type": "heatmapgl"
                      }
                    ],
                    "histogram": [
                      {
                        "marker": {
                          "pattern": {
                            "fillmode": "overlay",
                            "size": 10,
                            "solidity": 0.2
                          }
                        },
                        "type": "histogram"
                      }
                    ],
                    "histogram2d": [
                      {
                        "colorbar": {
                          "outlinewidth": 0,
                          "ticks": ""
                        },
                        "colorscale": [
                          [
                            0,
                            "#0d0887"
                          ],
                          [
                            0.1111111111111111,
                            "#46039f"
                          ],
                          [
                            0.2222222222222222,
                            "#7201a8"
                          ],
                          [
                            0.3333333333333333,
                            "#9c179e"
                          ],
                          [
                            0.4444444444444444,
                            "#bd3786"
                          ],
                          [
                            0.5555555555555556,
                            "#d8576b"
                          ],
                          [
                            0.6666666666666666,
                            "#ed7953"
                          ],
                          [
                            0.7777777777777778,
                            "#fb9f3a"
                          ],
                          [
                            0.8888888888888888,
                            "#fdca26"
                          ],
                          [
                            1,
                            "#f0f921"
                          ]
                        ],
                        "type": "histogram2d"
                      }
                    ],
                    "histogram2dcontour": [
                      {
                        "colorbar": {
                          "outlinewidth": 0,
                          "ticks": ""
                        },
                        "colorscale": [
                          [
                            0,
                            "#0d0887"
                          ],
                          [
                            0.1111111111111111,
                            "#46039f"
                          ],
                          [
                            0.2222222222222222,
                            "#7201a8"
                          ],
                          [
                            0.3333333333333333,
                            "#9c179e"
                          ],
                          [
                            0.4444444444444444,
                            "#bd3786"
                          ],
                          [
                            0.5555555555555556,
                            "#d8576b"
                          ],
                          [
                            0.6666666666666666,
                            "#ed7953"
                          ],
                          [
                            0.7777777777777778,
                            "#fb9f3a"
                          ],
                          [
                            0.8888888888888888,
                            "#fdca26"
                          ],
                          [
                            1,
                            "#f0f921"
                          ]
                        ],
                        "type": "histogram2dcontour"
                      }
                    ],
                    "mesh3d": [
                      {
                        "colorbar": {
                          "outlinewidth": 0,
                          "ticks": ""
                        },
                        "type": "mesh3d"
                      }
                    ],
                    "parcoords": [
                      {
                        "line": {
                          "colorbar": {
                            "outlinewidth": 0,
                            "ticks": ""
                          }
                        },
                        "type": "parcoords"
                      }
                    ],
                    "pie": [
                      {
                        "automargin": true,
                        "type": "pie"
                      }
                    ],
                    "scatter": [
                      {
                        "fillpattern": {
                          "fillmode": "overlay",
                          "size": 10,
                          "solidity": 0.2
                        },
                        "type": "scatter"
                      }
                    ],
                    "scatter3d": [
                      {
                        "line": {
                          "colorbar": {
                            "outlinewidth": 0,
                            "ticks": ""
                          }
                        },
                        "marker": {
                          "colorbar": {
                            "outlinewidth": 0,
                            "ticks": ""
                          }
                        },
                        "type": "scatter3d"
                      }
                    ],
                    "scattercarpet": [
                      {
                        "marker": {
                          "colorbar": {
                            "outlinewidth": 0,
                            "ticks": ""
                          }
                        },
                        "type": "scattercarpet"
                      }
                    ],
                    "scattergeo": [
                      {
                        "marker": {
                          "colorbar": {
                            "outlinewidth": 0,
                            "ticks": ""
                          }
                        },
                        "type": "scattergeo"
                      }
                    ],
                    "scattergl": [
                      {
                        "marker": {
                          "colorbar": {
                            "outlinewidth": 0,
                            "ticks": ""
                          }
                        },
                        "type": "scattergl"
                      }
                    ],
                    "scattermapbox": [
                      {
                        "marker": {
                          "colorbar": {
                            "outlinewidth": 0,
                            "ticks": ""
                          }
                        },
                        "type": "scattermapbox"
                      }
                    ],
                    "scatterpolar": [
                      {
                        "marker": {
                          "colorbar": {
                            "outlinewidth": 0,
                            "ticks": ""
                          }
                        },
                        "type": "scatterpolar"
                      }
                    ],
                    "scatterpolargl": [
                      {
                        "marker": {
                          "colorbar": {
                            "outlinewidth": 0,
                            "ticks": ""
                          }
                        },
                        "type": "scatterpolargl"
                      }
                    ],
                    "scatterternary": [
                      {
                        "marker": {
                          "colorbar": {
                            "outlinewidth": 0,
                            "ticks": ""
                          }
                        },
                        "type": "scatterternary"
                      }
                    ],
                    "surface": [
                      {
                        "colorbar": {
                          "outlinewidth": 0,
                          "ticks": ""
                        },
                        "colorscale": [
                          [
                            0,
                            "#0d0887"
                          ],
                          [
                            0.1111111111111111,
                            "#46039f"
                          ],
                          [
                            0.2222222222222222,
                            "#7201a8"
                          ],
                          [
                            0.3333333333333333,
                            "#9c179e"
                          ],
                          [
                            0.4444444444444444,
                            "#bd3786"
                          ],
                          [
                            0.5555555555555556,
                            "#d8576b"
                          ],
                          [
                            0.6666666666666666,
                            "#ed7953"
                          ],
                          [
                            0.7777777777777778,
                            "#fb9f3a"
                          ],
                          [
                            0.8888888888888888,
                            "#fdca26"
                          ],
                          [
                            1,
                            "#f0f921"
                          ]
                        ],
                        "type": "surface"
                      }
                    ],
                    "table": [
                      {
                        "cells": {
                          "fill": {
                            "color": "#EBF0F8"
                          },
                          "line": {
                            "color": "white"
                          }
                        },
                        "header": {
                          "fill": {
                            "color": "#C8D4E3"
                          },
                          "line": {
                            "color": "white"
                          }
                        },
                        "type": "table"
                      }
                    ]
                  },
                  "layout": {
                    "annotationdefaults": {
                      "arrowcolor": "#2a3f5f",
                      "arrowhead": 0,
                      "arrowwidth": 1
                    },
                    "autotypenumbers": "strict",
                    "coloraxis": {
                      "colorbar": {
                        "outlinewidth": 0,
                        "ticks": ""
                      }
                    },
                    "colorscale": {
                      "diverging": [
                        [
                          0,
                          "#8e0152"
                        ],
                        [
                          0.1,
                          "#c51b7d"
                        ],
                        [
                          0.2,
                          "#de77ae"
                        ],
                        [
                          0.3,
                          "#f1b6da"
                        ],
                        [
                          0.4,
                          "#fde0ef"
                        ],
                        [
                          0.5,
                          "#f7f7f7"
                        ],
                        [
                          0.6,
                          "#e6f5d0"
                        ],
                        [
                          0.7,
                          "#b8e186"
                        ],
                        [
                          0.8,
                          "#7fbc41"
                        ],
                        [
                          0.9,
                          "#4d9221"
                        ],
                        [
                          1,
                          "#276419"
                        ]
                      ],
                      "sequential": [
                        [
                          0,
                          "#0d0887"
                        ],
                        [
                          0.1111111111111111,
                          "#46039f"
                        ],
                        [
                          0.2222222222222222,
                          "#7201a8"
                        ],
                        [
                          0.3333333333333333,
                          "#9c179e"
                        ],
                        [
                          0.4444444444444444,
                          "#bd3786"
                        ],
                        [
                          0.5555555555555556,
                          "#d8576b"
                        ],
                        [
                          0.6666666666666666,
                          "#ed7953"
                        ],
                        [
                          0.7777777777777778,
                          "#fb9f3a"
                        ],
                        [
                          0.8888888888888888,
                          "#fdca26"
                        ],
                        [
                          1,
                          "#f0f921"
                        ]
                      ],
                      "sequentialminus": [
                        [
                          0,
                          "#0d0887"
                        ],
                        [
                          0.1111111111111111,
                          "#46039f"
                        ],
                        [
                          0.2222222222222222,
                          "#7201a8"
                        ],
                        [
                          0.3333333333333333,
                          "#9c179e"
                        ],
                        [
                          0.4444444444444444,
                          "#bd3786"
                        ],
                        [
                          0.5555555555555556,
                          "#d8576b"
                        ],
                        [
                          0.6666666666666666,
                          "#ed7953"
                        ],
                        [
                          0.7777777777777778,
                          "#fb9f3a"
                        ],
                        [
                          0.8888888888888888,
                          "#fdca26"
                        ],
                        [
                          1,
                          "#f0f921"
                        ]
                      ]
                    },
                    "colorway": [
                      "#636efa",
                      "#EF553B",
                      "#00cc96",
                      "#ab63fa",
                      "#FFA15A",
                      "#19d3f3",
                      "#FF6692",
                      "#B6E880",
                      "#FF97FF",
                      "#FECB52"
                    ],
                    "font": {
                      "color": "#2a3f5f"
                    },
                    "geo": {
                      "bgcolor": "white",
                      "lakecolor": "white",
                      "landcolor": "#E5ECF6",
                      "showlakes": true,
                      "showland": true,
                      "subunitcolor": "white"
                    },
                    "hoverlabel": {
                      "align": "left"
                    },
                    "hovermode": "closest",
                    "mapbox": {
                      "style": "light"
                    },
                    "paper_bgcolor": "white",
                    "plot_bgcolor": "#E5ECF6",
                    "polar": {
                      "angularaxis": {
                        "gridcolor": "white",
                        "linecolor": "white",
                        "ticks": ""
                      },
                      "bgcolor": "#E5ECF6",
                      "radialaxis": {
                        "gridcolor": "white",
                        "linecolor": "white",
                        "ticks": ""
                      }
                    },
                    "scene": {
                      "xaxis": {
                        "backgroundcolor": "#E5ECF6",
                        "gridcolor": "white",
                        "gridwidth": 2,
                        "linecolor": "white",
                        "showbackground": true,
                        "ticks": "",
                        "zerolinecolor": "white"
                      },
                      "yaxis": {
                        "backgroundcolor": "#E5ECF6",
                        "gridcolor": "white",
                        "gridwidth": 2,
                        "linecolor": "white",
                        "showbackground": true,
                        "ticks": "",
                        "zerolinecolor": "white"
                      },
                      "zaxis": {
                        "backgroundcolor": "#E5ECF6",
                        "gridcolor": "white",
                        "gridwidth": 2,
                        "linecolor": "white",
                        "showbackground": true,
                        "ticks": "",
                        "zerolinecolor": "white"
                      }
                    },
                    "shapedefaults": {
                      "line": {
                        "color": "#2a3f5f"
                      }
                    },
                    "ternary": {
                      "aaxis": {
                        "gridcolor": "white",
                        "linecolor": "white",
                        "ticks": ""
                      },
                      "baxis": {
                        "gridcolor": "white",
                        "linecolor": "white",
                        "ticks": ""
                      },
                      "bgcolor": "#E5ECF6",
                      "caxis": {
                        "gridcolor": "white",
                        "linecolor": "white",
                        "ticks": ""
                      }
                    },
                    "title": {
                      "x": 0.05
                    },
                    "xaxis": {
                      "automargin": true,
                      "gridcolor": "white",
                      "linecolor": "white",
                      "ticks": "",
                      "title": {
                        "standoff": 15
                      },
                      "zerolinecolor": "white",
                      "zerolinewidth": 2
                    },
                    "yaxis": {
                      "automargin": true,
                      "gridcolor": "white",
                      "linecolor": "white",
                      "ticks": "",
                      "title": {
                        "standoff": 15
                      },
                      "zerolinecolor": "white",
                      "zerolinewidth": 2
                    }
                  }
                },
                "violinmode": "group",
                "xaxis": {
                  "anchor": "y",
                  "domain": [
                    0,
                    1
                  ],
                  "title": {
                    "text": "smoker"
                  }
                },
                "yaxis": {
                  "anchor": "x",
                  "domain": [
                    0,
                    1
                  ],
                  "title": {
                    "text": "tip"
                  }
                }
              }
            }
          },
          "metadata": {},
          "output_type": "display_data"
        }
      ],
      "source": [
        "df = px.data.tips()\n",
        "fig = px.violin(\n",
        "    df, y=\"tip\", x=\"smoker\", color=\"sex\", box=True, points=\"all\", hover_data=df.columns\n",
        ")\n",
        "fig.show()"
      ]
    },
    {
      "cell_type": "code",
      "execution_count": 12,
      "metadata": {},
      "outputs": [
        {
          "data": {
            "application/vnd.plotly.v1+json": {
              "config": {
                "plotlyServerURL": "https://plot.ly"
              },
              "data": [
                {
                  "hovertemplate": "car_hours=%{marker.size}<br>centroid_lat=%{lat}<br>centroid_lon=%{lon}<br>peak_hour=%{marker.color}<extra></extra>",
                  "lat": [
                    45.471548505146174,
                    45.54386506674422,
                    45.4876395818664,
                    45.52286967122903,
                    45.45397130964701,
                    45.57312570194822,
                    45.53005389171565,
                    45.49919320522112,
                    45.551300651627535,
                    45.55380992033989,
                    45.47448282698679,
                    45.53249580289159,
                    45.56545642757568,
                    45.50298109284952,
                    45.56711856838078,
                    45.480026123563874,
                    45.448903185047335,
                    45.50303089895005,
                    45.609667861846745,
                    45.478348275451104,
                    45.51951352944332,
                    45.56903061932889,
                    45.53626021131554,
                    45.56857291481607,
                    45.54614539811951,
                    45.54488834188077,
                    45.54515565293561,
                    45.47817195218011,
                    45.58212955989256,
                    45.531215706332375,
                    45.55267826328372,
                    45.52915993898732,
                    45.52404418524071,
                    45.50851711032711,
                    45.4880586878363,
                    45.50689566111847,
                    45.57894266654677,
                    45.46892041666329,
                    45.5386616499238,
                    45.58530574012526,
                    45.46252493114867,
                    45.50814302347108,
                    45.55224218643183,
                    45.53306824136229,
                    45.529617524254725,
                    45.56172666348032,
                    45.45886520703704,
                    45.51827128926588,
                    45.46330588193452,
                    45.45722580199571,
                    45.58042126024095,
                    45.51220156451264,
                    45.548176804195634,
                    45.52792120774532,
                    45.58971117459708,
                    45.53066298367023,
                    45.49780367877612,
                    45.53978904565592,
                    45.52977286764973,
                    45.57635821927521,
                    45.592896967066345,
                    45.54282395560971,
                    45.45146052808264,
                    45.50017958704209,
                    45.55959836008312,
                    45.51405331206955,
                    45.52098513669111,
                    45.51969025678738,
                    45.47196677288637,
                    45.4940320553664,
                    45.57383095629989,
                    45.47270552917877,
                    45.58204625444414,
                    45.4810627259832,
                    45.60751580853944,
                    45.50429652950133,
                    45.459862270272,
                    45.550869209779385,
                    45.52515960693799,
                    45.50743686739271,
                    45.54836167081622,
                    45.53036120501041,
                    45.49339463589723,
                    45.49643413195211,
                    45.561211827035706,
                    45.55537527937125,
                    45.52524090241434,
                    45.542945623835706,
                    45.465546068371886,
                    45.51646059071524,
                    45.53280566796844,
                    45.47963265657448,
                    45.45591463685107,
                    45.54630844232351,
                    45.49848094816177,
                    45.528525372523454,
                    45.56579154043406,
                    45.53765718184978,
                    45.47455332862991,
                    45.5279051561684,
                    45.494951534596034,
                    45.465088224907866,
                    45.59654571636812,
                    45.491523525524194,
                    45.51792291961748,
                    45.46777843101408,
                    45.51117458455963,
                    45.54915899878871,
                    45.535767560039695,
                    45.49044848119951,
                    45.538238804018775,
                    45.5277041052173,
                    45.534777091929946,
                    45.48934750923581,
                    45.45408718820735,
                    45.472649739508654,
                    45.55659444198,
                    45.483089972430825,
                    45.49619305656642,
                    45.55742769063361,
                    45.49971820106133,
                    45.48523078626532,
                    45.45863614550253,
                    45.50110763484297,
                    45.50643446059914,
                    45.52764608144713,
                    45.48910798882796,
                    45.52543292800497,
                    45.60326418430284,
                    45.47822467091599,
                    45.56923339719061,
                    45.46715978062781,
                    45.543842954244646,
                    45.47954227936379,
                    45.47510964560248,
                    45.54858377217711,
                    45.54415239549018,
                    45.61087892678886,
                    45.481028563111394,
                    45.52753294236388,
                    45.50713730344406,
                    45.54445300313406,
                    45.53978806387313,
                    45.53344000001958,
                    45.46746637549487,
                    45.53453717264379,
                    45.53658915333014,
                    45.53429759356232,
                    45.52410832338415,
                    45.47265626277289,
                    45.50559257327809,
                    45.51901074555018,
                    45.52540175130616,
                    45.54048050327387,
                    45.48335540200465,
                    45.54220224528534,
                    45.519876273318,
                    45.55095552442233,
                    45.51670639951611,
                    45.53834507417609,
                    45.54348593525155,
                    45.49933518159919,
                    45.57484789346844,
                    45.47790745068288,
                    45.54237585056225,
                    45.46417997825538,
                    45.48897149612501,
                    45.570596118677166,
                    45.549545481512375,
                    45.56161463008111,
                    45.48012052331579,
                    45.546769706786165,
                    45.47728503507936,
                    45.582073874173176,
                    45.53903174724877,
                    45.510890621674776,
                    45.51923221924688,
                    45.55028382655888,
                    45.554677131421606,
                    45.509217063208105,
                    45.54493929194947,
                    45.55102553790574,
                    45.46427660479596,
                    45.53566818785226,
                    45.5222319477743,
                    45.53831624591015,
                    45.47689750165655,
                    45.55427699436827,
                    45.54393996853523,
                    45.54733066622103,
                    45.53172990090744,
                    45.52405372692176,
                    45.52567648569128,
                    45.45566288220533,
                    45.514928037931,
                    45.52875593668882,
                    45.45893633874722,
                    45.52339721689325,
                    45.53380644488978,
                    45.51698913885445,
                    45.47417720458765,
                    45.52430638232658,
                    45.57221159337733,
                    45.53143218128847,
                    45.52029302323953,
                    45.5428521988577,
                    45.51177396205147,
                    45.476699804159765,
                    45.52527451544683,
                    45.52904526725249,
                    45.54589006890641,
                    45.54129653265394,
                    45.52641793678303,
                    45.506014494884326,
                    45.56249120965429,
                    45.518606229301774,
                    45.52203370353778,
                    45.52409679671165,
                    45.52247779646763,
                    45.53961066076051,
                    45.58895991968114,
                    45.54559560319731,
                    45.537473700456566,
                    45.57342046906779,
                    45.53557355419221,
                    45.50192689559106,
                    45.55114485440528,
                    45.53782697365083,
                    45.52940323053624,
                    45.55301895367002,
                    45.55058908283418,
                    45.49619083697144,
                    45.5389132118943,
                    45.535798184139765,
                    45.5313114537718,
                    45.52036705536745,
                    45.48313978581276,
                    45.55297824741078,
                    45.55430120710761,
                    45.57092278674684,
                    45.53361097030694,
                    45.52227967073674,
                    45.57044282123756,
                    45.48626024282493,
                    45.54717058947268,
                    45.546481863801525,
                    45.495523127814025,
                    45.52119924708915,
                    45.53256430507208
                  ],
                  "legendgroup": "",
                  "lon": [
                    -73.58868408217266,
                    -73.56245583980697,
                    -73.64276703077329,
                    -73.5956772508181,
                    -73.73894559925054,
                    -73.53990236454271,
                    -73.62803605045727,
                    -73.56194373919256,
                    -73.61171191446698,
                    -73.57720679008477,
                    -73.63054396371925,
                    -73.57956985159979,
                    -73.64201176723445,
                    -73.62748995674825,
                    -73.58439300639695,
                    -73.58239204679343,
                    -73.59297686556374,
                    -73.5790295367978,
                    -73.54023161013792,
                    -73.57856784133362,
                    -73.5793289407554,
                    -73.52573081459546,
                    -73.56209061086564,
                    -73.56084340953332,
                    -73.59114755541647,
                    -73.63562160484223,
                    -73.6172218179539,
                    -73.56778840803071,
                    -73.5214125066963,
                    -73.60636943656155,
                    -73.60186065688765,
                    -73.61182738988052,
                    -73.57255202228934,
                    -73.56361361279802,
                    -73.62175707085048,
                    -73.63992985736493,
                    -73.5722622021108,
                    -73.61587858172172,
                    -73.65684895574016,
                    -73.556671023514,
                    -73.591450603879,
                    -73.61443790111136,
                    -73.5567248443471,
                    -73.58586652140238,
                    -73.59016001500189,
                    -73.61316030479036,
                    -73.65393428057348,
                    -73.53518132112849,
                    -73.63201646596775,
                    -73.6471457252509,
                    -73.62450277147559,
                    -73.62439363857663,
                    -73.57230388575367,
                    -73.61477370856916,
                    -73.5124596370787,
                    -73.61566624177722,
                    -73.64552238789666,
                    -73.5647843753964,
                    -73.57271916651166,
                    -73.55658769397526,
                    -73.56283021327646,
                    -73.53978288809766,
                    -73.60077524293251,
                    -73.57356239315693,
                    -73.53735411019554,
                    -73.6328226471968,
                    -73.5859649617064,
                    -73.56818790168714,
                    -73.645100544613,
                    -73.61062703452248,
                    -73.60414320228709,
                    -73.60760805947412,
                    -73.5329739761722,
                    -73.56087334817683,
                    -73.51375636627016,
                    -73.56520883274013,
                    -73.58285531458276,
                    -73.617846092248,
                    -73.6047044738415,
                    -73.57429268607511,
                    -73.58539717879967,
                    -73.62029730985503,
                    -73.62504495384513,
                    -73.55267239661161,
                    -73.5902004112542,
                    -73.56930840912791,
                    -73.59981458158266,
                    -73.62128455035952,
                    -73.62067736676947,
                    -73.55492741665876,
                    -73.64048496482262,
                    -73.62987341664497,
                    -73.63946019785875,
                    -73.60685622581383,
                    -73.61967423595867,
                    -73.60153035519421,
                    -73.59801021780002,
                    -73.58232714569509,
                    -73.637521859517,
                    -73.5845589383217,
                    -73.55953118048146,
                    -73.65258509641737,
                    -73.52593434063824,
                    -73.63722045431894,
                    -73.58980729398637,
                    -73.63595141045859,
                    -73.57114931189177,
                    -73.63292319176229,
                    -73.59674218487977,
                    -73.64754965162766,
                    -73.60597173479003,
                    -73.57565350409223,
                    -73.5728803879145,
                    -73.57095543068031,
                    -73.5871111898369,
                    -73.5826189686433,
                    -73.53214371066534,
                    -73.63467979451553,
                    -73.58337891052282,
                    -73.60077343846366,
                    -73.6544874970073,
                    -73.61782510513464,
                    -73.64348260405826,
                    -73.63443884623427,
                    -73.55280978474548,
                    -73.59350797166334,
                    -73.6314622358004,
                    -73.62642522019199,
                    -73.53716899543986,
                    -73.6131691288042,
                    -73.56970219899235,
                    -73.64277864672295,
                    -73.58224236729227,
                    -73.54759113967883,
                    -73.56317906950511,
                    -73.57887887297544,
                    -73.59658041602985,
                    -73.53187026901544,
                    -73.62384266869233,
                    -73.58132388945315,
                    -73.63043341873463,
                    -73.54776346337367,
                    -73.54278601036688,
                    -73.5547199999811,
                    -73.59078190259488,
                    -73.59256240577943,
                    -73.62157941242943,
                    -73.61041764596348,
                    -73.58731842223665,
                    -73.62370107695057,
                    -73.62277637402323,
                    -73.57542843260613,
                    -73.61022133725439,
                    -73.63688048862373,
                    -73.58250497434213,
                    -73.61142929406647,
                    -73.5829101943345,
                    -73.59145464281357,
                    -73.57855556771429,
                    -73.57053862449274,
                    -73.57027313720633,
                    -73.62608825396849,
                    -73.5635392336782,
                    -73.62640937405116,
                    -73.55538289355314,
                    -73.62592082119164,
                    -73.62783793313959,
                    -73.52828137402979,
                    -73.56715045890071,
                    -73.57406730167698,
                    -73.57250207253963,
                    -73.53904284095108,
                    -73.58122340486779,
                    -73.54826893987729,
                    -73.60093377104955,
                    -73.57633721593862,
                    -73.57244658989525,
                    -73.60783357287939,
                    -73.54632265433347,
                    -73.61862500763353,
                    -73.62750959017946,
                    -73.56330138226609,
                    -73.64748824071867,
                    -73.56861361257508,
                    -73.60012669507964,
                    -73.57466650421921,
                    -73.58830635134413,
                    -73.62166601126063,
                    -73.57394431922157,
                    -73.60149624886525,
                    -73.5764851307457,
                    -73.5653588020603,
                    -73.59003684764208,
                    -73.64576984962405,
                    -73.5716441021712,
                    -73.57904510571099,
                    -73.59639171903568,
                    -73.60671288562885,
                    -73.58376257412169,
                    -73.58364027226557,
                    -73.59403776813,
                    -73.58198744370928,
                    -73.54796924219626,
                    -73.56470160854694,
                    -73.59161297526235,
                    -73.60552201275355,
                    -73.63749469512531,
                    -73.61960578900425,
                    -73.5938625905676,
                    -73.56435515803537,
                    -73.613329142374,
                    -73.58761174867594,
                    -73.59653658066382,
                    -73.62601031881215,
                    -73.58319715388312,
                    -73.59475241426874,
                    -73.57113021855815,
                    -73.57841797764475,
                    -73.57478446870938,
                    -73.62661841692122,
                    -73.53758992480975,
                    -73.5672399814485,
                    -73.57729937169172,
                    -73.6327727768197,
                    -73.57917172211978,
                    -73.62989603799815,
                    -73.53770269990456,
                    -73.61519170037559,
                    -73.58716197505838,
                    -73.58388794985183,
                    -73.57424335824136,
                    -73.62436735080055,
                    -73.5792013969,
                    -73.58664104188827,
                    -73.58372215024325,
                    -73.59761235604635,
                    -73.57653648384526,
                    -73.59484359129024,
                    -73.56162491267922,
                    -73.57715490720366,
                    -73.60106645724453,
                    -73.5684337774366,
                    -73.52518192920604,
                    -73.63860168141315,
                    -73.55625786283633,
                    -73.5749389146122,
                    -73.62772501663683,
                    -73.581789228748,
                    -73.5675347056023
                  ],
                  "marker": {
                    "color": [
                      2,
                      23,
                      20,
                      23,
                      19,
                      1,
                      18,
                      14,
                      2,
                      1,
                      2,
                      3,
                      21,
                      11,
                      1,
                      5,
                      6,
                      15,
                      0,
                      14,
                      2,
                      23,
                      3,
                      20,
                      3,
                      2,
                      5,
                      3,
                      9,
                      5,
                      10,
                      11,
                      3,
                      13,
                      20,
                      13,
                      9,
                      4,
                      11,
                      17,
                      1,
                      16,
                      10,
                      19,
                      5,
                      10,
                      16,
                      20,
                      2,
                      20,
                      8,
                      3,
                      2,
                      12,
                      1,
                      21,
                      20,
                      7,
                      3,
                      19,
                      7,
                      0,
                      19,
                      11,
                      23,
                      0,
                      1,
                      21,
                      20,
                      5,
                      0,
                      11,
                      20,
                      9,
                      0,
                      13,
                      4,
                      3,
                      3,
                      13,
                      4,
                      11,
                      20,
                      13,
                      19,
                      2,
                      13,
                      4,
                      23,
                      15,
                      9,
                      4,
                      3,
                      8,
                      11,
                      11,
                      5,
                      2,
                      1,
                      2,
                      16,
                      18,
                      0,
                      18,
                      4,
                      4,
                      12,
                      7,
                      4,
                      2,
                      3,
                      2,
                      2,
                      12,
                      4,
                      1,
                      5,
                      10,
                      15,
                      21,
                      20,
                      0,
                      23,
                      12,
                      14,
                      13,
                      4,
                      20,
                      19,
                      2,
                      20,
                      6,
                      9,
                      12,
                      4,
                      2,
                      3,
                      20,
                      6,
                      3,
                      4,
                      5,
                      6,
                      5,
                      21,
                      5,
                      18,
                      5,
                      2,
                      20,
                      12,
                      1,
                      4,
                      21,
                      16,
                      7,
                      3,
                      5,
                      16,
                      1,
                      2,
                      2,
                      9,
                      4,
                      5,
                      5,
                      5,
                      0,
                      2,
                      2,
                      14,
                      3,
                      10,
                      21,
                      2,
                      15,
                      21,
                      3,
                      4,
                      5,
                      3,
                      2,
                      4,
                      3,
                      3,
                      3,
                      2,
                      17,
                      2,
                      5,
                      1,
                      22,
                      0,
                      19,
                      11,
                      2,
                      1,
                      21,
                      1,
                      22,
                      4,
                      10,
                      20,
                      2,
                      2,
                      3,
                      20,
                      12,
                      11,
                      2,
                      3,
                      3,
                      12,
                      8,
                      3,
                      20,
                      3,
                      15,
                      20,
                      3,
                      20,
                      1,
                      5,
                      0,
                      2,
                      5,
                      3,
                      5,
                      18,
                      8,
                      1,
                      13,
                      2,
                      2,
                      3,
                      0,
                      23,
                      5,
                      2,
                      10,
                      11,
                      21,
                      7,
                      18,
                      3,
                      2,
                      8,
                      17,
                      5
                    ],
                    "coloraxis": "coloraxis",
                    "size": [
                      1772.7499999995052,
                      986.3333333335024,
                      354.74999999998914,
                      560.166666666642,
                      2836.666666667356,
                      1022.7500000001857,
                      835.7500000001006,
                      1888.3333333327332,
                      1030.75000000018,
                      1841.1666666661097,
                      1966.166666665996,
                      1532.9999999997233,
                      834.1666666667666,
                      289.0000000000041,
                      273.58333333334093,
                      594.8333333333244,
                      1020.9166666668516,
                      1428.4999999998183,
                      670.7500000000256,
                      489.4999999999585,
                      1426.3333333331536,
                      422.49999999997374,
                      1624.7499999996398,
                      732.7500000000538,
                      1969.6666666659928,
                      1657.9999999996096,
                      665.5833333333566,
                      805.08333333342,
                      217.75000000000728,
                      1332.583333333239,
                      630.5000000000073,
                      559.9999999999752,
                      456.1666666666328,
                      1185.8333333333724,
                      1112.6666666667722,
                      1016.5833333335162,
                      1367.249999999874,
                      1767.9999999995096,
                      2291.9999999996985,
                      552.8333333333053,
                      1397.9166666665128,
                      997.7500000001744,
                      926.1666666668084,
                      323.166666666663,
                      833.0833333334327,
                      1394.416666666516,
                      601.7499999999942,
                      1724.4999999995491,
                      1061.5833333334854,
                      325.74999999999574,
                      1271.5833333332944,
                      1951.0833333326764,
                      961.4166666668244,
                      507.83333333328767,
                      679.6666666666963,
                      734.833333333388,
                      1057.4166666668225,
                      262.8333333333434,
                      1302.7499999999327,
                      345.8333333333245,
                      1543.3333333330472,
                      630.7500000000074,
                      1164.5833333333917,
                      1676.9999999995923,
                      1282.5833333332844,
                      1019.000000000184,
                      1719.1666666662206,
                      681.5000000000305,
                      287.66666666667106,
                      1559.333333333033,
                      627.4166666666725,
                      1863.7499999994225,
                      867.2500000001149,
                      2413.4999999999195,
                      1322.3333333332482,
                      3274.0000000014848,
                      1558.9166666663664,
                      1902.416666666054,
                      1609.166666666321,
                      2773.250000000574,
                      1940.6666666660192,
                      1597.4999999996646,
                      162.500000000001,
                      1929.0833333326964,
                      847.0000000001057,
                      1522.7499999997326,
                      635.3333333333428,
                      2057.166666665938,
                      845.9166666667719,
                      2022.9166666659444,
                      1598.7499999996635,
                      566.8333333333117,
                      1714.1666666662252,
                      680.50000000003,
                      1043.2500000001687,
                      673.3333333333601,
                      1105.750000000112,
                      1382.9999999998597,
                      531.4999999999623,
                      635.0000000000093,
                      2376.833333333186,
                      462.4166666666313,
                      1315.6666666665876,
                      504.4166666666218,
                      741.2500000000576,
                      867.3333333334483,
                      875.5833333334521,
                      2188.1666666661763,
                      1172.8333333333842,
                      332.4999999999942,
                      1351.749999999888,
                      966.25000000016,
                      981.750000000167,
                      1714.3333333328917,
                      813.833333333424,
                      863.7500000001133,
                      1202.1666666666908,
                      665.0833333333563,
                      2433.83333333329,
                      1189.0000000000362,
                      2298.583333333044,
                      1414.9166666664971,
                      476.4999999999615,
                      766.3333333334024,
                      2338.249999999782,
                      1170.500000000053,
                      716.0000000000462,
                      1228.083333333334,
                      511.8333333332868,
                      1357.3333333332164,
                      1144.0833333334103,
                      292.5000000000033,
                      1069.0833333334783,
                      1552.333333333039,
                      1029.9166666668475,
                      2752.83333333387,
                      2077.1666666659744,
                      1167.8333333333887,
                      658.2500000000199,
                      741.7500000000579,
                      520.4166666666239,
                      2127.4999999993997,
                      1093.2500000001232,
                      1590.4166666663375,
                      696.4166666667039,
                      1286.8333333332805,
                      1489.1666666664298,
                      1796.91666666615,
                      1298.2499999999368,
                      921.583333333473,
                      605.5833333333293,
                      1245.1666666666515,
                      1261.9166666666365,
                      1705.4999999995664,
                      1363.999999999877,
                      790.9166666667469,
                      1067.7500000001464,
                      1320.4999999999166,
                      1317.416666666586,
                      1404.3333333331736,
                      648.6666666666822,
                      309.7499999999994,
                      484.9999999999595,
                      439.3333333333032,
                      814.1666666667575,
                      1264.4166666666342,
                      655.583333333352,
                      342.66666666665856,
                      626.5000000000055,
                      1059.9166666668202,
                      321.66666666666333,
                      676.4166666666948,
                      201.9166666666721,
                      1223.916666666671,
                      1687.4166666662495,
                      1112.583333333439,
                      466.7499999999637,
                      785.0833333334109,
                      1800.833333332813,
                      1364.5833333332098,
                      2299.7499999997126,
                      1038.7500000001728,
                      722.8333333333826,
                      1706.999999999565,
                      1231.7499999999973,
                      967.833333333494,
                      1386.5833333331898,
                      192.41666666667103,
                      291.3333333333369,
                      1370.9166666665374,
                      605.4999999999959,
                      194.08333333333792,
                      538.7499999999656,
                      33.24999999999985,
                      1792.749999999487,
                      737.0833333333891,
                      1153.7500000000682,
                      886.0000000001235,
                      955.6666666668218,
                      1071.2500000001432,
                      748.2500000000608,
                      1487.8333333330977,
                      835.7500000001006,
                      889.0000000001248,
                      1337.4166666665678,
                      1137.3333333334165,
                      966.25000000016,
                      1034.0000000001771,
                      1499.6666666664205,
                      503.58333333328864,
                      894.9166666667942,
                      1749.4166666661931,
                      1879.749999999408,
                      635.1666666666761,
                      777.0833333334073,
                      1202.9166666666902,
                      560.4999999999754,
                      790.3333333334133,
                      797.5833333334166,
                      1156.5000000000657,
                      1462.9166666664537,
                      1168.0833333333885,
                      456.24999999996606,
                      1019.7500000001844,
                      1167.166666666723,
                      478.0833333332944,
                      1599.7499999996626,
                      1578.0833333330156,
                      494.49999999995737,
                      1705.1666666662334,
                      947.6666666668182,
                      114.49999999999784,
                      759.4166666667326,
                      1567.6666666663584,
                      547.9999999999698,
                      978.3333333334988,
                      673.08333333336,
                      1354.666666666552,
                      1355.1666666665517,
                      898.0000000001289,
                      701.6666666667063,
                      873.1666666667843,
                      235.41666666667595,
                      998.6666666668414,
                      951.41666666682,
                      795.4166666667489,
                      425.749999999973,
                      1044.8333333335006,
                      694.9166666667032
                    ],
                    "sizemode": "area",
                    "sizeref": 14.55111111111771
                  },
                  "mode": "markers",
                  "name": "",
                  "showlegend": false,
                  "subplot": "mapbox",
                  "type": "scattermapbox"
                }
              ],
              "layout": {
                "coloraxis": {
                  "colorbar": {
                    "title": {
                      "text": "peak_hour"
                    }
                  },
                  "colorscale": [
                    [
                      0,
                      "#000000"
                    ],
                    [
                      0.0625,
                      "#001f4d"
                    ],
                    [
                      0.125,
                      "#003786"
                    ],
                    [
                      0.1875,
                      "#0e58a8"
                    ],
                    [
                      0.25,
                      "#217eb8"
                    ],
                    [
                      0.3125,
                      "#30a4ca"
                    ],
                    [
                      0.375,
                      "#54c8df"
                    ],
                    [
                      0.4375,
                      "#9be4ef"
                    ],
                    [
                      0.5,
                      "#e1e9d1"
                    ],
                    [
                      0.5625,
                      "#f3d573"
                    ],
                    [
                      0.625,
                      "#e7b000"
                    ],
                    [
                      0.6875,
                      "#da8200"
                    ],
                    [
                      0.75,
                      "#c65400"
                    ],
                    [
                      0.8125,
                      "#ac2301"
                    ],
                    [
                      0.875,
                      "#820000"
                    ],
                    [
                      0.9375,
                      "#4c0000"
                    ],
                    [
                      1,
                      "#000000"
                    ]
                  ]
                },
                "legend": {
                  "itemsizing": "constant",
                  "tracegroupgap": 0
                },
                "mapbox": {
                  "center": {
                    "lat": 45.523416683439955,
                    "lon": -73.59183434290806
                  },
                  "domain": {
                    "x": [
                      0,
                      1
                    ],
                    "y": [
                      0,
                      1
                    ]
                  },
                  "style": "carto-positron",
                  "zoom": 10
                },
                "margin": {
                  "t": 60
                },
                "template": {
                  "data": {
                    "bar": [
                      {
                        "error_x": {
                          "color": "#2a3f5f"
                        },
                        "error_y": {
                          "color": "#2a3f5f"
                        },
                        "marker": {
                          "line": {
                            "color": "#E5ECF6",
                            "width": 0.5
                          },
                          "pattern": {
                            "fillmode": "overlay",
                            "size": 10,
                            "solidity": 0.2
                          }
                        },
                        "type": "bar"
                      }
                    ],
                    "barpolar": [
                      {
                        "marker": {
                          "line": {
                            "color": "#E5ECF6",
                            "width": 0.5
                          },
                          "pattern": {
                            "fillmode": "overlay",
                            "size": 10,
                            "solidity": 0.2
                          }
                        },
                        "type": "barpolar"
                      }
                    ],
                    "carpet": [
                      {
                        "aaxis": {
                          "endlinecolor": "#2a3f5f",
                          "gridcolor": "white",
                          "linecolor": "white",
                          "minorgridcolor": "white",
                          "startlinecolor": "#2a3f5f"
                        },
                        "baxis": {
                          "endlinecolor": "#2a3f5f",
                          "gridcolor": "white",
                          "linecolor": "white",
                          "minorgridcolor": "white",
                          "startlinecolor": "#2a3f5f"
                        },
                        "type": "carpet"
                      }
                    ],
                    "choropleth": [
                      {
                        "colorbar": {
                          "outlinewidth": 0,
                          "ticks": ""
                        },
                        "type": "choropleth"
                      }
                    ],
                    "contour": [
                      {
                        "colorbar": {
                          "outlinewidth": 0,
                          "ticks": ""
                        },
                        "colorscale": [
                          [
                            0,
                            "#0d0887"
                          ],
                          [
                            0.1111111111111111,
                            "#46039f"
                          ],
                          [
                            0.2222222222222222,
                            "#7201a8"
                          ],
                          [
                            0.3333333333333333,
                            "#9c179e"
                          ],
                          [
                            0.4444444444444444,
                            "#bd3786"
                          ],
                          [
                            0.5555555555555556,
                            "#d8576b"
                          ],
                          [
                            0.6666666666666666,
                            "#ed7953"
                          ],
                          [
                            0.7777777777777778,
                            "#fb9f3a"
                          ],
                          [
                            0.8888888888888888,
                            "#fdca26"
                          ],
                          [
                            1,
                            "#f0f921"
                          ]
                        ],
                        "type": "contour"
                      }
                    ],
                    "contourcarpet": [
                      {
                        "colorbar": {
                          "outlinewidth": 0,
                          "ticks": ""
                        },
                        "type": "contourcarpet"
                      }
                    ],
                    "heatmap": [
                      {
                        "colorbar": {
                          "outlinewidth": 0,
                          "ticks": ""
                        },
                        "colorscale": [
                          [
                            0,
                            "#0d0887"
                          ],
                          [
                            0.1111111111111111,
                            "#46039f"
                          ],
                          [
                            0.2222222222222222,
                            "#7201a8"
                          ],
                          [
                            0.3333333333333333,
                            "#9c179e"
                          ],
                          [
                            0.4444444444444444,
                            "#bd3786"
                          ],
                          [
                            0.5555555555555556,
                            "#d8576b"
                          ],
                          [
                            0.6666666666666666,
                            "#ed7953"
                          ],
                          [
                            0.7777777777777778,
                            "#fb9f3a"
                          ],
                          [
                            0.8888888888888888,
                            "#fdca26"
                          ],
                          [
                            1,
                            "#f0f921"
                          ]
                        ],
                        "type": "heatmap"
                      }
                    ],
                    "heatmapgl": [
                      {
                        "colorbar": {
                          "outlinewidth": 0,
                          "ticks": ""
                        },
                        "colorscale": [
                          [
                            0,
                            "#0d0887"
                          ],
                          [
                            0.1111111111111111,
                            "#46039f"
                          ],
                          [
                            0.2222222222222222,
                            "#7201a8"
                          ],
                          [
                            0.3333333333333333,
                            "#9c179e"
                          ],
                          [
                            0.4444444444444444,
                            "#bd3786"
                          ],
                          [
                            0.5555555555555556,
                            "#d8576b"
                          ],
                          [
                            0.6666666666666666,
                            "#ed7953"
                          ],
                          [
                            0.7777777777777778,
                            "#fb9f3a"
                          ],
                          [
                            0.8888888888888888,
                            "#fdca26"
                          ],
                          [
                            1,
                            "#f0f921"
                          ]
                        ],
                        "type": "heatmapgl"
                      }
                    ],
                    "histogram": [
                      {
                        "marker": {
                          "pattern": {
                            "fillmode": "overlay",
                            "size": 10,
                            "solidity": 0.2
                          }
                        },
                        "type": "histogram"
                      }
                    ],
                    "histogram2d": [
                      {
                        "colorbar": {
                          "outlinewidth": 0,
                          "ticks": ""
                        },
                        "colorscale": [
                          [
                            0,
                            "#0d0887"
                          ],
                          [
                            0.1111111111111111,
                            "#46039f"
                          ],
                          [
                            0.2222222222222222,
                            "#7201a8"
                          ],
                          [
                            0.3333333333333333,
                            "#9c179e"
                          ],
                          [
                            0.4444444444444444,
                            "#bd3786"
                          ],
                          [
                            0.5555555555555556,
                            "#d8576b"
                          ],
                          [
                            0.6666666666666666,
                            "#ed7953"
                          ],
                          [
                            0.7777777777777778,
                            "#fb9f3a"
                          ],
                          [
                            0.8888888888888888,
                            "#fdca26"
                          ],
                          [
                            1,
                            "#f0f921"
                          ]
                        ],
                        "type": "histogram2d"
                      }
                    ],
                    "histogram2dcontour": [
                      {
                        "colorbar": {
                          "outlinewidth": 0,
                          "ticks": ""
                        },
                        "colorscale": [
                          [
                            0,
                            "#0d0887"
                          ],
                          [
                            0.1111111111111111,
                            "#46039f"
                          ],
                          [
                            0.2222222222222222,
                            "#7201a8"
                          ],
                          [
                            0.3333333333333333,
                            "#9c179e"
                          ],
                          [
                            0.4444444444444444,
                            "#bd3786"
                          ],
                          [
                            0.5555555555555556,
                            "#d8576b"
                          ],
                          [
                            0.6666666666666666,
                            "#ed7953"
                          ],
                          [
                            0.7777777777777778,
                            "#fb9f3a"
                          ],
                          [
                            0.8888888888888888,
                            "#fdca26"
                          ],
                          [
                            1,
                            "#f0f921"
                          ]
                        ],
                        "type": "histogram2dcontour"
                      }
                    ],
                    "mesh3d": [
                      {
                        "colorbar": {
                          "outlinewidth": 0,
                          "ticks": ""
                        },
                        "type": "mesh3d"
                      }
                    ],
                    "parcoords": [
                      {
                        "line": {
                          "colorbar": {
                            "outlinewidth": 0,
                            "ticks": ""
                          }
                        },
                        "type": "parcoords"
                      }
                    ],
                    "pie": [
                      {
                        "automargin": true,
                        "type": "pie"
                      }
                    ],
                    "scatter": [
                      {
                        "fillpattern": {
                          "fillmode": "overlay",
                          "size": 10,
                          "solidity": 0.2
                        },
                        "type": "scatter"
                      }
                    ],
                    "scatter3d": [
                      {
                        "line": {
                          "colorbar": {
                            "outlinewidth": 0,
                            "ticks": ""
                          }
                        },
                        "marker": {
                          "colorbar": {
                            "outlinewidth": 0,
                            "ticks": ""
                          }
                        },
                        "type": "scatter3d"
                      }
                    ],
                    "scattercarpet": [
                      {
                        "marker": {
                          "colorbar": {
                            "outlinewidth": 0,
                            "ticks": ""
                          }
                        },
                        "type": "scattercarpet"
                      }
                    ],
                    "scattergeo": [
                      {
                        "marker": {
                          "colorbar": {
                            "outlinewidth": 0,
                            "ticks": ""
                          }
                        },
                        "type": "scattergeo"
                      }
                    ],
                    "scattergl": [
                      {
                        "marker": {
                          "colorbar": {
                            "outlinewidth": 0,
                            "ticks": ""
                          }
                        },
                        "type": "scattergl"
                      }
                    ],
                    "scattermapbox": [
                      {
                        "marker": {
                          "colorbar": {
                            "outlinewidth": 0,
                            "ticks": ""
                          }
                        },
                        "type": "scattermapbox"
                      }
                    ],
                    "scatterpolar": [
                      {
                        "marker": {
                          "colorbar": {
                            "outlinewidth": 0,
                            "ticks": ""
                          }
                        },
                        "type": "scatterpolar"
                      }
                    ],
                    "scatterpolargl": [
                      {
                        "marker": {
                          "colorbar": {
                            "outlinewidth": 0,
                            "ticks": ""
                          }
                        },
                        "type": "scatterpolargl"
                      }
                    ],
                    "scatterternary": [
                      {
                        "marker": {
                          "colorbar": {
                            "outlinewidth": 0,
                            "ticks": ""
                          }
                        },
                        "type": "scatterternary"
                      }
                    ],
                    "surface": [
                      {
                        "colorbar": {
                          "outlinewidth": 0,
                          "ticks": ""
                        },
                        "colorscale": [
                          [
                            0,
                            "#0d0887"
                          ],
                          [
                            0.1111111111111111,
                            "#46039f"
                          ],
                          [
                            0.2222222222222222,
                            "#7201a8"
                          ],
                          [
                            0.3333333333333333,
                            "#9c179e"
                          ],
                          [
                            0.4444444444444444,
                            "#bd3786"
                          ],
                          [
                            0.5555555555555556,
                            "#d8576b"
                          ],
                          [
                            0.6666666666666666,
                            "#ed7953"
                          ],
                          [
                            0.7777777777777778,
                            "#fb9f3a"
                          ],
                          [
                            0.8888888888888888,
                            "#fdca26"
                          ],
                          [
                            1,
                            "#f0f921"
                          ]
                        ],
                        "type": "surface"
                      }
                    ],
                    "table": [
                      {
                        "cells": {
                          "fill": {
                            "color": "#EBF0F8"
                          },
                          "line": {
                            "color": "white"
                          }
                        },
                        "header": {
                          "fill": {
                            "color": "#C8D4E3"
                          },
                          "line": {
                            "color": "white"
                          }
                        },
                        "type": "table"
                      }
                    ]
                  },
                  "layout": {
                    "annotationdefaults": {
                      "arrowcolor": "#2a3f5f",
                      "arrowhead": 0,
                      "arrowwidth": 1
                    },
                    "autotypenumbers": "strict",
                    "coloraxis": {
                      "colorbar": {
                        "outlinewidth": 0,
                        "ticks": ""
                      }
                    },
                    "colorscale": {
                      "diverging": [
                        [
                          0,
                          "#8e0152"
                        ],
                        [
                          0.1,
                          "#c51b7d"
                        ],
                        [
                          0.2,
                          "#de77ae"
                        ],
                        [
                          0.3,
                          "#f1b6da"
                        ],
                        [
                          0.4,
                          "#fde0ef"
                        ],
                        [
                          0.5,
                          "#f7f7f7"
                        ],
                        [
                          0.6,
                          "#e6f5d0"
                        ],
                        [
                          0.7,
                          "#b8e186"
                        ],
                        [
                          0.8,
                          "#7fbc41"
                        ],
                        [
                          0.9,
                          "#4d9221"
                        ],
                        [
                          1,
                          "#276419"
                        ]
                      ],
                      "sequential": [
                        [
                          0,
                          "#0d0887"
                        ],
                        [
                          0.1111111111111111,
                          "#46039f"
                        ],
                        [
                          0.2222222222222222,
                          "#7201a8"
                        ],
                        [
                          0.3333333333333333,
                          "#9c179e"
                        ],
                        [
                          0.4444444444444444,
                          "#bd3786"
                        ],
                        [
                          0.5555555555555556,
                          "#d8576b"
                        ],
                        [
                          0.6666666666666666,
                          "#ed7953"
                        ],
                        [
                          0.7777777777777778,
                          "#fb9f3a"
                        ],
                        [
                          0.8888888888888888,
                          "#fdca26"
                        ],
                        [
                          1,
                          "#f0f921"
                        ]
                      ],
                      "sequentialminus": [
                        [
                          0,
                          "#0d0887"
                        ],
                        [
                          0.1111111111111111,
                          "#46039f"
                        ],
                        [
                          0.2222222222222222,
                          "#7201a8"
                        ],
                        [
                          0.3333333333333333,
                          "#9c179e"
                        ],
                        [
                          0.4444444444444444,
                          "#bd3786"
                        ],
                        [
                          0.5555555555555556,
                          "#d8576b"
                        ],
                        [
                          0.6666666666666666,
                          "#ed7953"
                        ],
                        [
                          0.7777777777777778,
                          "#fb9f3a"
                        ],
                        [
                          0.8888888888888888,
                          "#fdca26"
                        ],
                        [
                          1,
                          "#f0f921"
                        ]
                      ]
                    },
                    "colorway": [
                      "#636efa",
                      "#EF553B",
                      "#00cc96",
                      "#ab63fa",
                      "#FFA15A",
                      "#19d3f3",
                      "#FF6692",
                      "#B6E880",
                      "#FF97FF",
                      "#FECB52"
                    ],
                    "font": {
                      "color": "#2a3f5f"
                    },
                    "geo": {
                      "bgcolor": "white",
                      "lakecolor": "white",
                      "landcolor": "#E5ECF6",
                      "showlakes": true,
                      "showland": true,
                      "subunitcolor": "white"
                    },
                    "hoverlabel": {
                      "align": "left"
                    },
                    "hovermode": "closest",
                    "mapbox": {
                      "style": "light"
                    },
                    "paper_bgcolor": "white",
                    "plot_bgcolor": "#E5ECF6",
                    "polar": {
                      "angularaxis": {
                        "gridcolor": "white",
                        "linecolor": "white",
                        "ticks": ""
                      },
                      "bgcolor": "#E5ECF6",
                      "radialaxis": {
                        "gridcolor": "white",
                        "linecolor": "white",
                        "ticks": ""
                      }
                    },
                    "scene": {
                      "xaxis": {
                        "backgroundcolor": "#E5ECF6",
                        "gridcolor": "white",
                        "gridwidth": 2,
                        "linecolor": "white",
                        "showbackground": true,
                        "ticks": "",
                        "zerolinecolor": "white"
                      },
                      "yaxis": {
                        "backgroundcolor": "#E5ECF6",
                        "gridcolor": "white",
                        "gridwidth": 2,
                        "linecolor": "white",
                        "showbackground": true,
                        "ticks": "",
                        "zerolinecolor": "white"
                      },
                      "zaxis": {
                        "backgroundcolor": "#E5ECF6",
                        "gridcolor": "white",
                        "gridwidth": 2,
                        "linecolor": "white",
                        "showbackground": true,
                        "ticks": "",
                        "zerolinecolor": "white"
                      }
                    },
                    "shapedefaults": {
                      "line": {
                        "color": "#2a3f5f"
                      }
                    },
                    "ternary": {
                      "aaxis": {
                        "gridcolor": "white",
                        "linecolor": "white",
                        "ticks": ""
                      },
                      "baxis": {
                        "gridcolor": "white",
                        "linecolor": "white",
                        "ticks": ""
                      },
                      "bgcolor": "#E5ECF6",
                      "caxis": {
                        "gridcolor": "white",
                        "linecolor": "white",
                        "ticks": ""
                      }
                    },
                    "title": {
                      "x": 0.05
                    },
                    "xaxis": {
                      "automargin": true,
                      "gridcolor": "white",
                      "linecolor": "white",
                      "ticks": "",
                      "title": {
                        "standoff": 15
                      },
                      "zerolinecolor": "white",
                      "zerolinewidth": 2
                    },
                    "yaxis": {
                      "automargin": true,
                      "gridcolor": "white",
                      "linecolor": "white",
                      "ticks": "",
                      "title": {
                        "standoff": 15
                      },
                      "zerolinecolor": "white",
                      "zerolinewidth": 2
                    }
                  }
                }
              }
            }
          },
          "metadata": {},
          "output_type": "display_data"
        }
      ],
      "source": [
        "df = px.data.carshare()\n",
        "fig = px.scatter_mapbox(\n",
        "    df,\n",
        "    lat=\"centroid_lat\",\n",
        "    lon=\"centroid_lon\",\n",
        "    color=\"peak_hour\",\n",
        "    size=\"car_hours\",\n",
        "    color_continuous_scale=px.colors.cyclical.IceFire,\n",
        "    size_max=15,\n",
        "    zoom=10,\n",
        "    mapbox_style=\"carto-positron\",\n",
        ")\n",
        "fig.show()"
      ]
    },
    {
      "cell_type": "code",
      "execution_count": 13,
      "metadata": {},
      "outputs": [
        {
          "data": {
            "application/vnd.plotly.v1+json": {
              "config": {
                "plotlyServerURL": "https://plot.ly"
              },
              "data": [
                {
                  "hovertemplate": "<b>%{hovertext}</b><br><br>winner=Joly<br>result=plurality<br>Joly=%{x}<br>Coderre=%{y}<br>Bergeron=%{z}<br>total=%{marker.size}<extra></extra>",
                  "hovertext": [
                    "101-Bois-de-Liesse",
                    "102-Cap-Saint-Jacques",
                    "161-Saint-HenriPetite-BourgognePointe-Saint-Charles",
                    "172-Desmarchais-Crawford",
                    "181-Peter-McGill",
                    "182-Saint-Jacques",
                    "33-Snowdon",
                    "34-Notre-Dame-de-Grâce",
                    "35-Loyola",
                    "41-du Canal",
                    "43-Fort-Rolland",
                    "63-Jacques-Bizard"
                  ],
                  "legendgroup": "Joly, plurality",
                  "marker": {
                    "color": "blue",
                    "size": [
                      7334,
                      6363,
                      9378,
                      7956,
                      4099,
                      6357,
                      4687,
                      7688,
                      6125,
                      3263,
                      4438,
                      1432
                    ],
                    "sizemode": "area",
                    "sizeref": 27.625,
                    "symbol": "circle"
                  },
                  "mode": "markers",
                  "name": "Joly, plurality",
                  "scene": "scene",
                  "showlegend": true,
                  "type": "scatter3d",
                  "x": [
                    3024,
                    2675,
                    3578,
                    2849,
                    1894,
                    2282,
                    1636,
                    3262,
                    2648,
                    1266,
                    1908,
                    690
                  ],
                  "y": [
                    2481,
                    2525,
                    2432,
                    2476,
                    1451,
                    1906,
                    1548,
                    1773,
                    2040,
                    1165,
                    1325,
                    518
                  ],
                  "z": [
                    1829,
                    1163,
                    3368,
                    2631,
                    754,
                    2169,
                    1503,
                    2653,
                    1437,
                    832,
                    1205,
                    224
                  ]
                },
                {
                  "hovertemplate": "<b>%{hovertext}</b><br><br>winner=Joly<br>result=majority<br>Joly=%{x}<br>Coderre=%{y}<br>Bergeron=%{z}<br>total=%{marker.size}<extra></extra>",
                  "hovertext": [
                    "61-Pierre-Foretier",
                    "62-Denis-Benjamin-Viger"
                  ],
                  "legendgroup": "Joly, majority",
                  "marker": {
                    "color": "blue",
                    "size": [
                      1887,
                      1889
                    ],
                    "sizemode": "area",
                    "sizeref": 27.625,
                    "symbol": "diamond"
                  },
                  "mode": "markers",
                  "name": "Joly, majority",
                  "scene": "scene",
                  "showlegend": true,
                  "type": "scatter3d",
                  "x": [
                    998,
                    1068
                  ],
                  "y": [
                    631,
                    595
                  ],
                  "z": [
                    258,
                    226
                  ]
                },
                {
                  "hovertemplate": "<b>%{hovertext}</b><br><br>winner=Coderre<br>result=plurality<br>Joly=%{x}<br>Coderre=%{y}<br>Bergeron=%{z}<br>total=%{marker.size}<extra></extra>",
                  "hovertext": [
                    "11-Sault-au-Récollet",
                    "12-Saint-Sulpice",
                    "134-Marie-Victorin",
                    "14-Bordeaux-Cartierville",
                    "141-Côte-de-Liesse",
                    "142-Norman-McLaren",
                    "162-Saint-PaulÉmard",
                    "171-ChamplainL'Île-des-Soeurs",
                    "192-François-Perrault",
                    "194-Parc-Extension",
                    "22-Est",
                    "31-Darlington",
                    "42-J.-Émery-Provost",
                    "51-Sault-Saint-Louis",
                    "52-Cecil-P.-Newman",
                    "64-Sainte-Geneviève",
                    "71-Tétreaultville",
                    "74-Louis-Riel",
                    "91-Claude-Ryan"
                  ],
                  "legendgroup": "Coderre, plurality",
                  "marker": {
                    "color": "red",
                    "size": [
                      8650,
                      8316,
                      9259,
                      7247,
                      9587,
                      8385,
                      7096,
                      9200,
                      7583,
                      5615,
                      3469,
                      4287,
                      3003,
                      9560,
                      7809,
                      789,
                      9737,
                      8025,
                      2062
                    ],
                    "sizemode": "area",
                    "sizeref": 27.625,
                    "symbol": "circle"
                  },
                  "mode": "markers",
                  "name": "Coderre, plurality",
                  "scene": "scene",
                  "showlegend": true,
                  "type": "scatter3d",
                  "x": [
                    2532,
                    2543,
                    2431,
                    2081,
                    3959,
                    2822,
                    2438,
                    3291,
                    2039,
                    1402,
                    1172,
                    1232,
                    1157,
                    3717,
                    2943,
                    326,
                    3454,
                    2338,
                    423
                  ],
                  "y": [
                    3348,
                    3252,
                    3673,
                    3612,
                    4308,
                    4104,
                    2566,
                    3347,
                    2878,
                    2420,
                    1589,
                    1873,
                    1193,
                    4201,
                    3536,
                    332,
                    3694,
                    3509,
                    996
                  ],
                  "z": [
                    2770,
                    2521,
                    3155,
                    1554,
                    1320,
                    1459,
                    2092,
                    2562,
                    2666,
                    1793,
                    708,
                    1182,
                    653,
                    1642,
                    1330,
                    131,
                    2589,
                    2178,
                    643
                  ]
                },
                {
                  "hovertemplate": "<b>%{hovertext}</b><br><br>winner=Coderre<br>result=majority<br>Joly=%{x}<br>Coderre=%{y}<br>Bergeron=%{z}<br>total=%{marker.size}<extra></extra>",
                  "hovertext": [
                    "121-La Pointe-aux-Prairies",
                    "122-Pointe-aux-Trembles",
                    "123-Rivière-des-Prairies",
                    "151-Saint-Léonard-Est",
                    "152-Saint-Léonard-Ouest",
                    "191-Saint-Michel",
                    "21-Ouest",
                    "23-Centre",
                    "81-Marie-Clarac",
                    "82-Ovide-Clermont"
                  ],
                  "legendgroup": "Coderre, majority",
                  "marker": {
                    "color": "red",
                    "size": [
                      10546,
                      9465,
                      8351,
                      6454,
                      8479,
                      5872,
                      3951,
                      4663,
                      9111,
                      8060
                    ],
                    "sizemode": "area",
                    "sizeref": 27.625,
                    "symbol": "diamond"
                  },
                  "mode": "markers",
                  "name": "Coderre, majority",
                  "scene": "scene",
                  "showlegend": true,
                  "type": "scatter3d",
                  "x": [
                    3330,
                    2852,
                    1656,
                    1641,
                    1908,
                    1220,
                    1076,
                    1286,
                    1435,
                    1051
                  ],
                  "y": [
                    5456,
                    4734,
                    5737,
                    3931,
                    5387,
                    3668,
                    2184,
                    2526,
                    6591,
                    6229
                  ],
                  "z": [
                    1760,
                    1879,
                    958,
                    882,
                    1184,
                    984,
                    691,
                    851,
                    1085,
                    780
                  ]
                },
                {
                  "hovertemplate": "<b>%{hovertext}</b><br><br>winner=Bergeron<br>result=plurality<br>Joly=%{x}<br>Coderre=%{y}<br>Bergeron=%{z}<br>total=%{marker.size}<extra></extra>",
                  "hovertext": [
                    "113-Jeanne-Mance",
                    "13-Ahuntsic",
                    "133-Vieux-Rosemont",
                    "183-Sainte-Marie",
                    "32-Côte-des-Neiges",
                    "72-MaisonneuveLongue-Pointe",
                    "73-Hochelaga",
                    "92-Joseph-Beaubien",
                    "93-Robert-Bourassa",
                    "94-Jeanne-Sauvé"
                  ],
                  "legendgroup": "Bergeron, plurality",
                  "marker": {
                    "color": "green",
                    "size": [
                      7370,
                      9282,
                      10866,
                      6445,
                      5172,
                      9135,
                      7900,
                      1965,
                      1330,
                      1678
                    ],
                    "sizemode": "area",
                    "sizeref": 27.625,
                    "symbol": "circle"
                  },
                  "mode": "markers",
                  "name": "Bergeron, plurality",
                  "scene": "scene",
                  "showlegend": true,
                  "type": "scatter3d",
                  "x": [
                    2316,
                    2873,
                    3234,
                    2271,
                    1578,
                    3139,
                    2675,
                    592,
                    419,
                    489
                  ],
                  "y": [
                    1455,
                    2979,
                    2670,
                    1347,
                    1644,
                    2746,
                    1546,
                    540,
                    446,
                    491
                  ],
                  "z": [
                    3599,
                    3430,
                    4962,
                    2827,
                    1950,
                    3250,
                    3679,
                    833,
                    465,
                    698
                  ]
                },
                {
                  "hovertemplate": "<b>%{hovertext}</b><br><br>winner=Bergeron<br>result=majority<br>Joly=%{x}<br>Coderre=%{y}<br>Bergeron=%{z}<br>total=%{marker.size}<extra></extra>",
                  "hovertext": [
                    "111-Mile-End",
                    "112-DeLorimier",
                    "131-Saint-Édouard",
                    "132-Étienne-Desmarteau",
                    "193-Villeray"
                  ],
                  "legendgroup": "Bergeron, majority",
                  "marker": {
                    "color": "green",
                    "size": [
                      9030,
                      10747,
                      11050,
                      10867,
                      10802
                    ],
                    "sizemode": "area",
                    "sizeref": 27.625,
                    "symbol": "diamond"
                  },
                  "mode": "markers",
                  "name": "Bergeron, majority",
                  "scene": "scene",
                  "showlegend": true,
                  "type": "scatter3d",
                  "x": [
                    2514,
                    3044,
                    2815,
                    2788,
                    2782
                  ],
                  "y": [
                    1734,
                    1770,
                    1827,
                    2331,
                    2201
                  ],
                  "z": [
                    4782,
                    5933,
                    6408,
                    5748,
                    5819
                  ]
                }
              ],
              "layout": {
                "legend": {
                  "itemsizing": "constant",
                  "title": {
                    "text": "winner, result"
                  },
                  "tracegroupgap": 0
                },
                "margin": {
                  "t": 60
                },
                "scene": {
                  "domain": {
                    "x": [
                      0,
                      1
                    ],
                    "y": [
                      0,
                      1
                    ]
                  },
                  "xaxis": {
                    "title": {
                      "text": "Joly"
                    }
                  },
                  "yaxis": {
                    "title": {
                      "text": "Coderre"
                    }
                  },
                  "zaxis": {
                    "title": {
                      "text": "Bergeron"
                    }
                  }
                },
                "template": {
                  "data": {
                    "bar": [
                      {
                        "error_x": {
                          "color": "#2a3f5f"
                        },
                        "error_y": {
                          "color": "#2a3f5f"
                        },
                        "marker": {
                          "line": {
                            "color": "#E5ECF6",
                            "width": 0.5
                          },
                          "pattern": {
                            "fillmode": "overlay",
                            "size": 10,
                            "solidity": 0.2
                          }
                        },
                        "type": "bar"
                      }
                    ],
                    "barpolar": [
                      {
                        "marker": {
                          "line": {
                            "color": "#E5ECF6",
                            "width": 0.5
                          },
                          "pattern": {
                            "fillmode": "overlay",
                            "size": 10,
                            "solidity": 0.2
                          }
                        },
                        "type": "barpolar"
                      }
                    ],
                    "carpet": [
                      {
                        "aaxis": {
                          "endlinecolor": "#2a3f5f",
                          "gridcolor": "white",
                          "linecolor": "white",
                          "minorgridcolor": "white",
                          "startlinecolor": "#2a3f5f"
                        },
                        "baxis": {
                          "endlinecolor": "#2a3f5f",
                          "gridcolor": "white",
                          "linecolor": "white",
                          "minorgridcolor": "white",
                          "startlinecolor": "#2a3f5f"
                        },
                        "type": "carpet"
                      }
                    ],
                    "choropleth": [
                      {
                        "colorbar": {
                          "outlinewidth": 0,
                          "ticks": ""
                        },
                        "type": "choropleth"
                      }
                    ],
                    "contour": [
                      {
                        "colorbar": {
                          "outlinewidth": 0,
                          "ticks": ""
                        },
                        "colorscale": [
                          [
                            0,
                            "#0d0887"
                          ],
                          [
                            0.1111111111111111,
                            "#46039f"
                          ],
                          [
                            0.2222222222222222,
                            "#7201a8"
                          ],
                          [
                            0.3333333333333333,
                            "#9c179e"
                          ],
                          [
                            0.4444444444444444,
                            "#bd3786"
                          ],
                          [
                            0.5555555555555556,
                            "#d8576b"
                          ],
                          [
                            0.6666666666666666,
                            "#ed7953"
                          ],
                          [
                            0.7777777777777778,
                            "#fb9f3a"
                          ],
                          [
                            0.8888888888888888,
                            "#fdca26"
                          ],
                          [
                            1,
                            "#f0f921"
                          ]
                        ],
                        "type": "contour"
                      }
                    ],
                    "contourcarpet": [
                      {
                        "colorbar": {
                          "outlinewidth": 0,
                          "ticks": ""
                        },
                        "type": "contourcarpet"
                      }
                    ],
                    "heatmap": [
                      {
                        "colorbar": {
                          "outlinewidth": 0,
                          "ticks": ""
                        },
                        "colorscale": [
                          [
                            0,
                            "#0d0887"
                          ],
                          [
                            0.1111111111111111,
                            "#46039f"
                          ],
                          [
                            0.2222222222222222,
                            "#7201a8"
                          ],
                          [
                            0.3333333333333333,
                            "#9c179e"
                          ],
                          [
                            0.4444444444444444,
                            "#bd3786"
                          ],
                          [
                            0.5555555555555556,
                            "#d8576b"
                          ],
                          [
                            0.6666666666666666,
                            "#ed7953"
                          ],
                          [
                            0.7777777777777778,
                            "#fb9f3a"
                          ],
                          [
                            0.8888888888888888,
                            "#fdca26"
                          ],
                          [
                            1,
                            "#f0f921"
                          ]
                        ],
                        "type": "heatmap"
                      }
                    ],
                    "heatmapgl": [
                      {
                        "colorbar": {
                          "outlinewidth": 0,
                          "ticks": ""
                        },
                        "colorscale": [
                          [
                            0,
                            "#0d0887"
                          ],
                          [
                            0.1111111111111111,
                            "#46039f"
                          ],
                          [
                            0.2222222222222222,
                            "#7201a8"
                          ],
                          [
                            0.3333333333333333,
                            "#9c179e"
                          ],
                          [
                            0.4444444444444444,
                            "#bd3786"
                          ],
                          [
                            0.5555555555555556,
                            "#d8576b"
                          ],
                          [
                            0.6666666666666666,
                            "#ed7953"
                          ],
                          [
                            0.7777777777777778,
                            "#fb9f3a"
                          ],
                          [
                            0.8888888888888888,
                            "#fdca26"
                          ],
                          [
                            1,
                            "#f0f921"
                          ]
                        ],
                        "type": "heatmapgl"
                      }
                    ],
                    "histogram": [
                      {
                        "marker": {
                          "pattern": {
                            "fillmode": "overlay",
                            "size": 10,
                            "solidity": 0.2
                          }
                        },
                        "type": "histogram"
                      }
                    ],
                    "histogram2d": [
                      {
                        "colorbar": {
                          "outlinewidth": 0,
                          "ticks": ""
                        },
                        "colorscale": [
                          [
                            0,
                            "#0d0887"
                          ],
                          [
                            0.1111111111111111,
                            "#46039f"
                          ],
                          [
                            0.2222222222222222,
                            "#7201a8"
                          ],
                          [
                            0.3333333333333333,
                            "#9c179e"
                          ],
                          [
                            0.4444444444444444,
                            "#bd3786"
                          ],
                          [
                            0.5555555555555556,
                            "#d8576b"
                          ],
                          [
                            0.6666666666666666,
                            "#ed7953"
                          ],
                          [
                            0.7777777777777778,
                            "#fb9f3a"
                          ],
                          [
                            0.8888888888888888,
                            "#fdca26"
                          ],
                          [
                            1,
                            "#f0f921"
                          ]
                        ],
                        "type": "histogram2d"
                      }
                    ],
                    "histogram2dcontour": [
                      {
                        "colorbar": {
                          "outlinewidth": 0,
                          "ticks": ""
                        },
                        "colorscale": [
                          [
                            0,
                            "#0d0887"
                          ],
                          [
                            0.1111111111111111,
                            "#46039f"
                          ],
                          [
                            0.2222222222222222,
                            "#7201a8"
                          ],
                          [
                            0.3333333333333333,
                            "#9c179e"
                          ],
                          [
                            0.4444444444444444,
                            "#bd3786"
                          ],
                          [
                            0.5555555555555556,
                            "#d8576b"
                          ],
                          [
                            0.6666666666666666,
                            "#ed7953"
                          ],
                          [
                            0.7777777777777778,
                            "#fb9f3a"
                          ],
                          [
                            0.8888888888888888,
                            "#fdca26"
                          ],
                          [
                            1,
                            "#f0f921"
                          ]
                        ],
                        "type": "histogram2dcontour"
                      }
                    ],
                    "mesh3d": [
                      {
                        "colorbar": {
                          "outlinewidth": 0,
                          "ticks": ""
                        },
                        "type": "mesh3d"
                      }
                    ],
                    "parcoords": [
                      {
                        "line": {
                          "colorbar": {
                            "outlinewidth": 0,
                            "ticks": ""
                          }
                        },
                        "type": "parcoords"
                      }
                    ],
                    "pie": [
                      {
                        "automargin": true,
                        "type": "pie"
                      }
                    ],
                    "scatter": [
                      {
                        "fillpattern": {
                          "fillmode": "overlay",
                          "size": 10,
                          "solidity": 0.2
                        },
                        "type": "scatter"
                      }
                    ],
                    "scatter3d": [
                      {
                        "line": {
                          "colorbar": {
                            "outlinewidth": 0,
                            "ticks": ""
                          }
                        },
                        "marker": {
                          "colorbar": {
                            "outlinewidth": 0,
                            "ticks": ""
                          }
                        },
                        "type": "scatter3d"
                      }
                    ],
                    "scattercarpet": [
                      {
                        "marker": {
                          "colorbar": {
                            "outlinewidth": 0,
                            "ticks": ""
                          }
                        },
                        "type": "scattercarpet"
                      }
                    ],
                    "scattergeo": [
                      {
                        "marker": {
                          "colorbar": {
                            "outlinewidth": 0,
                            "ticks": ""
                          }
                        },
                        "type": "scattergeo"
                      }
                    ],
                    "scattergl": [
                      {
                        "marker": {
                          "colorbar": {
                            "outlinewidth": 0,
                            "ticks": ""
                          }
                        },
                        "type": "scattergl"
                      }
                    ],
                    "scattermapbox": [
                      {
                        "marker": {
                          "colorbar": {
                            "outlinewidth": 0,
                            "ticks": ""
                          }
                        },
                        "type": "scattermapbox"
                      }
                    ],
                    "scatterpolar": [
                      {
                        "marker": {
                          "colorbar": {
                            "outlinewidth": 0,
                            "ticks": ""
                          }
                        },
                        "type": "scatterpolar"
                      }
                    ],
                    "scatterpolargl": [
                      {
                        "marker": {
                          "colorbar": {
                            "outlinewidth": 0,
                            "ticks": ""
                          }
                        },
                        "type": "scatterpolargl"
                      }
                    ],
                    "scatterternary": [
                      {
                        "marker": {
                          "colorbar": {
                            "outlinewidth": 0,
                            "ticks": ""
                          }
                        },
                        "type": "scatterternary"
                      }
                    ],
                    "surface": [
                      {
                        "colorbar": {
                          "outlinewidth": 0,
                          "ticks": ""
                        },
                        "colorscale": [
                          [
                            0,
                            "#0d0887"
                          ],
                          [
                            0.1111111111111111,
                            "#46039f"
                          ],
                          [
                            0.2222222222222222,
                            "#7201a8"
                          ],
                          [
                            0.3333333333333333,
                            "#9c179e"
                          ],
                          [
                            0.4444444444444444,
                            "#bd3786"
                          ],
                          [
                            0.5555555555555556,
                            "#d8576b"
                          ],
                          [
                            0.6666666666666666,
                            "#ed7953"
                          ],
                          [
                            0.7777777777777778,
                            "#fb9f3a"
                          ],
                          [
                            0.8888888888888888,
                            "#fdca26"
                          ],
                          [
                            1,
                            "#f0f921"
                          ]
                        ],
                        "type": "surface"
                      }
                    ],
                    "table": [
                      {
                        "cells": {
                          "fill": {
                            "color": "#EBF0F8"
                          },
                          "line": {
                            "color": "white"
                          }
                        },
                        "header": {
                          "fill": {
                            "color": "#C8D4E3"
                          },
                          "line": {
                            "color": "white"
                          }
                        },
                        "type": "table"
                      }
                    ]
                  },
                  "layout": {
                    "annotationdefaults": {
                      "arrowcolor": "#2a3f5f",
                      "arrowhead": 0,
                      "arrowwidth": 1
                    },
                    "autotypenumbers": "strict",
                    "coloraxis": {
                      "colorbar": {
                        "outlinewidth": 0,
                        "ticks": ""
                      }
                    },
                    "colorscale": {
                      "diverging": [
                        [
                          0,
                          "#8e0152"
                        ],
                        [
                          0.1,
                          "#c51b7d"
                        ],
                        [
                          0.2,
                          "#de77ae"
                        ],
                        [
                          0.3,
                          "#f1b6da"
                        ],
                        [
                          0.4,
                          "#fde0ef"
                        ],
                        [
                          0.5,
                          "#f7f7f7"
                        ],
                        [
                          0.6,
                          "#e6f5d0"
                        ],
                        [
                          0.7,
                          "#b8e186"
                        ],
                        [
                          0.8,
                          "#7fbc41"
                        ],
                        [
                          0.9,
                          "#4d9221"
                        ],
                        [
                          1,
                          "#276419"
                        ]
                      ],
                      "sequential": [
                        [
                          0,
                          "#0d0887"
                        ],
                        [
                          0.1111111111111111,
                          "#46039f"
                        ],
                        [
                          0.2222222222222222,
                          "#7201a8"
                        ],
                        [
                          0.3333333333333333,
                          "#9c179e"
                        ],
                        [
                          0.4444444444444444,
                          "#bd3786"
                        ],
                        [
                          0.5555555555555556,
                          "#d8576b"
                        ],
                        [
                          0.6666666666666666,
                          "#ed7953"
                        ],
                        [
                          0.7777777777777778,
                          "#fb9f3a"
                        ],
                        [
                          0.8888888888888888,
                          "#fdca26"
                        ],
                        [
                          1,
                          "#f0f921"
                        ]
                      ],
                      "sequentialminus": [
                        [
                          0,
                          "#0d0887"
                        ],
                        [
                          0.1111111111111111,
                          "#46039f"
                        ],
                        [
                          0.2222222222222222,
                          "#7201a8"
                        ],
                        [
                          0.3333333333333333,
                          "#9c179e"
                        ],
                        [
                          0.4444444444444444,
                          "#bd3786"
                        ],
                        [
                          0.5555555555555556,
                          "#d8576b"
                        ],
                        [
                          0.6666666666666666,
                          "#ed7953"
                        ],
                        [
                          0.7777777777777778,
                          "#fb9f3a"
                        ],
                        [
                          0.8888888888888888,
                          "#fdca26"
                        ],
                        [
                          1,
                          "#f0f921"
                        ]
                      ]
                    },
                    "colorway": [
                      "#636efa",
                      "#EF553B",
                      "#00cc96",
                      "#ab63fa",
                      "#FFA15A",
                      "#19d3f3",
                      "#FF6692",
                      "#B6E880",
                      "#FF97FF",
                      "#FECB52"
                    ],
                    "font": {
                      "color": "#2a3f5f"
                    },
                    "geo": {
                      "bgcolor": "white",
                      "lakecolor": "white",
                      "landcolor": "#E5ECF6",
                      "showlakes": true,
                      "showland": true,
                      "subunitcolor": "white"
                    },
                    "hoverlabel": {
                      "align": "left"
                    },
                    "hovermode": "closest",
                    "mapbox": {
                      "style": "light"
                    },
                    "paper_bgcolor": "white",
                    "plot_bgcolor": "#E5ECF6",
                    "polar": {
                      "angularaxis": {
                        "gridcolor": "white",
                        "linecolor": "white",
                        "ticks": ""
                      },
                      "bgcolor": "#E5ECF6",
                      "radialaxis": {
                        "gridcolor": "white",
                        "linecolor": "white",
                        "ticks": ""
                      }
                    },
                    "scene": {
                      "xaxis": {
                        "backgroundcolor": "#E5ECF6",
                        "gridcolor": "white",
                        "gridwidth": 2,
                        "linecolor": "white",
                        "showbackground": true,
                        "ticks": "",
                        "zerolinecolor": "white"
                      },
                      "yaxis": {
                        "backgroundcolor": "#E5ECF6",
                        "gridcolor": "white",
                        "gridwidth": 2,
                        "linecolor": "white",
                        "showbackground": true,
                        "ticks": "",
                        "zerolinecolor": "white"
                      },
                      "zaxis": {
                        "backgroundcolor": "#E5ECF6",
                        "gridcolor": "white",
                        "gridwidth": 2,
                        "linecolor": "white",
                        "showbackground": true,
                        "ticks": "",
                        "zerolinecolor": "white"
                      }
                    },
                    "shapedefaults": {
                      "line": {
                        "color": "#2a3f5f"
                      }
                    },
                    "ternary": {
                      "aaxis": {
                        "gridcolor": "white",
                        "linecolor": "white",
                        "ticks": ""
                      },
                      "baxis": {
                        "gridcolor": "white",
                        "linecolor": "white",
                        "ticks": ""
                      },
                      "bgcolor": "#E5ECF6",
                      "caxis": {
                        "gridcolor": "white",
                        "linecolor": "white",
                        "ticks": ""
                      }
                    },
                    "title": {
                      "x": 0.05
                    },
                    "xaxis": {
                      "automargin": true,
                      "gridcolor": "white",
                      "linecolor": "white",
                      "ticks": "",
                      "title": {
                        "standoff": 15
                      },
                      "zerolinecolor": "white",
                      "zerolinewidth": 2
                    },
                    "yaxis": {
                      "automargin": true,
                      "gridcolor": "white",
                      "linecolor": "white",
                      "ticks": "",
                      "title": {
                        "standoff": 15
                      },
                      "zerolinecolor": "white",
                      "zerolinewidth": 2
                    }
                  }
                }
              }
            }
          },
          "metadata": {},
          "output_type": "display_data"
        }
      ],
      "source": [
        "df = px.data.election()\n",
        "fig = px.scatter_3d(\n",
        "    df,\n",
        "    x=\"Joly\",\n",
        "    y=\"Coderre\",\n",
        "    z=\"Bergeron\",\n",
        "    color=\"winner\",\n",
        "    size=\"total\",\n",
        "    hover_name=\"district\",\n",
        "    symbol=\"result\",\n",
        "    color_discrete_map={\"Joly\": \"blue\", \"Bergeron\": \"green\", \"Coderre\": \"red\"},\n",
        ")\n",
        "fig.show()"
      ]
    },
    {
      "cell_type": "markdown",
      "metadata": {},
      "source": [
        "You can view all the measurements in a box plot interactively, including the mean, median, and more. This is advantageous because with just a few lines of code, you can achieve excellent visualization results. For example, a scatter plot of tickets sold vs. years can be created easily. With a few additional lines of code, you can enhance the plot’s appearance, such as making the dots in the scatter plot larger. \n",
        "\n",
        "You can also create a three-dimensional representation by using parameters like `color=` to represent a third variable.\n",
        "\n",
        "If our dataset is something like a numpy array, we can use a different syntax, but it still works. So far, we have been using **Plotly Express**.\n",
        "\n",
        "For multiple graphs or subplots, you can use:\n",
        "- **Multiple graphs**: Import `plotly.graph_objects as go`.\n",
        "- **Subplots**: Use `from plotly.subplots import make_subplots`."
      ]
    },
    {
      "cell_type": "markdown",
      "metadata": {},
      "source": [
        "### When to Use Plotly vs. Matplotlib\n",
        "\n",
        "Plotly and Matplotlib are both powerful frameworks for data visualization, but they have distinct strengths and use cases:\n",
        "\n",
        "- **Plotly**: \n",
        "  - Best for **web-based visualizations** and **interactive charts**.\n",
        "  - Simple to use with minimal code, making it ideal for quickly exploring datasets or creating polished charts for the web.\n",
        "  - Primarily runs in the browser, making it convenient for web development and sharing interactive visualizations.\n",
        "  - Excellent for exploratory data analysis, as it allows users to easily experiment with different chart types and interact with the data.\n",
        "\n",
        "- **Matplotlib**:\n",
        "  - Designed for **professional and scientific visualizations**, offering a vast range of customization options.\n",
        "  - Requires more effort and code to produce visually appealing charts, often needing additional setup or custom mini-frameworks.\n",
        "  - Suitable for creating publication-quality plots and is commonly used in academic papers.\n",
        "  - Offers integration with additional libraries like **Seaborn**, which simplifies some aspects of plot creation while maintaining flexibility.\n",
        "\n",
        "### Summary:\n",
        "- Use **Matplotlib** when you need precise control, customization, or are working on professional/scientific projects.\n",
        "- Use **Plotly** for quick, interactive, and web-based visualizations, especially when exploring datasets or creating user-friendly visual outputs. \n",
        "\n",
        "Both libraries are excellent tools, and the choice depends on your project's requirements—customization and professionalism with Matplotlib, or interactivity and simplicity with Plotly."
      ]
    }
  ],
  "metadata": {
    "colab": {
      "provenance": []
    },
    "kernelspec": {
      "display_name": "Python 3",
      "name": "python3"
    },
    "language_info": {
      "codemirror_mode": {
        "name": "ipython",
        "version": 3
      },
      "file_extension": ".py",
      "mimetype": "text/x-python",
      "name": "python",
      "nbconvert_exporter": "python",
      "pygments_lexer": "ipython3",
      "version": "3.12.3"
    }
  },
  "nbformat": 4,
  "nbformat_minor": 0
}
